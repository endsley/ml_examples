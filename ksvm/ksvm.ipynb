{
 "cells": [
  {
   "cell_type": "code",
   "execution_count": 1,
   "metadata": {
    "execution": {
     "iopub.execute_input": "2023-12-22T19:40:10.150238Z",
     "iopub.status.busy": "2023-12-22T19:40:10.149693Z",
     "iopub.status.idle": "2023-12-22T19:40:11.019967Z",
     "shell.execute_reply": "2023-12-22T19:40:11.019149Z"
    }
   },
   "outputs": [],
   "source": [
    "#!/usr/bin/env python\n",
    "#\n",
    "import numpy as np\n",
    "#import autograd.numpy as np\n",
    "#from autograd import grad\n",
    "import sys\n",
    "from matplotlib import pyplot as plt\n",
    "from sklearn.metrics.pairwise import *\n",
    "from sklearn.metrics import accuracy_score\n",
    "from scipy.optimize import minimize\n",
    "from sklearn.svm import SVC\n",
    "from numpy.linalg import inv\n",
    "#\n",
    "np.set_printoptions(precision=2)\n",
    "np.set_printoptions(threshold=30)\n",
    "np.set_printoptions(linewidth=300)\n",
    "np.set_printoptions(suppress=True)\n",
    "np.set_printoptions(threshold=sys.maxsize)\n",
    "#\n",
    "#\tCreating the top and bottom half circle\n",
    "n = 50\n",
    "x1 = 2*np.random.rand(n,1) - 1\n",
    "y1 = np.sqrt(1 - x1**2)\n",
    "z1 = -np.ones((n,1))\n",
    "X0 = np.hstack((x1, y1))\n",
    "#\n",
    "x2 = 2*np.random.rand(n,1) - 1\n",
    "y2 = np.sqrt(1 - (x2)**2) - 0.7 - np.random.rand(50,1)\n",
    "z2 = np.ones((n,1))\n",
    "X1 = np.hstack((x2, y2))\n",
    "#\n",
    "C = np.eye(n) - (1/n)*np.ones((n,n)) \n",
    "X = np.vstack((X0, X1))\n",
    "y = np.vstack((z1,z2))\n",
    "#"
   ]
  },
  {
   "cell_type": "markdown",
   "metadata": {},
   "source": [
    "<br>\n",
    "\tRun Linear SVM here"
   ]
  },
  {
   "cell_type": "code",
   "execution_count": 2,
   "metadata": {
    "execution": {
     "iopub.execute_input": "2023-12-22T19:40:11.025284Z",
     "iopub.status.busy": "2023-12-22T19:40:11.025107Z",
     "iopub.status.idle": "2023-12-22T19:40:11.033475Z",
     "shell.execute_reply": "2023-12-22T19:40:11.032741Z"
    }
   },
   "outputs": [
    {
     "name": "stdout",
     "output_type": "stream",
     "text": [
      "Linear SVM accuracy: 0.98\n"
     ]
    },
    {
     "name": "stderr",
     "output_type": "stream",
     "text": [
      "/home/chieh/.local/lib/python3.8/site-packages/sklearn/utils/validation.py:993: DataConversionWarning: A column-vector y was passed when a 1d array was expected. Please change the shape of y to (n_samples, ), for example using ravel().\n",
      "  y = column_or_1d(y, warn=True)\n"
     ]
    }
   ],
   "source": [
    "clf = SVC(kernel='linear')\n",
    "clf.fit(X, y)\n",
    "ŷ = clf.predict(X)\n",
    "print('Linear SVM accuracy:',accuracy_score(y, ŷ))\n",
    "#\n",
    "# Points of the linear SVM line\n",
    "w = clf.coef_\n",
    "b = clf.intercept_\n",
    "xb = np.linspace(-1,1,20)\n",
    "yb = (-w[0,0]/w[0,1])*xb - b/w[0,1]\n",
    "#"
   ]
  },
  {
   "cell_type": "markdown",
   "metadata": {},
   "source": [
    "<br>\n",
    "\tRun Kernel SVM here"
   ]
  },
  {
   "cell_type": "code",
   "execution_count": 3,
   "metadata": {
    "execution": {
     "iopub.execute_input": "2023-12-22T19:40:11.085346Z",
     "iopub.status.busy": "2023-12-22T19:40:11.084974Z",
     "iopub.status.idle": "2023-12-22T19:40:11.095407Z",
     "shell.execute_reply": "2023-12-22T19:40:11.093268Z"
    }
   },
   "outputs": [],
   "source": [
    "γ = 5\n",
    "μ = 10\n",
    "μ2 = 5\n",
    "K = rbf_kernel(X, gamma=γ)\n",
    "Y = np.diag(np.squeeze(y))\n",
    "λ = np.random.randn(100,1)\n",
    "η = 0.0004\n",
    "#"
   ]
  },
  {
   "cell_type": "code",
   "execution_count": 4,
   "metadata": {
    "execution": {
     "iopub.execute_input": "2023-12-22T19:40:11.101302Z",
     "iopub.status.busy": "2023-12-22T19:40:11.101079Z",
     "iopub.status.idle": "2023-12-22T19:40:35.377455Z",
     "shell.execute_reply": "2023-12-22T19:40:35.375034Z"
    }
   },
   "outputs": [],
   "source": [
    "def df(λ, A):\n",
    "\t[K, Y, γ, y] = A\n",
    "\tO = np.ones((100,1))\n",
    "\tdλ = np.zeros((100,1))\n",
    "#\n",
    "\tdλ[λ<0] = -1\n",
    "\tdf = Y.dot(K).dot(Y).dot(λ) + 2*μ*(λ.T.dot(y))*y - O #+ O.T.dot(dλ)\n",
    "\treturn df\n",
    "#\n",
    "def foo(λ, A): \n",
    "\t[K, Y, γ, y] = A\n",
    "\tO = np.ones((100,1))\n",
    "\tλT = np.transpose(λ)\n",
    "\tλTYKYλ = np.dot(np.dot(np.dot(np.dot(λT, Y), K), Y), λ)\n",
    "\tf = 0.5*λTYKYλ + μ*(np.dot(λT, y)*np.dot(λT, y)) - np.dot(np.transpose(O), λ)\n",
    "\treturn f \n",
    "#\n",
    "A = [K, Y, γ, y]\n",
    "#\n",
    "for i in range(30000):\n",
    "\tg = df(λ, A)\n",
    "\tλ = λ - η*g\n",
    "#\n",
    "\tm = foo(λ, A)\n",
    "\t#print(m)\n",
    "#"
   ]
  },
  {
   "cell_type": "code",
   "execution_count": 5,
   "metadata": {
    "execution": {
     "iopub.execute_input": "2023-12-22T19:40:35.383026Z",
     "iopub.status.busy": "2023-12-22T19:40:35.382413Z",
     "iopub.status.idle": "2023-12-22T19:40:35.393091Z",
     "shell.execute_reply": "2023-12-22T19:40:35.392161Z"
    }
   },
   "outputs": [
    {
     "name": "stdout",
     "output_type": "stream",
     "text": [
      "Kernel SVM accuracy: 1.0\n"
     ]
    }
   ],
   "source": [
    "ŷ = K.dot(λ*y)\n",
    "b = (np.min(ŷ[50:100]) + np.max(ŷ[0:50]))/2\n",
    "#print(np.min(ŷ[0:50]), np.max(ŷ[0:50]))\n",
    "#print(np.min(ŷ[50:100]), np.max(ŷ[50:100]))\n",
    "#\n",
    "ŷ = np.sign(K.dot(λ*y) + b)\n",
    "print('Kernel SVM accuracy:',accuracy_score(y, ŷ))\n",
    "#"
   ]
  },
  {
   "cell_type": "markdown",
   "metadata": {},
   "source": [
    "get kernel line"
   ]
  },
  {
   "cell_type": "code",
   "execution_count": 6,
   "metadata": {
    "execution": {
     "iopub.execute_input": "2023-12-22T19:40:35.401142Z",
     "iopub.status.busy": "2023-12-22T19:40:35.400627Z",
     "iopub.status.idle": "2023-12-22T19:40:35.452217Z",
     "shell.execute_reply": "2023-12-22T19:40:35.450216Z"
    }
   },
   "outputs": [],
   "source": [
    "xv = np.linspace(-1,1,20)\n",
    "yv = []\n",
    "for xi in xv:\n",
    "\tr1 = xi*np.ones((100,1))\n",
    "\tr2 = np.reshape(np.linspace(-0.25, 0.75,100), (100,1))\n",
    "\tR = np.hstack((r1, r2))\n",
    "#\n",
    "\tK2 = rbf_kernel(X, Y=R, gamma=γ)\n",
    "\tŷ2 = K2.T.dot(λ*y) + b\n",
    "\tag = np.argmin(np.absolute(ŷ2))\n",
    "\tyv.append(r2[ag])\n",
    "#"
   ]
  },
  {
   "cell_type": "markdown",
   "metadata": {},
   "source": [
    "Showing the original data"
   ]
  },
  {
   "cell_type": "code",
   "execution_count": 7,
   "metadata": {
    "execution": {
     "iopub.execute_input": "2023-12-22T19:40:35.458795Z",
     "iopub.status.busy": "2023-12-22T19:40:35.458351Z",
     "iopub.status.idle": "2023-12-22T19:40:35.942696Z",
     "shell.execute_reply": "2023-12-22T19:40:35.941715Z"
    }
   },
   "outputs": [
    {
     "data": {
      "image/png": "[encoded data removed]",
      "text/plain": [
       "<Figure size 1000x300 with 2 Axes>"
      ]
     },
     "metadata": {},
     "output_type": "display_data"
    }
   ],
   "source": [
    "plt.figure(figsize=(10,3))\n",
    "plt.subplot(121)\n",
    "plt.scatter(x1,y1, color='red', marker='x')\n",
    "plt.scatter(x2,y2, color='blue', marker='o')\n",
    "plt.plot(xb,yb, color='green')\n",
    "plt.title('Original Data')\n",
    "#\n",
    "# Show KLDA\n",
    "plt.subplot(122)\n",
    "plt.scatter(x1,y1, color='red', marker='x')\n",
    "plt.scatter(x2,y2, color='blue', marker='o')\n",
    "plt.plot(xv,yv, color='green')\n",
    "plt.title('After Ksvm')\n",
    "#plt.ylim([-0.2,2])\n",
    "#\n",
    "plt.tight_layout()\n",
    "plt.show()\n",
    "#"
   ]
  }
 ],
 "metadata": {
  "kernelspec": {
   "display_name": "Python 3",
   "language": "python",
   "name": "python3"
  },
  "language_info": {
   "codemirror_mode": {
    "name": "ipython",
    "version": 3
   },
   "file_extension": ".py",
   "mimetype": "text/x-python",
   "name": "python",
   "nbconvert_exporter": "python",
   "pygments_lexer": "ipython3",
   "version": "3.8.10"
  }
 },
 "nbformat": 4,
 "nbformat_minor": 2
}
