{
 "cells": [
  {
   "cell_type": "code",
   "execution_count": 1,
   "metadata": {
    "execution": {
     "iopub.execute_input": "2024-10-16T18:26:51.225980Z",
     "iopub.status.busy": "2024-10-16T18:26:51.225485Z",
     "iopub.status.idle": "2024-10-16T18:26:51.231385Z",
     "shell.execute_reply": "2024-10-16T18:26:51.230356Z"
    }
   },
   "outputs": [],
   "source": [
    "#!/usr/bin/env python"
   ]
  },
  {
   "cell_type": "code",
   "execution_count": 2,
   "metadata": {
    "execution": {
     "iopub.execute_input": "2024-10-16T18:26:51.235272Z",
     "iopub.status.busy": "2024-10-16T18:26:51.235007Z",
     "iopub.status.idle": "2024-10-16T18:26:51.522688Z",
     "shell.execute_reply": "2024-10-16T18:26:51.521898Z"
    }
   },
   "outputs": [],
   "source": [
    "from scipy.integrate import quad \n",
    "from numpy import exp as ē\n",
    "from numpy import log as ln\n",
    "from numpy import genfromtxt\n",
    "from numpy import mean"
   ]
  },
  {
   "cell_type": "code",
   "execution_count": 3,
   "metadata": {
    "execution": {
     "iopub.execute_input": "2024-10-16T18:26:51.526326Z",
     "iopub.status.busy": "2024-10-16T18:26:51.526061Z",
     "iopub.status.idle": "2024-10-16T18:26:51.538416Z",
     "shell.execute_reply": "2024-10-16T18:26:51.537183Z"
    }
   },
   "outputs": [],
   "source": [
    "X = genfromtxt('time_until_phone_drop.csv', delimiter=',')\n",
    "n = X.shape[0]\n",
    "μ = mean(X)\n",
    "θ = 1/μ"
   ]
  },
  {
   "cell_type": "markdown",
   "metadata": {},
   "source": [
    "Since this is an exponential distribution, we know that $p(x)$ and $H$ are<br>\n",
    "$$ p(x) = \\theta e^{-\\theta x} \\quad \\text{where} \\quad \\theta = 1/\\mu$$<br>\n",
    "$$ H = - \\int_0^{\\infty} p(x) \\log \\left( p(x) \\right) \\approx \\frac{1}{n} \\sum_i \\; -ln(p(x)) \\quad \\text{where} \\quad - ln(p(x)) = ln\\left( \\frac{1}{p(x)} \\right)$$."
   ]
  },
  {
   "cell_type": "code",
   "execution_count": 4,
   "metadata": {
    "execution": {
     "iopub.execute_input": "2024-10-16T18:26:51.543125Z",
     "iopub.status.busy": "2024-10-16T18:26:51.542927Z",
     "iopub.status.idle": "2024-10-16T18:26:51.547235Z",
     "shell.execute_reply": "2024-10-16T18:26:51.546270Z"
    }
   },
   "outputs": [],
   "source": [
    "def p(x): return θ*ē(-θ*x)\n",
    "def f(x): return -p(x)*ln(p(x))\n",
    "def g(x): return -ln(p(x))  "
   ]
  },
  {
   "cell_type": "code",
   "execution_count": 5,
   "metadata": {
    "execution": {
     "iopub.execute_input": "2024-10-16T18:26:51.550634Z",
     "iopub.status.busy": "2024-10-16T18:26:51.550384Z",
     "iopub.status.idle": "2024-10-16T18:26:51.557180Z",
     "shell.execute_reply": "2024-10-16T18:26:51.556299Z"
    }
   },
   "outputs": [
    {
     "name": "stdout",
     "output_type": "stream",
     "text": [
      "Entropy by numpy : 0.888\n",
      "Entropy by averaging samples : 0.888\n"
     ]
    }
   ],
   "source": [
    "Ĥ, err = quad(f, 0, 50) \n",
    "print('Entropy by numpy : %.3f'%Ĥ) \n",
    "print('Entropy by averaging samples : %.3f'%mean(g(X))) "
   ]
  }
 ],
 "metadata": {
  "kernelspec": {
   "display_name": "Python 3",
   "language": "python",
   "name": "python3"
  },
  "language_info": {
   "codemirror_mode": {
    "name": "ipython",
    "version": 3
   },
   "file_extension": ".py",
   "mimetype": "text/x-python",
   "name": "python",
   "nbconvert_exporter": "python",
   "pygments_lexer": "ipython3",
   "version": "3.8.10"
  }
 },
 "nbformat": 4,
 "nbformat_minor": 2
}
