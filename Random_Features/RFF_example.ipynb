{
 "cells": [
  {
   "cell_type": "code",
   "execution_count": 1,
   "metadata": {
    "execution": {
     "iopub.execute_input": "2023-12-28T15:09:42.826685Z",
     "iopub.status.busy": "2023-12-28T15:09:42.826116Z",
     "iopub.status.idle": "2023-12-28T15:09:43.375215Z",
     "shell.execute_reply": "2023-12-28T15:09:43.374252Z"
    }
   },
   "outputs": [],
   "source": [
    "#!/usr/bin/env python\n",
    "# This code tests out RFF\n",
    "#Paper : https://drive.google.com/file/d/0B2GQI7-ZH4djdm85SGg4dUhBVVE/view\n",
    "import numpy as np\n",
    "import sklearn.metrics\n",
    "import numpy.matlib\n",
    "from sklearn.preprocessing import normalize\n",
    "from numpy import genfromtxt\n",
    "from numpy import sqrt\n",
    "import time\n",
    "#\n",
    "import sklearn.metrics\n",
    "from sklearn.kernel_approximation import RBFSampler\n",
    "from sklearn.linear_model import SGDClassifier\n",
    "#\n",
    "np.set_printoptions(precision=3)\n",
    "np.set_printoptions(linewidth=300)\n",
    "np.set_printoptions(suppress=True)\n",
    "#"
   ]
  },
  {
   "cell_type": "markdown",
   "metadata": {},
   "source": [
    "Given $m$ as the number of basis functions for RFF and <br>\n",
    "$$X \\in \\mathbb{R}^{n \\times d}, W \\in \\mathbb{R}^{m \\times d}, b \\in  \\mathbb{R}^{m \\times 1}, B \\in \\mathbb{R}^{n \\times m}$$<br>\n",
    "then<br>\n",
    "$$\\Phi = \\sqrt{\\frac{2}{m}} cos(XW^{\\top} + B)$$<br>\n"
   ]
  },
  {
   "cell_type": "code",
   "execution_count": 2,
   "metadata": {
    "execution": {
     "iopub.execute_input": "2023-12-28T15:09:43.379230Z",
     "iopub.status.busy": "2023-12-28T15:09:43.379046Z",
     "iopub.status.idle": "2023-12-28T15:09:43.384209Z",
     "shell.execute_reply": "2023-12-28T15:09:43.383434Z"
    }
   },
   "outputs": [],
   "source": [
    "def RFF(X, nrmlize, m, σ):\n",
    "\tN = X.shape[0]\n",
    "\td = X.shape[1]\n",
    "#\n",
    "\tb = 2*np.pi*np.random.rand(1, m)\n",
    "\tB = np.matlib.repmat(b, N, 1)\n",
    "\tWᵀ = np.random.randn(d, m)/(σ)\n",
    "#\n",
    "\tΦ = sqrt(2/m)*np.cos(X.dot(Wᵀ) + B)\n",
    "\tK = Φ.dot(Φ.T)\n",
    "\tK = np.clip(K, 0,1)\n",
    "\treturn K"
   ]
  },
  {
   "cell_type": "code",
   "execution_count": 3,
   "metadata": {
    "execution": {
     "iopub.execute_input": "2023-12-28T15:09:43.387833Z",
     "iopub.status.busy": "2023-12-28T15:09:43.387637Z",
     "iopub.status.idle": "2023-12-28T15:09:43.394201Z",
     "shell.execute_reply": "2023-12-28T15:09:43.393420Z"
    }
   },
   "outputs": [],
   "source": [
    "if __name__ == \"__main__\":\n",
    "\tX = np.array([[0,0],[0,1],[0,-1],[4,4],[4,5],[3,4],[4,3]], dtype='f')\t \n",
    "\t\n",
    "\tσ = 1\n",
    "\tm = 2000\n",
    "\n",
    "\tstart_time = time.time() \n",
    "\tK = RFF(X, True, m, σ)\n",
    "\tK_time = (time.time() - start_time)"
   ]
  },
  {
   "cell_type": "code",
   "execution_count": 4,
   "metadata": {
    "execution": {
     "iopub.execute_input": "2023-12-28T15:09:43.397377Z",
     "iopub.status.busy": "2023-12-28T15:09:43.397194Z",
     "iopub.status.idle": "2023-12-28T15:09:43.401247Z",
     "shell.execute_reply": "2023-12-28T15:09:43.400546Z"
    }
   },
   "outputs": [],
   "source": [
    "\tgamma = 1.0/(2*σ*σ)\n",
    "\tstart_time = time.time() \n",
    "\trbk = sklearn.metrics.pairwise.rbf_kernel(X, gamma=gamma)\n",
    "\trbk_time = (time.time() - start_time)"
   ]
  },
  {
   "cell_type": "code",
   "execution_count": 5,
   "metadata": {
    "execution": {
     "iopub.execute_input": "2023-12-28T15:09:43.407050Z",
     "iopub.status.busy": "2023-12-28T15:09:43.406837Z",
     "iopub.status.idle": "2023-12-28T15:09:43.416805Z",
     "shell.execute_reply": "2023-12-28T15:09:43.416178Z"
    }
   },
   "outputs": [
    {
     "name": "stdout",
     "output_type": "stream",
     "text": [
      "True Kernel (run time = 0.000465)\n",
      " [[1.    0.607 0.607 0.    0.    0.    0.   ]\n",
      " [0.607 1.    0.135 0.    0.    0.    0.   ]\n",
      " [0.607 0.135 1.    0.    0.    0.    0.   ]\n",
      " [0.    0.    0.    1.    0.607 0.607 0.607]\n",
      " [0.    0.    0.    0.607 1.    0.368 0.135]\n",
      " [0.    0.    0.    0.607 0.368 1.    0.368]\n",
      " [0.    0.    0.    0.607 0.135 0.368 1.   ]] \n",
      "\n",
      "My RFF Kernel(run time = 0.001898)\n",
      " [[1.    0.615 0.617 0.011 0.01  0.    0.   ]\n",
      " [0.615 1.    0.148 0.007 0.    0.    0.04 ]\n",
      " [0.617 0.148 0.997 0.    0.016 0.    0.   ]\n",
      " [0.011 0.007 0.    0.994 0.629 0.604 0.559]\n",
      " [0.01  0.    0.016 0.629 1.    0.363 0.123]\n",
      " [0.    0.    0.    0.604 0.363 0.988 0.354]\n",
      " [0.    0.04  0.    0.559 0.123 0.354 0.974]] \n",
      "\n",
      "Sklearn RFF Kernel(run time = 0.002051)\n",
      " [[ 1.016  0.397  0.385 -0.02   0.011 -0.035 -0.031]\n",
      " [ 0.397  1.006  0.031  0.011  0.033 -0.003 -0.019]\n",
      " [ 0.385  0.031  0.992 -0.031 -0.018 -0.027 -0.004]\n",
      " [-0.02   0.011 -0.031  1.     0.382  0.378  0.375]\n",
      " [ 0.011  0.033 -0.018  0.382  0.998  0.105  0.014]\n",
      " [-0.035 -0.003 -0.027  0.378  0.105  1.032  0.138]\n",
      " [-0.031 -0.019 -0.004  0.375  0.014  0.138  0.994]] \n",
      "\n"
     ]
    }
   ],
   "source": [
    "\tstart_time = time.time() \n",
    "\trbf_feature = RBFSampler(gamma=1, random_state=1, n_components=2000)\n",
    "\tZ = rbf_feature.fit_transform(X)\n",
    "\trff_K = Z.dot(Z.T)\n",
    "\trff_time = (time.time() - start_time)\n",
    "#\n",
    "\tprint('True Kernel (run time = %.6f)\\n'%rbk_time, rbk, '\\n')\n",
    "\tprint('My RFF Kernel(run time = %.6f)\\n'%K_time, K, '\\n')\n",
    "\tprint('Sklearn RFF Kernel(run time = %.6f)\\n'%rff_time, rff_K, '\\n')\n",
    "#"
   ]
  },
  {
   "cell_type": "markdown",
   "metadata": {},
   "source": []
  }
 ],
 "metadata": {
  "kernelspec": {
   "display_name": "Python 3",
   "language": "python",
   "name": "python3"
  },
  "language_info": {
   "codemirror_mode": {
    "name": "ipython",
    "version": 3
   },
   "file_extension": ".py",
   "mimetype": "text/x-python",
   "name": "python",
   "nbconvert_exporter": "python",
   "pygments_lexer": "ipython3",
   "version": "3.8.10"
  }
 },
 "nbformat": 4,
 "nbformat_minor": 2
}
