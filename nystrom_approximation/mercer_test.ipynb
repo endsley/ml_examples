{
 "cells": [
  {
   "cell_type": "code",
   "execution_count": 1,
   "metadata": {
    "execution": {
     "iopub.execute_input": "2023-12-26T21:11:21.188800Z",
     "iopub.status.busy": "2023-12-26T21:11:21.188334Z",
     "iopub.status.idle": "2023-12-26T21:11:21.972124Z",
     "shell.execute_reply": "2023-12-26T21:11:21.971349Z"
    }
   },
   "outputs": [],
   "source": [
    "#!/usr/bin/env python\n",
    "#\n",
    "import numpy as np\n",
    "from tools import *\n",
    "from sklearn.metrics.pairwise import *\n",
    "#"
   ]
  },
  {
   "cell_type": "markdown",
   "metadata": {},
   "source": [
    "This code test the Mercer's Theorem<br>\n",
    "Given<br>\n",
    "1. $K$ as the kernel matrix for $n$ samples.<br>\n",
    "2. $\\{e_1, e_2, ..., e_m \\}$ as its eigenfunctions <br>\n",
    "2. $\\{v_1, v_2, ...,  \\}$ as its eigenvectors<br>\n",
    "3. $\\{\\sigma_1, \\sigma_2, ..., \\sigma_m \\}$ as its eigenvalues <br>\n",
    "4. $X \\subset \\mathbb{R}^n$<br>\n",
    "5. $k: \\mathcal{X} \\times \\mathcal{X}$ be a symmetric continuous kernel function.<br>\n",
    "then Mercer's Thm states that<br>\n",
    "<br>\n",
    "$$k(x, y) = \\sum_{i=1}^\\infty e_i(x) e_i(y)$$<br>\n",
    "      $$= \\begin{bmatrix} e_1(x) & e_2(x) & ... & e_m(x) & \\end{bmatrix} \\begin{bmatrix} e_1(x)  \\\\ e_2(x) \\\\ ... \\\\ e_m(x) \\\\ \\end{bmatrix}      $$<br>\n",
    "<br>\n",
    "Implying that using eigenfunction as the basis gives a much smaller set of basis functions as the feature map<br>\n",
    "Here, the eigenfunction is defined as <br>\n",
    "$$e_i = \\frac{1}{\\sqrt{\\sigma_i}} \\Phi^{\\top} v_i$$<br>\n",
    "<br>\n",
    "Therefore, using the eigenfunction as feature maps, we have<br>\n",
    "$$\\Phi = \\begin{bmatrix} e_1(x) & e_2(x) & ... \\end{bmatrix} = \\begin{bmatrix} \\Phi e_1 & \\Phi e_2 & ... \\end{bmatrix} = \\begin{bmatrix} \\frac{1}{\\sqrt{\\sigma_1}} \\Phi \\Phi^{\\top} v_1 &  \\frac{1}{\\sqrt{\\sigma_2}} \\Phi \\Phi^{\\top} v_2 &  & ... \\end{bmatrix}  = \\begin{bmatrix} \\frac{1}{\\sqrt{\\sigma_1}} K v_1 &  \\frac{1}{\\sqrt{\\sigma_2}} K v_2 &  & ... \\end{bmatrix} = K \\begin{bmatrix} v_1 & v_2 & ... \\end{bmatrix} \\Sigma = K V \\Sigma.$$<br>\n",
    "<br>\n",
    "Where <br>\n",
    "$$ \\Sigma = \\begin{bmatrix} \\frac{1}{\\sqrt{\\sigma_1}} & 0 & 0 & ... \\\\  0 & \\frac{1}{\\sqrt{\\sigma_2}} & 0 & ...  \\\\  ... & ... & ... \\end{bmatrix}$$<br>\n",
    "<br>\n",
    "<div class=\"alert alert-block alert-info\"><br>\n",
    "<b>Tip:</b> <br>\n",
    "In this experiment, we are going to <br>\n",
    "a. generate 10 random samples <br>\n",
    "b. From these samples, we will directly compute the kernel matrix $K$                                                                           <br>\n",
    "c. After $K$, we are going to use mercer's theorem to generate $\\Phi$ with the eigenfunctions                                                   <br>\n",
    "d. If Mercer is correct, then the feature map generated using the eigenfunctions $\\Phi$ should give us the condition that $\\Phi \\Phi^{\\top} = K$<br>\n",
    "</div>"
   ]
  },
  {
   "cell_type": "code",
   "execution_count": 2,
   "metadata": {
    "execution": {
     "iopub.execute_input": "2023-12-26T21:11:21.977778Z",
     "iopub.status.busy": "2023-12-26T21:11:21.977590Z",
     "iopub.status.idle": "2023-12-26T21:11:21.983101Z",
     "shell.execute_reply": "2023-12-26T21:11:21.982315Z"
    }
   },
   "outputs": [],
   "source": [
    "# Generate kernel matrix\n",
    "γ = 0.5\n",
    "X = np.random.randn(10,2)\n",
    "K = rbf_kernel(X, gamma=γ)\n",
    "#\n",
    "# Generate feature maps via the eigenfunctinos\n",
    "[D,V] = eigh_sort(K)\n",
    "Σ = np.diag(1/np.sqrt(D[0:9]))\n",
    "V = V[:, 0:9]\n",
    "\n",
    "Φ = K.dot(V).dot(Σ)\n",
    "K2 = Φ.dot(Φ.T)"
   ]
  },
  {
   "cell_type": "markdown",
   "metadata": {},
   "source": [
    "<br>\n",
    "Remember that since this is a Gaussian Kernel, the feature map should be $\\Phi \\in \\mathbb{R}^{n \\times \\infty}$, <br>\n",
    "but through Mercer's theorem, we are apply to obtain $\\Phi \\in \\mathbb{R}^{n \\times 9}$. <br>\n",
    "This is much smaller and easier to deal with. <br>\n",
    "<br>\n",
    "Lastly, when we print out the kernel matrix of $K$ and $K_2$, notice<br>\n",
    "that they are approximately the same. <br>\n"
   ]
  },
  {
   "cell_type": "code",
   "execution_count": 3,
   "metadata": {
    "execution": {
     "iopub.execute_input": "2023-12-26T21:11:21.989698Z",
     "iopub.status.busy": "2023-12-26T21:11:21.989482Z",
     "iopub.status.idle": "2023-12-26T21:11:21.995798Z",
     "shell.execute_reply": "2023-12-26T21:11:21.995070Z"
    }
   },
   "outputs": [
    {
     "name": "stdout",
     "output_type": "stream",
     "text": [
      "[[1.     0.204  0.6798 0.465  0.3538 0.5469 0.7401 0.4797 0.0218 0.2024]\n",
      " [0.204  1.     0.3028 0.7858 0.4692 0.7631 0.2694 0.6968 0.1031 0.9396]\n",
      " [0.6798 0.3028 1.     0.6959 0.1795 0.508  0.3391 0.3589 0.0063 0.2267]\n",
      " [0.465  0.7858 0.6959 1.     0.4026 0.8479 0.3942 0.6876 0.0386 0.6638]\n",
      " [0.3538 0.4692 0.1795 0.4026 1.     0.7387 0.7386 0.8897 0.4035 0.638 ]\n",
      " [0.5469 0.7631 0.508  0.8479 0.7387 1.     0.6662 0.9566 0.125  0.7887]\n",
      " [0.7401 0.2694 0.3391 0.3942 0.7386 0.6662 1.     0.7256 0.1286 0.339 ]\n",
      " [0.4797 0.6968 0.3589 0.6876 0.8897 0.9566 0.7256 1.     0.2148 0.799 ]\n",
      " [0.0218 0.1031 0.0063 0.0386 0.4035 0.125  0.1286 0.2148 1.     0.2051]\n",
      " [0.2024 0.9396 0.2267 0.6638 0.638  0.7887 0.339  0.799  0.2051 1.    ]] \n",
      "\n",
      "[[1.     0.204  0.6798 0.465  0.3538 0.5469 0.7401 0.4796 0.0218 0.2024]\n",
      " [0.204  1.     0.3028 0.7858 0.4692 0.7631 0.2694 0.6968 0.1031 0.9396]\n",
      " [0.6798 0.3028 1.     0.6959 0.1795 0.508  0.3391 0.3589 0.0063 0.2267]\n",
      " [0.465  0.7858 0.6959 1.     0.4026 0.848  0.3942 0.6875 0.0386 0.6638]\n",
      " [0.3538 0.4692 0.1795 0.4026 0.9999 0.7386 0.7386 0.8899 0.4035 0.638 ]\n",
      " [0.5469 0.7631 0.508  0.848  0.7386 0.9996 0.6662 0.9571 0.125  0.7886]\n",
      " [0.7401 0.2694 0.3391 0.3942 0.7386 0.6662 1.     0.7256 0.1286 0.339 ]\n",
      " [0.4796 0.6968 0.3589 0.6875 0.8899 0.9571 0.7256 0.9994 0.2148 0.799 ]\n",
      " [0.0218 0.1031 0.0063 0.0386 0.4035 0.125  0.1286 0.2148 1.     0.2051]\n",
      " [0.2024 0.9396 0.2267 0.6638 0.638  0.7886 0.339  0.799  0.2051 1.    ]]\n"
     ]
    }
   ],
   "source": [
    "print(K, '\\n') \n",
    "print(K2)\n",
    "#"
   ]
  }
 ],
 "metadata": {
  "kernelspec": {
   "display_name": "Python 3",
   "language": "python",
   "name": "python3"
  },
  "language_info": {
   "codemirror_mode": {
    "name": "ipython",
    "version": 3
   },
   "file_extension": ".py",
   "mimetype": "text/x-python",
   "name": "python",
   "nbconvert_exporter": "python",
   "pygments_lexer": "ipython3",
   "version": "3.8.10"
  }
 },
 "nbformat": 4,
 "nbformat_minor": 2
}
