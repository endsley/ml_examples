{
 "cells": [
  {
   "cell_type": "code",
   "execution_count": 1,
   "metadata": {
    "execution": {
     "iopub.execute_input": "2023-12-26T19:29:26.588914Z",
     "iopub.status.busy": "2023-12-26T19:29:26.588301Z",
     "iopub.status.idle": "2023-12-26T19:29:27.341694Z",
     "shell.execute_reply": "2023-12-26T19:29:27.340901Z"
    }
   },
   "outputs": [],
   "source": [
    "#!/usr/bin/env python\n",
    "import numpy as np\n",
    "from tools import *\n",
    "from sklearn.metrics.pairwise import *"
   ]
  },
  {
   "cell_type": "markdown",
   "metadata": {},
   "source": [
    "This code test the Mercer's Theorem<br>\n",
    "Given<br>\n",
    "1. $K$ as the kernel matrix for $n$ samples.<br>\n",
    "2. $\\{e_1, e_2, ..., e_m \\}$ as its eigenfunctions <br>\n",
    "2. $\\{v_1, v_2, ...,  \\}$ as its eigenvectors<br>\n",
    "3. $\\{\\sigma_1, \\sigma_2, ..., \\sigma_m \\}$ as its eigenvalues <br>\n",
    "4. $X \\subset \\mathbb{R}^n$<br>\n",
    "5. $k: \\mathcal{X} \\times \\mathcal{X}$ be a symmetric continuous kernel function.<br>\n",
    "then Mercer's Thm states that<br>\n",
    "<br>\n",
    "$$k(x, y) = \\sum_{i=1}^\\infty e_i(x) e_i(y)$$<br>\n",
    "      $$= \\begin{bmatrix} e_1(x) & e_2(x) & ... & e_m(x) & \\end{bmatrix} \\begin{bmatrix} e_1(x)  \\\\ e_2(x) \\\\ ... \\\\ e_m(x) \\\\ \\end{bmatrix}      $$<br>\n",
    "<br>\n",
    "Implying that using eigenfunction as the basis gives a much smaller set of basis functions as the feature map<br>\n",
    "Here, the eigenfunction is defined as <br>\n",
    "$$e_i = \\frac{1}{\\sqrt{\\sigma_i}} \\Phi^{\\top} v_i$$<br>\n",
    "<br>\n",
    "Therefore, using the eigenfunction as feature maps, we have<br>\n",
    "$$\\Phi = \\begin{bmatrix} e_1(x) & e_2(x) & ... \\end{bmatrix} = \\begin{bmatrix} \\Phi e_1 & \\Phi e_2 & ... \\end{bmatrix} = \\begin{bmatrix} \\frac{1}{\\sqrt{\\sigma_1}} \\Phi \\Phi^{\\top} v_1 &  \\frac{1}{\\sqrt{\\sigma_2}} \\Phi \\Phi^{\\top} v_2 &  & ... \\end{bmatrix}  = \\begin{bmatrix} \\frac{1}{\\sqrt{\\sigma_1}} K v_1 &  \\frac{1}{\\sqrt{\\sigma_2}} K v_2 &  & ... \\end{bmatrix} = K \\begin{bmatrix} v_1 & v_2 & ... \\end{bmatrix} \\Sigma = K V \\Sigma.$$<br>\n",
    "<br>\n",
    "Where <br>\n",
    "$$ \\Sigma = \\begin{bmatrix} \\frac{1}{\\sqrt{\\sigma_1}} & 0 & 0 & ... \\\\  0 & \\frac{1}{\\sqrt{\\sigma_2}} & 0 & ...  \\\\  ... & ... & ... \\end{bmatrix}$$<br>\n",
    "<br>\n",
    "<div class=\"alert alert-block alert-info\"><br>\n",
    "<b>Tip:</b> <br>\n",
    "In this experiment, we are going to <br>\n",
    "a. generate 10 random samples <br>\n",
    "b. From these samples, we will directly compute the kernel matrix $K$                                                                           <br>\n",
    "c. After $K$, we are going to use mercer's theorem to generate $\\Phi$ with the eigenfunctions                                                   <br>\n",
    "d. If Mercer is correct, then the feature map generated using the eigenfunctions $\\Phi$ should give us the condition that $\\Phi \\Phi^{\\top} = K$<br>\n",
    "</div>"
   ]
  },
  {
   "cell_type": "code",
   "execution_count": 2,
   "metadata": {
    "execution": {
     "iopub.execute_input": "2023-12-26T19:29:27.347269Z",
     "iopub.status.busy": "2023-12-26T19:29:27.347053Z",
     "iopub.status.idle": "2023-12-26T19:29:27.355910Z",
     "shell.execute_reply": "2023-12-26T19:29:27.355155Z"
    }
   },
   "outputs": [
    {
     "name": "stdout",
     "output_type": "stream",
     "text": [
      "[[1.     0.1988 0.8349 0.3274 0.8804 0.3341 0.827  0.9866 0.827  0.6242]\n",
      " [0.1988 1.     0.057  0.0051 0.0766 0.0064 0.4869 0.1761 0.4525 0.0251]\n",
      " [0.8349 0.057  1.     0.6078 0.9832 0.5707 0.4771 0.8647 0.5043 0.8567]\n",
      " [0.3274 0.0051 0.6078 1.     0.498  0.9713 0.1226 0.3263 0.1082 0.8681]\n",
      " [0.8804 0.0766 0.9832 0.498  1.     0.462  0.5376 0.9219 0.5922 0.7629]\n",
      " [0.3341 0.0064 0.5707 0.9713 0.462  1.     0.1372 0.32   0.1112 0.8735]\n",
      " [0.827  0.4869 0.4771 0.1226 0.5376 0.1372 1.     0.7721 0.9319 0.3163]\n",
      " [0.9866 0.1761 0.8647 0.3263 0.9219 0.32   0.7721 1.     0.8195 0.6123]\n",
      " [0.827  0.4525 0.5043 0.1082 0.5922 0.1112 0.9319 0.8195 1.     0.2838]\n",
      " [0.6242 0.0251 0.8567 0.8681 0.7629 0.8735 0.3163 0.6123 0.2838 1.    ]] \n",
      "\n",
      "[[1.     0.1988 0.8349 0.3274 0.8804 0.3341 0.827  0.9866 0.827  0.6242]\n",
      " [0.1988 1.     0.057  0.0051 0.0766 0.0064 0.4869 0.1761 0.4525 0.0251]\n",
      " [0.8349 0.057  1.     0.6078 0.9832 0.5707 0.4771 0.8646 0.5043 0.8567]\n",
      " [0.3274 0.0051 0.6078 1.     0.498  0.9713 0.1226 0.3263 0.1082 0.8681]\n",
      " [0.8804 0.0766 0.9832 0.498  0.9999 0.462  0.5376 0.9219 0.5922 0.7629]\n",
      " [0.3341 0.0064 0.5707 0.9713 0.462  1.     0.1372 0.32   0.1112 0.8735]\n",
      " [0.827  0.4869 0.4771 0.1226 0.5376 0.1372 1.     0.7721 0.9319 0.3163]\n",
      " [0.9866 0.1761 0.8646 0.3263 0.9219 0.32   0.7721 1.     0.8195 0.6123]\n",
      " [0.827  0.4525 0.5043 0.1082 0.5922 0.1112 0.9319 0.8195 1.     0.2838]\n",
      " [0.6242 0.0251 0.8567 0.8681 0.7629 0.8735 0.3163 0.6123 0.2838 1.    ]]\n"
     ]
    }
   ],
   "source": [
    "# Generate kernel matrix\n",
    "γ = 0.5\n",
    "X = np.random.randn(10,2)\n",
    "K = rbf_kernel(X, gamma=γ)\n",
    "\n",
    "# Generate feature maps via the eigenfunctinos\n",
    "[D,V] = eigh_sort(K)\n",
    "Σ = np.diag(1/np.sqrt(D[0:9]))\n",
    "V = V[:, 0:9]\n",
    "\n",
    "Φ = K.dot(V).dot(Σ)\n",
    "K2 = Φ.dot(Φ.T)\n",
    "\n",
    "#\tRemember that since this is a Gaussian Kernel, the feature map should be \n",
    "#\t$\\Phi \\in \\mathbb{R}^{n \\times \\infty}$, but through Mercer's theorem, \n",
    "#\twe are apply to obtain $\\Phi \\in \\mathbb{R}^{n \\times 9}$. This is much\n",
    "#\teasier to deal with. \n",
    "#\n",
    "#\tLastly, when we print out the kernel matrix of $K$ and $K_2$, notice\n",
    "#\tthat they are approximately the same. \n",
    "\n",
    "print(K, '\\n') \n",
    "print(K2)"
   ]
  }
 ],
 "metadata": {
  "kernelspec": {
   "display_name": "Python 3",
   "language": "python",
   "name": "python3"
  },
  "language_info": {
   "codemirror_mode": {
    "name": "ipython",
    "version": 3
   },
   "file_extension": ".py",
   "mimetype": "text/x-python",
   "name": "python",
   "nbconvert_exporter": "python",
   "pygments_lexer": "ipython3",
   "version": "3.8.10"
  }
 },
 "nbformat": 4,
 "nbformat_minor": 2
}
