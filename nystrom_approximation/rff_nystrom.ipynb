{
 "cells": [
  {
   "cell_type": "code",
   "execution_count": 15,
   "metadata": {},
   "outputs": [],
   "source": [
    "#!/usr/bin/env python"
   ]
  },
  {
   "cell_type": "markdown",
   "metadata": {},
   "source": [
    "This examples shows how we can approximate the eigenvectors of a kernel matrix by combining RFF and nystrom"
   ]
  },
  {
   "cell_type": "markdown",
   "metadata": {},
   "source": [
    "By using RFF, we can get the feature map as computed by RFF directly. This allows us to obtain the eigenfunction in RKHS via<br>\n",
    "1. Given $\\psi$ as the feature map, compute the integral operator<br>\n",
    "$$ T_n = \\frac{1}{n} \\sum_{i=1}^n \\psi(x) \\psi(x)^T $$<br>\n",
    "2. Find the eigenfunctions<br>\n",
    "$$ [\\Phi, \\Sigma] = eig(T_n) $$<br>\n",
    "$$ \\Sigma = diag(\\sigma_1, \\sigma_2, ..., ) $$<br>\n",
    "$$ \\Phi = [\\phi_1, \\phi_2, ...]$$<br>\n",
    "3. We next use the eigenfunctions $\\Phi$ to approximate the eigenvector of the kernel matrix<br>\n",
    "The key insight is that given an approximation of the eigenfunction $\\phi_i$, the corresponding eigenvector $u_i$ of the kernel matrix K is <br>\n",
    "$$u_i = \\frac{1}{\\sqrt{\\sigma_i}} \\Psi_n \\phi_i$$<br>\n",
    "$$\\Psi_n = \\begin{bmatrix} \\psi(x_1)^T \\\\ \\psi(x_2)^T \\\\ ... \\\\ \\psi(x_n) \\end{bmatrix} $$<br>\n",
    "$$U = \\Psi_n \\Phi^T \\Sigma$$"
   ]
  },
  {
   "cell_type": "code",
   "execution_count": 16,
   "metadata": {},
   "outputs": [],
   "source": [
    "import numpy as np\n",
    "import matplotlib.pyplot as plt\n",
    "import sklearn \n",
    "from sklearn.utils import shuffle\n",
    "from sklearn.kernel_approximation import Nystroem\n",
    "from sklearn.kernel_approximation import RBFSampler\n",
    "from tools import *"
   ]
  },
  {
   "cell_type": "markdown",
   "metadata": {},
   "source": [
    "Initialize all the setting"
   ]
  },
  {
   "cell_type": "code",
   "execution_count": 17,
   "metadata": {},
   "outputs": [],
   "source": [
    "X = csv_load('../dataset/wine.csv', shuffle_samples=True)\n",
    "q = 30\t\t\t\t# size of submatrix A\n",
    "n = X.shape[0]\t\t# number of total samples\n",
    "γ = get_rbf_γ(X)\t# γ used for the gaussian kerenl"
   ]
  },
  {
   "cell_type": "markdown",
   "metadata": {},
   "source": [
    "Use rff nystrom to approximate K eigenvectors"
   ]
  },
  {
   "cell_type": "code",
   "execution_count": 18,
   "metadata": {},
   "outputs": [],
   "source": [
    "rbf_feature = RBFSampler(gamma=γ, random_state=1, n_components=100)\n",
    "Ψ = rbf_feature.fit_transform(X)\n",
    "Tn = Ψ.T.dot(Ψ)\t\t\t\t\t\t\t\t# unscaled integral operator"
   ]
  },
  {
   "cell_type": "markdown",
   "metadata": {},
   "source": [
    "Note that the approximation is running an eigendecomposition on 100x100 matrix instead of 178 and 178<br>\n",
    "Obviously, the more samples we use the more accurate it would be."
   ]
  },
  {
   "cell_type": "code",
   "execution_count": 19,
   "metadata": {},
   "outputs": [],
   "source": [
    "[σs,V] = np.linalg.eig(Tn)\t\t\t\t\t\n",
    "Σ = np.diag(1/np.sqrt(σs[0:10]))\n",
    "Φ = V[:, 0:10]\n",
    "Ū = Ψ.dot(Φ).dot(Σ)\t\t# Note: U bar above implies approximating U actual"
   ]
  },
  {
   "cell_type": "markdown",
   "metadata": {},
   "source": [
    "Use the kernel itself to get the actual eigenvectors"
   ]
  },
  {
   "cell_type": "code",
   "execution_count": 20,
   "metadata": {},
   "outputs": [],
   "source": [
    "K = sklearn.metrics.pairwise.rbf_kernel(X, gamma=γ)\n",
    "[Λ, U] = np.linalg.eig(K)\t# compute the \"actual\" eigenvectors on a 178 x 178 matrix"
   ]
  },
  {
   "cell_type": "markdown",
   "metadata": {},
   "source": [
    "Print a portion the two eigenvectors at two locations"
   ]
  },
  {
   "cell_type": "code",
   "execution_count": 21,
   "metadata": {},
   "outputs": [
    {
     "name": "stdout",
     "output_type": "stream",
     "text": [
      "   Actual eigenvectors   \tApproximated Eigenvectors\n",
      "[-0.0424 -0.1298 -0.026 ]\t[-0.0557  0.122  -0.0127]\n",
      "[-0.0879  0.0552 -0.0449]\t[-0.0823 -0.063  -0.0481]\n",
      "[-0.081   0.0644 -0.0766]\t[-0.0756 -0.0713 -0.0742]\n",
      "[-0.0348 -0.1319 -0.064 ]\t[-0.0491  0.1262 -0.0544]\n",
      "[-0.0752  0.0672 -0.0929]\t[-0.0696 -0.0734 -0.0867]\n",
      "[-0.0862  0.0578 -0.0531]\t[-0.0799 -0.0655 -0.0543]\n",
      "[-0.0178 -0.1113 -0.139 ]\t[-0.0315  0.1168 -0.1432]\n",
      "[-0.0912  0.0465 -0.0219]\t[-0.0869 -0.055  -0.0257]\n",
      "[-0.0904  0.049  -0.0281]\t[-0.086  -0.0571 -0.0313]\n",
      "[-0.0879  0.0555 -0.0457]\t[-0.0831 -0.0632 -0.0476]\n",
      "[-0.0823 -0.0522  0.0888]\t[-0.0861  0.0403  0.0943]\n",
      "[-0.0802  0.0648 -0.0789]\t[-0.0752 -0.0716 -0.0764]\n",
      "[-0.0088 -0.0759 -0.1412]\t[-0.0204  0.089  -0.1486]\n",
      "[-0.0926 -0.0013  0.0577]\t[-0.0914 -0.0088  0.0555]\n",
      "[-0.0857 -0.0397  0.0864]\t[-0.0876  0.0289  0.0893]\n",
      "[-0.0581  0.0647 -0.1141]\t[-0.0514 -0.0688 -0.0994]\n",
      "[-0.0227 -0.1216 -0.1212]\t[-0.0367  0.1231 -0.1199]\n",
      "[-0.0024 -0.0294 -0.0795]\t[-0.0115  0.0378 -0.0608]\n",
      "[-0.0848  0.0606 -0.0617]\t[-0.0795 -0.0679 -0.0621]\n",
      "[-0.0202 -0.117  -0.1316]\t[-0.0344  0.1209 -0.1342]\n",
      "                         \t\n",
      "\n",
      "\n",
      "       Actual eigenvectors       \tApproximated Eigenvectors    \n",
      "[ 0.0423  0.0653 -0.0142  0.0625]\t[-0.0421  0.0699  0.0313  0.058 ]\n",
      "[-0.0037 -0.0572  0.0432 -0.0729]\t[-0.0064 -0.0575 -0.0453 -0.022 ]\n",
      "[ 0.0487  0.0634  0.0373  0.0268]\t[-0.0512  0.0683 -0.0262 -0.0123]\n",
      "[ 0.089   0.0303 -0.0612 -0.102 ]\t[-0.0703  0.0228  0.0277 -0.11  ]\n",
      "[-0.0239 -0.0654 -0.088  -0.0101]\t[ 0.0227 -0.0683  0.0917 -0.0291]\n",
      "[ 0.0456  0.0079 -0.1977  0.0267]\t[-0.0257  0.0016  0.2036  0.0652]\n",
      "[-0.0849 -0.0725  0.0371 -0.0545]\t[ 0.0986 -0.088  -0.0595 -0.1093]\n",
      "[-0.0738 -0.0558  0.0387 -0.0341]\t[ 0.0852 -0.0648 -0.0469 -0.0815]\n",
      "[-0.0571 -0.0303 -0.0361  0.0319]\t[ 0.0621 -0.035   0.0389  0.072 ]\n",
      "[-0.0268 -0.0798  0.3066 -0.1468]\t[-0.0159 -0.0755 -0.3564  0.0188]\n",
      "[ 0.0882 -0.09    0.0065 -0.0309]\t[-0.0852 -0.0883  0.0021  0.0434]\n",
      "[ 0.0204  0.0895 -0.024  -0.0241]\t[-0.0026  0.0842  0.0196 -0.0412]\n",
      "[ 0.011   0.0443  0.0635  0.0386]\t[-0.0164  0.0459 -0.0587 -0.0399]\n",
      "[ 0.0891  0.0305 -0.0643 -0.102 ]\t[-0.0705  0.022   0.0268 -0.1207]\n",
      "[-0.0195 -0.0622 -0.1142 -0.0041]\t[ 0.02   -0.0656  0.1115 -0.0266]\n",
      "[-0.0197  0.0891 -0.0569  0.0379]\t[ 0.0262  0.0851  0.0538 -0.1207]\n",
      "[ 0.053   0.0643 -0.0135  0.0422]\t[-0.0508  0.0674  0.036   0.0365]\n",
      "[-0.0673 -0.079   0.1277 -0.0242]\t[ 0.041  -0.0807 -0.1478  0.0586]\n",
      "[ 0.0493 -0.1215  0.0279  0.0519]\t[-0.0639 -0.1117  0.0006  0.0667]\n",
      "[-0.0486 -0.0834  0.1992 -0.0801]\t[ 0.0161 -0.0821 -0.2355  0.0542]\n",
      "                                 \t\n",
      "\n",
      "\n"
     ]
    }
   ],
   "source": [
    "print_two_matrices_side_by_side(U[0:20, 0:3], Ū[0:20, 0:3], title1='Actual eigenvectors', title2='Approximated Eigenvectors')\n",
    "print_two_matrices_side_by_side(U[80:100, 4:8], Ū[80:100, 4:8], title1='Actual eigenvectors', title2='Approximated Eigenvectors')"
   ]
  },
  {
   "cell_type": "code",
   "execution_count": 22,
   "metadata": {},
   "outputs": [
    {
     "data": {
      "text/html": [
       "<html><body><h3>The average absolute error with RFF Nystrom of each element is 0.056159</h3></body></html>"
      ],
      "text/plain": [
       "<IPython.core.display.HTML object>"
      ]
     },
     "metadata": {},
     "output_type": "display_data"
    }
   ],
   "source": [
    "avg_error = np.sum(np.absolute(U[:,0:10] - Ū))/(n*10)\n",
    "jupyter_print('The average absolute error with RFF Nystrom of each element is %f'% avg_error)"
   ]
  }
 ],
 "metadata": {
  "kernelspec": {
   "display_name": "Python 3",
   "language": "python",
   "name": "python3"
  },
  "language_info": {
   "codemirror_mode": {
    "name": "ipython",
    "version": 3
   },
   "file_extension": ".py",
   "mimetype": "text/x-python",
   "name": "python",
   "nbconvert_exporter": "python",
   "pygments_lexer": "ipython3",
   "version": "3.8.10"
  }
 },
 "nbformat": 4,
 "nbformat_minor": 2
}
