{
 "cells": [
  {
   "cell_type": "code",
   "execution_count": 1,
   "metadata": {
    "execution": {
     "iopub.execute_input": "2024-10-30T12:57:35.638226Z",
     "iopub.status.busy": "2024-10-30T12:57:35.637728Z",
     "iopub.status.idle": "2024-10-30T12:57:35.643075Z",
     "shell.execute_reply": "2024-10-30T12:57:35.642189Z"
    }
   },
   "outputs": [],
   "source": [
    "#!/usr/bin/env python"
   ]
  },
  {
   "cell_type": "code",
   "execution_count": 2,
   "metadata": {
    "execution": {
     "iopub.execute_input": "2024-10-30T12:57:35.646831Z",
     "iopub.status.busy": "2024-10-30T12:57:35.646603Z",
     "iopub.status.idle": "2024-10-30T12:57:36.140548Z",
     "shell.execute_reply": "2024-10-30T12:57:36.139887Z"
    }
   },
   "outputs": [],
   "source": [
    "import numpy as np\n",
    "from matplotlib import pyplot as plt"
   ]
  },
  {
   "cell_type": "code",
   "execution_count": 3,
   "metadata": {
    "execution": {
     "iopub.execute_input": "2024-10-30T12:57:36.144907Z",
     "iopub.status.busy": "2024-10-30T12:57:36.144742Z",
     "iopub.status.idle": "2024-10-30T12:57:36.147810Z",
     "shell.execute_reply": "2024-10-30T12:57:36.147159Z"
    }
   },
   "outputs": [],
   "source": [
    "X = np.array([\t[0,2],\n",
    "\t\t\t\t[0,1],\n",
    "\t\t\t\t[1,0],\n",
    "\t\t\t\t[3,4],\n",
    "\t\t\t\t[5,2],\n",
    "\t\t\t\t[5,3]])"
   ]
  },
  {
   "cell_type": "code",
   "execution_count": 4,
   "metadata": {
    "execution": {
     "iopub.execute_input": "2024-10-30T12:57:36.152179Z",
     "iopub.status.busy": "2024-10-30T12:57:36.152004Z",
     "iopub.status.idle": "2024-10-30T12:57:36.155116Z",
     "shell.execute_reply": "2024-10-30T12:57:36.154429Z"
    }
   },
   "outputs": [],
   "source": [
    "y = np.array([[-1],[-1],[-1],[1],[1],[1]])"
   ]
  },
  {
   "cell_type": "code",
   "execution_count": 5,
   "metadata": {
    "execution": {
     "iopub.execute_input": "2024-10-30T12:57:36.157893Z",
     "iopub.status.busy": "2024-10-30T12:57:36.157720Z",
     "iopub.status.idle": "2024-10-30T12:57:36.161074Z",
     "shell.execute_reply": "2024-10-30T12:57:36.160270Z"
    }
   },
   "outputs": [],
   "source": [
    "w = np.array([[0],[1]])\n",
    "η = 0.01"
   ]
  },
  {
   "cell_type": "markdown",
   "metadata": {},
   "source": [
    "$$\\frac{dL}{dw} = 2w - X^{\\top} y\t$$"
   ]
  },
  {
   "cell_type": "code",
   "execution_count": 6,
   "metadata": {
    "execution": {
     "iopub.execute_input": "2024-10-30T12:57:36.164431Z",
     "iopub.status.busy": "2024-10-30T12:57:36.164204Z",
     "iopub.status.idle": "2024-10-30T12:57:36.167741Z",
     "shell.execute_reply": "2024-10-30T12:57:36.166949Z"
    }
   },
   "outputs": [],
   "source": [
    "def dw(X, y, w):\n",
    "\treturn 2*w - X.T.dot(y)"
   ]
  },
  {
   "cell_type": "code",
   "execution_count": 7,
   "metadata": {
    "execution": {
     "iopub.execute_input": "2024-10-30T12:57:36.171139Z",
     "iopub.status.busy": "2024-10-30T12:57:36.170892Z",
     "iopub.status.idle": "2024-10-30T12:57:36.174299Z",
     "shell.execute_reply": "2024-10-30T12:57:36.173555Z"
    }
   },
   "outputs": [],
   "source": [
    "def db(y):\n",
    "\treturn np.sum(y)"
   ]
  },
  {
   "cell_type": "code",
   "execution_count": 8,
   "metadata": {
    "execution": {
     "iopub.execute_input": "2024-10-30T12:57:36.177653Z",
     "iopub.status.busy": "2024-10-30T12:57:36.177407Z",
     "iopub.status.idle": "2024-10-30T12:57:36.181428Z",
     "shell.execute_reply": "2024-10-30T12:57:36.180668Z"
    }
   },
   "outputs": [],
   "source": [
    "def GD(X, y, w):\n",
    "\tfor i in range(100):\n",
    "\t\tw = w - η*dw(X,y,w)\n",
    "\treturn w"
   ]
  },
  {
   "cell_type": "code",
   "execution_count": 9,
   "metadata": {
    "execution": {
     "iopub.execute_input": "2024-10-30T12:57:36.184686Z",
     "iopub.status.busy": "2024-10-30T12:57:36.184483Z",
     "iopub.status.idle": "2024-10-30T12:57:36.188782Z",
     "shell.execute_reply": "2024-10-30T12:57:36.187951Z"
    }
   },
   "outputs": [],
   "source": [
    "w = GD(X, y, w)"
   ]
  },
  {
   "cell_type": "markdown",
   "metadata": {},
   "source": [
    "Note that for this example, I already knew which points<br>\n",
    "Are the support vectors (X[3], X[0]) <br>\n",
    "In actual problems, you would need to project the data <br>\n",
    "Down to w and then figure out the mid-point between the 2 clusters"
   ]
  },
  {
   "cell_type": "code",
   "execution_count": 10,
   "metadata": {
    "execution": {
     "iopub.execute_input": "2024-10-30T12:57:36.207935Z",
     "iopub.status.busy": "2024-10-30T12:57:36.207636Z",
     "iopub.status.idle": "2024-10-30T12:57:36.212481Z",
     "shell.execute_reply": "2024-10-30T12:57:36.211626Z"
    }
   },
   "outputs": [],
   "source": [
    "w = w/np.linalg.norm(w)\n",
    "a = (X[3].dot(w))\n",
    "c = (X[0].dot(w))"
   ]
  },
  {
   "cell_type": "code",
   "execution_count": 11,
   "metadata": {
    "execution": {
     "iopub.execute_input": "2024-10-30T12:57:36.217167Z",
     "iopub.status.busy": "2024-10-30T12:57:36.216871Z",
     "iopub.status.idle": "2024-10-30T12:57:36.220556Z",
     "shell.execute_reply": "2024-10-30T12:57:36.219776Z"
    }
   },
   "outputs": [],
   "source": [
    "b = -(a + c)/2\n",
    "mid = -b*w"
   ]
  },
  {
   "cell_type": "markdown",
   "metadata": {},
   "source": [
    "drawing the separating line"
   ]
  },
  {
   "cell_type": "code",
   "execution_count": 12,
   "metadata": {
    "execution": {
     "iopub.execute_input": "2024-10-30T12:57:36.225296Z",
     "iopub.status.busy": "2024-10-30T12:57:36.225070Z",
     "iopub.status.idle": "2024-10-30T12:57:36.229165Z",
     "shell.execute_reply": "2024-10-30T12:57:36.228380Z"
    }
   },
   "outputs": [],
   "source": [
    "w1 = w[0,0]\n",
    "w2 = w[1,0]\n",
    "line_x = np.arange(1, 3, 0.1)\n",
    "line_y = (-w1/w2)*line_x - (1/w2)*b"
   ]
  },
  {
   "cell_type": "markdown",
   "metadata": {},
   "source": [
    "Drawing the w vector"
   ]
  },
  {
   "cell_type": "code",
   "execution_count": 13,
   "metadata": {
    "execution": {
     "iopub.execute_input": "2024-10-30T12:57:36.232572Z",
     "iopub.status.busy": "2024-10-30T12:57:36.232334Z",
     "iopub.status.idle": "2024-10-30T12:57:36.236430Z",
     "shell.execute_reply": "2024-10-30T12:57:36.235624Z"
    }
   },
   "outputs": [],
   "source": [
    "wx = np.array([[0],[0]])\n",
    "wy = 6*w\n",
    "wLine = np.hstack((wx,wy))"
   ]
  },
  {
   "cell_type": "code",
   "execution_count": 14,
   "metadata": {
    "execution": {
     "iopub.execute_input": "2024-10-30T12:57:36.240132Z",
     "iopub.status.busy": "2024-10-30T12:57:36.239887Z",
     "iopub.status.idle": "2024-10-30T12:57:36.584315Z",
     "shell.execute_reply": "2024-10-30T12:57:36.583812Z"
    }
   },
   "outputs": [
    {
     "data": {
      "image/png": "[encoded data removed]",
      "text/plain": [
       "<Figure size 640x480 with 1 Axes>"
      ]
     },
     "metadata": {},
     "output_type": "display_data"
    }
   ],
   "source": [
    "plt.scatter(X[:,0], X[:,1], color='blue', marker='x')\n",
    "plt.scatter(mid[0], mid[1], color='blue', marker='o')\n",
    "plt.plot(line_x, line_y, color='red')\n",
    "plt.plot(wLine[0], wLine[1], color='green')\n",
    "plt.title('Simplified SVM', fontsize=12)\n",
    "plt.show()"
   ]
  }
 ],
 "metadata": {
  "kernelspec": {
   "display_name": "Python 3",
   "language": "python",
   "name": "python3"
  },
  "language_info": {
   "codemirror_mode": {
    "name": "ipython",
    "version": 3
   },
   "file_extension": ".py",
   "mimetype": "text/x-python",
   "name": "python",
   "nbconvert_exporter": "python",
   "pygments_lexer": "ipython3",
   "version": "3.8.10"
  }
 },
 "nbformat": 4,
 "nbformat_minor": 2
}
