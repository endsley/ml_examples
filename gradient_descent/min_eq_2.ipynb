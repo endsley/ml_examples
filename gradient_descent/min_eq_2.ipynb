{
 "cells": [
  {
   "cell_type": "code",
   "execution_count": 1,
   "metadata": {
    "execution": {
     "iopub.execute_input": "2024-09-19T18:02:22.957655Z",
     "iopub.status.busy": "2024-09-19T18:02:22.957044Z",
     "iopub.status.idle": "2024-09-19T18:02:22.961238Z",
     "shell.execute_reply": "2024-09-19T18:02:22.959790Z"
    }
   },
   "outputs": [],
   "source": [
    "#!/usr/bin/env python"
   ]
  },
  {
   "cell_type": "code",
   "execution_count": 2,
   "metadata": {
    "execution": {
     "iopub.execute_input": "2024-09-19T18:02:22.967436Z",
     "iopub.status.busy": "2024-09-19T18:02:22.967302Z",
     "iopub.status.idle": "2024-09-19T18:02:23.170137Z",
     "shell.execute_reply": "2024-09-19T18:02:23.169792Z"
    }
   },
   "outputs": [],
   "source": [
    "import numpy as np\n",
    "from numpy import ones\n",
    "from numpy import array\n",
    "import matplotlib.pyplot as plt\n",
    "from numpy import mean"
   ]
  },
  {
   "cell_type": "code",
   "execution_count": 3,
   "metadata": {
    "execution": {
     "iopub.execute_input": "2024-09-19T18:02:23.171753Z",
     "iopub.status.busy": "2024-09-19T18:02:23.171593Z",
     "iopub.status.idle": "2024-09-19T18:02:23.173812Z",
     "shell.execute_reply": "2024-09-19T18:02:23.173519Z"
    }
   },
   "outputs": [],
   "source": [
    "xᑊ = array([[0],[1]])\n",
    "xᒾ = array([[1],[1]])\n",
    "yᑊ = 0\n",
    "yᒾ = 2"
   ]
  },
  {
   "cell_type": "code",
   "execution_count": 4,
   "metadata": {
    "execution": {
     "iopub.execute_input": "2024-09-19T18:02:23.175031Z",
     "iopub.status.busy": "2024-09-19T18:02:23.174914Z",
     "iopub.status.idle": "2024-09-19T18:02:23.176661Z",
     "shell.execute_reply": "2024-09-19T18:02:23.176391Z"
    }
   },
   "outputs": [],
   "source": [
    "n = 2 # number of samples\n",
    "η = 0.2 \t# this is the step size"
   ]
  },
  {
   "cell_type": "markdown",
   "metadata": {},
   "source": [
    "You can initialize w at any point, solution is at 2,0"
   ]
  },
  {
   "cell_type": "code",
   "execution_count": 5,
   "metadata": {
    "execution": {
     "iopub.execute_input": "2024-09-19T18:02:23.177980Z",
     "iopub.status.busy": "2024-09-19T18:02:23.177793Z",
     "iopub.status.idle": "2024-09-19T18:02:23.179550Z",
     "shell.execute_reply": "2024-09-19T18:02:23.179258Z"
    }
   },
   "outputs": [],
   "source": [
    "w = array([[2],[2]]) "
   ]
  },
  {
   "cell_type": "markdown",
   "metadata": {},
   "source": [
    "The function we are trying to minimize is<br>\n",
    "$$f(x) = \\frac{1}{n} \\; \\sum_i^n \\; (w^{\\top} x_i - y_i)^2$$"
   ]
  },
  {
   "cell_type": "code",
   "execution_count": 6,
   "metadata": {
    "execution": {
     "iopub.execute_input": "2024-09-19T18:02:23.180920Z",
     "iopub.status.busy": "2024-09-19T18:02:23.180796Z",
     "iopub.status.idle": "2024-09-19T18:02:23.182840Z",
     "shell.execute_reply": "2024-09-19T18:02:23.182549Z"
    }
   },
   "outputs": [],
   "source": [
    "def f(w):\n",
    "\treturn (1/n)*((w.T.dot(xᑊ) - yᑊ)**2 + (w.T.dot(xᒾ) - yᒾ)**2)\n",
    "#\t"
   ]
  },
  {
   "cell_type": "markdown",
   "metadata": {},
   "source": [
    "The equation for the gradient is <br>\n",
    "$$f'(x) = \\frac{2}{n} \\; \\sum_i^n \\; (w^{\\top} x_i - y_i) x_i$$"
   ]
  },
  {
   "cell_type": "code",
   "execution_count": 7,
   "metadata": {
    "execution": {
     "iopub.execute_input": "2024-09-19T18:02:23.184269Z",
     "iopub.status.busy": "2024-09-19T18:02:23.184030Z",
     "iopub.status.idle": "2024-09-19T18:02:23.186070Z",
     "shell.execute_reply": "2024-09-19T18:02:23.185775Z"
    }
   },
   "outputs": [],
   "source": [
    "def fᑊ(w):\n",
    "\treturn (2/n)*((w.T.dot(xᑊ) - yᑊ)*xᑊ + (w.T.dot(xᒾ) - yᒾ)*xᒾ)"
   ]
  },
  {
   "cell_type": "code",
   "execution_count": 8,
   "metadata": {
    "execution": {
     "iopub.execute_input": "2024-09-19T18:02:23.187395Z",
     "iopub.status.busy": "2024-09-19T18:02:23.187261Z",
     "iopub.status.idle": "2024-09-19T18:02:23.190640Z",
     "shell.execute_reply": "2024-09-19T18:02:23.190404Z"
    }
   },
   "outputs": [],
   "source": [
    "f_value_list = []\n",
    "for i in range(100):\n",
    "\tw = w - η*fᑊ(w)\t\t\t\t# gradient descent update w\n",
    "\tf_value_list.append(f(w).item())"
   ]
  },
  {
   "cell_type": "code",
   "execution_count": 9,
   "metadata": {
    "execution": {
     "iopub.execute_input": "2024-09-19T18:02:23.191914Z",
     "iopub.status.busy": "2024-09-19T18:02:23.191710Z",
     "iopub.status.idle": "2024-09-19T18:02:23.193713Z",
     "shell.execute_reply": "2024-09-19T18:02:23.193447Z"
    }
   },
   "outputs": [
    {
     "name": "stdout",
     "output_type": "stream",
     "text": [
      "Best w = \n",
      " [[1.99968359e+00]\n",
      " [1.95555223e-04]]\n"
     ]
    }
   ],
   "source": [
    "print('Best w = \\n', w)"
   ]
  },
  {
   "cell_type": "markdown",
   "metadata": {},
   "source": [
    "Display the plot"
   ]
  },
  {
   "cell_type": "code",
   "execution_count": 10,
   "metadata": {
    "execution": {
     "iopub.execute_input": "2024-09-19T18:02:23.210564Z",
     "iopub.status.busy": "2024-09-19T18:02:23.210331Z",
     "iopub.status.idle": "2024-09-19T18:02:23.281252Z",
     "shell.execute_reply": "2024-09-19T18:02:23.280954Z"
    }
   },
   "outputs": [
    {
     "data": {
      "image/png": "[encoded data removed]",
      "text/plain": [
       "<Figure size 640x480 with 1 Axes>"
      ]
     },
     "metadata": {},
     "output_type": "display_data"
    }
   ],
   "source": [
    "plt.plot(f_value_list)\n",
    "plt.title('MSE over GD')\n",
    "plt.xlabel('steps')\n",
    "plt.ylabel('MSE')\n",
    "plt.show()"
   ]
  }
 ],
 "metadata": {
  "kernelspec": {
   "display_name": "Python 3",
   "language": "python",
   "name": "python3"
  },
  "language_info": {
   "codemirror_mode": {
    "name": "ipython",
    "version": 3
   },
   "file_extension": ".py",
   "mimetype": "text/x-python",
   "name": "python",
   "nbconvert_exporter": "python",
   "pygments_lexer": "ipython3",
   "version": "3.10.12"
  }
 },
 "nbformat": 4,
 "nbformat_minor": 2
}
