{
 "cells": [
  {
   "cell_type": "code",
   "execution_count": 1,
   "metadata": {
    "execution": {
     "iopub.execute_input": "2024-09-04T20:23:42.409062Z",
     "iopub.status.busy": "2024-09-04T20:23:42.408434Z",
     "iopub.status.idle": "2024-09-04T20:23:42.412189Z",
     "shell.execute_reply": "2024-09-04T20:23:42.411793Z"
    }
   },
   "outputs": [],
   "source": [
    "#!/usr/bin/env python"
   ]
  },
  {
   "cell_type": "code",
   "execution_count": 2,
   "metadata": {
    "execution": {
     "iopub.execute_input": "2024-09-04T20:23:42.413505Z",
     "iopub.status.busy": "2024-09-04T20:23:42.413357Z",
     "iopub.status.idle": "2024-09-04T20:23:42.612474Z",
     "shell.execute_reply": "2024-09-04T20:23:42.612128Z"
    }
   },
   "outputs": [],
   "source": [
    "import numpy as np\n",
    "from numpy import ones\n",
    "from numpy import array\n",
    "import matplotlib.pyplot as plt\n",
    "from numpy import mean"
   ]
  },
  {
   "cell_type": "code",
   "execution_count": 3,
   "metadata": {
    "execution": {
     "iopub.execute_input": "2024-09-04T20:23:42.614109Z",
     "iopub.status.busy": "2024-09-04T20:23:42.613954Z",
     "iopub.status.idle": "2024-09-04T20:23:42.615998Z",
     "shell.execute_reply": "2024-09-04T20:23:42.615767Z"
    }
   },
   "outputs": [],
   "source": [
    "xᑊ = array([[0],[1]])\n",
    "xᒾ = array([[1],[1]])\n",
    "X = np.vstack((xᑊ.T, xᒾ.T))\n",
    "n = X.shape[0] # number of samples"
   ]
  },
  {
   "cell_type": "code",
   "execution_count": 4,
   "metadata": {
    "execution": {
     "iopub.execute_input": "2024-09-04T20:23:42.617333Z",
     "iopub.status.busy": "2024-09-04T20:23:42.617152Z",
     "iopub.status.idle": "2024-09-04T20:23:42.618892Z",
     "shell.execute_reply": "2024-09-04T20:23:42.618673Z"
    }
   },
   "outputs": [],
   "source": [
    "A = array([[0,1],[1,1]])\n",
    "y = array([[0],[2]])\n",
    "w = array([[2],[2]]) # solution is 1,1\n",
    "η = 0.1"
   ]
  },
  {
   "cell_type": "markdown",
   "metadata": {},
   "source": [
    "The function we are trying to minimize is<br>\n",
    "$$f(x) = \\frac{1}{n} \\; \\sum_i^n \\; (w^{\\top} x_i - y_i)^2$$"
   ]
  },
  {
   "cell_type": "code",
   "execution_count": 5,
   "metadata": {
    "execution": {
     "iopub.execute_input": "2024-09-04T20:23:42.620161Z",
     "iopub.status.busy": "2024-09-04T20:23:42.620040Z",
     "iopub.status.idle": "2024-09-04T20:23:42.622009Z",
     "shell.execute_reply": "2024-09-04T20:23:42.621792Z"
    }
   },
   "outputs": [],
   "source": [
    "def f(w):\n",
    "\tfₒ = 0\t\t\t\t\t\t# function output\n",
    "\tfor xᵢ, yᵢ in zip(X,y):\n",
    "\t\txᵢ = np.reshape(xᵢ, (2,1))\n",
    "\t\tfₒ += (w.T.dot(xᵢ) - yᵢ)**2\n",
    "#\t\n",
    "\treturn ((1/n)*fₒ).item()\n",
    "#\t"
   ]
  },
  {
   "cell_type": "markdown",
   "metadata": {},
   "source": [
    "The equation for the gradient is <br>\n",
    "$$f'(x) = \\frac{2}{n} \\; \\sum_i^n \\; (w^{\\top} x_i - y_i) x_i$$"
   ]
  },
  {
   "cell_type": "code",
   "execution_count": 6,
   "metadata": {
    "execution": {
     "iopub.execute_input": "2024-09-04T20:23:42.623308Z",
     "iopub.status.busy": "2024-09-04T20:23:42.623186Z",
     "iopub.status.idle": "2024-09-04T20:23:42.625178Z",
     "shell.execute_reply": "2024-09-04T20:23:42.624955Z"
    }
   },
   "outputs": [],
   "source": [
    "def fᑊ(w):\n",
    "\tᐁf = np.zeros((2,1))\n",
    "\tfor xᵢ, yᵢ in zip(X,y):\n",
    "\t\txᵢ = np.reshape(xᵢ, (2,1))\n",
    "\t\tᐁf += (w.T.dot(xᵢ) - yᵢ)*xᵢ\n",
    "\treturn (2/n)*ᐁf"
   ]
  },
  {
   "cell_type": "code",
   "execution_count": 7,
   "metadata": {
    "execution": {
     "iopub.execute_input": "2024-09-04T20:23:42.626420Z",
     "iopub.status.busy": "2024-09-04T20:23:42.626245Z",
     "iopub.status.idle": "2024-09-04T20:23:42.628583Z",
     "shell.execute_reply": "2024-09-04T20:23:42.628349Z"
    }
   },
   "outputs": [],
   "source": [
    "f_value_list = []\n",
    "for i in range(20):\n",
    "\tw = w - η*fᑊ(w)\t\t\t\t# gradient descent update w\n",
    "\tf_value_list.append(f(w))"
   ]
  },
  {
   "cell_type": "code",
   "execution_count": 8,
   "metadata": {
    "execution": {
     "iopub.execute_input": "2024-09-04T20:23:42.629831Z",
     "iopub.status.busy": "2024-09-04T20:23:42.629708Z",
     "iopub.status.idle": "2024-09-04T20:23:42.631716Z",
     "shell.execute_reply": "2024-09-04T20:23:42.631387Z"
    }
   },
   "outputs": [
    {
     "name": "stdout",
     "output_type": "stream",
     "text": [
      "Best w = \n",
      " [[1.59160503]\n",
      " [0.25702015]]\n"
     ]
    }
   ],
   "source": [
    "print('Best w = \\n', w)"
   ]
  },
  {
   "cell_type": "markdown",
   "metadata": {},
   "source": [
    "Display the plot"
   ]
  },
  {
   "cell_type": "code",
   "execution_count": 9,
   "metadata": {
    "execution": {
     "iopub.execute_input": "2024-09-04T20:23:42.648852Z",
     "iopub.status.busy": "2024-09-04T20:23:42.648711Z",
     "iopub.status.idle": "2024-09-04T20:23:42.729319Z",
     "shell.execute_reply": "2024-09-04T20:23:42.728991Z"
    }
   },
   "outputs": [
    {
     "data": {
      "image/png": "[encoded data removed]",
      "text/plain": [
       "<Figure size 640x480 with 1 Axes>"
      ]
     },
     "metadata": {},
     "output_type": "display_data"
    }
   ],
   "source": [
    "plt.plot(f_value_list)\n",
    "plt.title('MSE over GD')\n",
    "plt.xlabel('steps')\n",
    "plt.ylabel('MSE')\n",
    "plt.show()"
   ]
  }
 ],
 "metadata": {
  "kernelspec": {
   "display_name": "Python 3",
   "language": "python",
   "name": "python3"
  },
  "language_info": {
   "codemirror_mode": {
    "name": "ipython",
    "version": 3
   },
   "file_extension": ".py",
   "mimetype": "text/x-python",
   "name": "python",
   "nbconvert_exporter": "python",
   "pygments_lexer": "ipython3",
   "version": "3.10.12"
  }
 },
 "nbformat": 4,
 "nbformat_minor": 2
}
