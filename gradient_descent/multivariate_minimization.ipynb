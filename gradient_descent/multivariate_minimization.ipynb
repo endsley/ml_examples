{
 "cells": [
  {
   "cell_type": "code",
   "execution_count": 1,
   "metadata": {
    "execution": {
     "iopub.execute_input": "2024-01-19T14:25:57.204692Z",
     "iopub.status.busy": "2024-01-19T14:25:57.204086Z",
     "iopub.status.idle": "2024-01-19T14:25:57.207512Z",
     "shell.execute_reply": "2024-01-19T14:25:57.207280Z"
    }
   },
   "outputs": [],
   "source": [
    "#!/usr/bin/env python"
   ]
  },
  {
   "cell_type": "code",
   "execution_count": 2,
   "metadata": {
    "execution": {
     "iopub.execute_input": "2024-01-19T14:25:57.208811Z",
     "iopub.status.busy": "2024-01-19T14:25:57.208615Z",
     "iopub.status.idle": "2024-01-19T14:25:57.410178Z",
     "shell.execute_reply": "2024-01-19T14:25:57.409903Z"
    }
   },
   "outputs": [],
   "source": [
    "import numpy as np\n",
    "from numpy import ones\n",
    "from numpy import array\n",
    "import matplotlib.pyplot as plt\n",
    "from numpy import mean"
   ]
  },
  {
   "cell_type": "markdown",
   "metadata": {},
   "source": [
    "Given the Objective <br>\n",
    "$$ \\min_{\\alpha, \\beta} \\; 5\\alpha^2 + 6 \\alpha \\beta - 16 \\alpha + 3 \\beta^2 - 12 \\beta + 14$$"
   ]
  },
  {
   "cell_type": "markdown",
   "metadata": {},
   "source": [
    "The derivative is <br>\n",
    "$$ \\begin{cases} \\frac{df}{d\\alpha} = 10\\alpha + 6\\beta - 16 \\\\  \\frac{df}{d\\alpha} = 6\\alpha + 6\\beta - 12  \\end{cases} = \\begin{bmatrix} 10 & 6  \\\\ 6 & 6 \\end{bmatrix} \\begin{bmatrix} \\alpha \\\\ \\beta \\end{bmatrix} - \\begin{bmatrix} 16 \\\\ 12 \\end{bmatrix} = A w - c$$<br>\n",
    "Let "
   ]
  },
  {
   "cell_type": "code",
   "execution_count": 3,
   "metadata": {
    "execution": {
     "iopub.execute_input": "2024-01-19T14:25:57.412088Z",
     "iopub.status.busy": "2024-01-19T14:25:57.411891Z",
     "iopub.status.idle": "2024-01-19T14:25:57.414437Z",
     "shell.execute_reply": "2024-01-19T14:25:57.414124Z"
    }
   },
   "outputs": [],
   "source": [
    "A = array([[10,6],[6,6]])\n",
    "c = array([[16],[12]])\n",
    "w = array([[2],[2]]) # solution is 1,1\n",
    "η = 0.1"
   ]
  },
  {
   "cell_type": "code",
   "execution_count": 4,
   "metadata": {
    "execution": {
     "iopub.execute_input": "2024-01-19T14:25:57.415723Z",
     "iopub.status.busy": "2024-01-19T14:25:57.415531Z",
     "iopub.status.idle": "2024-01-19T14:25:57.417364Z",
     "shell.execute_reply": "2024-01-19T14:25:57.417147Z"
    }
   },
   "outputs": [],
   "source": [
    "def f(w):\n",
    "\tα = w[0]\n",
    "\tβ = w[1]\n",
    "#\t\n",
    "\treturn 5*α*α + 6*α*β - 16*α + 3*β*β - 12*β + 14"
   ]
  },
  {
   "cell_type": "code",
   "execution_count": 5,
   "metadata": {
    "execution": {
     "iopub.execute_input": "2024-01-19T14:25:57.418712Z",
     "iopub.status.busy": "2024-01-19T14:25:57.418592Z",
     "iopub.status.idle": "2024-01-19T14:25:57.420745Z",
     "shell.execute_reply": "2024-01-19T14:25:57.420521Z"
    }
   },
   "outputs": [],
   "source": [
    "f_value_list = []\n",
    "for i in range(20):\n",
    "\tfᑊ = A.dot(w) - c\n",
    "\tw = w - η*fᑊ\t\t\t\t# gradient descent update w\n",
    "\tf_value_list.append(f(w))"
   ]
  },
  {
   "cell_type": "code",
   "execution_count": 6,
   "metadata": {
    "execution": {
     "iopub.execute_input": "2024-01-19T14:25:57.422120Z",
     "iopub.status.busy": "2024-01-19T14:25:57.421943Z",
     "iopub.status.idle": "2024-01-19T14:25:57.509805Z",
     "shell.execute_reply": "2024-01-19T14:25:57.509547Z"
    }
   },
   "outputs": [
    {
     "name": "stdout",
     "output_type": "stream",
     "text": [
      "Best w = \n",
      " [[0.99661715]\n",
      " [1.00469359]]\n"
     ]
    },
    {
     "data": {
      "text/plain": [
       "Text(0, 0.5, 'MSE')"
      ]
     },
     "execution_count": 6,
     "metadata": {},
     "output_type": "execute_result"
    },
    {
     "data": {
      "image/png": "[encoded data removed]",
      "text/plain": [
       "<Figure size 640x480 with 1 Axes>"
      ]
     },
     "metadata": {},
     "output_type": "display_data"
    }
   ],
   "source": [
    "print('Best w = \\n', w)\n",
    "plt.plot(f_value_list)\n",
    "plt.title('MSE over GD')\n",
    "plt.xlabel('steps')\n",
    "plt.ylabel('MSE')\n",
    "plt.show()"
   ]
  }
 ],
 "metadata": {
  "kernelspec": {
   "display_name": "Python 3 (ipykernel)",
   "language": "python",
   "name": "python3"
  },
  "language_info": {
   "codemirror_mode": {
    "name": "ipython",
    "version": 3
   },
   "file_extension": ".py",
   "mimetype": "text/x-python",
   "name": "python",
   "nbconvert_exporter": "python",
   "pygments_lexer": "ipython3",
   "version": "3.10.12"
  }
 },
 "nbformat": 4,
 "nbformat_minor": 4
}
