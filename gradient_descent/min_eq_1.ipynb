{
 "cells": [
  {
   "cell_type": "code",
   "execution_count": 8,
   "metadata": {
    "execution": {
     "iopub.execute_input": "2024-01-24T15:42:02.333439Z",
     "iopub.status.busy": "2024-01-24T15:42:02.332963Z",
     "iopub.status.idle": "2024-01-24T15:42:02.338804Z",
     "shell.execute_reply": "2024-01-24T15:42:02.337800Z"
    }
   },
   "outputs": [],
   "source": [
    "#!/usr/bin/env python"
   ]
  },
  {
   "cell_type": "code",
   "execution_count": 9,
   "metadata": {
    "execution": {
     "iopub.execute_input": "2024-01-24T15:42:02.343317Z",
     "iopub.status.busy": "2024-01-24T15:42:02.342900Z",
     "iopub.status.idle": "2024-01-24T15:42:02.833689Z",
     "shell.execute_reply": "2024-01-24T15:42:02.832833Z"
    }
   },
   "outputs": [],
   "source": [
    "import numpy as np\n",
    "from numpy import ones\n",
    "from numpy import array\n",
    "import matplotlib.pyplot as plt\n",
    "from numpy import mean"
   ]
  },
  {
   "cell_type": "code",
   "execution_count": 10,
   "metadata": {
    "execution": {
     "iopub.execute_input": "2024-01-24T15:42:02.838851Z",
     "iopub.status.busy": "2024-01-24T15:42:02.838672Z",
     "iopub.status.idle": "2024-01-24T15:42:02.843426Z",
     "shell.execute_reply": "2024-01-24T15:42:02.842158Z"
    }
   },
   "outputs": [],
   "source": [
    "A = array([[0,1],[1,1]])\n",
    "y = array([[0],[2]])\n",
    "w = array([[2],[2]]) \n",
    "η = 0.1"
   ]
  },
  {
   "cell_type": "code",
   "execution_count": 11,
   "metadata": {
    "execution": {
     "iopub.execute_input": "2024-01-24T15:42:02.847198Z",
     "iopub.status.busy": "2024-01-24T15:42:02.846827Z",
     "iopub.status.idle": "2024-01-24T15:42:02.852878Z",
     "shell.execute_reply": "2024-01-24T15:42:02.851732Z"
    }
   },
   "outputs": [],
   "source": [
    "def f(w):\n",
    "\tp = (np.dot(A,w) - y)\n",
    "\treturn np.dot(np.transpose(p), p).item()"
   ]
  },
  {
   "cell_type": "markdown",
   "metadata": {},
   "source": [
    "The equation for the gradient is <br>\n",
    "$$\\frac{df}{dw} = 2A^{\\top}(Aw - y)$$"
   ]
  },
  {
   "cell_type": "code",
   "execution_count": 12,
   "metadata": {
    "execution": {
     "iopub.execute_input": "2024-01-24T15:42:02.856466Z",
     "iopub.status.busy": "2024-01-24T15:42:02.856270Z",
     "iopub.status.idle": "2024-01-24T15:42:02.863310Z",
     "shell.execute_reply": "2024-01-24T15:42:02.862337Z"
    }
   },
   "outputs": [],
   "source": [
    "f_value_list = []\n",
    "for i in range(100):\n",
    "\tfᑊ = 2*A.T.dot(A.dot(w) - y) \n",
    "\tw = w - η*fᑊ\t\t\t\t# gradient descent update w\n",
    "\tf_value_list.append(f(w))"
   ]
  },
  {
   "cell_type": "code",
   "execution_count": 13,
   "metadata": {
    "execution": {
     "iopub.execute_input": "2024-01-24T15:42:02.867789Z",
     "iopub.status.busy": "2024-01-24T15:42:02.867417Z",
     "iopub.status.idle": "2024-01-24T15:42:02.873878Z",
     "shell.execute_reply": "2024-01-24T15:42:02.872798Z"
    }
   },
   "outputs": [
    {
     "name": "stdout",
     "output_type": "stream",
     "text": [
      "Best w = \n",
      " [[1.99968359e+00]\n",
      " [1.95555223e-04]]\n"
     ]
    }
   ],
   "source": [
    "print('Best w = \\n', w)"
   ]
  },
  {
   "cell_type": "markdown",
   "metadata": {},
   "source": [
    "Display the plot"
   ]
  },
  {
   "cell_type": "code",
   "execution_count": 14,
   "metadata": {
    "execution": {
     "iopub.execute_input": "2024-01-24T15:42:02.913854Z",
     "iopub.status.busy": "2024-01-24T15:42:02.913489Z",
     "iopub.status.idle": "2024-01-24T15:42:03.075527Z",
     "shell.execute_reply": "2024-01-24T15:42:03.074625Z"
    }
   },
   "outputs": [
    {
     "data": {
      "image/png": "[encoded data removed]",
      "text/plain": [
       "<Figure size 640x480 with 1 Axes>"
      ]
     },
     "metadata": {},
     "output_type": "display_data"
    }
   ],
   "source": [
    "plt.plot(f_value_list)\n",
    "plt.title('MSE over GD')\n",
    "plt.xlabel('steps')\n",
    "plt.ylabel('MSE')\n",
    "plt.show()"
   ]
  }
 ],
 "metadata": {
  "kernelspec": {
   "display_name": "Python 3",
   "language": "python",
   "name": "python3"
  },
  "language_info": {
   "codemirror_mode": {
    "name": "ipython",
    "version": 3
   },
   "file_extension": ".py",
   "mimetype": "text/x-python",
   "name": "python",
   "nbconvert_exporter": "python",
   "pygments_lexer": "ipython3",
   "version": "3.8.10"
  }
 },
 "nbformat": 4,
 "nbformat_minor": 2
}
