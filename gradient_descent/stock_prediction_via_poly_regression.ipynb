{
 "cells": [
  {
   "cell_type": "code",
   "execution_count": 1,
   "metadata": {
    "execution": {
     "iopub.execute_input": "2024-01-26T14:41:31.951801Z",
     "iopub.status.busy": "2024-01-26T14:41:31.951185Z",
     "iopub.status.idle": "2024-01-26T14:41:31.959566Z",
     "shell.execute_reply": "2024-01-26T14:41:31.957748Z"
    }
   },
   "outputs": [],
   "source": [
    "#!/usr/bin/env python"
   ]
  },
  {
   "cell_type": "code",
   "execution_count": 2,
   "metadata": {
    "execution": {
     "iopub.execute_input": "2024-01-26T14:41:31.966649Z",
     "iopub.status.busy": "2024-01-26T14:41:31.966105Z",
     "iopub.status.idle": "2024-01-26T14:41:32.395235Z",
     "shell.execute_reply": "2024-01-26T14:41:32.394777Z"
    }
   },
   "outputs": [],
   "source": [
    "import numpy as np\n",
    "from numpy import ones\n",
    "import matplotlib.pyplot as plt\n",
    "from sklearn.linear_model import LinearRegression\n",
    "from sklearn.preprocessing import PolynomialFeatures\n",
    "from numpy import genfromtxt\n",
    "from numpy import mean\n",
    "from numpy.random import randn\n",
    "import sys"
   ]
  },
  {
   "cell_type": "markdown",
   "metadata": {},
   "source": [
    "these make printing nicer"
   ]
  },
  {
   "cell_type": "code",
   "execution_count": 3,
   "metadata": {
    "execution": {
     "iopub.execute_input": "2024-01-26T14:41:32.396980Z",
     "iopub.status.busy": "2024-01-26T14:41:32.396812Z",
     "iopub.status.idle": "2024-01-26T14:41:32.398982Z",
     "shell.execute_reply": "2024-01-26T14:41:32.398734Z"
    }
   },
   "outputs": [],
   "source": [
    "np.set_printoptions(precision=4)\n",
    "np.set_printoptions(threshold=30)\n",
    "np.set_printoptions(linewidth=300)\n",
    "np.set_printoptions(suppress=True)\n",
    "np.set_printoptions(threshold=sys.maxsize)"
   ]
  },
  {
   "cell_type": "code",
   "execution_count": 4,
   "metadata": {
    "execution": {
     "iopub.execute_input": "2024-01-26T14:41:32.400327Z",
     "iopub.status.busy": "2024-01-26T14:41:32.400135Z",
     "iopub.status.idle": "2024-01-26T14:41:32.403221Z",
     "shell.execute_reply": "2024-01-26T14:41:32.403000Z"
    }
   },
   "outputs": [],
   "source": [
    "X = genfromtxt('stock_prediction_data_scaled.csv', delimiter=',')\n",
    "poly = PolynomialFeatures(2)\n",
    "Φ = poly.fit_transform(X)"
   ]
  },
  {
   "cell_type": "code",
   "execution_count": 5,
   "metadata": {
    "execution": {
     "iopub.execute_input": "2024-01-26T14:41:32.404560Z",
     "iopub.status.busy": "2024-01-26T14:41:32.404438Z",
     "iopub.status.idle": "2024-01-26T14:41:32.406100Z",
     "shell.execute_reply": "2024-01-26T14:41:32.405873Z"
    }
   },
   "outputs": [],
   "source": [
    "n = Φ.shape[0]\n",
    "d = Φ.shape[1]\n",
    "η = 0.0001"
   ]
  },
  {
   "cell_type": "code",
   "execution_count": 6,
   "metadata": {
    "execution": {
     "iopub.execute_input": "2024-01-26T14:41:32.407491Z",
     "iopub.status.busy": "2024-01-26T14:41:32.407318Z",
     "iopub.status.idle": "2024-01-26T14:41:32.409461Z",
     "shell.execute_reply": "2024-01-26T14:41:32.409232Z"
    }
   },
   "outputs": [],
   "source": [
    "y = genfromtxt('stock_price.csv', delimiter=',')\n",
    "y = np.reshape(y, (n,1))\n",
    "w = randn(d,1)"
   ]
  },
  {
   "cell_type": "markdown",
   "metadata": {},
   "source": [
    "The function we are trying to minimize is<br>\n",
    "$$\\min_w \\; f(x) = \\frac{1}{n} \\; \\sum_i^n \\; (w^{\\top} \\phi(x_i) - y_i)^2$$"
   ]
  },
  {
   "cell_type": "code",
   "execution_count": 7,
   "metadata": {
    "execution": {
     "iopub.execute_input": "2024-01-26T14:41:32.410790Z",
     "iopub.status.busy": "2024-01-26T14:41:32.410641Z",
     "iopub.status.idle": "2024-01-26T14:41:32.412715Z",
     "shell.execute_reply": "2024-01-26T14:41:32.412446Z"
    }
   },
   "outputs": [],
   "source": [
    "def f(w):\n",
    "\tfₒ = 0\t\t\t\t\t\t# function output\n",
    "\tfor ϕᵢ, yᵢ in zip(Φ,y):\n",
    "\t\tϕᵢ = np.reshape(ϕᵢ, (d,1))\t\t# make sure the ϕᵢ is in column format\n",
    "\t\tfₒ += (w.T.dot(ϕᵢ) - yᵢ)**2\n",
    "\treturn ((1/n)*fₒ).item()\t# this is the mse"
   ]
  },
  {
   "cell_type": "markdown",
   "metadata": {},
   "source": [
    "The equation for the gradient is <br>\n",
    "$$f'(x) = \\frac{2}{n} \\; \\sum_i^n \\; (w^{\\top} \\phi(x_i) - y_i) \\phi(x_i)$$<br>\n",
    "You can rewrite it into compact matrix vector form if you are good, note that $y$ is<br>\n",
    "a column vector of all labels. Here we used the advanced version. <br>\n",
    "Look at the linear regression version for the standard derivative version.<br>\n",
    "The derivation can be found here:<br>\n",
    "https://github.khoury.northeastern.edu/chieh/course_page/blob/main/4420/lecture_4/compact_regression_derivative_derivation.pdf<br>\n",
    "$$f'(x) = \\frac{2}{n} \\Phi^{\\top}(\\Phi w - y)$$"
   ]
  },
  {
   "cell_type": "code",
   "execution_count": 8,
   "metadata": {
    "execution": {
     "iopub.execute_input": "2024-01-26T14:41:32.414102Z",
     "iopub.status.busy": "2024-01-26T14:41:32.413944Z",
     "iopub.status.idle": "2024-01-26T14:41:32.969485Z",
     "shell.execute_reply": "2024-01-26T14:41:32.969093Z"
    }
   },
   "outputs": [],
   "source": [
    "mse_list = []\n",
    "for i in range(300):\n",
    "\tfᑊ = Φ.T.dot(Φ.dot(w) - y)\t# derivative in compact matrix form, so much easier.\n",
    "\tw = w - η*fᑊ\t\t\t\t# gradient descent update w\n",
    "\tmse_list.append(f(w))\t\t# record mse to plot later"
   ]
  },
  {
   "cell_type": "code",
   "execution_count": 9,
   "metadata": {
    "execution": {
     "iopub.execute_input": "2024-01-26T14:41:32.971687Z",
     "iopub.status.busy": "2024-01-26T14:41:32.971443Z",
     "iopub.status.idle": "2024-01-26T14:41:33.074163Z",
     "shell.execute_reply": "2024-01-26T14:41:33.073850Z"
    }
   },
   "outputs": [
    {
     "data": {
      "image/png": "[encoded data removed]",
      "text/plain": [
       "<Figure size 640x480 with 1 Axes>"
      ]
     },
     "metadata": {},
     "output_type": "display_data"
    }
   ],
   "source": [
    "plt.plot(mse_list)\n",
    "plt.title('MSE over GD')\n",
    "plt.xlabel('steps')\n",
    "plt.ylabel('MSE')\n",
    "plt.show()"
   ]
  },
  {
   "cell_type": "markdown",
   "metadata": {},
   "source": [
    "my stock price change prediction"
   ]
  },
  {
   "cell_type": "code",
   "execution_count": 10,
   "metadata": {
    "execution": {
     "iopub.execute_input": "2024-01-26T14:41:33.091506Z",
     "iopub.status.busy": "2024-01-26T14:41:33.091308Z",
     "iopub.status.idle": "2024-01-26T14:41:33.095515Z",
     "shell.execute_reply": "2024-01-26T14:41:33.094986Z"
    }
   },
   "outputs": [
    {
     "name": "stdout",
     "output_type": "stream",
     "text": [
      "Side by side comparison ŷ vs y\n",
      "[[ -0.4234  -0.31  ]\n",
      " [-16.607  -16.86  ]\n",
      " [  1.4947   1.36  ]\n",
      " [ 12.1279  12.75  ]\n",
      " [  7.3621   7.91  ]\n",
      " [ -3.3456  -2.75  ]\n",
      " [ -0.4491  -0.54  ]\n",
      " [-10.9339 -11.51  ]\n",
      " [ -4.5207  -4.01  ]\n",
      " [  2.9714   3.08  ]\n",
      " [ -7.9037  -8.23  ]\n",
      " [ -0.354   -0.14  ]\n",
      " [  2.4656   2.56  ]\n",
      " [ -6.9068  -6.87  ]\n",
      " [  4.4943   4.43  ]\n",
      " [  2.38     1.98  ]\n",
      " [  3.5572   3.76  ]\n",
      " [  3.9262   4.16  ]\n",
      " [  7.2559   6.67  ]\n",
      " [ -7.4632  -7.21  ]]\n"
     ]
    }
   ],
   "source": [
    "ŷ = Φ.dot(w)\n",
    "Y = np.hstack((ŷ, y))\n",
    "print('Side by side comparison ŷ vs y') \n",
    "print(Y[0:20,:])"
   ]
  }
 ],
 "metadata": {
  "kernelspec": {
   "display_name": "Python 3 (ipykernel)",
   "language": "python",
   "name": "python3"
  },
  "language_info": {
   "codemirror_mode": {
    "name": "ipython",
    "version": 3
   },
   "file_extension": ".py",
   "mimetype": "text/x-python",
   "name": "python",
   "nbconvert_exporter": "python",
   "pygments_lexer": "ipython3",
   "version": "3.10.12"
  }
 },
 "nbformat": 4,
 "nbformat_minor": 4
}
