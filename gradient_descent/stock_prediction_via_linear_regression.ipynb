{
 "cells": [
  {
   "cell_type": "code",
   "execution_count": 1,
   "metadata": {
    "execution": {
     "iopub.execute_input": "2024-02-05T19:00:54.167132Z",
     "iopub.status.busy": "2024-02-05T19:00:54.166494Z",
     "iopub.status.idle": "2024-02-05T19:00:54.170561Z",
     "shell.execute_reply": "2024-02-05T19:00:54.169063Z"
    }
   },
   "outputs": [],
   "source": [
    "#!/usr/bin/env python"
   ]
  },
  {
   "cell_type": "code",
   "execution_count": 2,
   "metadata": {
    "execution": {
     "iopub.execute_input": "2024-02-05T19:00:54.177644Z",
     "iopub.status.busy": "2024-02-05T19:00:54.177081Z",
     "iopub.status.idle": "2024-02-05T19:00:54.621819Z",
     "shell.execute_reply": "2024-02-05T19:00:54.621479Z"
    }
   },
   "outputs": [],
   "source": [
    "import numpy as np\n",
    "from numpy import ones\n",
    "import matplotlib.pyplot as plt\n",
    "from sklearn.linear_model import LinearRegression\n",
    "from sklearn import preprocessing\n",
    "from numpy import genfromtxt\n",
    "from numpy import mean\n",
    "from numpy.random import randn\n",
    "import sys"
   ]
  },
  {
   "cell_type": "markdown",
   "metadata": {},
   "source": [
    "these make printing nicer"
   ]
  },
  {
   "cell_type": "code",
   "execution_count": 3,
   "metadata": {
    "execution": {
     "iopub.execute_input": "2024-02-05T19:00:54.623883Z",
     "iopub.status.busy": "2024-02-05T19:00:54.623383Z",
     "iopub.status.idle": "2024-02-05T19:00:54.625885Z",
     "shell.execute_reply": "2024-02-05T19:00:54.625559Z"
    }
   },
   "outputs": [],
   "source": [
    "np.set_printoptions(precision=4)\n",
    "np.set_printoptions(threshold=30)\n",
    "np.set_printoptions(linewidth=300)\n",
    "np.set_printoptions(suppress=True)\n",
    "np.set_printoptions(threshold=sys.maxsize)"
   ]
  },
  {
   "cell_type": "code",
   "execution_count": 4,
   "metadata": {
    "execution": {
     "iopub.execute_input": "2024-02-05T19:00:54.627162Z",
     "iopub.status.busy": "2024-02-05T19:00:54.627000Z",
     "iopub.status.idle": "2024-02-05T19:00:54.630327Z",
     "shell.execute_reply": "2024-02-05T19:00:54.630059Z"
    }
   },
   "outputs": [],
   "source": [
    "X = genfromtxt('stock_prediction_data.csv', delimiter=',')\n",
    "X = preprocessing.scale(X)\n",
    "n = X.shape[0]\n",
    "η = 0.01"
   ]
  },
  {
   "cell_type": "code",
   "execution_count": 5,
   "metadata": {
    "execution": {
     "iopub.execute_input": "2024-02-05T19:00:54.631618Z",
     "iopub.status.busy": "2024-02-05T19:00:54.631492Z",
     "iopub.status.idle": "2024-02-05T19:00:54.633612Z",
     "shell.execute_reply": "2024-02-05T19:00:54.633384Z"
    }
   },
   "outputs": [],
   "source": [
    "y = genfromtxt('stock_price.csv', delimiter=',')\n",
    "y = np.reshape(y, (n,1))"
   ]
  },
  {
   "cell_type": "code",
   "execution_count": 6,
   "metadata": {
    "execution": {
     "iopub.execute_input": "2024-02-05T19:00:54.634945Z",
     "iopub.status.busy": "2024-02-05T19:00:54.634765Z",
     "iopub.status.idle": "2024-02-05T19:00:54.636804Z",
     "shell.execute_reply": "2024-02-05T19:00:54.636513Z"
    }
   },
   "outputs": [],
   "source": [
    "Ⅱ = ones((n,1))\t# this is a column vector of 1s\n",
    "Φ = np.hstack((X,Ⅱ))\n",
    "d = Φ.shape[1]\n",
    "w = randn(d,1)"
   ]
  },
  {
   "cell_type": "markdown",
   "metadata": {},
   "source": [
    "The function we are trying to minimize is<br>\n",
    "$$\\min_w \\; f(x) = \\frac{1}{n} \\; \\sum_i^n \\; (w^{\\top} \\phi(x_i) - y_i)^2$$"
   ]
  },
  {
   "cell_type": "code",
   "execution_count": 7,
   "metadata": {
    "execution": {
     "iopub.execute_input": "2024-02-05T19:00:54.638233Z",
     "iopub.status.busy": "2024-02-05T19:00:54.638070Z",
     "iopub.status.idle": "2024-02-05T19:00:54.640309Z",
     "shell.execute_reply": "2024-02-05T19:00:54.640018Z"
    }
   },
   "outputs": [],
   "source": [
    "def f(w):\n",
    "\tfₒ = 0\t\t\t\t\t\t# function output\n",
    "\tfor ϕᵢ, yᵢ in zip(Φ,y):\n",
    "\t\tϕᵢ = np.reshape(ϕᵢ, (d,1))\t\t# make sure the ϕᵢ is in column format\n",
    "\t\tfₒ += (w.T.dot(ϕᵢ) - yᵢ)**2\n",
    "\treturn ((1/n)*fₒ).item()\t# this is the mse\n",
    "#\t"
   ]
  },
  {
   "cell_type": "markdown",
   "metadata": {},
   "source": [
    "The equation for the gradient is <br>\n",
    "$$f'(x) = \\frac{2}{n} \\; \\sum_i^n \\; (w^{\\top} \\phi(x_i) - y_i) \\phi(x_i)$$<br>\n",
    "You can rewrite it into compact matrix vector form if you are good, note that $y$ is a column vector of all labels.<br>\n",
    "$$f'(x) = \\frac{2}{n} \\Phi^{\\top}(\\Phi w - y)$$<br>\n",
    "[The derivation can be found here](https://github.khoury.northeastern.edu/chieh/course_page/blob/main/4420/lecture_4/compact_regression_derivative_derivation.pdf)\t"
   ]
  },
  {
   "cell_type": "code",
   "execution_count": 8,
   "metadata": {
    "execution": {
     "iopub.execute_input": "2024-02-05T19:00:54.641581Z",
     "iopub.status.busy": "2024-02-05T19:00:54.641439Z",
     "iopub.status.idle": "2024-02-05T19:00:54.643833Z",
     "shell.execute_reply": "2024-02-05T19:00:54.643540Z"
    }
   },
   "outputs": [],
   "source": [
    "def ᐁf(w):\n",
    "\tadvanced_approach = False\n",
    "\tif advanced_approach:\n",
    "\t\treturn (2/n)*Φ.T.dot(Φ.dot(w) - y) # derivative in compact matrix form\n",
    "\telse:\n",
    "\t\tgrads = np.zeros((d, 1))\t\n",
    "\t\tfor ϕᵢ,yᵢ in zip(Φ,y):\t# loop through both x and y each sample\n",
    "\t\t\tϕᵢ = np.reshape(ϕᵢ, (d,1)) # make sure it is in column format\n",
    "\t\t\tgrads += (w.T.dot(ϕᵢ) - yᵢ)*ϕᵢ\n",
    "\treturn (2/n)*grads"
   ]
  },
  {
   "cell_type": "code",
   "execution_count": 9,
   "metadata": {
    "execution": {
     "iopub.execute_input": "2024-02-05T19:00:54.645178Z",
     "iopub.status.busy": "2024-02-05T19:00:54.644942Z",
     "iopub.status.idle": "2024-02-05T19:00:55.004521Z",
     "shell.execute_reply": "2024-02-05T19:00:55.004193Z"
    }
   },
   "outputs": [],
   "source": [
    "mse_list = []\n",
    "for i in range(200):\n",
    "\tw = w - η*ᐁf(w)\t\t\t\t# gradient descent update w\n",
    "\tmse_list.append(f(w))"
   ]
  },
  {
   "cell_type": "code",
   "execution_count": 10,
   "metadata": {
    "execution": {
     "iopub.execute_input": "2024-02-05T19:00:55.006013Z",
     "iopub.status.busy": "2024-02-05T19:00:55.005895Z",
     "iopub.status.idle": "2024-02-05T19:00:55.085436Z",
     "shell.execute_reply": "2024-02-05T19:00:55.085090Z"
    }
   },
   "outputs": [
    {
     "data": {
      "image/png": "[encoded data removed]",
      "text/plain": [
       "<Figure size 640x480 with 1 Axes>"
      ]
     },
     "metadata": {},
     "output_type": "display_data"
    }
   ],
   "source": [
    "plt.plot(mse_list)\n",
    "plt.title('MSE over GD')\n",
    "plt.xlabel('steps')\n",
    "plt.ylabel('MSE')\n",
    "plt.show() \t\t\t\t\t\t# Display the plot"
   ]
  },
  {
   "cell_type": "markdown",
   "metadata": {},
   "source": [
    "my stock price change prediction"
   ]
  },
  {
   "cell_type": "code",
   "execution_count": 11,
   "metadata": {
    "execution": {
     "iopub.execute_input": "2024-02-05T19:00:55.103080Z",
     "iopub.status.busy": "2024-02-05T19:00:55.102940Z",
     "iopub.status.idle": "2024-02-05T19:00:55.105806Z",
     "shell.execute_reply": "2024-02-05T19:00:55.105497Z"
    }
   },
   "outputs": [
    {
     "name": "stdout",
     "output_type": "stream",
     "text": [
      "Side by side comparison ŷ vs y\n",
      "[[ -0.1776  -0.31  ]\n",
      " [-16.2978 -16.86  ]\n",
      " [  1.5081   1.36  ]\n",
      " [ 12.3821  12.75  ]\n",
      " [  7.6707   7.91  ]\n",
      " [ -2.9911  -2.75  ]\n",
      " [ -0.4365  -0.54  ]\n",
      " [-10.8726 -11.51  ]\n",
      " [ -4.163   -4.01  ]\n",
      " [  3.4171   3.08  ]\n",
      " [ -7.9627  -8.23  ]\n",
      " [ -0.0077  -0.14  ]\n",
      " [  2.1264   2.56  ]\n",
      " [ -6.8421  -6.87  ]\n",
      " [  4.4935   4.43  ]\n",
      " [  1.786    1.98  ]\n",
      " [  3.7326   3.76  ]\n",
      " [  3.9302   4.16  ]\n",
      " [  6.3672   6.67  ]\n",
      " [ -6.9501  -7.21  ]]\n"
     ]
    }
   ],
   "source": [
    "ŷ = Φ.dot(w)\n",
    "Y = np.hstack((ŷ, y))\n",
    "print('Side by side comparison ŷ vs y') \n",
    "print(Y[0:20,:])"
   ]
  }
 ],
 "metadata": {
  "kernelspec": {
   "display_name": "Python 3",
   "language": "python",
   "name": "python3"
  },
  "language_info": {
   "codemirror_mode": {
    "name": "ipython",
    "version": 3
   },
   "file_extension": ".py",
   "mimetype": "text/x-python",
   "name": "python",
   "nbconvert_exporter": "python",
   "pygments_lexer": "ipython3",
   "version": "3.10.12"
  }
 },
 "nbformat": 4,
 "nbformat_minor": 2
}
