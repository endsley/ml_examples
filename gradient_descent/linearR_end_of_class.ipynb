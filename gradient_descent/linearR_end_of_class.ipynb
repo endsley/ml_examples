{
 "cells": [
  {
   "cell_type": "code",
   "execution_count": 1,
   "metadata": {
    "execution": {
     "iopub.execute_input": "2024-01-25T20:05:07.968146Z",
     "iopub.status.busy": "2024-01-25T20:05:07.967241Z",
     "iopub.status.idle": "2024-01-25T20:05:07.976117Z",
     "shell.execute_reply": "2024-01-25T20:05:07.974621Z"
    }
   },
   "outputs": [],
   "source": [
    "#!/usr/bin/env python"
   ]
  },
  {
   "cell_type": "code",
   "execution_count": 2,
   "metadata": {
    "execution": {
     "iopub.execute_input": "2024-01-25T20:05:07.980547Z",
     "iopub.status.busy": "2024-01-25T20:05:07.980294Z",
     "iopub.status.idle": "2024-01-25T20:05:08.193361Z",
     "shell.execute_reply": "2024-01-25T20:05:08.193022Z"
    }
   },
   "outputs": [],
   "source": [
    "import numpy as np\n",
    "from numpy import ones\n",
    "from numpy import array\n",
    "import matplotlib.pyplot as plt\n",
    "from numpy import mean"
   ]
  },
  {
   "cell_type": "code",
   "execution_count": 3,
   "metadata": {
    "execution": {
     "iopub.execute_input": "2024-01-25T20:05:08.194917Z",
     "iopub.status.busy": "2024-01-25T20:05:08.194755Z",
     "iopub.status.idle": "2024-01-25T20:05:08.196793Z",
     "shell.execute_reply": "2024-01-25T20:05:08.196494Z"
    }
   },
   "outputs": [],
   "source": [
    "Φ = array([\t[1,1],\n",
    "\t\t\t[2,1],\n",
    "\t\t\t[2,1],\n",
    "\t\t\t[3,1]])"
   ]
  },
  {
   "cell_type": "code",
   "execution_count": 4,
   "metadata": {
    "execution": {
     "iopub.execute_input": "2024-01-25T20:05:08.197885Z",
     "iopub.status.busy": "2024-01-25T20:05:08.197785Z",
     "iopub.status.idle": "2024-01-25T20:05:08.199562Z",
     "shell.execute_reply": "2024-01-25T20:05:08.199194Z"
    }
   },
   "outputs": [],
   "source": [
    "n = Φ.shape[0]"
   ]
  },
  {
   "cell_type": "code",
   "execution_count": 5,
   "metadata": {
    "execution": {
     "iopub.execute_input": "2024-01-25T20:05:08.201147Z",
     "iopub.status.busy": "2024-01-25T20:05:08.200745Z",
     "iopub.status.idle": "2024-01-25T20:05:08.202610Z",
     "shell.execute_reply": "2024-01-25T20:05:08.202385Z"
    }
   },
   "outputs": [],
   "source": [
    "y = array([\t[1],\n",
    "\t\t\t[1],\n",
    "\t\t\t[2],\n",
    "\t\t\t[2]])"
   ]
  },
  {
   "cell_type": "code",
   "execution_count": 6,
   "metadata": {
    "execution": {
     "iopub.execute_input": "2024-01-25T20:05:08.204067Z",
     "iopub.status.busy": "2024-01-25T20:05:08.203738Z",
     "iopub.status.idle": "2024-01-25T20:05:08.205496Z",
     "shell.execute_reply": "2024-01-25T20:05:08.205268Z"
    }
   },
   "outputs": [],
   "source": [
    "w = array([[0],[1]]) \n",
    "η = 0.1"
   ]
  },
  {
   "cell_type": "markdown",
   "metadata": {},
   "source": [
    "The function we are trying to minimize is<br>\n",
    "$$\\min_w \\; f(x) = \\frac{1}{n} \\; \\sum_i^n \\; (w^{\\top} \\phi(x_i) - y_i)^2$$"
   ]
  },
  {
   "cell_type": "code",
   "execution_count": 7,
   "metadata": {
    "execution": {
     "iopub.execute_input": "2024-01-25T20:05:08.206678Z",
     "iopub.status.busy": "2024-01-25T20:05:08.206505Z",
     "iopub.status.idle": "2024-01-25T20:05:08.208503Z",
     "shell.execute_reply": "2024-01-25T20:05:08.208286Z"
    }
   },
   "outputs": [],
   "source": [
    "def f(w):\n",
    "\tfₒ = 0\t\t\t\t\t\t# function output\n",
    "\tfor ϕᵢ, yᵢ in zip(Φ,y):\n",
    "\t\tϕᵢ = np.reshape(ϕᵢ, (2,1))\n",
    "\t\tfₒ += (w.T.dot(ϕᵢ) - yᵢ)**2\n",
    "#\t\n",
    "\treturn ((1/n)*fₒ).item()\n",
    "#\t"
   ]
  },
  {
   "cell_type": "markdown",
   "metadata": {},
   "source": [
    "The equation for the gradient is <br>\n",
    "$$f'(x) = \\frac{2}{n} \\; \\sum_i^n \\; (w^{\\top} \\phi(x_i) - y_i) \\phi(x_i)$$"
   ]
  },
  {
   "cell_type": "code",
   "execution_count": 8,
   "metadata": {
    "execution": {
     "iopub.execute_input": "2024-01-25T20:05:08.209784Z",
     "iopub.status.busy": "2024-01-25T20:05:08.209602Z",
     "iopub.status.idle": "2024-01-25T20:05:08.211593Z",
     "shell.execute_reply": "2024-01-25T20:05:08.211371Z"
    }
   },
   "outputs": [],
   "source": [
    "def fᑊ(w):\n",
    "\tᐁf = np.zeros((2,1))\n",
    "\tfor ϕᵢ, yᵢ in zip(Φ,y):\n",
    "\t\tϕᵢ = np.reshape(ϕᵢ, (2,1))\n",
    "\t\tᐁf += (w.T.dot(ϕᵢ) - yᵢ)*ϕᵢ\n",
    "\treturn (2/n)*ᐁf"
   ]
  },
  {
   "cell_type": "code",
   "execution_count": 9,
   "metadata": {
    "execution": {
     "iopub.execute_input": "2024-01-25T20:05:08.212808Z",
     "iopub.status.busy": "2024-01-25T20:05:08.212636Z",
     "iopub.status.idle": "2024-01-25T20:05:08.229433Z",
     "shell.execute_reply": "2024-01-25T20:05:08.229117Z"
    }
   },
   "outputs": [],
   "source": [
    "f_value_list = []\n",
    "for i in range(400):\n",
    "\tw = w - η*fᑊ(w)\t\t\t\t# gradient descent update w\n",
    "\tf_value_list.append(f(w))"
   ]
  },
  {
   "cell_type": "code",
   "execution_count": 10,
   "metadata": {
    "execution": {
     "iopub.execute_input": "2024-01-25T20:05:08.230774Z",
     "iopub.status.busy": "2024-01-25T20:05:08.230579Z",
     "iopub.status.idle": "2024-01-25T20:05:08.232884Z",
     "shell.execute_reply": "2024-01-25T20:05:08.232651Z"
    }
   },
   "outputs": [
    {
     "name": "stdout",
     "output_type": "stream",
     "text": [
      "Best w = \n",
      " [[0.49984354]\n",
      " [0.5003448 ]]\n",
      "Predictions: \n",
      " [[1.00018834]\n",
      " [1.50003188]\n",
      " [1.50003188]\n",
      " [1.99987542]]\n"
     ]
    }
   ],
   "source": [
    "print('Best w = \\n', w)\n",
    "print('Predictions: \\n', Φ.dot(w))"
   ]
  },
  {
   "cell_type": "markdown",
   "metadata": {},
   "source": [
    "Get the points for the best fit line"
   ]
  },
  {
   "cell_type": "code",
   "execution_count": 11,
   "metadata": {
    "execution": {
     "iopub.execute_input": "2024-01-25T20:05:08.250264Z",
     "iopub.status.busy": "2024-01-25T20:05:08.250093Z",
     "iopub.status.idle": "2024-01-25T20:05:08.252248Z",
     "shell.execute_reply": "2024-01-25T20:05:08.251985Z"
    }
   },
   "outputs": [],
   "source": [
    "xp = np.linspace(0,4,10)\n",
    "fₓ = w[0]*xp + w[1]"
   ]
  },
  {
   "cell_type": "markdown",
   "metadata": {},
   "source": [
    "Draw the best fit line and the data out"
   ]
  },
  {
   "cell_type": "code",
   "execution_count": 12,
   "metadata": {
    "execution": {
     "iopub.execute_input": "2024-01-25T20:05:08.253937Z",
     "iopub.status.busy": "2024-01-25T20:05:08.253418Z",
     "iopub.status.idle": "2024-01-25T20:05:08.378841Z",
     "shell.execute_reply": "2024-01-25T20:05:08.378528Z"
    }
   },
   "outputs": [
    {
     "data": {
      "image/png": "[encoded data removed]",
      "text/plain": [
       "<Figure size 600x300 with 2 Axes>"
      ]
     },
     "metadata": {},
     "output_type": "display_data"
    }
   ],
   "source": [
    "plt.figure(figsize=(6,3))\n",
    "plt.subplot(121)\n",
    "plt.scatter(Φ[:,0], y, color='red')\n",
    "plt.plot(xp, fₓ)\n",
    "plt.xlim(0,3)\t# Show this region along x-axis\n",
    "plt.ylim(0,3)\t# Show this region along y-axis\n",
    "#\n",
    "# Display the error over GD\n",
    "plt.subplot(122)\n",
    "plt.plot(f_value_list)\n",
    "plt.title('MSE over GD')\n",
    "plt.xlabel('steps')\n",
    "plt.ylabel('MSE')\n",
    "plt.tight_layout()\n",
    "plt.show()"
   ]
  }
 ],
 "metadata": {
  "kernelspec": {
   "display_name": "Python 3 (ipykernel)",
   "language": "python",
   "name": "python3"
  },
  "language_info": {
   "codemirror_mode": {
    "name": "ipython",
    "version": 3
   },
   "file_extension": ".py",
   "mimetype": "text/x-python",
   "name": "python",
   "nbconvert_exporter": "python",
   "pygments_lexer": "ipython3",
   "version": "3.10.12"
  }
 },
 "nbformat": 4,
 "nbformat_minor": 4
}
