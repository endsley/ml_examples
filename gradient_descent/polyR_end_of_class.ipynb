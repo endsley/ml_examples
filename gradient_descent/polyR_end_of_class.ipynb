{
 "cells": [
  {
   "cell_type": "code",
   "execution_count": 1,
   "metadata": {
    "execution": {
     "iopub.execute_input": "2024-09-15T16:20:35.020737Z",
     "iopub.status.busy": "2024-09-15T16:20:35.020268Z",
     "iopub.status.idle": "2024-09-15T16:20:35.026111Z",
     "shell.execute_reply": "2024-09-15T16:20:35.025218Z"
    }
   },
   "outputs": [],
   "source": [
    "#!/usr/bin/env python"
   ]
  },
  {
   "cell_type": "code",
   "execution_count": 2,
   "metadata": {
    "execution": {
     "iopub.execute_input": "2024-09-15T16:20:35.030993Z",
     "iopub.status.busy": "2024-09-15T16:20:35.030772Z",
     "iopub.status.idle": "2024-09-15T16:20:35.479371Z",
     "shell.execute_reply": "2024-09-15T16:20:35.478605Z"
    }
   },
   "outputs": [],
   "source": [
    "import numpy as np\n",
    "from numpy import ones\n",
    "from numpy import array\n",
    "import matplotlib.pyplot as plt\n",
    "from numpy import mean"
   ]
  },
  {
   "cell_type": "code",
   "execution_count": 3,
   "metadata": {
    "execution": {
     "iopub.execute_input": "2024-09-15T16:20:35.484061Z",
     "iopub.status.busy": "2024-09-15T16:20:35.483897Z",
     "iopub.status.idle": "2024-09-15T16:20:35.487224Z",
     "shell.execute_reply": "2024-09-15T16:20:35.486508Z"
    }
   },
   "outputs": [],
   "source": [
    "Φ = array([\t[1, 1,1],\n",
    "\t\t\t[4, 2,1],\n",
    "\t\t\t[2.25, 1.5,1],\n",
    "\t\t\t[9, 3,1]])"
   ]
  },
  {
   "cell_type": "code",
   "execution_count": 4,
   "metadata": {
    "execution": {
     "iopub.execute_input": "2024-09-15T16:20:35.491517Z",
     "iopub.status.busy": "2024-09-15T16:20:35.491337Z",
     "iopub.status.idle": "2024-09-15T16:20:35.494381Z",
     "shell.execute_reply": "2024-09-15T16:20:35.493687Z"
    }
   },
   "outputs": [],
   "source": [
    "n = Φ.shape[0]\n",
    "d = Φ.shape[1]"
   ]
  },
  {
   "cell_type": "code",
   "execution_count": 5,
   "metadata": {
    "execution": {
     "iopub.execute_input": "2024-09-15T16:20:35.497448Z",
     "iopub.status.busy": "2024-09-15T16:20:35.497231Z",
     "iopub.status.idle": "2024-09-15T16:20:35.500639Z",
     "shell.execute_reply": "2024-09-15T16:20:35.499836Z"
    }
   },
   "outputs": [],
   "source": [
    "y = array([\t[1],\n",
    "\t\t\t[1],\n",
    "\t\t\t[0],\n",
    "\t\t\t[2]])"
   ]
  },
  {
   "cell_type": "code",
   "execution_count": 6,
   "metadata": {
    "execution": {
     "iopub.execute_input": "2024-09-15T16:20:35.503829Z",
     "iopub.status.busy": "2024-09-15T16:20:35.503612Z",
     "iopub.status.idle": "2024-09-15T16:20:35.507175Z",
     "shell.execute_reply": "2024-09-15T16:20:35.506343Z"
    }
   },
   "outputs": [],
   "source": [
    "w = array([[1],[1],[1]]) \n",
    "η = 0.01"
   ]
  },
  {
   "cell_type": "code",
   "execution_count": 7,
   "metadata": {
    "execution": {
     "iopub.execute_input": "2024-09-15T16:20:35.510712Z",
     "iopub.status.busy": "2024-09-15T16:20:35.510473Z",
     "iopub.status.idle": "2024-09-15T16:20:35.514508Z",
     "shell.execute_reply": "2024-09-15T16:20:35.513813Z"
    }
   },
   "outputs": [],
   "source": [
    "def f(w):\n",
    "\tε = Φ.dot(w) - y\t# error for each sample\n",
    "\tmse = (1/n)*ε.T.dot(ε)\t# average error squared\n",
    "\treturn mse.item()\t\t# make sure it is scalar\n",
    "#"
   ]
  },
  {
   "cell_type": "markdown",
   "metadata": {},
   "source": [
    "The equation for the gradient is <br>\n",
    "$$f'(x) = \\frac{2}{n} \\; \\sum_i^n \\; (w^{\\top} \\phi(x_i) - y_i) \\phi(x_i)$$<br>\n",
    "You can rewrite it into compact matrix vector form if you are good, note that $y$ is<br>\n",
    "a column vector of all labels.<br>\n",
    "The derivation can be found here:<br>\n",
    "https://github.com/endsley/ml_examples/blob/master/regression_examples/compact_regression_derivative_derivation.pdf<br>\n",
    "$$f'(x) = \\frac{2}{n} \\Phi^{\\top}(\\Phi w - y)$$<br>\n",
    "I wrote both version of the code below, try them both and see they are the same."
   ]
  },
  {
   "cell_type": "code",
   "execution_count": 8,
   "metadata": {
    "execution": {
     "iopub.execute_input": "2024-09-15T16:20:35.534498Z",
     "iopub.status.busy": "2024-09-15T16:20:35.534258Z",
     "iopub.status.idle": "2024-09-15T16:20:35.539350Z",
     "shell.execute_reply": "2024-09-15T16:20:35.538471Z"
    }
   },
   "outputs": [],
   "source": [
    "def fᑊ(w):\n",
    "\tᐁf = np.zeros((d,1))\n",
    "\tfor Φᵢ, yᵢ in zip(Φ,y):\n",
    "\t\tΦᵢ = np.reshape(Φᵢ, (d,1))\n",
    "\t\tᐁf += (w.T.dot(Φᵢ) - yᵢ)*Φᵢ\n",
    "\treturn (2/n)*ᐁf"
   ]
  },
  {
   "cell_type": "markdown",
   "metadata": {},
   "source": [
    "This is the compact derivative and the better version<br>\n",
    "# Comment out the other definition and notice this is the same<br>\n",
    "ef fᑊ(w): return (2/n)*Φ.T.dot(Φ.dot(w) - y)"
   ]
  },
  {
   "cell_type": "code",
   "execution_count": 9,
   "metadata": {
    "execution": {
     "iopub.execute_input": "2024-09-15T16:20:35.544506Z",
     "iopub.status.busy": "2024-09-15T16:20:35.544208Z",
     "iopub.status.idle": "2024-09-15T16:20:35.572050Z",
     "shell.execute_reply": "2024-09-15T16:20:35.571508Z"
    }
   },
   "outputs": [],
   "source": [
    "f_value_list = []\n",
    "for i in range(400):\n",
    "\tw = w - η*fᑊ(w)\t\t\t\t# gradient descent update w\n",
    "\tf_value_list.append(f(w))"
   ]
  },
  {
   "cell_type": "code",
   "execution_count": 10,
   "metadata": {
    "execution": {
     "iopub.execute_input": "2024-09-15T16:20:35.575967Z",
     "iopub.status.busy": "2024-09-15T16:20:35.575794Z",
     "iopub.status.idle": "2024-09-15T16:20:35.579795Z",
     "shell.execute_reply": "2024-09-15T16:20:35.579229Z"
    }
   },
   "outputs": [
    {
     "name": "stdout",
     "output_type": "stream",
     "text": [
      "Best w = \n",
      " [[ 0.20442337]\n",
      " [-0.07507173]\n",
      " [ 0.29942367]]\n",
      "Predictions: \n",
      " [[0.42877531]\n",
      " [0.96697369]\n",
      " [0.64676865]\n",
      " [1.91401882]]\n"
     ]
    }
   ],
   "source": [
    "print('Best w = \\n', w)\n",
    "print('Predictions: \\n', Φ.dot(w))"
   ]
  },
  {
   "cell_type": "markdown",
   "metadata": {},
   "source": [
    "Get the points for the best fit line"
   ]
  },
  {
   "cell_type": "code",
   "execution_count": 11,
   "metadata": {
    "execution": {
     "iopub.execute_input": "2024-09-15T16:20:35.628073Z",
     "iopub.status.busy": "2024-09-15T16:20:35.627802Z",
     "iopub.status.idle": "2024-09-15T16:20:35.632759Z",
     "shell.execute_reply": "2024-09-15T16:20:35.631865Z"
    }
   },
   "outputs": [],
   "source": [
    "xp = np.linspace(0,4,10)\n",
    "fₓ = w[0]*xp*xp + w[1]*xp + w[2]"
   ]
  },
  {
   "cell_type": "markdown",
   "metadata": {},
   "source": [
    "Draw the best fit line and the data out"
   ]
  },
  {
   "cell_type": "code",
   "execution_count": 12,
   "metadata": {
    "execution": {
     "iopub.execute_input": "2024-09-15T16:20:35.636606Z",
     "iopub.status.busy": "2024-09-15T16:20:35.636323Z",
     "iopub.status.idle": "2024-09-15T16:20:35.898357Z",
     "shell.execute_reply": "2024-09-15T16:20:35.897615Z"
    }
   },
   "outputs": [
    {
     "data": {
      "image/png": "[encoded data removed]",
      "text/plain": [
       "<Figure size 600x300 with 2 Axes>"
      ]
     },
     "metadata": {},
     "output_type": "display_data"
    }
   ],
   "source": [
    "plt.figure(figsize=(6,3))\n",
    "plt.subplot(121)\n",
    "plt.scatter(Φ[:,1], y, color='red')\n",
    "plt.plot(xp, fₓ)\n",
    "plt.xlim(-1,4)\t# Show this region along x-axis\n",
    "plt.ylim(-1,4)\t# Show this region along y-axis\n",
    "#\n",
    "# Display the error over GD\n",
    "plt.subplot(122)\n",
    "plt.plot(f_value_list)\n",
    "plt.title('MSE over GD')\n",
    "plt.xlabel('steps')\n",
    "plt.ylabel('MSE')\n",
    "plt.tight_layout()\n",
    "plt.show()"
   ]
  }
 ],
 "metadata": {
  "kernelspec": {
   "display_name": "Python 3",
   "language": "python",
   "name": "python3"
  },
  "language_info": {
   "codemirror_mode": {
    "name": "ipython",
    "version": 3
   },
   "file_extension": ".py",
   "mimetype": "text/x-python",
   "name": "python",
   "nbconvert_exporter": "python",
   "pygments_lexer": "ipython3",
   "version": "3.8.10"
  }
 },
 "nbformat": 4,
 "nbformat_minor": 2
}
