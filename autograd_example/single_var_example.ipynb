{
 "cells": [
  {
   "cell_type": "code",
   "execution_count": 1,
   "metadata": {
    "execution": {
     "iopub.execute_input": "2024-09-06T16:02:20.369067Z",
     "iopub.status.busy": "2024-09-06T16:02:20.368433Z",
     "iopub.status.idle": "2024-09-06T16:02:20.377296Z",
     "shell.execute_reply": "2024-09-06T16:02:20.375622Z"
    }
   },
   "outputs": [],
   "source": [
    "#!/usr/bin/env python\n",
    "# Automatically find the gradient of a function\n",
    "# Download the package at : https://github.com/HIPS/autograd"
   ]
  },
  {
   "cell_type": "code",
   "execution_count": 2,
   "metadata": {
    "execution": {
     "iopub.execute_input": "2024-09-06T16:02:20.384508Z",
     "iopub.status.busy": "2024-09-06T16:02:20.383992Z",
     "iopub.status.idle": "2024-09-06T16:02:20.453843Z",
     "shell.execute_reply": "2024-09-06T16:02:20.453425Z"
    }
   },
   "outputs": [],
   "source": [
    "import autograd.numpy as np\n",
    "from autograd.numpy import log as ln\n",
    "from autograd.numpy import exp\n",
    "from autograd import grad"
   ]
  },
  {
   "cell_type": "markdown",
   "metadata": {},
   "source": [
    "Given the function<br>\n",
    "$$f(x) = \\log_3(2x^2) - 2x e^{3x} + 2$$<br>\n",
    "The derivative should be<br>\n",
    "$$f'(x) = \\frac{2}{x \\ln{3}} - 2 e^{3x} - 6 x e^{3x} $$"
   ]
  },
  {
   "cell_type": "code",
   "execution_count": 3,
   "metadata": {
    "execution": {
     "iopub.execute_input": "2024-09-06T16:02:20.457091Z",
     "iopub.status.busy": "2024-09-06T16:02:20.456222Z",
     "iopub.status.idle": "2024-09-06T16:02:20.459723Z",
     "shell.execute_reply": "2024-09-06T16:02:20.459377Z"
    }
   },
   "outputs": [],
   "source": [
    "def f(x): \n",
    "\treturn ln(2*x*x)/ln(3) - 2*x*exp(3*x) + 2"
   ]
  },
  {
   "cell_type": "code",
   "execution_count": 4,
   "metadata": {
    "execution": {
     "iopub.execute_input": "2024-09-06T16:02:20.462358Z",
     "iopub.status.busy": "2024-09-06T16:02:20.461565Z",
     "iopub.status.idle": "2024-09-06T16:02:20.464876Z",
     "shell.execute_reply": "2024-09-06T16:02:20.464535Z"
    }
   },
   "outputs": [],
   "source": [
    "def ᐁf(x):\n",
    "\treturn 2/(x*ln(3)) - 2*exp(3*x) - 6*x*exp(3*x)"
   ]
  },
  {
   "cell_type": "code",
   "execution_count": 5,
   "metadata": {
    "execution": {
     "iopub.execute_input": "2024-09-06T16:02:20.467493Z",
     "iopub.status.busy": "2024-09-06T16:02:20.466721Z",
     "iopub.status.idle": "2024-09-06T16:02:20.469758Z",
     "shell.execute_reply": "2024-09-06T16:02:20.469419Z"
    }
   },
   "outputs": [],
   "source": [
    "auto_grad = grad(f)  # Automatically obtain the gradient function"
   ]
  },
  {
   "cell_type": "code",
   "execution_count": 6,
   "metadata": {
    "execution": {
     "iopub.execute_input": "2024-09-06T16:02:20.472397Z",
     "iopub.status.busy": "2024-09-06T16:02:20.471617Z",
     "iopub.status.idle": "2024-09-06T16:02:20.491355Z",
     "shell.execute_reply": "2024-09-06T16:02:20.490993Z"
    }
   },
   "outputs": [
    {
     "name": "stdout",
     "output_type": "stream",
     "text": [
      "Auto ᐁf : -77.003, Theoretical ᐁf -77.003\n",
      "Auto ᐁf : -39.386, Theoretical ᐁf -39.386\n",
      "Auto ᐁf : -11.984, Theoretical ᐁf -11.984\n",
      "Auto ᐁf : 110.630, Theoretical ᐁf 110.630\n",
      "Auto ᐁf : -5.807, Theoretical ᐁf -5.807\n",
      "Auto ᐁf : -142.286, Theoretical ᐁf -142.286\n",
      "Auto ᐁf : -2.448, Theoretical ᐁf -2.448\n",
      "Auto ᐁf : -256.766, Theoretical ᐁf -256.766\n",
      "Auto ᐁf : -19.906, Theoretical ᐁf -19.906\n",
      "Auto ᐁf : -1.277, Theoretical ᐁf -1.277\n"
     ]
    }
   ],
   "source": [
    "for i in range(10):\n",
    "\tx = np.random.randn()\n",
    "\tprint('Auto ᐁf : %.3f, Theoretical ᐁf %.3f'%(auto_grad(x), ᐁf(x)))"
   ]
  }
 ],
 "metadata": {
  "kernelspec": {
   "display_name": "Python 3",
   "language": "python",
   "name": "python3"
  },
  "language_info": {
   "codemirror_mode": {
    "name": "ipython",
    "version": 3
   },
   "file_extension": ".py",
   "mimetype": "text/x-python",
   "name": "python",
   "nbconvert_exporter": "python",
   "pygments_lexer": "ipython3",
   "version": "3.10.12"
  }
 },
 "nbformat": 4,
 "nbformat_minor": 2
}
