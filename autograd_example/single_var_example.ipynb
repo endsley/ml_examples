{
 "cells": [
  {
   "cell_type": "code",
   "execution_count": 1,
   "metadata": {
    "execution": {
     "iopub.execute_input": "2024-01-03T16:34:23.639714Z",
     "iopub.status.busy": "2024-01-03T16:34:23.639226Z",
     "iopub.status.idle": "2024-01-03T16:34:23.800715Z",
     "shell.execute_reply": "2024-01-03T16:34:23.799976Z"
    }
   },
   "outputs": [],
   "source": [
    "#!/usr/bin/env python\n",
    "# Automatically find the gradient of a function\n",
    "# Download the package at : https://github.com/HIPS/autograd\n",
    "import autograd.numpy as np\n",
    "from autograd.numpy import log\n",
    "from autograd.numpy import exp\n",
    "from autograd import grad"
   ]
  },
  {
   "cell_type": "markdown",
   "metadata": {},
   "source": [
    "Given the function<br>\n",
    "$$f(x) = \\log_3(2x^2) - 2x e^{3x} + 2$$<br>\n",
    "The derivative should be<br>\n",
    "$$f'(x) = \\frac{2}{x \\ln{3}} - 2 e^{3x} - 6 x e^{3x} $$<br>\n"
   ]
  },
  {
   "cell_type": "code",
   "execution_count": 2,
   "metadata": {
    "execution": {
     "iopub.execute_input": "2024-01-03T16:34:23.805309Z",
     "iopub.status.busy": "2024-01-03T16:34:23.805094Z",
     "iopub.status.idle": "2024-01-03T16:34:23.816963Z",
     "shell.execute_reply": "2024-01-03T16:34:23.816032Z"
    }
   },
   "outputs": [
    {
     "name": "stdout",
     "output_type": "stream",
     "text": [
      "Auto ᐁf : -4.946, Theoretical ᐁf -4.946\n",
      "Auto ᐁf : -13.007, Theoretical ᐁf -13.007\n",
      "Auto ᐁf : -6.007, Theoretical ᐁf -6.007\n",
      "Auto ᐁf : -0.974, Theoretical ᐁf -0.974\n",
      "Auto ᐁf : -2.505, Theoretical ᐁf -2.505\n",
      "Auto ᐁf : -1.204, Theoretical ᐁf -1.204\n",
      "Auto ᐁf : -1024.855, Theoretical ᐁf -1024.855\n",
      "Auto ᐁf : -2.532, Theoretical ᐁf -2.532\n",
      "Auto ᐁf : -239.588, Theoretical ᐁf -239.588\n",
      "Auto ᐁf : -118.335, Theoretical ᐁf -118.335\n"
     ]
    }
   ],
   "source": [
    "def f(x): \n",
    "\treturn log(2*x*x)/log(3) - 2*x*exp(3*x) + 2\n",
    "\n",
    "def ᐁf(x):\n",
    "\treturn 2/(x*log(3)) - 2*exp(3*x) - 6*x*exp(3*x)\n",
    "\n",
    "auto_grad = grad(f)  # Automatically obtain the gradient function\n",
    "\n",
    "for i in range(10):\n",
    "\tx = np.random.randn()\n",
    "\tprint('Auto ᐁf : %.3f, Theoretical ᐁf %.3f'%(auto_grad(x), ᐁf(x)))"
   ]
  },
  {
   "cell_type": "markdown",
   "metadata": {},
   "source": []
  }
 ],
 "metadata": {
  "kernelspec": {
   "display_name": "Python 3",
   "language": "python",
   "name": "python3"
  },
  "language_info": {
   "codemirror_mode": {
    "name": "ipython",
    "version": 3
   },
   "file_extension": ".py",
   "mimetype": "text/x-python",
   "name": "python",
   "nbconvert_exporter": "python",
   "pygments_lexer": "ipython3",
   "version": "3.8.10"
  }
 },
 "nbformat": 4,
 "nbformat_minor": 2
}
