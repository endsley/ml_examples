{
 "cells": [
  {
   "cell_type": "code",
   "execution_count": 16,
   "metadata": {
    "execution": {
     "iopub.execute_input": "2023-08-16T16:06:37.443928Z",
     "iopub.status.busy": "2023-08-16T16:06:37.443454Z",
     "iopub.status.idle": "2023-08-16T16:06:37.590352Z",
     "shell.execute_reply": "2023-08-16T16:06:37.589643Z"
    }
   },
   "outputs": [],
   "source": [
    "import autograd.numpy as np\n",
    "from autograd import grad"
   ]
  },
  {
   "cell_type": "code",
   "execution_count": 17,
   "metadata": {
    "execution": {
     "iopub.execute_input": "2023-08-16T16:06:37.593471Z",
     "iopub.status.busy": "2023-08-16T16:06:37.593303Z",
     "iopub.status.idle": "2023-08-16T16:06:37.601700Z",
     "shell.execute_reply": "2023-08-16T16:06:37.600993Z"
    }
   },
   "outputs": [
    {
     "name": "stdout",
     "output_type": "stream",
     "text": [
      "w.dot(x) = 1.201\n",
      "Autogen Gradient : \n",
      " [[-0.53292822]\n",
      " [ 0.70579309]] \n",
      "\n",
      "Theoretical Gradient : \n",
      " [[-0.53292822]\n",
      " [ 0.70579309]] \n",
      "\n",
      "\n",
      "w.dot(x) = -0.021\n",
      "Autogen Gradient : \n",
      " [[0.]\n",
      " [0.]] \n",
      "\n",
      "Theoretical Gradient : \n",
      " 0 \n",
      "\n",
      "\n",
      "w.dot(x) = -0.139\n",
      "Autogen Gradient : \n",
      " [[0.]\n",
      " [0.]] \n",
      "\n",
      "Theoretical Gradient : \n",
      " 0 \n",
      "\n",
      "\n"
     ]
    }
   ],
   "source": [
    "def relu(w, x): \n",
    "\tv = np.dot(np.transpose(w),x)\n",
    "\treturn np.maximum(0, v)\n",
    "\n",
    "def grad_relu(w,x):\n",
    "\tif w.T.dot(x) > 0:\n",
    "\t\treturn x\n",
    "\telse:\n",
    "\t\treturn 0\n",
    "for i in range(3):\n",
    "\t#\tInitial setup\n",
    "\tx = np.random.randn(2,1)\n",
    "\tw = np.random.randn(2,1)\n",
    "\t\n",
    "\tgrad_foo = grad(relu)       # Obtain its gradient function\n",
    "\tprint('w.dot(x) = %.3f'%x.T.dot(w))\n",
    "\tprint('Autogen Gradient : \\n', grad_foo(w,x), '\\n')\n",
    "\tprint('Theoretical Gradient : \\n', grad_relu(w,x), '\\n\\n')"
   ]
  }
 ],
 "metadata": {
  "kernelspec": {
   "display_name": "Python 3",
   "language": "python",
   "name": "python3"
  },
  "language_info": {
   "codemirror_mode": {
    "name": "ipython",
    "version": 3
   },
   "file_extension": ".py",
   "mimetype": "text/x-python",
   "name": "python",
   "nbconvert_exporter": "python",
   "pygments_lexer": "ipython3",
   "version": "3.8.10"
  }
 },
 "nbformat": 4,
 "nbformat_minor": 2
}
