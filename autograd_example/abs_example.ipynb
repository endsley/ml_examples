{
 "cells": [
  {
   "cell_type": "code",
   "execution_count": 1,
   "metadata": {
    "execution": {
     "iopub.execute_input": "2024-11-24T15:31:01.442729Z",
     "iopub.status.busy": "2024-11-24T15:31:01.442262Z",
     "iopub.status.idle": "2024-11-24T15:31:01.447358Z",
     "shell.execute_reply": "2024-11-24T15:31:01.446593Z"
    }
   },
   "outputs": [],
   "source": [
    "#!/usr/bin/env python\n",
    "# Automatically find the gradient of a function\n",
    "# Download the package at : https://github.com/HIPS/autograd"
   ]
  },
  {
   "cell_type": "code",
   "execution_count": 2,
   "metadata": {
    "execution": {
     "iopub.execute_input": "2024-11-24T15:31:01.450707Z",
     "iopub.status.busy": "2024-11-24T15:31:01.450486Z",
     "iopub.status.idle": "2024-11-24T15:31:01.590439Z",
     "shell.execute_reply": "2024-11-24T15:31:01.589772Z"
    }
   },
   "outputs": [],
   "source": [
    "import autograd.numpy as np\n",
    "from autograd import grad"
   ]
  },
  {
   "cell_type": "markdown",
   "metadata": {},
   "source": [
    "Given the function<br>\n",
    "$$f(x) = ||W x||_1$$<br>\n",
    "$$W = \\begin{bmatrix} 2 & 3 \\\\ 1 & 4\\end{bmatrix}, \\quad x = \\begin{bmatrix} x_1 \\\\ x_2 \\end{bmatrix}$$<br>\n",
    "The derivative is <br>\n",
    "$$ f'(x) = W^{\\top} Sign(Wx) $$<br>\n",
    "The derivative is from the following<br>\n",
    "$$ f(x) = \\left| \\left| \\begin{bmatrix} 2 & 3 \\\\ 1 & 4\\end{bmatrix}\\begin{bmatrix} x_1 \\\\ x_2 \\end{bmatrix} \\right| \\right| = |2x_1 + 3x_2| + |x_1 + 4x_2|$$<br>\n",
    "$$ \\frac{df}{dx} = \\begin{bmatrix} 2 sign(2x_1 + 3x_2) + sign(x_1 + 4x_2) \\\\ 3 sign(2x_1 + 3x_2) + 4 sign(x_1 + 4x_2) \\end{bmatrix} $$<br>\n",
    "$$ \\frac{df}{dx} = \\begin{bmatrix} 2 & 1 \\\\ 3 & 4\\end{bmatrix}\\begin{bmatrix} sign(2x_1 + 3x_2) \\\\ sign(x_1 + 4x_2 \\end{bmatrix} = W^{\\top} sign(Wx) $$"
   ]
  },
  {
   "cell_type": "code",
   "execution_count": 3,
   "metadata": {
    "execution": {
     "iopub.execute_input": "2024-11-24T15:31:01.593840Z",
     "iopub.status.busy": "2024-11-24T15:31:01.593671Z",
     "iopub.status.idle": "2024-11-24T15:31:01.596903Z",
     "shell.execute_reply": "2024-11-24T15:31:01.596437Z"
    }
   },
   "outputs": [],
   "source": [
    "title = np.array([['fᑊ', 'ߜf']])\n",
    "W = np.array([[2,3],[1,4]])\n",
    "x = np.random.randn(2,1)"
   ]
  },
  {
   "cell_type": "code",
   "execution_count": 4,
   "metadata": {
    "execution": {
     "iopub.execute_input": "2024-11-24T15:31:01.599981Z",
     "iopub.status.busy": "2024-11-24T15:31:01.599830Z",
     "iopub.status.idle": "2024-11-24T15:31:01.602504Z",
     "shell.execute_reply": "2024-11-24T15:31:01.601888Z"
    }
   },
   "outputs": [],
   "source": [
    "def f(x): \n",
    "\treturn np.linalg.norm(W.dot(x), ord=1)"
   ]
  },
  {
   "cell_type": "code",
   "execution_count": 5,
   "metadata": {
    "execution": {
     "iopub.execute_input": "2024-11-24T15:31:01.605110Z",
     "iopub.status.busy": "2024-11-24T15:31:01.604951Z",
     "iopub.status.idle": "2024-11-24T15:31:01.607719Z",
     "shell.execute_reply": "2024-11-24T15:31:01.607064Z"
    }
   },
   "outputs": [],
   "source": [
    "def ߜf(x):\n",
    "\treturn W.T.dot(np.sign(W.dot(x)))"
   ]
  },
  {
   "cell_type": "code",
   "execution_count": 6,
   "metadata": {
    "execution": {
     "iopub.execute_input": "2024-11-24T15:31:01.610488Z",
     "iopub.status.busy": "2024-11-24T15:31:01.610289Z",
     "iopub.status.idle": "2024-11-24T15:31:01.613278Z",
     "shell.execute_reply": "2024-11-24T15:31:01.612599Z"
    }
   },
   "outputs": [],
   "source": [
    "fᑊ = grad(f)       # Obtain its gradient function"
   ]
  },
  {
   "cell_type": "code",
   "execution_count": 7,
   "metadata": {
    "execution": {
     "iopub.execute_input": "2024-11-24T15:31:01.616134Z",
     "iopub.status.busy": "2024-11-24T15:31:01.615926Z",
     "iopub.status.idle": "2024-11-24T15:31:01.631539Z",
     "shell.execute_reply": "2024-11-24T15:31:01.630923Z"
    }
   },
   "outputs": [
    {
     "name": "stdout",
     "output_type": "stream",
     "text": [
      "[['fᑊ' 'ߜf']\n",
      " ['3.0' '3.0']\n",
      " ['7.0' '7.0']] \n",
      "\n",
      "[['fᑊ' 'ߜf']\n",
      " ['3.0' '3.0']\n",
      " ['7.0' '7.0']] \n",
      "\n",
      "[['fᑊ' 'ߜf']\n",
      " ['3.0' '3.0']\n",
      " ['7.0' '7.0']] \n",
      "\n",
      "[['fᑊ' 'ߜf']\n",
      " ['3.0' '3.0']\n",
      " ['7.0' '7.0']] \n",
      "\n",
      "[['fᑊ' 'ߜf']\n",
      " ['-3.0' '-3.0']\n",
      " ['-7.0' '-7.0']] \n",
      "\n",
      "[['fᑊ' 'ߜf']\n",
      " ['3.0' '3.0']\n",
      " ['7.0' '7.0']] \n",
      "\n",
      "[['fᑊ' 'ߜf']\n",
      " ['3.0' '3.0']\n",
      " ['7.0' '7.0']] \n",
      "\n",
      "[['fᑊ' 'ߜf']\n",
      " ['-3.0' '-3.0']\n",
      " ['-7.0' '-7.0']] \n",
      "\n",
      "[['fᑊ' 'ߜf']\n",
      " ['-3.0' '-3.0']\n",
      " ['-7.0' '-7.0']] \n",
      "\n",
      "[['fᑊ' 'ߜf']\n",
      " ['-1.0' '-1.0']\n",
      " ['1.0' '1.0']] \n",
      "\n"
     ]
    }
   ],
   "source": [
    "for i in range(10):\n",
    "\tx = np.random.randn(2,1)\n",
    "\tprint(np.vstack((title, np.hstack((\tfᑊ(x), ߜf(x))))), '\\n')"
   ]
  }
 ],
 "metadata": {
  "kernelspec": {
   "display_name": "Python 3",
   "language": "python",
   "name": "python3"
  },
  "language_info": {
   "codemirror_mode": {
    "name": "ipython",
    "version": 3
   },
   "file_extension": ".py",
   "mimetype": "text/x-python",
   "name": "python",
   "nbconvert_exporter": "python",
   "pygments_lexer": "ipython3",
   "version": "3.8.10"
  }
 },
 "nbformat": 4,
 "nbformat_minor": 2
}
