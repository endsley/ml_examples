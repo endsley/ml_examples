{
 "cells": [
  {
   "cell_type": "code",
   "execution_count": 1,
   "metadata": {
    "execution": {
     "iopub.execute_input": "2024-01-28T19:36:17.584037Z",
     "iopub.status.busy": "2024-01-28T19:36:17.583719Z",
     "iopub.status.idle": "2024-01-28T19:36:17.588532Z",
     "shell.execute_reply": "2024-01-28T19:36:17.587485Z"
    }
   },
   "outputs": [],
   "source": [
    "#!/usr/bin/env python"
   ]
  },
  {
   "cell_type": "code",
   "execution_count": 2,
   "metadata": {
    "execution": {
     "iopub.execute_input": "2024-01-28T19:36:17.593427Z",
     "iopub.status.busy": "2024-01-28T19:36:17.593139Z",
     "iopub.status.idle": "2024-01-28T19:36:18.374500Z",
     "shell.execute_reply": "2024-01-28T19:36:18.373572Z"
    }
   },
   "outputs": [],
   "source": [
    "import matplotlib.pyplot as plt\n",
    "import numpy as np\n",
    "from scipy.stats import expon\n",
    "from numpy import exp as ē\n",
    "from numpy import sum as Σ\n",
    "from numpy import array\n",
    "from numpy import log as ln\n",
    "from numpy import genfromtxt\n",
    "from numpy import mean"
   ]
  },
  {
   "cell_type": "code",
   "execution_count": 3,
   "metadata": {
    "execution": {
     "iopub.execute_input": "2024-01-28T19:36:18.378234Z",
     "iopub.status.busy": "2024-01-28T19:36:18.378053Z",
     "iopub.status.idle": "2024-01-28T19:36:18.383852Z",
     "shell.execute_reply": "2024-01-28T19:36:18.383223Z"
    }
   },
   "outputs": [],
   "source": [
    "X = genfromtxt('time_until_phone_drop.csv', delimiter=',')\n",
    "n = X.shape[0]\n",
    "μ = mean(X)"
   ]
  },
  {
   "cell_type": "code",
   "execution_count": 4,
   "metadata": {
    "execution": {
     "iopub.execute_input": "2024-01-28T19:36:18.387326Z",
     "iopub.status.busy": "2024-01-28T19:36:18.387151Z",
     "iopub.status.idle": "2024-01-28T19:36:18.390232Z",
     "shell.execute_reply": "2024-01-28T19:36:18.389580Z"
    }
   },
   "outputs": [],
   "source": [
    "def ln_p(θ): # the log likelihood of joint\n",
    "\treturn n*ln(θ) - θ*Σ(X)"
   ]
  },
  {
   "cell_type": "code",
   "execution_count": 5,
   "metadata": {
    "execution": {
     "iopub.execute_input": "2024-01-28T19:36:18.393071Z",
     "iopub.status.busy": "2024-01-28T19:36:18.392890Z",
     "iopub.status.idle": "2024-01-28T19:36:18.396052Z",
     "shell.execute_reply": "2024-01-28T19:36:18.395315Z"
    }
   },
   "outputs": [],
   "source": [
    "def ᐁln_p(θ): # derivative of the log likelihood \n",
    "\treturn (n/θ - Σ(X))"
   ]
  },
  {
   "cell_type": "code",
   "execution_count": 6,
   "metadata": {
    "execution": {
     "iopub.execute_input": "2024-01-28T19:36:18.399113Z",
     "iopub.status.busy": "2024-01-28T19:36:18.398894Z",
     "iopub.status.idle": "2024-01-28T19:36:18.402071Z",
     "shell.execute_reply": "2024-01-28T19:36:18.401392Z"
    }
   },
   "outputs": [],
   "source": [
    "θ = 2\n",
    "η = 0.0001"
   ]
  },
  {
   "cell_type": "code",
   "execution_count": 7,
   "metadata": {
    "execution": {
     "iopub.execute_input": "2024-01-28T19:36:18.405199Z",
     "iopub.status.busy": "2024-01-28T19:36:18.404981Z",
     "iopub.status.idle": "2024-01-28T19:36:18.409694Z",
     "shell.execute_reply": "2024-01-28T19:36:18.409043Z"
    }
   },
   "outputs": [],
   "source": [
    "for i in range(100):\n",
    "\tθ = θ + η*ᐁln_p(θ)"
   ]
  },
  {
   "cell_type": "code",
   "execution_count": 8,
   "metadata": {
    "execution": {
     "iopub.execute_input": "2024-01-28T19:36:18.412988Z",
     "iopub.status.busy": "2024-01-28T19:36:18.412748Z",
     "iopub.status.idle": "2024-01-28T19:36:18.418695Z",
     "shell.execute_reply": "2024-01-28T19:36:18.417961Z"
    }
   },
   "outputs": [
    {
     "name": "stdout",
     "output_type": "stream",
     "text": [
      "Using the mean method, the best θ = 1/μ = 1.118\n",
      "Using Maximum Likelihood, the best θ = 1.119\n",
      "Probability of drop phone within 2 years 0.893\n",
      "Time until 90 percent of the population dropped their phone 2.059\n"
     ]
    }
   ],
   "source": [
    "print('Using the mean method, the best θ = 1/μ = %.3f'%(1/μ))\n",
    "print('Using Maximum Likelihood, the best θ = %.3f'%θ)\n",
    "print('Probability of drop phone within 2 years %.3f'%expon.cdf(2, 0, μ))\n",
    "print('Time until 90 percent of the population dropped their phone %.3f'%expon.ppf(0.9, 0, μ))"
   ]
  },
  {
   "cell_type": "markdown",
   "metadata": {},
   "source": [
    "draw the histogram and the line"
   ]
  },
  {
   "cell_type": "code",
   "execution_count": 9,
   "metadata": {
    "execution": {
     "iopub.execute_input": "2024-01-28T19:36:18.494448Z",
     "iopub.status.busy": "2024-01-28T19:36:18.494130Z",
     "iopub.status.idle": "2024-01-28T19:36:18.812555Z",
     "shell.execute_reply": "2024-01-28T19:36:18.811634Z"
    }
   },
   "outputs": [
    {
     "data": {
      "image/png": "[encoded data removed]",
      "text/plain": [
       "<Figure size 640x480 with 1 Axes>"
      ]
     },
     "metadata": {},
     "output_type": "display_data"
    }
   ],
   "source": [
    "plt.hist(X, bins=50, density=True, color='skyblue', edgecolor='black')\n",
    "x = np.linspace(0,15, 100)\n",
    "y = θ*ē(-θ*x)\n",
    "plt.plot(x, y, color='red', linewidth=2)\n",
    "plt.show()"
   ]
  }
 ],
 "metadata": {
  "kernelspec": {
   "display_name": "Python 3",
   "language": "python",
   "name": "python3"
  },
  "language_info": {
   "codemirror_mode": {
    "name": "ipython",
    "version": 3
   },
   "file_extension": ".py",
   "mimetype": "text/x-python",
   "name": "python",
   "nbconvert_exporter": "python",
   "pygments_lexer": "ipython3",
   "version": "3.8.10"
  }
 },
 "nbformat": 4,
 "nbformat_minor": 2
}
