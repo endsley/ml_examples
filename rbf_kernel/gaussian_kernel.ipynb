{
 "cells": [
  {
   "cell_type": "code",
   "execution_count": 1,
   "metadata": {
    "execution": {
     "iopub.execute_input": "2024-11-20T23:29:38.850352Z",
     "iopub.status.busy": "2024-11-20T23:29:38.849862Z",
     "iopub.status.idle": "2024-11-20T23:29:38.855867Z",
     "shell.execute_reply": "2024-11-20T23:29:38.854826Z"
    }
   },
   "outputs": [],
   "source": [
    "#!/usr/bin/env python"
   ]
  },
  {
   "cell_type": "code",
   "execution_count": 2,
   "metadata": {
    "execution": {
     "iopub.execute_input": "2024-11-20T23:29:38.859784Z",
     "iopub.status.busy": "2024-11-20T23:29:38.859550Z",
     "iopub.status.idle": "2024-11-20T23:29:39.355288Z",
     "shell.execute_reply": "2024-11-20T23:29:39.354570Z"
    }
   },
   "outputs": [],
   "source": [
    "from sklearn.metrics.pairwise import rbf_kernel\n",
    "import numpy as np\n",
    "from numpy import exp as e\n",
    "from numpy import zeros, array, reshape"
   ]
  },
  {
   "cell_type": "markdown",
   "metadata": {},
   "source": [
    "Write my own kernel"
   ]
  },
  {
   "cell_type": "code",
   "execution_count": 3,
   "metadata": {
    "execution": {
     "iopub.execute_input": "2024-11-20T23:29:39.359012Z",
     "iopub.status.busy": "2024-11-20T23:29:39.358843Z",
     "iopub.status.idle": "2024-11-20T23:29:39.362067Z",
     "shell.execute_reply": "2024-11-20T23:29:39.361453Z"
    }
   },
   "outputs": [],
   "source": [
    "X = array([[1,2],[0,1],[1,0]])"
   ]
  },
  {
   "cell_type": "code",
   "execution_count": 4,
   "metadata": {
    "execution": {
     "iopub.execute_input": "2024-11-20T23:29:39.365453Z",
     "iopub.status.busy": "2024-11-20T23:29:39.365289Z",
     "iopub.status.idle": "2024-11-20T23:29:39.368363Z",
     "shell.execute_reply": "2024-11-20T23:29:39.367703Z"
    }
   },
   "outputs": [],
   "source": [
    "def k(xi, xj):\n",
    "\tγ = 1\n",
    "\td = (xi - xj).T.dot((xi - xj))\n",
    "\treturn e(-γ*d)"
   ]
  },
  {
   "cell_type": "code",
   "execution_count": 5,
   "metadata": {
    "execution": {
     "iopub.execute_input": "2024-11-20T23:29:39.371720Z",
     "iopub.status.busy": "2024-11-20T23:29:39.371515Z",
     "iopub.status.idle": "2024-11-20T23:29:39.376095Z",
     "shell.execute_reply": "2024-11-20T23:29:39.375466Z"
    }
   },
   "outputs": [],
   "source": [
    "K = zeros((3,3))\n",
    "for i, xi in enumerate(X):\n",
    "\tfor j, xj in enumerate(X):\n",
    "\t\txi = reshape(xi, (2,1))\n",
    "\t\txj = reshape(xj, (2,1))\n",
    "\t\tK[i,j] = k(xi, xj)"
   ]
  },
  {
   "cell_type": "code",
   "execution_count": 6,
   "metadata": {
    "execution": {
     "iopub.execute_input": "2024-11-20T23:29:39.379095Z",
     "iopub.status.busy": "2024-11-20T23:29:39.378889Z",
     "iopub.status.idle": "2024-11-20T23:29:39.383103Z",
     "shell.execute_reply": "2024-11-20T23:29:39.382372Z"
    }
   },
   "outputs": [
    {
     "name": "stdout",
     "output_type": "stream",
     "text": [
      "[[1.         0.13533528 0.01831564]\n",
      " [0.13533528 1.         0.13533528]\n",
      " [0.01831564 0.13533528 1.        ]]\n"
     ]
    }
   ],
   "source": [
    "print(K)"
   ]
  },
  {
   "cell_type": "markdown",
   "metadata": {},
   "source": [
    "Use sklearn to generate the kernel<br>\n",
    "Notice it is the same as calculated by the equation"
   ]
  },
  {
   "cell_type": "code",
   "execution_count": 7,
   "metadata": {
    "execution": {
     "iopub.execute_input": "2024-11-20T23:29:39.443731Z",
     "iopub.status.busy": "2024-11-20T23:29:39.443365Z",
     "iopub.status.idle": "2024-11-20T23:29:39.450051Z",
     "shell.execute_reply": "2024-11-20T23:29:39.449012Z"
    }
   },
   "outputs": [
    {
     "name": "stdout",
     "output_type": "stream",
     "text": [
      "[[1.         0.13533528 0.01831564]\n",
      " [0.13533528 1.         0.13533528]\n",
      " [0.01831564 0.13533528 1.        ]]\n"
     ]
    }
   ],
   "source": [
    "K = rbf_kernel(X, gamma=1)\n",
    "print(K)"
   ]
  }
 ],
 "metadata": {
  "kernelspec": {
   "display_name": "Python 3",
   "language": "python",
   "name": "python3"
  },
  "language_info": {
   "codemirror_mode": {
    "name": "ipython",
    "version": 3
   },
   "file_extension": ".py",
   "mimetype": "text/x-python",
   "name": "python",
   "nbconvert_exporter": "python",
   "pygments_lexer": "ipython3",
   "version": "3.8.10"
  }
 },
 "nbformat": 4,
 "nbformat_minor": 2
}
