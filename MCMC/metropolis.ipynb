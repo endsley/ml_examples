{
 "cells": [
  {
   "cell_type": "code",
   "execution_count": 1,
   "metadata": {
    "execution": {
     "iopub.execute_input": "2024-05-27T11:53:04.271018Z",
     "iopub.status.busy": "2024-05-27T11:53:04.270587Z",
     "iopub.status.idle": "2024-05-27T11:53:04.276393Z",
     "shell.execute_reply": "2024-05-27T11:53:04.275178Z"
    }
   },
   "outputs": [],
   "source": [
    "#!/usr/bin/env python"
   ]
  },
  {
   "cell_type": "code",
   "execution_count": 2,
   "metadata": {
    "execution": {
     "iopub.execute_input": "2024-05-27T11:53:04.280406Z",
     "iopub.status.busy": "2024-05-27T11:53:04.280069Z",
     "iopub.status.idle": "2024-05-27T11:53:04.778722Z",
     "shell.execute_reply": "2024-05-27T11:53:04.778000Z"
    }
   },
   "outputs": [],
   "source": [
    "import numpy as np\n",
    "from numpy import exp as e\n",
    "from numpy.random import rand, exponential\n",
    "import matplotlib.pyplot as plt"
   ]
  },
  {
   "cell_type": "markdown",
   "metadata": {},
   "source": [
    "Use metropolis to sample an exponential distribution"
   ]
  },
  {
   "cell_type": "code",
   "execution_count": 3,
   "metadata": {
    "execution": {
     "iopub.execute_input": "2024-05-27T11:53:04.783682Z",
     "iopub.status.busy": "2024-05-27T11:53:04.783387Z",
     "iopub.status.idle": "2024-05-27T11:53:04.788369Z",
     "shell.execute_reply": "2024-05-27T11:53:04.787267Z"
    }
   },
   "outputs": [],
   "source": [
    "def p(x):\n",
    "\ttry: \n",
    "\t\tif x < 0: return 0\n",
    "\texcept: x[x<0] = 0\n",
    "\treturn e(-x)"
   ]
  },
  {
   "cell_type": "code",
   "execution_count": 4,
   "metadata": {
    "execution": {
     "iopub.execute_input": "2024-05-27T11:53:04.793100Z",
     "iopub.status.busy": "2024-05-27T11:53:04.792737Z",
     "iopub.status.idle": "2024-05-27T11:53:04.799813Z",
     "shell.execute_reply": "2024-05-27T11:53:04.798832Z"
    }
   },
   "outputs": [],
   "source": [
    "def metropolis_sampler(n, μ, σ, start_point=30):\n",
    "\tsamples = []\n",
    "#\n",
    "\twhile len(samples) != n + start_point:\n",
    "\t\tᶍ = np.random.normal(μ, σ) # generate a new samples\n",
    "\t\tif rand() < p(ᶍ)/p(μ): \n",
    "\t\t\tsamples.append(ᶍ)\n",
    "\t\t\tμ = ᶍ\n",
    "\t\t   \n",
    "\treturn samples[start_point:]"
   ]
  },
  {
   "cell_type": "markdown",
   "metadata": {},
   "source": [
    "Parameters"
   ]
  },
  {
   "cell_type": "code",
   "execution_count": 5,
   "metadata": {
    "execution": {
     "iopub.execute_input": "2024-05-27T11:53:04.803802Z",
     "iopub.status.busy": "2024-05-27T11:53:04.803597Z",
     "iopub.status.idle": "2024-05-27T11:53:04.806737Z",
     "shell.execute_reply": "2024-05-27T11:53:04.805935Z"
    }
   },
   "outputs": [],
   "source": [
    "n= 20000\n",
    "μ = 0.0\n",
    "σ = 1"
   ]
  },
  {
   "cell_type": "markdown",
   "metadata": {},
   "source": [
    "Generate samples"
   ]
  },
  {
   "cell_type": "code",
   "execution_count": 6,
   "metadata": {
    "execution": {
     "iopub.execute_input": "2024-05-27T11:53:04.829554Z",
     "iopub.status.busy": "2024-05-27T11:53:04.829228Z",
     "iopub.status.idle": "2024-05-27T11:53:05.045564Z",
     "shell.execute_reply": "2024-05-27T11:53:05.044907Z"
    }
   },
   "outputs": [],
   "source": [
    "X = metropolis_sampler(n, μ, σ)\n",
    "#X = exponential(scale=1, size = 20000)"
   ]
  },
  {
   "cell_type": "markdown",
   "metadata": {},
   "source": [
    "Plot them out"
   ]
  },
  {
   "cell_type": "code",
   "execution_count": 7,
   "metadata": {
    "execution": {
     "iopub.execute_input": "2024-05-27T11:53:05.050672Z",
     "iopub.status.busy": "2024-05-27T11:53:05.050472Z",
     "iopub.status.idle": "2024-05-27T11:53:05.519873Z",
     "shell.execute_reply": "2024-05-27T11:53:05.518999Z"
    }
   },
   "outputs": [
    {
     "data": {
      "image/png": "[encoded data removed]",
      "text/plain": [
       "<Figure size 640x480 with 1 Axes>"
      ]
     },
     "metadata": {},
     "output_type": "display_data"
    }
   ],
   "source": [
    "xi = np.linspace(0.1,5,100)\n",
    "yi = p(xi)\n",
    "plt.plot(xi,yi, color='red')\n",
    "plt.hist(X, density=True, bins=30)\n",
    "plt.show()"
   ]
  }
 ],
 "metadata": {
  "kernelspec": {
   "display_name": "Python 3",
   "language": "python",
   "name": "python3"
  },
  "language_info": {
   "codemirror_mode": {
    "name": "ipython",
    "version": 3
   },
   "file_extension": ".py",
   "mimetype": "text/x-python",
   "name": "python",
   "nbconvert_exporter": "python",
   "pygments_lexer": "ipython3",
   "version": "3.8.10"
  }
 },
 "nbformat": 4,
 "nbformat_minor": 2
}
