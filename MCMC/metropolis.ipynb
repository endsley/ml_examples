{
 "cells": [
  {
   "cell_type": "code",
   "execution_count": 1,
   "metadata": {
    "execution": {
     "iopub.execute_input": "2024-05-27T12:01:16.690510Z",
     "iopub.status.busy": "2024-05-27T12:01:16.690048Z",
     "iopub.status.idle": "2024-05-27T12:01:16.695973Z",
     "shell.execute_reply": "2024-05-27T12:01:16.694865Z"
    }
   },
   "outputs": [],
   "source": [
    "#!/usr/bin/env python"
   ]
  },
  {
   "cell_type": "code",
   "execution_count": 2,
   "metadata": {
    "execution": {
     "iopub.execute_input": "2024-05-27T12:01:16.699484Z",
     "iopub.status.busy": "2024-05-27T12:01:16.699240Z",
     "iopub.status.idle": "2024-05-27T12:01:17.139262Z",
     "shell.execute_reply": "2024-05-27T12:01:17.138336Z"
    }
   },
   "outputs": [],
   "source": [
    "import numpy as np\n",
    "from numpy import exp as e\n",
    "from numpy.random import rand, exponential\n",
    "import matplotlib.pyplot as plt"
   ]
  },
  {
   "cell_type": "markdown",
   "metadata": {},
   "source": [
    "Use metropolis to sample an exponential distribution"
   ]
  },
  {
   "cell_type": "code",
   "execution_count": 3,
   "metadata": {
    "execution": {
     "iopub.execute_input": "2024-05-27T12:01:17.144075Z",
     "iopub.status.busy": "2024-05-27T12:01:17.143881Z",
     "iopub.status.idle": "2024-05-27T12:01:17.148089Z",
     "shell.execute_reply": "2024-05-27T12:01:17.147332Z"
    }
   },
   "outputs": [],
   "source": [
    "def p(x):\n",
    "\ttry: \n",
    "\t\tif x < 0: return 0\n",
    "\texcept: x[x<0] = 0\n",
    "\treturn e(-x)"
   ]
  },
  {
   "cell_type": "code",
   "execution_count": 4,
   "metadata": {
    "execution": {
     "iopub.execute_input": "2024-05-27T12:01:17.152571Z",
     "iopub.status.busy": "2024-05-27T12:01:17.152335Z",
     "iopub.status.idle": "2024-05-27T12:01:17.157460Z",
     "shell.execute_reply": "2024-05-27T12:01:17.156678Z"
    }
   },
   "outputs": [],
   "source": [
    "def metropolis_sampler(n, μ, σ, start_point=30):\n",
    "\tsamples = []\n",
    "#\n",
    "\twhile len(samples) != n + start_point:\n",
    "\t\tᶍ = np.random.normal(μ, σ) # generate a new samples\n",
    "\t\tif rand() < p(ᶍ)/p(μ): \n",
    "\t\t\tsamples.append(ᶍ)\n",
    "\t\t\tμ = ᶍ\n",
    "\t\t   \n",
    "\treturn samples[start_point:]"
   ]
  },
  {
   "cell_type": "markdown",
   "metadata": {},
   "source": [
    "Parameters"
   ]
  },
  {
   "cell_type": "code",
   "execution_count": 5,
   "metadata": {
    "execution": {
     "iopub.execute_input": "2024-05-27T12:01:17.160642Z",
     "iopub.status.busy": "2024-05-27T12:01:17.160406Z",
     "iopub.status.idle": "2024-05-27T12:01:17.163969Z",
     "shell.execute_reply": "2024-05-27T12:01:17.163274Z"
    }
   },
   "outputs": [],
   "source": [
    "n= 20000\n",
    "μ = 0.0\n",
    "σ = 1"
   ]
  },
  {
   "cell_type": "markdown",
   "metadata": {},
   "source": [
    "Generate samples"
   ]
  },
  {
   "cell_type": "code",
   "execution_count": 6,
   "metadata": {
    "execution": {
     "iopub.execute_input": "2024-05-27T12:01:17.197273Z",
     "iopub.status.busy": "2024-05-27T12:01:17.197079Z",
     "iopub.status.idle": "2024-05-27T12:01:17.396379Z",
     "shell.execute_reply": "2024-05-27T12:01:17.395484Z"
    }
   },
   "outputs": [],
   "source": [
    "X = metropolis_sampler(n, μ, σ)\n",
    "X2 = exponential(scale=1, size = 20000)"
   ]
  },
  {
   "cell_type": "markdown",
   "metadata": {},
   "source": [
    "Plot them out"
   ]
  },
  {
   "cell_type": "code",
   "execution_count": 7,
   "metadata": {
    "execution": {
     "iopub.execute_input": "2024-05-27T12:01:17.401405Z",
     "iopub.status.busy": "2024-05-27T12:01:17.401240Z",
     "iopub.status.idle": "2024-05-27T12:01:17.563562Z",
     "shell.execute_reply": "2024-05-27T12:01:17.562781Z"
    }
   },
   "outputs": [
    {
     "data": {
      "text/plain": [
       "Text(0.5, 1.0, 'Using Metropolis')"
      ]
     },
     "execution_count": 7,
     "metadata": {},
     "output_type": "execute_result"
    }
   ],
   "source": [
    "plt.figure(figsize=(10,4))\n",
    "plt.subplot(121)\n",
    "xi = np.linspace(0.1,5,100)\n",
    "yi = p(xi)\n",
    "plt.plot(xi,yi, color='red')\n",
    "plt.hist(X, density=True, bins=30)\n",
    "plt.title('Using Metropolis')"
   ]
  },
  {
   "cell_type": "code",
   "execution_count": 8,
   "metadata": {
    "execution": {
     "iopub.execute_input": "2024-05-27T12:01:17.566890Z",
     "iopub.status.busy": "2024-05-27T12:01:17.566704Z",
     "iopub.status.idle": "2024-05-27T12:01:17.682831Z",
     "shell.execute_reply": "2024-05-27T12:01:17.681838Z"
    }
   },
   "outputs": [
    {
     "data": {
      "text/plain": [
       "Text(0.5, 1.0, 'Using Actual Exponential')"
      ]
     },
     "execution_count": 8,
     "metadata": {},
     "output_type": "execute_result"
    }
   ],
   "source": [
    "plt.subplot(122)\n",
    "plt.plot(xi,yi, color='red')\n",
    "plt.hist(X2, density=True, bins=30)\n",
    "plt.title('Using Actual Exponential')"
   ]
  },
  {
   "cell_type": "code",
   "execution_count": 9,
   "metadata": {
    "execution": {
     "iopub.execute_input": "2024-05-27T12:01:17.687460Z",
     "iopub.status.busy": "2024-05-27T12:01:17.687287Z",
     "iopub.status.idle": "2024-05-27T12:01:17.884439Z",
     "shell.execute_reply": "2024-05-27T12:01:17.883750Z"
    }
   },
   "outputs": [
    {
     "data": {
      "image/png": "[encoded data removed]",
      "text/plain": [
       "<Figure size 1000x400 with 2 Axes>"
      ]
     },
     "metadata": {},
     "output_type": "display_data"
    }
   ],
   "source": [
    "plt.show()"
   ]
  }
 ],
 "metadata": {
  "kernelspec": {
   "display_name": "Python 3",
   "language": "python",
   "name": "python3"
  },
  "language_info": {
   "codemirror_mode": {
    "name": "ipython",
    "version": 3
   },
   "file_extension": ".py",
   "mimetype": "text/x-python",
   "name": "python",
   "nbconvert_exporter": "python",
   "pygments_lexer": "ipython3",
   "version": "3.8.10"
  }
 },
 "nbformat": 4,
 "nbformat_minor": 2
}
