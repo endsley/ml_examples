{
 "cells": [
  {
   "cell_type": "code",
   "execution_count": 1,
   "metadata": {
    "execution": {
     "iopub.execute_input": "2025-03-06T16:17:27.883662Z",
     "iopub.status.busy": "2025-03-06T16:17:27.883202Z",
     "iopub.status.idle": "2025-03-06T16:17:27.889155Z",
     "shell.execute_reply": "2025-03-06T16:17:27.888019Z"
    }
   },
   "outputs": [],
   "source": [
    "#!/usr/bin/env python"
   ]
  },
  {
   "cell_type": "code",
   "execution_count": 2,
   "metadata": {
    "execution": {
     "iopub.execute_input": "2025-03-06T16:17:27.892842Z",
     "iopub.status.busy": "2025-03-06T16:17:27.892612Z",
     "iopub.status.idle": "2025-03-06T16:17:28.337870Z",
     "shell.execute_reply": "2025-03-06T16:17:28.337034Z"
    }
   },
   "outputs": [],
   "source": [
    "import numpy as np\n",
    "from numpy import ones\n",
    "from numpy import array\n",
    "import matplotlib.pyplot as plt\n",
    "from numpy import mean\n",
    "import random"
   ]
  },
  {
   "cell_type": "code",
   "execution_count": 3,
   "metadata": {
    "execution": {
     "iopub.execute_input": "2025-03-06T16:17:28.341958Z",
     "iopub.status.busy": "2025-03-06T16:17:28.341763Z",
     "iopub.status.idle": "2025-03-06T16:17:28.344635Z",
     "shell.execute_reply": "2025-03-06T16:17:28.344137Z"
    }
   },
   "outputs": [],
   "source": [
    "Φ = array([\t[1,1],\n",
    "\t\t\t[2,1],\n",
    "\t\t\t[2,1],\n",
    "\t\t\t[3,1]])"
   ]
  },
  {
   "cell_type": "code",
   "execution_count": 4,
   "metadata": {
    "execution": {
     "iopub.execute_input": "2025-03-06T16:17:28.349479Z",
     "iopub.status.busy": "2025-03-06T16:17:28.349287Z",
     "iopub.status.idle": "2025-03-06T16:17:28.352331Z",
     "shell.execute_reply": "2025-03-06T16:17:28.351598Z"
    }
   },
   "outputs": [],
   "source": [
    "n = Φ.shape[0]"
   ]
  },
  {
   "cell_type": "code",
   "execution_count": 5,
   "metadata": {
    "execution": {
     "iopub.execute_input": "2025-03-06T16:17:28.355995Z",
     "iopub.status.busy": "2025-03-06T16:17:28.355802Z",
     "iopub.status.idle": "2025-03-06T16:17:28.359068Z",
     "shell.execute_reply": "2025-03-06T16:17:28.358215Z"
    }
   },
   "outputs": [],
   "source": [
    "y = array([\t[1],\n",
    "\t\t\t[1],\n",
    "\t\t\t[2],\n",
    "\t\t\t[2]])"
   ]
  },
  {
   "cell_type": "markdown",
   "metadata": {},
   "source": [
    "The function we are trying to minimize is<br>\n",
    "$$\\min_w \\; f(x) = \\frac{1}{n} \\; \\sum_i^n \\; (w^{\\top} \\phi(x_i) - y_i)^2$$"
   ]
  },
  {
   "cell_type": "code",
   "execution_count": 6,
   "metadata": {
    "execution": {
     "iopub.execute_input": "2025-03-06T16:17:28.363033Z",
     "iopub.status.busy": "2025-03-06T16:17:28.362798Z",
     "iopub.status.idle": "2025-03-06T16:17:28.367869Z",
     "shell.execute_reply": "2025-03-06T16:17:28.366969Z"
    }
   },
   "outputs": [],
   "source": [
    "def f(w):\n",
    "\tfₒ = 0\t\t\t\t\t\t# function output\n",
    "\tfor ϕᵢ, yᵢ in zip(Φ,y):\n",
    "\t\tϕᵢ = np.reshape(ϕᵢ, (2,1))\n",
    "\t\tfₒ += (w.T.dot(ϕᵢ) - yᵢ)**2\n",
    "#\n",
    "\treturn ((1/n)*fₒ).item()\n",
    "#"
   ]
  },
  {
   "cell_type": "markdown",
   "metadata": {},
   "source": [
    "The equation for the gradient is <br>\n",
    "$$f'(x) = \\frac{2}{n} \\; \\sum_i^n \\; (w^{\\top} \\phi(x_i) - y_i) \\phi(x_i)$$"
   ]
  },
  {
   "cell_type": "code",
   "execution_count": 7,
   "metadata": {
    "execution": {
     "iopub.execute_input": "2025-03-06T16:17:28.386789Z",
     "iopub.status.busy": "2025-03-06T16:17:28.386560Z",
     "iopub.status.idle": "2025-03-06T16:17:28.391247Z",
     "shell.execute_reply": "2025-03-06T16:17:28.389590Z"
    }
   },
   "outputs": [],
   "source": [
    "w = array([[0],[1]]) \n",
    "η = 0.01"
   ]
  },
  {
   "cell_type": "code",
   "execution_count": 8,
   "metadata": {
    "execution": {
     "iopub.execute_input": "2025-03-06T16:17:28.396547Z",
     "iopub.status.busy": "2025-03-06T16:17:28.396255Z",
     "iopub.status.idle": "2025-03-06T16:17:28.401453Z",
     "shell.execute_reply": "2025-03-06T16:17:28.400828Z"
    }
   },
   "outputs": [],
   "source": [
    "def fᑊ(w):\t# Gradient for GD\n",
    "\tᐁf = np.zeros((2,1))\n",
    "\tfor ϕᵢ, yᵢ in zip(Φ,y):\n",
    "\t\tϕᵢ = np.reshape(ϕᵢ, (2,1))\n",
    "\t\tᐁf += (w.T.dot(ϕᵢ) - yᵢ)*ϕᵢ\n",
    "\treturn (2/n)*ᐁf"
   ]
  },
  {
   "cell_type": "code",
   "execution_count": 9,
   "metadata": {
    "execution": {
     "iopub.execute_input": "2025-03-06T16:17:28.404485Z",
     "iopub.status.busy": "2025-03-06T16:17:28.404286Z",
     "iopub.status.idle": "2025-03-06T16:17:28.564193Z",
     "shell.execute_reply": "2025-03-06T16:17:28.563409Z"
    }
   },
   "outputs": [],
   "source": [
    "gd_list = []\n",
    "for i in range(2000):\n",
    "\tw = w - η*fᑊ(w)\t\t\t\t# gradient descent update w\n",
    "\tgd_list.append(f(w))"
   ]
  },
  {
   "cell_type": "markdown",
   "metadata": {},
   "source": [
    "Solving with SGD"
   ]
  },
  {
   "cell_type": "code",
   "execution_count": 10,
   "metadata": {
    "execution": {
     "iopub.execute_input": "2025-03-06T16:17:28.568338Z",
     "iopub.status.busy": "2025-03-06T16:17:28.568150Z",
     "iopub.status.idle": "2025-03-06T16:17:28.570890Z",
     "shell.execute_reply": "2025-03-06T16:17:28.570321Z"
    }
   },
   "outputs": [],
   "source": [
    "wˢ = array([[0],[1]]) \n",
    "η = 0.0005"
   ]
  },
  {
   "cell_type": "code",
   "execution_count": 11,
   "metadata": {
    "execution": {
     "iopub.execute_input": "2025-03-06T16:17:28.575881Z",
     "iopub.status.busy": "2025-03-06T16:17:28.575707Z",
     "iopub.status.idle": "2025-03-06T16:17:28.579505Z",
     "shell.execute_reply": "2025-03-06T16:17:28.578707Z"
    }
   },
   "outputs": [],
   "source": [
    "def fˢᑊ(w):\t# Gradient for SGD\n",
    "\t# randomly pick a sample\n",
    "\tϕᵢ, yᵢ = random.choice(list(zip(Φ, y.ravel())))\n",
    "\tϕᵢ = np.reshape(ϕᵢ, (2,1))\n",
    "\treturn 2*(w.T.dot(ϕᵢ) - yᵢ)*ϕᵢ"
   ]
  },
  {
   "cell_type": "code",
   "execution_count": 12,
   "metadata": {
    "execution": {
     "iopub.execute_input": "2025-03-06T16:17:28.582785Z",
     "iopub.status.busy": "2025-03-06T16:17:28.582557Z",
     "iopub.status.idle": "2025-03-06T16:17:31.913642Z",
     "shell.execute_reply": "2025-03-06T16:17:31.912726Z"
    }
   },
   "outputs": [],
   "source": [
    "sgd_list = []\n",
    "for i in range(60000):\n",
    "\twˢ = wˢ - η*fˢᑊ(wˢ)\n",
    "\tsgd_list.append(f(wˢ))"
   ]
  },
  {
   "cell_type": "code",
   "execution_count": 13,
   "metadata": {
    "execution": {
     "iopub.execute_input": "2025-03-06T16:17:31.918476Z",
     "iopub.status.busy": "2025-03-06T16:17:31.918296Z",
     "iopub.status.idle": "2025-03-06T16:17:31.923658Z",
     "shell.execute_reply": "2025-03-06T16:17:31.922898Z"
    }
   },
   "outputs": [
    {
     "name": "stdout",
     "output_type": "stream",
     "text": [
      "Best GD w = \n",
      " [[0.49325095]\n",
      " [0.51487334]]\n",
      "Best SGD w = \n",
      " [[0.49788814]\n",
      " [0.49698819]]\n",
      "GD Predictions: \n",
      " [[1.00812429]\n",
      " [1.50137524]\n",
      " [1.50137524]\n",
      " [1.99462619]]\n",
      "SGD Predictions: \n",
      " [[0.99487632]\n",
      " [1.49276446]\n",
      " [1.49276446]\n",
      " [1.9906526 ]]\n"
     ]
    }
   ],
   "source": [
    "print('Best GD w = \\n', w)\n",
    "print('Best SGD w = \\n', wˢ)\n",
    "print('GD Predictions: \\n', Φ.dot(w))\n",
    "print('SGD Predictions: \\n', Φ.dot(wˢ))"
   ]
  },
  {
   "cell_type": "markdown",
   "metadata": {},
   "source": [
    "Get the points for the best fit line"
   ]
  },
  {
   "cell_type": "code",
   "execution_count": 14,
   "metadata": {
    "execution": {
     "iopub.execute_input": "2025-03-06T16:17:31.970465Z",
     "iopub.status.busy": "2025-03-06T16:17:31.970264Z",
     "iopub.status.idle": "2025-03-06T16:17:31.974449Z",
     "shell.execute_reply": "2025-03-06T16:17:31.973603Z"
    }
   },
   "outputs": [],
   "source": [
    "xp = np.linspace(0,4,10)\n",
    "fₓ = w[0]*xp + w[1]\n",
    "fˢ = wˢ[0]*xp + wˢ[1]"
   ]
  },
  {
   "cell_type": "markdown",
   "metadata": {},
   "source": [
    "Draw the best fit line and the data out"
   ]
  },
  {
   "cell_type": "code",
   "execution_count": 15,
   "metadata": {
    "execution": {
     "iopub.execute_input": "2025-03-06T16:17:31.977910Z",
     "iopub.status.busy": "2025-03-06T16:17:31.977672Z",
     "iopub.status.idle": "2025-03-06T16:17:32.107113Z",
     "shell.execute_reply": "2025-03-06T16:17:32.106369Z"
    }
   },
   "outputs": [
    {
     "data": {
      "text/plain": [
       "(0.0, 0.5)"
      ]
     },
     "execution_count": 15,
     "metadata": {},
     "output_type": "execute_result"
    }
   ],
   "source": [
    "plt.figure(figsize=(6,6))\n",
    "plt.subplot(221)\n",
    "plt.scatter(Φ[:,0], y, color='red')\n",
    "plt.plot(xp, fₓ)\n",
    "plt.title('GD Result')\n",
    "plt.xlim(0,3)\t# Show this region along x-axis\n",
    "plt.ylim(0,3)\t# Show this region along y-axis\n",
    "#\n",
    "# Display the error over GD\n",
    "plt.subplot(222)\n",
    "plt.plot(gd_list)\n",
    "plt.title('MSE over GD')\n",
    "plt.xlabel('steps')\n",
    "plt.ylabel('MSE')\n",
    "plt.ylim(0,0.5)\t# Show this region along y-axis"
   ]
  },
  {
   "cell_type": "markdown",
   "metadata": {},
   "source": [
    "Draw the best fit line and the data out"
   ]
  },
  {
   "cell_type": "code",
   "execution_count": 16,
   "metadata": {
    "execution": {
     "iopub.execute_input": "2025-03-06T16:17:32.111981Z",
     "iopub.status.busy": "2025-03-06T16:17:32.111805Z",
     "iopub.status.idle": "2025-03-06T16:17:32.271437Z",
     "shell.execute_reply": "2025-03-06T16:17:32.270563Z"
    }
   },
   "outputs": [
    {
     "data": {
      "text/plain": [
       "(0.0, 0.5)"
      ]
     },
     "execution_count": 16,
     "metadata": {},
     "output_type": "execute_result"
    }
   ],
   "source": [
    "plt.subplot(223)\n",
    "plt.scatter(Φ[:,0], y, color='red')\n",
    "plt.plot(xp, fˢ)\n",
    "plt.title('SGD Result')\n",
    "plt.xlim(0,3)\t# Show this region along x-axis\n",
    "plt.ylim(0,3)\t# Show this region along y-axis\n",
    "#\n",
    "# Display the error over SGD\n",
    "plt.subplot(224)\n",
    "plt.plot(sgd_list)\n",
    "plt.title('MSE over SGD')\n",
    "plt.xlabel('steps')\n",
    "plt.ylabel('MSE')\n",
    "plt.ylim(0,0.5)\t# Show this region along y-axis"
   ]
  },
  {
   "cell_type": "code",
   "execution_count": 17,
   "metadata": {
    "execution": {
     "iopub.execute_input": "2025-03-06T16:17:32.275343Z",
     "iopub.status.busy": "2025-03-06T16:17:32.275183Z",
     "iopub.status.idle": "2025-03-06T16:17:32.686896Z",
     "shell.execute_reply": "2025-03-06T16:17:32.686172Z"
    }
   },
   "outputs": [
    {
     "data": {
      "image/png": "[encoded data removed]",
      "text/plain": [
       "<Figure size 600x600 with 4 Axes>"
      ]
     },
     "metadata": {},
     "output_type": "display_data"
    }
   ],
   "source": [
    "plt.tight_layout()\n",
    "plt.show()"
   ]
  }
 ],
 "metadata": {
  "kernelspec": {
   "display_name": "Python 3",
   "language": "python",
   "name": "python3"
  },
  "language_info": {
   "codemirror_mode": {
    "name": "ipython",
    "version": 3
   },
   "file_extension": ".py",
   "mimetype": "text/x-python",
   "name": "python",
   "nbconvert_exporter": "python",
   "pygments_lexer": "ipython3",
   "version": "3.8.10"
  }
 },
 "nbformat": 4,
 "nbformat_minor": 2
}
