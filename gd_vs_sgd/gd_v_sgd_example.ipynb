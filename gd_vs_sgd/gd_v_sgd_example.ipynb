{
 "cells": [
  {
   "cell_type": "code",
   "execution_count": 1,
   "metadata": {
    "execution": {
     "iopub.execute_input": "2025-03-06T16:07:34.387831Z",
     "iopub.status.busy": "2025-03-06T16:07:34.387365Z",
     "iopub.status.idle": "2025-03-06T16:07:34.393321Z",
     "shell.execute_reply": "2025-03-06T16:07:34.392231Z"
    }
   },
   "outputs": [],
   "source": [
    "#!/usr/bin/env python"
   ]
  },
  {
   "cell_type": "code",
   "execution_count": 2,
   "metadata": {
    "execution": {
     "iopub.execute_input": "2025-03-06T16:07:34.397360Z",
     "iopub.status.busy": "2025-03-06T16:07:34.397100Z",
     "iopub.status.idle": "2025-03-06T16:07:34.821508Z",
     "shell.execute_reply": "2025-03-06T16:07:34.820572Z"
    }
   },
   "outputs": [],
   "source": [
    "import numpy as np\n",
    "from numpy import ones\n",
    "from numpy import array\n",
    "import matplotlib.pyplot as plt\n",
    "from numpy import mean\n",
    "import random"
   ]
  },
  {
   "cell_type": "code",
   "execution_count": 3,
   "metadata": {
    "execution": {
     "iopub.execute_input": "2025-03-06T16:07:34.825388Z",
     "iopub.status.busy": "2025-03-06T16:07:34.825211Z",
     "iopub.status.idle": "2025-03-06T16:07:34.828425Z",
     "shell.execute_reply": "2025-03-06T16:07:34.827703Z"
    }
   },
   "outputs": [],
   "source": [
    "Φ = array([\t[1,1],\n",
    "\t\t\t[2,1],\n",
    "\t\t\t[2,1],\n",
    "\t\t\t[3,1]])"
   ]
  },
  {
   "cell_type": "code",
   "execution_count": 4,
   "metadata": {
    "execution": {
     "iopub.execute_input": "2025-03-06T16:07:34.832306Z",
     "iopub.status.busy": "2025-03-06T16:07:34.832136Z",
     "iopub.status.idle": "2025-03-06T16:07:34.835033Z",
     "shell.execute_reply": "2025-03-06T16:07:34.834337Z"
    }
   },
   "outputs": [],
   "source": [
    "n = Φ.shape[0]"
   ]
  },
  {
   "cell_type": "code",
   "execution_count": 5,
   "metadata": {
    "execution": {
     "iopub.execute_input": "2025-03-06T16:07:34.838854Z",
     "iopub.status.busy": "2025-03-06T16:07:34.838638Z",
     "iopub.status.idle": "2025-03-06T16:07:34.841948Z",
     "shell.execute_reply": "2025-03-06T16:07:34.841162Z"
    }
   },
   "outputs": [],
   "source": [
    "y = array([\t[1],\n",
    "\t\t\t[1],\n",
    "\t\t\t[2],\n",
    "\t\t\t[2]])"
   ]
  },
  {
   "cell_type": "markdown",
   "metadata": {},
   "source": [
    "The function we are trying to minimize is<br>\n",
    "$$\\min_w \\; f(x) = \\frac{1}{n} \\; \\sum_i^n \\; (w^{\\top} \\phi(x_i) - y_i)^2$$"
   ]
  },
  {
   "cell_type": "code",
   "execution_count": 6,
   "metadata": {
    "execution": {
     "iopub.execute_input": "2025-03-06T16:07:34.845179Z",
     "iopub.status.busy": "2025-03-06T16:07:34.844952Z",
     "iopub.status.idle": "2025-03-06T16:07:34.849454Z",
     "shell.execute_reply": "2025-03-06T16:07:34.848688Z"
    }
   },
   "outputs": [],
   "source": [
    "def f(w):\n",
    "\tfₒ = 0\t\t\t\t\t\t# function output\n",
    "\tfor ϕᵢ, yᵢ in zip(Φ,y):\n",
    "\t\tϕᵢ = np.reshape(ϕᵢ, (2,1))\n",
    "\t\tfₒ += (w.T.dot(ϕᵢ) - yᵢ)**2\n",
    "#\n",
    "\treturn ((1/n)*fₒ).item()\n",
    "#"
   ]
  },
  {
   "cell_type": "markdown",
   "metadata": {},
   "source": [
    "The equation for the gradient is <br>\n",
    "$$f'(x) = \\frac{2}{n} \\; \\sum_i^n \\; (w^{\\top} \\phi(x_i) - y_i) \\phi(x_i)$$"
   ]
  },
  {
   "cell_type": "code",
   "execution_count": 7,
   "metadata": {
    "execution": {
     "iopub.execute_input": "2025-03-06T16:07:34.866602Z",
     "iopub.status.busy": "2025-03-06T16:07:34.866399Z",
     "iopub.status.idle": "2025-03-06T16:07:34.869824Z",
     "shell.execute_reply": "2025-03-06T16:07:34.868975Z"
    }
   },
   "outputs": [],
   "source": [
    "w = array([[0],[1]]) \n",
    "η = 0.01"
   ]
  },
  {
   "cell_type": "code",
   "execution_count": 8,
   "metadata": {
    "execution": {
     "iopub.execute_input": "2025-03-06T16:07:34.873927Z",
     "iopub.status.busy": "2025-03-06T16:07:34.873664Z",
     "iopub.status.idle": "2025-03-06T16:07:34.879096Z",
     "shell.execute_reply": "2025-03-06T16:07:34.878333Z"
    }
   },
   "outputs": [],
   "source": [
    "def fᑊ(w):\t# Gradient for GD\n",
    "\tᐁf = np.zeros((2,1))\n",
    "\tfor ϕᵢ, yᵢ in zip(Φ,y):\n",
    "\t\tϕᵢ = np.reshape(ϕᵢ, (2,1))\n",
    "\t\tᐁf += (w.T.dot(ϕᵢ) - yᵢ)*ϕᵢ\n",
    "\treturn (2/n)*ᐁf"
   ]
  },
  {
   "cell_type": "code",
   "execution_count": 9,
   "metadata": {
    "execution": {
     "iopub.execute_input": "2025-03-06T16:07:34.882686Z",
     "iopub.status.busy": "2025-03-06T16:07:34.882457Z",
     "iopub.status.idle": "2025-03-06T16:07:34.966661Z",
     "shell.execute_reply": "2025-03-06T16:07:34.965941Z"
    }
   },
   "outputs": [],
   "source": [
    "gd_list = []\n",
    "for i in range(1000):\n",
    "\tw = w - η*fᑊ(w)\t\t\t\t# gradient descent update w\n",
    "\t#w = w - η*fˢᑊ(w)\t\t\t\t\n",
    "\tgd_list.append(f(w))"
   ]
  },
  {
   "cell_type": "markdown",
   "metadata": {},
   "source": [
    "Solving with SGD"
   ]
  },
  {
   "cell_type": "code",
   "execution_count": 10,
   "metadata": {
    "execution": {
     "iopub.execute_input": "2025-03-06T16:07:34.970913Z",
     "iopub.status.busy": "2025-03-06T16:07:34.970754Z",
     "iopub.status.idle": "2025-03-06T16:07:34.973722Z",
     "shell.execute_reply": "2025-03-06T16:07:34.972913Z"
    }
   },
   "outputs": [],
   "source": [
    "wˢ = array([[0],[1]]) \n",
    "η = 0.0005"
   ]
  },
  {
   "cell_type": "code",
   "execution_count": 11,
   "metadata": {
    "execution": {
     "iopub.execute_input": "2025-03-06T16:07:34.978746Z",
     "iopub.status.busy": "2025-03-06T16:07:34.978565Z",
     "iopub.status.idle": "2025-03-06T16:07:34.982331Z",
     "shell.execute_reply": "2025-03-06T16:07:34.981574Z"
    }
   },
   "outputs": [],
   "source": [
    "def fˢᑊ(w):\t# Gradient for SGD\n",
    "\t# randomly pick a sample\n",
    "\tϕᵢ, yᵢ = random.choice(list(zip(Φ, y.ravel())))\n",
    "\tϕᵢ = np.reshape(ϕᵢ, (2,1))\n",
    "\treturn 2*(w.T.dot(ϕᵢ) - yᵢ)*ϕᵢ"
   ]
  },
  {
   "cell_type": "code",
   "execution_count": 12,
   "metadata": {
    "execution": {
     "iopub.execute_input": "2025-03-06T16:07:34.985474Z",
     "iopub.status.busy": "2025-03-06T16:07:34.985238Z",
     "iopub.status.idle": "2025-03-06T16:07:35.049294Z",
     "shell.execute_reply": "2025-03-06T16:07:35.048610Z"
    }
   },
   "outputs": [],
   "source": [
    "sgd_list = []\n",
    "for i in range(1000):\n",
    "\twˢ = wˢ - η*fˢᑊ(wˢ)\n",
    "\tsgd_list.append(f(wˢ))"
   ]
  },
  {
   "cell_type": "code",
   "execution_count": 13,
   "metadata": {
    "execution": {
     "iopub.execute_input": "2025-03-06T16:07:35.053284Z",
     "iopub.status.busy": "2025-03-06T16:07:35.053113Z",
     "iopub.status.idle": "2025-03-06T16:07:35.058350Z",
     "shell.execute_reply": "2025-03-06T16:07:35.057611Z"
    }
   },
   "outputs": [
    {
     "name": "stdout",
     "output_type": "stream",
     "text": [
      "Best GD w = \n",
      " [[0.45703505]\n",
      " [0.59468478]]\n",
      "Best SGD w = \n",
      " [[0.25642217]\n",
      " [1.05419108]]\n",
      "GD Predictions: \n",
      " [[1.05171984]\n",
      " [1.50875489]\n",
      " [1.50875489]\n",
      " [1.96578995]]\n",
      "SGD Predictions: \n",
      " [[1.31061325]\n",
      " [1.56703541]\n",
      " [1.56703541]\n",
      " [1.82345758]]\n"
     ]
    }
   ],
   "source": [
    "print('Best GD w = \\n', w)\n",
    "print('Best SGD w = \\n', wˢ)\n",
    "print('GD Predictions: \\n', Φ.dot(w))\n",
    "print('SGD Predictions: \\n', Φ.dot(wˢ))"
   ]
  },
  {
   "cell_type": "markdown",
   "metadata": {},
   "source": [
    "Get the points for the best fit line"
   ]
  },
  {
   "cell_type": "code",
   "execution_count": 14,
   "metadata": {
    "execution": {
     "iopub.execute_input": "2025-03-06T16:07:35.125258Z",
     "iopub.status.busy": "2025-03-06T16:07:35.124909Z",
     "iopub.status.idle": "2025-03-06T16:07:35.130722Z",
     "shell.execute_reply": "2025-03-06T16:07:35.129665Z"
    }
   },
   "outputs": [],
   "source": [
    "xp = np.linspace(0,4,10)\n",
    "fₓ = w[0]*xp + w[1]\n",
    "fˢ = wˢ[0]*xp + wˢ[1]"
   ]
  },
  {
   "cell_type": "markdown",
   "metadata": {},
   "source": [
    "Draw the best fit line and the data out"
   ]
  },
  {
   "cell_type": "code",
   "execution_count": 15,
   "metadata": {
    "execution": {
     "iopub.execute_input": "2025-03-06T16:07:35.134503Z",
     "iopub.status.busy": "2025-03-06T16:07:35.134183Z",
     "iopub.status.idle": "2025-03-06T16:07:35.505593Z",
     "shell.execute_reply": "2025-03-06T16:07:35.504793Z"
    }
   },
   "outputs": [
    {
     "data": {
      "text/plain": [
       "(0.0, 0.5)"
      ]
     },
     "execution_count": 15,
     "metadata": {},
     "output_type": "execute_result"
    }
   ],
   "source": [
    "plt.figure(figsize=(6,6))\n",
    "plt.subplot(221)\n",
    "plt.scatter(Φ[:,0], y, color='red')\n",
    "plt.plot(xp, fₓ)\n",
    "plt.title('GD Result')\n",
    "plt.xlim(0,3)\t# Show this region along x-axis\n",
    "plt.ylim(0,3)\t# Show this region along y-axis\n",
    "#\n",
    "# Display the error over GD\n",
    "plt.subplot(222)\n",
    "plt.plot(gd_list)\n",
    "plt.title('MSE over GD')\n",
    "plt.xlabel('steps')\n",
    "plt.ylabel('MSE')\n",
    "plt.ylim(0,0.5)\t# Show this region along y-axis"
   ]
  },
  {
   "cell_type": "markdown",
   "metadata": {},
   "source": [
    "Draw the best fit line and the data out"
   ]
  },
  {
   "cell_type": "code",
   "execution_count": 16,
   "metadata": {
    "execution": {
     "iopub.execute_input": "2025-03-06T16:07:35.510475Z",
     "iopub.status.busy": "2025-03-06T16:07:35.510283Z",
     "iopub.status.idle": "2025-03-06T16:07:35.659549Z",
     "shell.execute_reply": "2025-03-06T16:07:35.658827Z"
    }
   },
   "outputs": [
    {
     "data": {
      "text/plain": [
       "(0.0, 0.5)"
      ]
     },
     "execution_count": 16,
     "metadata": {},
     "output_type": "execute_result"
    }
   ],
   "source": [
    "plt.subplot(223)\n",
    "plt.scatter(Φ[:,0], y, color='red')\n",
    "plt.plot(xp, fˢ)\n",
    "plt.title('SGD Result')\n",
    "plt.xlim(0,3)\t# Show this region along x-axis\n",
    "plt.ylim(0,3)\t# Show this region along y-axis\n",
    "#\n",
    "# Display the error over SGD\n",
    "plt.subplot(224)\n",
    "plt.plot(sgd_list)\n",
    "plt.title('MSE over SGD')\n",
    "plt.xlabel('steps')\n",
    "plt.ylabel('MSE')\n",
    "plt.ylim(0,0.5)\t# Show this region along y-axis"
   ]
  },
  {
   "cell_type": "code",
   "execution_count": 17,
   "metadata": {
    "execution": {
     "iopub.execute_input": "2025-03-06T16:07:35.663958Z",
     "iopub.status.busy": "2025-03-06T16:07:35.663790Z",
     "iopub.status.idle": "2025-03-06T16:07:36.069443Z",
     "shell.execute_reply": "2025-03-06T16:07:36.068675Z"
    }
   },
   "outputs": [
    {
     "data": {
      "image/png": "[encoded data removed]",
      "text/plain": [
       "<Figure size 600x600 with 4 Axes>"
      ]
     },
     "metadata": {},
     "output_type": "display_data"
    }
   ],
   "source": [
    "plt.tight_layout()\n",
    "plt.show()"
   ]
  }
 ],
 "metadata": {
  "kernelspec": {
   "display_name": "Python 3",
   "language": "python",
   "name": "python3"
  },
  "language_info": {
   "codemirror_mode": {
    "name": "ipython",
    "version": 3
   },
   "file_extension": ".py",
   "mimetype": "text/x-python",
   "name": "python",
   "nbconvert_exporter": "python",
   "pygments_lexer": "ipython3",
   "version": "3.8.10"
  }
 },
 "nbformat": 4,
 "nbformat_minor": 2
}
