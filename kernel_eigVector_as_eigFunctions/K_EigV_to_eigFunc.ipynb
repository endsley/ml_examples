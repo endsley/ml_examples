{
 "cells": [
  {
   "cell_type": "code",
   "execution_count": 33,
   "metadata": {},
   "outputs": [],
   "source": [
    "#!/usr/bin/env python"
   ]
  },
  {
   "cell_type": "code",
   "execution_count": 34,
   "metadata": {},
   "outputs": [],
   "source": [
    "import numpy as np\n",
    "import sys\n",
    "from numpy.linalg import eig\n",
    "from numpy.linalg import svd\n",
    "from tools import *"
   ]
  },
  {
   "cell_type": "code",
   "execution_count": 35,
   "metadata": {},
   "outputs": [],
   "source": [
    "np.set_printoptions(precision=4)\n",
    "np.set_printoptions(threshold=30)\n",
    "np.set_printoptions(linewidth=300)\n",
    "np.set_printoptions(suppress=True)\n",
    "np.set_printoptions(threshold=sys.maxsize)"
   ]
  },
  {
   "cell_type": "markdown",
   "metadata": {},
   "source": [
    "This code tests Proposition 9 of the paper <br>\n",
    "ONLEARNING WITHINTEGRALOPERATORS<br>\n",
    "The idea is that we know what the relationship between eigenvectors of the kernel matrix and the eigen functions."
   ]
  },
  {
   "cell_type": "markdown",
   "metadata": {},
   "source": [
    "Given $\\phi_i$ as the eigenfunctions and $m$ as the number of eigenfunctions, we define the integral operator $T_n$ as <br>\n",
    "$$T_n = \\frac{1}{m}\\sum_i \\phi_i \\phi_i^T $$"
   ]
  },
  {
   "cell_type": "code",
   "execution_count": 36,
   "metadata": {},
   "outputs": [],
   "source": [
    "def polyK(X):\t# calculate the polynomial kernel matrix\n",
    "\tK = np.zeros((len(X), len(X)))\n",
    "\tfor i, x in enumerate(X):\n",
    "\t\tfor j, y in enumerate(X):\n",
    "\t\t\txi = x.reshape(len(x), 1)\n",
    "\t\t\tyi = y.reshape(len(y), 1)\n",
    "\t\t\tK[i,j] = (xi.T.dot(yi) + 1)**2\n",
    "\treturn K"
   ]
  },
  {
   "cell_type": "code",
   "execution_count": 37,
   "metadata": {},
   "outputs": [],
   "source": [
    "def Φ(X):\n",
    "\tfm = np.empty((6, 0))\n",
    "\tc = np.sqrt(2)\n",
    "\tfor x in X:\n",
    "\t\t# feature map of polynomial [x₁ᒾ,  ᴄ x₁x₂, ᴄ x₁, c x₂, x₂ᒾ, 1]\n",
    "\t\tφ = np.array([[x[0]*x[0], c*x[0]*x[1], c*x[0], c*x[1], x[1]*x[1], 1]]).T\n",
    "\t\tfm = np.hstack((fm, φ))\n",
    "\treturn fm.T"
   ]
  },
  {
   "cell_type": "code",
   "execution_count": 38,
   "metadata": {},
   "outputs": [
    {
     "name": "stdout",
     "output_type": "stream",
     "text": [
      "      Eig Values of K       \tEig Values of Tn                   \n",
      "[447.3522   3.6082   0.0397]\t[149.1174   1.2027   0.0132  -0.       0.       0.    ]\n",
      "                            \t\n",
      "\n",
      "\n"
     ]
    },
    {
     "data": {
      "text/html": [
       "<html><body><h3>Notice that the eigenvectors of K is not the same as Tn!!!</h3></body></html>"
      ],
      "text/plain": [
       "<IPython.core.display.HTML object>"
      ]
     },
     "metadata": {},
     "output_type": "display_data"
    },
    {
     "data": {
      "text/html": [
       "<html><body><h3>However if we multiply the eigenvalues by n, they become the same.<br></h3></body></html>"
      ],
      "text/plain": [
       "<IPython.core.display.HTML object>"
      ]
     },
     "metadata": {},
     "output_type": "display_data"
    },
    {
     "data": {
      "text/html": [
       "<html><body><h3> Eigenvalues after multiplied by n  Original eigenvalues    <br>[447.3522   3.6082   0.0397] = 3 *  [149.1174   1.2027   0.0132]<br>                                    <br><br></h3></body></html>"
      ],
      "text/plain": [
       "<IPython.core.display.HTML object>"
      ]
     },
     "metadata": {},
     "output_type": "display_data"
    }
   ],
   "source": [
    "if __name__ == \"__main__\":\n",
    "\tX = np.array([[1,1], [2,2], [3,3]])\n",
    "\tn = X.shape[0]\n",
    "\t#\t\n",
    "\tQ = Φ(X)\t\t\t\t\t\t# feature map\n",
    "\tK = polyK(X)\t\t\t\t\t# X to kernel matrix\n",
    "\t#\n",
    "\tTn = (1/n)*Q.T.dot(Q)\t\t\t# The approximate integral operator\n",
    "\t#\n",
    "\t[Dk, Vk] = eig(K)\t\t\t\t# eigenvalue/vector of the kernel matrix\n",
    "\t[Dq, Vq] = eig(Tn)\t\t\t\t# eigenvalue/function of the integral operator\n",
    "\t#\n",
    "\teK = pretty_np_array(Dk, front_tab='', title='Eig Values of K', auto_print=False)\n",
    "\teQ = pretty_np_array(Dq, front_tab='', title='Eig Values of Tn', auto_print=False)\n",
    "\tblock_two_string_concatenate(eK, eQ, spacing='\\t', add_titles=[], auto_print=True)\n",
    "\t#\n",
    "\tjupyter_print('Notice that the eigenvectors of K is not the same as Tn!!!')\n",
    "\tjupyter_print('However if we multiply the eigenvalues by n, they become the same.\\n')\n",
    "#\n",
    "#\n",
    "\tDqn = n*Dq[0:3]\n",
    "\tDQ_text = pretty_np_array(Dqn, front_tab='', title='Eigenvalues after multiplied by n', auto_print=False, end_space=\" = 3 * \") \n",
    "\teQn = pretty_np_array(Dq[0:3], front_tab='', title='Original eigenvalues', auto_print=False)\n",
    "\tdisplay1 = block_two_string_concatenate(DQ_text, eQn, spacing=' ', add_titles=['Eigs'], auto_print=False)\n",
    "\tjupyter_print(display1)"
   ]
  },
  {
   "cell_type": "code",
   "execution_count": 39,
   "metadata": {},
   "outputs": [
    {
     "data": {
      "text/html": [
       "<html><body><h3>Therefore, we conclude that σ(K) = n*σ(Tn), we next verify the eigenvector eigenfunction relationship.<br></h3></body></html>"
      ],
      "text/plain": [
       "<IPython.core.display.HTML object>"
      ]
     },
     "metadata": {},
     "output_type": "display_data"
    },
    {
     "data": {
      "text/html": [
       "<html><body><h3>We first show the eigenvectors of K and eigenfunctions from Tn.</h3></body></html>"
      ],
      "text/plain": [
       "<IPython.core.display.HTML object>"
      ]
     },
     "metadata": {},
     "output_type": "display_data"
    },
    {
     "name": "stdout",
     "output_type": "stream",
     "text": [
      "         Eig of K        \tEig of Tn                    \n",
      "[-0.1245 -0.7546  0.6442]\t[-0.4678 -0.1666  0.0582 -0.3224  0.6895 -0.0053]\n",
      "[-0.4226 -0.5471 -0.7225]\t[-0.6616 -0.2356  0.0824  0.6878  0.0243  0.0024]\n",
      "[-0.8977  0.3622  0.2508]\t[-0.2449  0.5676 -0.3433 -0.     -0.     -0.7071]\n",
      "                         \t[-0.2449  0.5676 -0.3433  0.      0.      0.7071]\n",
      "\n"
     ]
    },
    {
     "data": {
      "text/html": [
       "<html><body><h3>Note that if we use the equation:</h3></body></html>"
      ],
      "text/plain": [
       "<IPython.core.display.HTML object>"
      ]
     },
     "metadata": {},
     "output_type": "display_data"
    }
   ],
   "source": [
    "\tjupyter_print('Therefore, we conclude that σ(K) = n*σ(Tn), we next verify the eigenvector eigenfunction relationship.\\n')\n",
    "\tjupyter_print('We first show the eigenvectors of K and eigenfunctions from Tn.')\n",
    "#\n",
    "\teigK = pretty_np_array(Vk, front_tab='', title='Eig of K', auto_print=False)\n",
    "\teigQ = pretty_np_array(Vq, front_tab='', title='Eig of Tn', auto_print=False)\n",
    "\tblock_two_string_concatenate(eigK, eigQ, spacing='\\t', add_titles=[], auto_print=True)\n",
    "#\n",
    "\tjupyter_print('Note that if we use the equation:')"
   ]
  },
  {
   "cell_type": "markdown",
   "metadata": {},
   "source": [
    "Given $f_i$ as the $i_{th}$ eigenfunction associated with the eigenvector of $K$ denoted as $v_i$.<br>\n",
    "Given $\\sigma_i$ as the eigenvalues of the integral operator (not from the kernel)<br>\n",
    "$$f_i = \\frac{1}{\\sqrt{n \\sigma_i}} \\Phi^T v_i$$"
   ]
  },
  {
   "cell_type": "markdown",
   "metadata": {},
   "source": [
    "Alternatively, if we let $\\lambda_i$ be the eigenvalues from the kernel matrix K, then the relationship would be<br>\n",
    "$$f_i = \\frac{1}{\\sqrt{\\lambda_i}} \\Phi^T v_i$$"
   ]
  },
  {
   "cell_type": "markdown",
   "metadata": {},
   "source": [
    "Note that<br>\n",
    "$$\\Phi^T = \\begin{bmatrix} \\phi(x_1) &  \\phi(x_2) & ... & \\phi(x_n) \\end{bmatrix}$$"
   ]
  },
  {
   "cell_type": "code",
   "execution_count": 40,
   "metadata": {},
   "outputs": [
    {
     "data": {
      "text/html": [
       "<html><body><h3>Notice how the eigenfunction computed from the eigenvectors is identical to the actual eigenfunctions !!!</h3></body></html>"
      ],
      "text/plain": [
       "<IPython.core.display.HTML object>"
      ]
     },
     "metadata": {},
     "output_type": "display_data"
    },
    {
     "name": "stdout",
     "output_type": "stream",
     "text": [
      "  Computed eig Function  \tTrue Eigen Function   \n",
      "[-0.4678  0.1666  0.0582]\t[-0.4678 -0.1666  0.0582]\n",
      "[-0.6616  0.2356  0.0824]\t[-0.6616 -0.2356  0.0824]\n",
      "[-0.2449 -0.5676 -0.3433]\t[-0.2449  0.5676 -0.3433]\n",
      "[-0.2449 -0.5676 -0.3433]\t[-0.2449  0.5676 -0.3433]\n",
      "[-0.4678  0.1666  0.0582]\t[-0.4678 -0.1666  0.0582]\n",
      "[-0.0683 -0.4946  0.8664]\t[-0.0683  0.4946  0.8664]\n",
      "                         \t\n",
      "\n",
      "\n"
     ]
    }
   ],
   "source": [
    "\tDq3 = Dq[0:3]\n",
    "\teigFun_from__eigV_of_K = (1/np.sqrt(n*Dq3))*((Q.T.dot(Vk)))\n",
    "\teigFun = Vq[:,0:3]\n",
    "#\n",
    "\tjupyter_print('Notice how the eigenfunction computed from the eigenvectors is identical to the actual eigenfunctions !!!')\n",
    "\teigFun_from__eigV_of_K = pretty_np_array(eigFun_from__eigV_of_K, front_tab='', title='Computed eig Function', auto_print=False)\n",
    "\teigFun = pretty_np_array(eigFun, front_tab='', title='True Eigen Function', auto_print=False)\n",
    "\tblock_two_string_concatenate(eigFun_from__eigV_of_K, eigFun, spacing='\\t', add_titles=[], auto_print=True)"
   ]
  }
 ],
 "metadata": {
  "kernelspec": {
   "display_name": "Python 3",
   "language": "python",
   "name": "python3"
  },
  "language_info": {
   "codemirror_mode": {
    "name": "ipython",
    "version": 3
   },
   "file_extension": ".py",
   "mimetype": "text/x-python",
   "name": "python",
   "nbconvert_exporter": "python",
   "pygments_lexer": "ipython3",
   "version": "3.8.10"
  }
 },
 "nbformat": 4,
 "nbformat_minor": 2
}
