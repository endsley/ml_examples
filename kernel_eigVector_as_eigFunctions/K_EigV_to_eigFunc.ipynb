{
 "cells": [
  {
   "cell_type": "code",
   "execution_count": 80,
   "metadata": {},
   "outputs": [],
   "source": [
    "#!/usr/bin/env python"
   ]
  },
  {
   "cell_type": "code",
   "execution_count": 81,
   "metadata": {},
   "outputs": [],
   "source": [
    "import numpy as np\n",
    "import sys\n",
    "from numpy.linalg import eig\n",
    "from numpy.linalg import svd\n",
    "from tools import *"
   ]
  },
  {
   "cell_type": "code",
   "execution_count": 82,
   "metadata": {},
   "outputs": [],
   "source": [
    "np.set_printoptions(precision=4)\n",
    "np.set_printoptions(threshold=30)\n",
    "np.set_printoptions(linewidth=300)\n",
    "np.set_printoptions(suppress=True)\n",
    "np.set_printoptions(threshold=sys.maxsize)"
   ]
  },
  {
   "cell_type": "markdown",
   "metadata": {},
   "source": [
    "This code tests Proposition 9 of the paper <br>\n",
    "ONLEARNING WITHINTEGRALOPERATORS<br>\n",
    "The idea is that we know what the relationship between eigenvectors of the kernel matrix and the eigen functions."
   ]
  },
  {
   "cell_type": "markdown",
   "metadata": {},
   "source": [
    "Given $\\psi_i$ as the feature map and $n$ as the number of samples, we define the integral operator $T_n$ as <br>\n",
    "$$T_n = \\frac{1}{n}\\sum_i \\psi_i(x_i) \\psi_i^T(x_i) $$"
   ]
  },
  {
   "cell_type": "markdown",
   "metadata": {},
   "source": [
    "In this experiment, we will use  the feature map of a polynomial kernel <br>\n",
    "$k(x,y) = (x^Ty + 1)^2$<br>\n",
    "We will assume that each sample has two dimensions, therefore the feature map is finite <br>\n",
    "$\\psi(x) = [x_1^2,  \\sqrt{2} x_1x_2, \\sqrt{2} x_1, \\sqrt{2} x_2, x_2^2, 1]$<br>\n",
    "By using this equation, we can compute Tn, the approximate integral operator. "
   ]
  },
  {
   "cell_type": "code",
   "execution_count": 83,
   "metadata": {},
   "outputs": [],
   "source": [
    "def polyK(X):\t# calculate the polynomial kernel matrix\n",
    "\tK = np.zeros((len(X), len(X)))\n",
    "\tfor i, x in enumerate(X):\n",
    "\t\tfor j, y in enumerate(X):\n",
    "\t\t\txi = x.reshape(len(x), 1)\n",
    "\t\t\tyi = y.reshape(len(y), 1)\n",
    "\t\t\tK[i,j] = (xi.T.dot(yi) + 1)**2\n",
    "\treturn K"
   ]
  },
  {
   "cell_type": "code",
   "execution_count": 84,
   "metadata": {},
   "outputs": [],
   "source": [
    "def Ψ(X):\t\t# this function takes x and calculate its feature map\n",
    "\tfm = np.empty((6, 0))\n",
    "\tc = np.sqrt(2)\n",
    "\tfor x in X:\n",
    "\t\t# feature map of polynomial [x₁ᒾ,  ᴄ x₁x₂, ᴄ x₁, c x₂, x₂ᒾ, 1]\n",
    "\t\tψ = np.array([[x[0]*x[0], c*x[0]*x[1], c*x[0], c*x[1], x[1]*x[1], 1]]).T\n",
    "\t\tfm = np.hstack((fm, ψ))\n",
    "\treturn fm.T"
   ]
  },
  {
   "cell_type": "code",
   "execution_count": 85,
   "metadata": {},
   "outputs": [],
   "source": [
    "if __name__ == \"__main__\":\n",
    "\tjprint = jupyter_print"
   ]
  },
  {
   "cell_type": "code",
   "execution_count": 86,
   "metadata": {},
   "outputs": [],
   "source": [
    "\tX = np.array([[1,1], [2,2], [3,3]])\n",
    "\tn = X.shape[0]\n",
    "\t#\t\n",
    "\tΨ = Ψ(X)\t\t\t\t\t\t# feature map\n",
    "\tK = polyK(X)\t\t\t\t\t# X to kernel matrix\n",
    "\t#\n",
    "\tTn = (1/n)*Ψ.T.dot(Ψ)\t\t\t# The approximate integral operator\n",
    "\t#\n",
    "\t[λ, V] = eig(K)\t\t\t\t# eigenvalue/vector of the kernel matrix\n",
    "\t[σ, U] = eig(Tn)\t\t\t\t# eigenvalue/function of the integral operator"
   ]
  },
  {
   "cell_type": "code",
   "execution_count": 87,
   "metadata": {},
   "outputs": [
    {
     "name": "stdout",
     "output_type": "stream",
     "text": [
      "      Eig Values of K       \tEig Values of Tn                   \n",
      "[447.3522   3.6082   0.0397]\t[149.1174   1.2027   0.0132  -0.       0.       0.    ]\n",
      "                            \t\n",
      "\n",
      "\n"
     ]
    },
    {
     "data": {
      "text/html": [
       "<html><body><h3> Eigenvalues after multiplied by n  Original eigenvalues    <br>[447.3522   3.6082   0.0397] = 3 *  [149.1174   1.2027   0.0132]<br>                                    <br><br></h3></body></html>"
      ],
      "text/plain": [
       "<IPython.core.display.HTML object>"
      ]
     },
     "metadata": {},
     "output_type": "display_data"
    }
   ],
   "source": [
    "\t#\n",
    "\teK = pretty_np_array(λ, front_tab='', title='Eig Values of K', auto_print=False)\n",
    "\teQ = pretty_np_array(σ, front_tab='', title='Eig Values of Tn', auto_print=False)\n",
    "\tblock_two_string_concatenate(eK, eQ, spacing='\\t', add_titles=[], auto_print=True)\n",
    "\t\n",
    "\t#Notice that the eigenvectors of K is not the same as $T_n$!!!\n",
    "\t#However if we multiply the eigenvalues by n, they become the same.\n",
    "#\n",
    "\tnσ = n*σ[0:3]\n",
    "\tσ_text = pretty_np_array(nσ, front_tab='', title='Eigenvalues after multiplied by n', auto_print=False, end_space=\" = 3 * \") \n",
    "\teQn = pretty_np_array(σ[0:3], front_tab='', title='Original eigenvalues', auto_print=False)\n",
    "\tdisplay1 = block_two_string_concatenate(σ_text, eQn, spacing=' ', add_titles=['Eigs'], auto_print=False)\n",
    "\tjprint(display1)"
   ]
  },
  {
   "cell_type": "markdown",
   "metadata": {},
   "source": [
    "Therefore, we conclude the relationship between eigenvalues of kernel matrix and $T_n$ is<br>\n",
    "$$\\mathbf{\\sigma(K) = n*\\sigma(T_n)}$$"
   ]
  },
  {
   "cell_type": "markdown",
   "metadata": {},
   "source": [
    "We next verify the eigenvector eigenfunction relationship.<br>\n",
    "We first show the eigenvectors of K and eigenfunctions from Tn"
   ]
  },
  {
   "cell_type": "code",
   "execution_count": 88,
   "metadata": {},
   "outputs": [
    {
     "name": "stdout",
     "output_type": "stream",
     "text": [
      "         Eig of K        \tEig of Tn                    \n",
      "[-0.1245 -0.7546  0.6442]\t[-0.4678 -0.1666  0.0582 -0.3224  0.6895 -0.0053]\n",
      "[-0.4226 -0.5471 -0.7225]\t[-0.6616 -0.2356  0.0824  0.6878  0.0243  0.0024]\n",
      "[-0.8977  0.3622  0.2508]\t[-0.2449  0.5676 -0.3433 -0.     -0.     -0.7071]\n",
      "                         \t[-0.2449  0.5676 -0.3433  0.      0.      0.7071]\n",
      "\n"
     ]
    }
   ],
   "source": [
    "\teigK = pretty_np_array(V, front_tab='', title='Eig of K', auto_print=False)\n",
    "\teigQ = pretty_np_array(U, front_tab='', title='Eig of Tn', auto_print=False)\n",
    "\tblock_two_string_concatenate(eigK, eigQ, spacing='\\t', add_titles=[], auto_print=True)\n",
    "#"
   ]
  },
  {
   "cell_type": "markdown",
   "metadata": {},
   "source": [
    "Given $\\phi_i$ as the $i_{th}$ eigenfunction associated with the eigenvector of $K$ denoted as $v_i$.<br>\n",
    "Given $\\sigma_i$ as the eigenvalues of the integral operator (not from the kernel)<br>\n",
    "Note that the relationship between the eigenvectors of K and eigenfunction is<br>\n",
    "$$\\phi_i = \\frac{1}{\\sqrt{n \\sigma_i}} \\Psi^T v_i$$"
   ]
  },
  {
   "cell_type": "markdown",
   "metadata": {},
   "source": [
    "where<br>\n",
    "$$\\Psi^T = \\begin{bmatrix} \\psi(x_1) &  \\psi(x_2) & ... & \\psi(x_n) \\end{bmatrix}$$"
   ]
  },
  {
   "cell_type": "markdown",
   "metadata": {},
   "source": [
    "Notice that our eigenvector eigenfunction relationship is slightly different from the equation proposed by <br>\n",
    "Rosasco, and that is because he has defined the kernel matrix differently. "
   ]
  },
  {
   "cell_type": "code",
   "execution_count": 89,
   "metadata": {},
   "outputs": [
    {
     "data": {
      "text/html": [
       "<html><body><h3>Notice how the eigenfunction computed from the eigenvectors is identical to the actual eigenfunctions !!!</h3></body></html>"
      ],
      "text/plain": [
       "<IPython.core.display.HTML object>"
      ]
     },
     "metadata": {},
     "output_type": "display_data"
    },
    {
     "name": "stdout",
     "output_type": "stream",
     "text": [
      "  Computed eig Function  \tTrue Eigen Function   \n",
      "[-0.4678  0.1666  0.0582]\t[-0.4678 -0.1666  0.0582]\n",
      "[-0.6616  0.2356  0.0824]\t[-0.6616 -0.2356  0.0824]\n",
      "[-0.2449 -0.5676 -0.3433]\t[-0.2449  0.5676 -0.3433]\n",
      "[-0.2449 -0.5676 -0.3433]\t[-0.2449  0.5676 -0.3433]\n",
      "[-0.4678  0.1666  0.0582]\t[-0.4678 -0.1666  0.0582]\n",
      "[-0.0683 -0.4946  0.8664]\t[-0.0683  0.4946  0.8664]\n",
      "                         \t\n",
      "\n",
      "\n"
     ]
    }
   ],
   "source": [
    "\tσ3 = σ[0:3]\n",
    "\teigFun_from__eigV_of_K = (1/np.sqrt(n*σ3))*((Ψ.T.dot(V)))\n",
    "\tϕ = U[:,0:3]\n",
    "#\n",
    "\tjprint('Notice how the eigenfunction computed from the eigenvectors is identical to the actual eigenfunctions !!!')\n",
    "\teigFun_from__eigV_of_K = pretty_np_array(eigFun_from__eigV_of_K, front_tab='', title='Computed eig Function', auto_print=False)\n",
    "\teigFun_str = pretty_np_array(ϕ, front_tab='', title='True Eigen Function', auto_print=False)\n",
    "\tblock_two_string_concatenate(eigFun_from__eigV_of_K, eigFun_str, spacing='\\t', add_titles=[], auto_print=True)"
   ]
  },
  {
   "cell_type": "markdown",
   "metadata": {},
   "source": [
    "Alternatively, if we let $\\lambda_i$ be the eigenvalues from the kernel matrix K, then the relationship would be<br>\n",
    "$$\\phi_i = \\frac{1}{\\sqrt{\\lambda_i}} \\Psi^T v_i$$"
   ]
  },
  {
   "cell_type": "code",
   "execution_count": 90,
   "metadata": {},
   "outputs": [
    {
     "data": {
      "text/html": [
       "<html><body><h3>Notice how the eigenfunction computed from the eigenvectors is identical to the actual eigenfunctions !!!</h3></body></html>"
      ],
      "text/plain": [
       "<IPython.core.display.HTML object>"
      ]
     },
     "metadata": {},
     "output_type": "display_data"
    },
    {
     "name": "stdout",
     "output_type": "stream",
     "text": [
      "  Computed eig Function  \tTrue Eigen Function   \n",
      "[-0.4678  0.1666  0.0582]\t[-0.4678 -0.1666  0.0582]\n",
      "[-0.6616  0.2356  0.0824]\t[-0.6616 -0.2356  0.0824]\n",
      "[-0.2449 -0.5676 -0.3433]\t[-0.2449  0.5676 -0.3433]\n",
      "[-0.2449 -0.5676 -0.3433]\t[-0.2449  0.5676 -0.3433]\n",
      "[-0.4678  0.1666  0.0582]\t[-0.4678 -0.1666  0.0582]\n",
      "[-0.0683 -0.4946  0.8664]\t[-0.0683  0.4946  0.8664]\n",
      "                         \t\n",
      "\n",
      "\n"
     ]
    }
   ],
   "source": [
    "\teigFun_from__eigV_of_K = (1/np.sqrt(λ))*((Ψ.T.dot(V)))\n",
    "\tϕ = U[:,0:3]\n",
    "#\n",
    "\tjprint('Notice how the eigenfunction computed from the eigenvectors is identical to the actual eigenfunctions !!!')\n",
    "\teigFun_from__eigV_of_K = pretty_np_array(eigFun_from__eigV_of_K, front_tab='', title='Computed eig Function', auto_print=False)\n",
    "\teigFun_str = pretty_np_array(ϕ, front_tab='', title='True Eigen Function', auto_print=False)\n",
    "\tblock_two_string_concatenate(eigFun_from__eigV_of_K, eigFun_str, spacing='\\t', add_titles=[], auto_print=True)"
   ]
  },
  {
   "cell_type": "markdown",
   "metadata": {},
   "source": [
    "Next, we can get the inverse relationship where we go from the eigenfunction back to the eigenvector. <br>\n",
    "We use the following derivation<br>\n",
    "$$\\phi_i = \\frac{1}{\\sqrt{\\lambda_i}} \\Psi^T v_i$$<br>\n",
    "$$\\Psi \\phi_i = \\frac{1}{\\sqrt{\\lambda_i}} \\Psi \\Psi^T v_i$$<br>\n",
    "$$\\Psi \\phi_i = \\frac{1}{\\sqrt{\\lambda_i}} K v_i$$<br>\n",
    "$$\\Psi \\phi_i = \\frac{\\lambda_i}{\\sqrt{\\lambda_i}} v_i$$<br>\n",
    "$$\\Psi \\phi_i = \\sqrt{\\lambda_i} v_i$$<br>\n",
    "$$\\frac{1}{\\sqrt{\\lambda_i}}\\Psi \\phi_i = v_i$$<br>\n",
    "$$\\frac{1}{\\sqrt{\\lambda_i}}\\Psi \\begin{bmatrix} f_1 & f_2 & .. \\end{bmatrix} = \\begin{bmatrix} v_1 & v_2 & .. \\end{bmatrix}$$"
   ]
  },
  {
   "cell_type": "code",
   "execution_count": 91,
   "metadata": {},
   "outputs": [
    {
     "name": "stdout",
     "output_type": "stream",
     "text": [
      "    Computed eigvector   \tTrue Eigenvector    \n",
      "[-0.1245  0.7546  0.6442]\t[-0.1245 -0.7546  0.6442]\n",
      "[-0.4226  0.5471 -0.7225]\t[-0.4226 -0.5471 -0.7225]\n",
      "[-0.8977 -0.3622  0.2508]\t[-0.8977  0.3622  0.2508]\n",
      "                         \t\n",
      "\n",
      "\n"
     ]
    }
   ],
   "source": [
    "\t\n",
    "\toriginal_u = (1/np.sqrt(λ))*((Ψ.dot(ϕ)))\n",
    "\tcomputedV = pretty_np_array(original_u, front_tab='', title='Computed eigvector', auto_print=False)\n",
    "\tactualV = pretty_np_array(V, front_tab='', title='True Eigenvector', auto_print=False)\n",
    "\tblock_two_string_concatenate(computedV, actualV, spacing='\\t', add_titles=[], auto_print=True)"
   ]
  },
  {
   "cell_type": "markdown",
   "metadata": {},
   "source": [
    "Lastly, note that you can map the data onto RKHS via the eigenfunctions $\\phi_i$ and reproduce the kernel"
   ]
  },
  {
   "cell_type": "code",
   "execution_count": 92,
   "metadata": {},
   "outputs": [],
   "source": [
    "\tL = Ψ.dot(ϕ)\n",
    "\tK2 = L.dot(L.T)"
   ]
  },
  {
   "cell_type": "code",
   "execution_count": 93,
   "metadata": {},
   "outputs": [
    {
     "name": "stdout",
     "output_type": "stream",
     "text": [
      "Computed eigvector\tTrue Eigenvector\n",
      "[  9.  25.  49]   \t[  9.  25.  49]\n",
      "[ 25.  81. 169]   \t[ 25.  81. 169]\n",
      "[ 49. 169. 361]   \t[ 49. 169. 361]\n",
      "                  \t\n",
      "\n",
      "\n"
     ]
    }
   ],
   "source": [
    "\tcomputedK = pretty_np_array(K2, front_tab='', title='Computed eigvector', auto_print=False)\n",
    "\tactualK = pretty_np_array(K, front_tab='', title='True Eigenvector', auto_print=False)\n",
    "\tblock_two_string_concatenate(computedK, actualK, spacing='\\t', add_titles=[], auto_print=True)"
   ]
  }
 ],
 "metadata": {
  "kernelspec": {
   "display_name": "Python 3",
   "language": "python",
   "name": "python3"
  },
  "language_info": {
   "codemirror_mode": {
    "name": "ipython",
    "version": 3
   },
   "file_extension": ".py",
   "mimetype": "text/x-python",
   "name": "python",
   "nbconvert_exporter": "python",
   "pygments_lexer": "ipython3",
   "version": "3.8.10"
  }
 },
 "nbformat": 4,
 "nbformat_minor": 2
}
