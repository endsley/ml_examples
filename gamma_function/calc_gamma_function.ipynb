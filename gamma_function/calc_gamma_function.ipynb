{
 "cells": [
  {
   "cell_type": "code",
   "execution_count": 1,
   "metadata": {
    "execution": {
     "iopub.execute_input": "2024-05-08T18:54:14.318033Z",
     "iopub.status.busy": "2024-05-08T18:54:14.317682Z",
     "iopub.status.idle": "2024-05-08T18:54:14.322918Z",
     "shell.execute_reply": "2024-05-08T18:54:14.321701Z"
    }
   },
   "outputs": [],
   "source": [
    "#!/usr/bin/env python"
   ]
  },
  {
   "cell_type": "code",
   "execution_count": 2,
   "metadata": {
    "execution": {
     "iopub.execute_input": "2024-05-08T18:54:14.326496Z",
     "iopub.status.busy": "2024-05-08T18:54:14.326231Z",
     "iopub.status.idle": "2024-05-08T18:54:14.609548Z",
     "shell.execute_reply": "2024-05-08T18:54:14.608728Z"
    }
   },
   "outputs": [],
   "source": [
    "import numpy as np\n",
    "from numpy import exp as e\n",
    "from numpy import inf as ᨖ\n",
    "from scipy.integrate import quad \n",
    "from scipy.special import gamma as Γᵦ"
   ]
  },
  {
   "cell_type": "markdown",
   "metadata": {},
   "source": [
    "The $\\Gamma(z)$ function is defined as <br>\n",
    "$$\\Gamma(z) = \\int_0^{\\infty} \\; t^{z-1} \\; e^{-t} \\; dt$$<br>\n",
    "It turns out that if $z$ happens to an integer, the integral simplies into<br>\n",
    "$$\\Gamma(z) = (z - 1)!$$"
   ]
  },
  {
   "cell_type": "markdown",
   "metadata": {},
   "source": [
    "My own defined Γ function."
   ]
  },
  {
   "cell_type": "code",
   "execution_count": 3,
   "metadata": {
    "execution": {
     "iopub.execute_input": "2024-05-08T18:54:14.613340Z",
     "iopub.status.busy": "2024-05-08T18:54:14.613187Z",
     "iopub.status.idle": "2024-05-08T18:54:14.616341Z",
     "shell.execute_reply": "2024-05-08T18:54:14.615751Z"
    }
   },
   "outputs": [],
   "source": [
    "def Γₐ(z):\n",
    "\tdef γ(t): return t**(z-1)*e(-t)\n",
    "\tarea , err = quad(γ, 0, ᨖ ) \n",
    "\treturn area"
   ]
  },
  {
   "cell_type": "code",
   "execution_count": 4,
   "metadata": {
    "execution": {
     "iopub.execute_input": "2024-05-08T18:54:14.619423Z",
     "iopub.status.busy": "2024-05-08T18:54:14.619275Z",
     "iopub.status.idle": "2024-05-08T18:54:14.623004Z",
     "shell.execute_reply": "2024-05-08T18:54:14.622404Z"
    }
   },
   "outputs": [
    {
     "name": "stdout",
     "output_type": "stream",
     "text": [
      "My own Γ implementation result : 8.8553\n",
      "Numpy Γ implementation result : 8.8553\n",
      "\n"
     ]
    }
   ],
   "source": [
    "print('My own Γ implementation result : %.4f' % Γₐ(4.3))\n",
    "print('Numpy Γ implementation result : %.4f\\n' % Γᵦ(4.3))"
   ]
  },
  {
   "cell_type": "code",
   "execution_count": 5,
   "metadata": {
    "execution": {
     "iopub.execute_input": "2024-05-08T18:54:14.658617Z",
     "iopub.status.busy": "2024-05-08T18:54:14.658331Z",
     "iopub.status.idle": "2024-05-08T18:54:14.664271Z",
     "shell.execute_reply": "2024-05-08T18:54:14.663328Z"
    }
   },
   "outputs": [
    {
     "name": "stdout",
     "output_type": "stream",
     "text": [
      "My own Γ implementation result : 6.0000\n",
      "Numpy Γ implementation result : 6.0000\n",
      "\n",
      "Integer z result : 6.0000\n",
      "\n"
     ]
    }
   ],
   "source": [
    "print('My own Γ implementation result : %.4f' % Γₐ(4))\n",
    "print('Numpy Γ implementation result : %.4f\\n' % Γᵦ(4))\n",
    "print('Integer z result : %.4f\\n' % (3*2))"
   ]
  }
 ],
 "metadata": {
  "kernelspec": {
   "display_name": "Python 3",
   "language": "python",
   "name": "python3"
  },
  "language_info": {
   "codemirror_mode": {
    "name": "ipython",
    "version": 3
   },
   "file_extension": ".py",
   "mimetype": "text/x-python",
   "name": "python",
   "nbconvert_exporter": "python",
   "pygments_lexer": "ipython3",
   "version": "3.8.10"
  }
 },
 "nbformat": 4,
 "nbformat_minor": 2
}
