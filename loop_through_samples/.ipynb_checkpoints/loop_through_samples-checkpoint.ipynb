{
 "cells": [
  {
   "cell_type": "code",
   "execution_count": 1,
   "metadata": {
    "execution": {
     "iopub.execute_input": "2024-09-10T19:32:51.383715Z",
     "iopub.status.busy": "2024-09-10T19:32:51.383092Z",
     "iopub.status.idle": "2024-09-10T19:32:51.392460Z",
     "shell.execute_reply": "2024-09-10T19:32:51.390301Z"
    }
   },
   "outputs": [],
   "source": [
    "#!/usr/bin/env python"
   ]
  },
  {
   "cell_type": "code",
   "execution_count": 2,
   "metadata": {
    "execution": {
     "iopub.execute_input": "2024-09-10T19:32:51.399813Z",
     "iopub.status.busy": "2024-09-10T19:32:51.399194Z",
     "iopub.status.idle": "2024-09-10T19:32:51.461026Z",
     "shell.execute_reply": "2024-09-10T19:32:51.460611Z"
    }
   },
   "outputs": [],
   "source": [
    "import numpy as np\n",
    "from numpy import array"
   ]
  },
  {
   "cell_type": "code",
   "execution_count": 3,
   "metadata": {
    "execution": {
     "iopub.execute_input": "2024-09-10T19:32:51.464191Z",
     "iopub.status.busy": "2024-09-10T19:32:51.463419Z",
     "iopub.status.idle": "2024-09-10T19:32:51.466684Z",
     "shell.execute_reply": "2024-09-10T19:32:51.466338Z"
    }
   },
   "outputs": [],
   "source": [
    "X = array([\t[2,1],\n",
    "\t\t\t[3,2],\n",
    "\t\t\t[1,0],\n",
    "\t\t\t[8,3]])"
   ]
  },
  {
   "cell_type": "markdown",
   "metadata": {},
   "source": [
    "default a is not in column format"
   ]
  },
  {
   "cell_type": "code",
   "execution_count": 4,
   "metadata": {
    "execution": {
     "iopub.execute_input": "2024-09-10T19:32:51.469358Z",
     "iopub.status.busy": "2024-09-10T19:32:51.468632Z",
     "iopub.status.idle": "2024-09-10T19:32:51.484567Z",
     "shell.execute_reply": "2024-09-10T19:32:51.484174Z"
    }
   },
   "outputs": [
    {
     "name": "stdout",
     "output_type": "stream",
     "text": [
      "[2 1]\n",
      "[3 2]\n",
      "[1 0]\n",
      "[8 3]\n"
     ]
    }
   ],
   "source": [
    "for xᵢ in X: print(xᵢ)\t"
   ]
  },
  {
   "cell_type": "markdown",
   "metadata": {},
   "source": [
    "ensure column format by reshaping"
   ]
  },
  {
   "cell_type": "code",
   "execution_count": 5,
   "metadata": {
    "execution": {
     "iopub.execute_input": "2024-09-10T19:32:51.500728Z",
     "iopub.status.busy": "2024-09-10T19:32:51.500577Z",
     "iopub.status.idle": "2024-09-10T19:32:51.502831Z",
     "shell.execute_reply": "2024-09-10T19:32:51.502537Z"
    }
   },
   "outputs": [
    {
     "name": "stdout",
     "output_type": "stream",
     "text": [
      "[[2]\n",
      " [1]]\n",
      "[[3]\n",
      " [2]]\n",
      "[[1]\n",
      " [0]]\n",
      "[[8]\n",
      " [3]]\n"
     ]
    }
   ],
   "source": [
    "for xᵢ in X: print(xᵢ.reshape((2,1)))\t"
   ]
  },
  {
   "cell_type": "markdown",
   "metadata": {},
   "source": [
    "$If you want to perform$<br>\n",
    "$$\\sum_{i=1}^4 x_i = x_1 + x_2 + x_3 + x_4$$"
   ]
  },
  {
   "cell_type": "code",
   "execution_count": 6,
   "metadata": {
    "execution": {
     "iopub.execute_input": "2024-09-10T19:32:51.504207Z",
     "iopub.status.busy": "2024-09-10T19:32:51.503993Z",
     "iopub.status.idle": "2024-09-10T19:32:51.506092Z",
     "shell.execute_reply": "2024-09-10T19:32:51.505805Z"
    }
   },
   "outputs": [
    {
     "name": "stdout",
     "output_type": "stream",
     "text": [
      "[[14]\n",
      " [ 6]]\n"
     ]
    }
   ],
   "source": [
    "y = np.array([[0],[0]])\n",
    "for xᵢ in X: y = y + xᵢ.reshape((2,1)) \n",
    "print(y)"
   ]
  },
  {
   "cell_type": "markdown",
   "metadata": {},
   "source": [
    "Or you can just do"
   ]
  },
  {
   "cell_type": "code",
   "execution_count": 7,
   "metadata": {
    "execution": {
     "iopub.execute_input": "2024-09-10T19:32:51.507522Z",
     "iopub.status.busy": "2024-09-10T19:32:51.507269Z",
     "iopub.status.idle": "2024-09-10T19:32:51.509128Z",
     "shell.execute_reply": "2024-09-10T19:32:51.508904Z"
    }
   },
   "outputs": [
    {
     "name": "stdout",
     "output_type": "stream",
     "text": [
      "[14  6]\n"
     ]
    }
   ],
   "source": [
    "print(np.sum(X, axis=0))"
   ]
  }
 ],
 "metadata": {
  "kernelspec": {
   "display_name": "Python 3",
   "language": "python",
   "name": "python3"
  },
  "language_info": {
   "codemirror_mode": {
    "name": "ipython",
    "version": 3
   },
   "file_extension": ".py",
   "mimetype": "text/x-python",
   "name": "python",
   "nbconvert_exporter": "python",
   "pygments_lexer": "ipython3",
   "version": "3.10.12"
  }
 },
 "nbformat": 4,
 "nbformat_minor": 2
}
