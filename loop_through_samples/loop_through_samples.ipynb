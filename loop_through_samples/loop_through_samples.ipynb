{
 "cells": [
  {
   "cell_type": "code",
   "execution_count": 1,
   "metadata": {
    "execution": {
     "iopub.execute_input": "2024-09-10T19:33:22.900297Z",
     "iopub.status.busy": "2024-09-10T19:33:22.899676Z",
     "iopub.status.idle": "2024-09-10T19:33:22.902979Z",
     "shell.execute_reply": "2024-09-10T19:33:22.902761Z"
    }
   },
   "outputs": [],
   "source": [
    "#!/usr/bin/env python"
   ]
  },
  {
   "cell_type": "code",
   "execution_count": 2,
   "metadata": {
    "execution": {
     "iopub.execute_input": "2024-09-10T19:33:22.904237Z",
     "iopub.status.busy": "2024-09-10T19:33:22.904144Z",
     "iopub.status.idle": "2024-09-10T19:33:22.944541Z",
     "shell.execute_reply": "2024-09-10T19:33:22.944135Z"
    }
   },
   "outputs": [],
   "source": [
    "import numpy as np\n",
    "from numpy import array"
   ]
  },
  {
   "cell_type": "code",
   "execution_count": 3,
   "metadata": {
    "execution": {
     "iopub.execute_input": "2024-09-10T19:33:22.947715Z",
     "iopub.status.busy": "2024-09-10T19:33:22.946940Z",
     "iopub.status.idle": "2024-09-10T19:33:22.950199Z",
     "shell.execute_reply": "2024-09-10T19:33:22.949858Z"
    }
   },
   "outputs": [],
   "source": [
    "X = array([\t[2,1],\n",
    "\t\t\t[3,2],\n",
    "\t\t\t[1,0],\n",
    "\t\t\t[8,3]])"
   ]
  },
  {
   "cell_type": "markdown",
   "metadata": {},
   "source": [
    "default a is not in column format"
   ]
  },
  {
   "cell_type": "code",
   "execution_count": 4,
   "metadata": {
    "execution": {
     "iopub.execute_input": "2024-09-10T19:33:22.952906Z",
     "iopub.status.busy": "2024-09-10T19:33:22.952181Z",
     "iopub.status.idle": "2024-09-10T19:33:22.983631Z",
     "shell.execute_reply": "2024-09-10T19:33:22.983180Z"
    }
   },
   "outputs": [
    {
     "name": "stdout",
     "output_type": "stream",
     "text": [
      "[2 1]\n",
      "[3 2]\n",
      "[1 0]\n",
      "[8 3]\n"
     ]
    }
   ],
   "source": [
    "for xᵢ in X: print(xᵢ)\t"
   ]
  },
  {
   "cell_type": "markdown",
   "metadata": {},
   "source": [
    "ensure column format by reshaping"
   ]
  },
  {
   "cell_type": "code",
   "execution_count": 5,
   "metadata": {
    "execution": {
     "iopub.execute_input": "2024-09-10T19:33:22.986037Z",
     "iopub.status.busy": "2024-09-10T19:33:22.985803Z",
     "iopub.status.idle": "2024-09-10T19:33:22.987979Z",
     "shell.execute_reply": "2024-09-10T19:33:22.987719Z"
    }
   },
   "outputs": [
    {
     "name": "stdout",
     "output_type": "stream",
     "text": [
      "[[2]\n",
      " [1]]\n",
      "[[3]\n",
      " [2]]\n",
      "[[1]\n",
      " [0]]\n",
      "[[8]\n",
      " [3]]\n"
     ]
    }
   ],
   "source": [
    "for xᵢ in X: print(xᵢ.reshape((2,1)))\t"
   ]
  },
  {
   "cell_type": "markdown",
   "metadata": {},
   "source": [
    "If you want to perform<br>\n",
    "$$\\sum_{i=1}^4 x_i = x_1 + x_2 + x_3 + x_4$$"
   ]
  },
  {
   "cell_type": "code",
   "execution_count": 6,
   "metadata": {
    "execution": {
     "iopub.execute_input": "2024-09-10T19:33:22.989321Z",
     "iopub.status.busy": "2024-09-10T19:33:22.989114Z",
     "iopub.status.idle": "2024-09-10T19:33:22.991193Z",
     "shell.execute_reply": "2024-09-10T19:33:22.990962Z"
    }
   },
   "outputs": [
    {
     "name": "stdout",
     "output_type": "stream",
     "text": [
      "[[14]\n",
      " [ 6]]\n"
     ]
    }
   ],
   "source": [
    "y = np.array([[0],[0]])\n",
    "for xᵢ in X: y = y + xᵢ.reshape((2,1)) \n",
    "print(y)"
   ]
  },
  {
   "cell_type": "markdown",
   "metadata": {},
   "source": [
    "Or you can just do"
   ]
  },
  {
   "cell_type": "code",
   "execution_count": 7,
   "metadata": {
    "execution": {
     "iopub.execute_input": "2024-09-10T19:33:22.992398Z",
     "iopub.status.busy": "2024-09-10T19:33:22.992285Z",
     "iopub.status.idle": "2024-09-10T19:33:22.994193Z",
     "shell.execute_reply": "2024-09-10T19:33:22.993971Z"
    }
   },
   "outputs": [
    {
     "name": "stdout",
     "output_type": "stream",
     "text": [
      "[14  6]\n"
     ]
    }
   ],
   "source": [
    "print(np.sum(X, axis=0))"
   ]
  }
 ],
 "metadata": {
  "kernelspec": {
   "display_name": "Python 3 (ipykernel)",
   "language": "python",
   "name": "python3"
  },
  "language_info": {
   "codemirror_mode": {
    "name": "ipython",
    "version": 3
   },
   "file_extension": ".py",
   "mimetype": "text/x-python",
   "name": "python",
   "nbconvert_exporter": "python",
   "pygments_lexer": "ipython3",
   "version": "3.10.12"
  }
 },
 "nbformat": 4,
 "nbformat_minor": 4
}
