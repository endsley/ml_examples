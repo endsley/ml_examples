{
 "cells": [
  {
   "cell_type": "code",
   "execution_count": 1,
   "metadata": {},
   "outputs": [],
   "source": [
    "#!/usr/bin/env python"
   ]
  },
  {
   "cell_type": "markdown",
   "metadata": {},
   "source": [
    "This code tests the idea of random SVD. <br>\n",
    "Random SVD is a way of performing fasters SVD by randomly <br>\n",
    "project the data down to a lower dimension. "
   ]
  },
  {
   "cell_type": "markdown",
   "metadata": {},
   "source": [
    "**Method**<br>\n",
    "Suppose we have Q matrix with orthonormal columns with the properties : <br>\n",
    "$$ K \\approx QQ^* K$$<br>\n",
    "that is, ideally $QQ^* = I$ "
   ]
  },
  {
   "cell_type": "markdown",
   "metadata": {},
   "source": [
    "The idea of random svd, is that if we know Q, we can perform svd on <br>\n",
    "the significantly smaller matrix of $Q^*K$ with the following derivation<br>\n",
    "$$ K \\approx Q (Q^* K)$$<br>\n",
    "$$ K \\approx Q (M)$$<br>\n",
    "$$ K \\approx Q (UΣV^T)$$"
   ]
  },
  {
   "cell_type": "markdown",
   "metadata": {},
   "source": [
    "Note that $M = UΣV^T$"
   ]
  },
  {
   "cell_type": "markdown",
   "metadata": {},
   "source": [
    "Notice that while $K \\in \\mathbb{R}^{n \\times n}$ the dimension of $Q^*K$ is $\\mathbb{R}^{n \\times q}$ where $q$ is very small.<br>\n",
    "(Note: q is normally just set to values between 10 to 20)<br>\n",
    "Since $q$ is small the svd of $(Q^* K)$ is performed on a $q \\times q$ matrix.<br>\n",
    "This can be done very cheap. "
   ]
  },
  {
   "cell_type": "markdown",
   "metadata": {},
   "source": [
    "Once you have performed SVD on $(Q^* K) = UΣV^T$, the eigenvector the K is<br>\n",
    "$$eigV(K) \\approx QU$$"
   ]
  },
  {
   "cell_type": "markdown",
   "metadata": {},
   "source": [
    "The key question is \"How do we get Q?\", this is normally done by first generating<br>\n",
    "a matrix $\\Omega \\in \\mathbb{R}^{n \\times q}$ filled by normal Gaussian distribution<br>\n",
    " We project the K onto $\\Omega$ <br>\n",
    "$$Y = K\\Omega$$"
   ]
  },
  {
   "cell_type": "markdown",
   "metadata": {},
   "source": [
    "Note that $Y$ only has $q$ columns and a QR decomposition can be very cheaply conducted <br>\n",
    "when there are few columns. <br>\n",
    "$$ [Q,R] = qr(Y)$$"
   ]
  },
  {
   "cell_type": "markdown",
   "metadata": {},
   "source": [
    "This allows us to get the Q matrix where $QQ^* = I$"
   ]
  },
  {
   "cell_type": "code",
   "execution_count": 2,
   "metadata": {},
   "outputs": [],
   "source": [
    "import numpy as np\n",
    "import sklearn\n",
    "import sklearn.metrics\n",
    "from sklearn.metrics import mean_absolute_error\n",
    "from tools import *"
   ]
  },
  {
   "cell_type": "code",
   "execution_count": 3,
   "metadata": {},
   "outputs": [],
   "source": [
    "X = csv_load('../dataset/wine.csv', shuffle_samples=True)\n",
    "n = X.shape[0]\t\t# number of total samples\n",
    "γ = get_rbf_γ(X)\t# γ used for the gaussian kerenl"
   ]
  },
  {
   "cell_type": "code",
   "execution_count": 4,
   "metadata": {},
   "outputs": [
    {
     "name": "stdout",
     "output_type": "stream",
     "text": [
      "(178, 10)\n"
     ]
    }
   ],
   "source": [
    "K = sklearn.metrics.pairwise.rbf_kernel(X, gamma=γ)\n",
    "Ω = np.random.randn(n,10)\n",
    "Y = K.dot(Ω) #note that Y is a tall and smaller matrix compared to K, therefore QR is cheaper\n",
    "print(Y.shape)"
   ]
  },
  {
   "cell_type": "code",
   "execution_count": 5,
   "metadata": {},
   "outputs": [
    {
     "name": "stdout",
     "output_type": "stream",
     "text": [
      "(10, 10)\n",
      "(178, 10)\n"
     ]
    }
   ],
   "source": [
    "[Q,R] = np.linalg.qr(Y)\n",
    "M = Q.T.dot(K)\n",
    "[Ū, Σ, Vᵀ] = np.linalg.svd(M)\n",
    "U = Q.dot(Ū)\t\t\n",
    "print(Ū.shape)\t\t\t\t\t\t#notice that Ū is very small\n",
    "print(U.shape)\t\t\t\t\t\t#notice that U is large"
   ]
  },
  {
   "cell_type": "markdown",
   "metadata": {},
   "source": [
    "Compute the actual eigenvectors of K"
   ]
  },
  {
   "cell_type": "code",
   "execution_count": 6,
   "metadata": {},
   "outputs": [],
   "source": [
    "[Λ,V] = np.linalg.eig(K)"
   ]
  },
  {
   "cell_type": "markdown",
   "metadata": {},
   "source": [
    "Visually compare the two eigenvectors"
   ]
  },
  {
   "cell_type": "code",
   "execution_count": 7,
   "metadata": {},
   "outputs": [
    {
     "name": "stdout",
     "output_type": "stream",
     "text": [
      "     Approximate eigV    \tActual eigV       \n",
      "[ 0.0265 -0.1271  0.105 ]\t[-0.0265 -0.1272 -0.1049]\n",
      "[ 0.0553 -0.1164 -0.0307]\t[-0.0553 -0.1164  0.0307]\n",
      "[ 0.0936  0.0288 -0.0144]\t[-0.0936  0.0287  0.0145]\n",
      "[ 0.0398 -0.1312  0.039 ]\t[-0.0398 -0.1312 -0.039 ]\n",
      "[ 0.0445 -0.1285  0.0163]\t[-0.0445 -0.1285 -0.0163]\n",
      "[ 0.0681 -0.0928 -0.0716]\t[-0.0681 -0.0927  0.0715]\n",
      "[ 0.0915 -0.0098 -0.0668]\t[-0.0915 -0.0099  0.0668]\n",
      "[ 0.0892  0.0525  0.0371]\t[-0.0892  0.0524 -0.0371]\n",
      "[ 0.0697  0.0677  0.1033]\t[-0.0697  0.0678 -0.1034]\n",
      "[ 0.0857 -0.0397 -0.0864]\t[-0.0857 -0.0397  0.0863]\n",
      "[ 0.0739 -0.0784 -0.0831]\t[-0.0739 -0.0784  0.083 ]\n",
      "[ 0.0185 -0.1133  0.137 ]\t[-0.0186 -0.1134 -0.1369]\n",
      "[ 0.0602  0.0657  0.1132]\t[-0.0602  0.0656 -0.1131]\n",
      "[ 0.0933  0.0346 -0.0038]\t[-0.0933  0.0345  0.0038]\n",
      "[ 0.0828  0.0628  0.07  ]\t[-0.0828  0.0628 -0.07  ]\n",
      "[ 0.0737 -0.0785 -0.0832]\t[-0.0737 -0.0785  0.0832]\n",
      "[ 0.0906 -0.016  -0.0721]\t[-0.0906 -0.016   0.0721]\n",
      "[ 0.068  -0.093  -0.0712]\t[-0.0679 -0.093   0.0711]\n",
      "[ 0.0724 -0.0822 -0.0809]\t[-0.0724 -0.0822  0.0809]\n",
      "[ 0.019  -0.1144  0.1354]\t[-0.0189 -0.1142 -0.1355]\n",
      "                         \t\n",
      "\n",
      "\n"
     ]
    },
    {
     "data": {
      "text/html": [
       "<html><body><h3>The mean absolute error is : 0.098</h3></body></html>"
      ],
      "text/plain": [
       "<IPython.core.display.HTML object>"
      ]
     },
     "metadata": {},
     "output_type": "display_data"
    }
   ],
   "source": [
    "MAE = mean_absolute_error(V[:,0:4], U[:,0:4])\n",
    "print_two_matrices_side_by_side(U[30:50,0:3], V[30:50,0:3], title1='Approximate eigV', title2='Actual eigV', auto_print=True)\n",
    "jupyter_print('The mean absolute error is : %.3f'% MAE)"
   ]
  }
 ],
 "metadata": {
  "kernelspec": {
   "display_name": "Python 3",
   "language": "python",
   "name": "python3"
  },
  "language_info": {
   "codemirror_mode": {
    "name": "ipython",
    "version": 3
   },
   "file_extension": ".py",
   "mimetype": "text/x-python",
   "name": "python",
   "nbconvert_exporter": "python",
   "pygments_lexer": "ipython3",
   "version": "3.8.10"
  }
 },
 "nbformat": 4,
 "nbformat_minor": 2
}
