{
 "cells": [
  {
   "cell_type": "code",
   "execution_count": 1,
   "metadata": {
    "execution": {
     "iopub.execute_input": "2024-11-30T18:09:14.277779Z",
     "iopub.status.busy": "2024-11-30T18:09:14.277310Z",
     "iopub.status.idle": "2024-11-30T18:09:14.283474Z",
     "shell.execute_reply": "2024-11-30T18:09:14.282227Z"
    }
   },
   "outputs": [],
   "source": [
    "#!/usr/bin/env python"
   ]
  },
  {
   "cell_type": "code",
   "execution_count": 2,
   "metadata": {
    "execution": {
     "iopub.execute_input": "2024-11-30T18:09:14.287266Z",
     "iopub.status.busy": "2024-11-30T18:09:14.287021Z",
     "iopub.status.idle": "2024-11-30T18:09:14.426164Z",
     "shell.execute_reply": "2024-11-30T18:09:14.425373Z"
    }
   },
   "outputs": [],
   "source": [
    "import numpy as np\n",
    "from numpy import round"
   ]
  },
  {
   "cell_type": "markdown",
   "metadata": {},
   "source": [
    "random starting w "
   ]
  },
  {
   "cell_type": "code",
   "execution_count": 3,
   "metadata": {
    "execution": {
     "iopub.execute_input": "2024-11-30T18:09:14.429857Z",
     "iopub.status.busy": "2024-11-30T18:09:14.429648Z",
     "iopub.status.idle": "2024-11-30T18:09:14.434072Z",
     "shell.execute_reply": "2024-11-30T18:09:14.433346Z"
    }
   },
   "outputs": [],
   "source": [
    "w = np.array([[1],[1],[1]])\n",
    "Φ = np.array([\t[0,1,1],\n",
    "\t\t\t\t[1,0,1],\n",
    "\t\t\t\t[3,2,1],\n",
    "\t\t\t\t[3,3,1]])\n",
    "n = 4\n",
    "y = np.array(\t[[0],\n",
    "\t\t\t\t [0],\n",
    "\t\t\t\t [1],\n",
    "\t\t\t\t [1]])"
   ]
  },
  {
   "cell_type": "markdown",
   "metadata": {},
   "source": [
    "$$ q(x=1|w) = \\frac{1}{1 + e^{-\\phi(x)^{\\top} w}}  $$"
   ]
  },
  {
   "cell_type": "code",
   "execution_count": 4,
   "metadata": {
    "execution": {
     "iopub.execute_input": "2024-11-30T18:09:14.437596Z",
     "iopub.status.busy": "2024-11-30T18:09:14.437391Z",
     "iopub.status.idle": "2024-11-30T18:09:14.441187Z",
     "shell.execute_reply": "2024-11-30T18:09:14.440597Z"
    }
   },
   "outputs": [],
   "source": [
    "def q(x=None, X=None, w=None):\n",
    "\tif X is None:\n",
    "\t\treturn 1/(1 + np.exp(-x.T.dot(w)))\n",
    "\telse:\n",
    "\t\treturn 1/(1 + np.exp(-X.dot(w)))"
   ]
  },
  {
   "cell_type": "markdown",
   "metadata": {},
   "source": [
    "Using summation derivative<br>\n",
    "$$ \\frac{dL}{dw} = \\frac{1}{n} \\sum_i (q(x_i=1|w) - p(x_i = 1)) \\phi(x_i)$$"
   ]
  },
  {
   "cell_type": "code",
   "execution_count": 5,
   "metadata": {
    "execution": {
     "iopub.execute_input": "2024-11-30T18:09:14.444490Z",
     "iopub.status.busy": "2024-11-30T18:09:14.444285Z",
     "iopub.status.idle": "2024-11-30T18:09:14.448410Z",
     "shell.execute_reply": "2024-11-30T18:09:14.447668Z"
    }
   },
   "outputs": [],
   "source": [
    "def dL_1(Φ, y, w):\n",
    "\tL = 0\n",
    "\tfor i, j in enumerate(Φ):\n",
    "\t\tx = j.reshape(3,1)\n",
    "\t\tL += (q(x, None, w) - y[i])*x\n",
    "\tdL_dθ = L/n\n",
    "\treturn dL_dθ"
   ]
  },
  {
   "cell_type": "markdown",
   "metadata": {},
   "source": [
    "Using Compact Matrix derivative<br>\n",
    "$$ \\frac{dL}{dw} = \\frac{1}{n} \\Phi^{\\top} (σ(X) - y) $$"
   ]
  },
  {
   "cell_type": "code",
   "execution_count": 6,
   "metadata": {
    "execution": {
     "iopub.execute_input": "2024-11-30T18:09:14.451935Z",
     "iopub.status.busy": "2024-11-30T18:09:14.451730Z",
     "iopub.status.idle": "2024-11-30T18:09:14.455263Z",
     "shell.execute_reply": "2024-11-30T18:09:14.454586Z"
    }
   },
   "outputs": [],
   "source": [
    "def dL_2(Φ, y, w):\n",
    "\treturn Φ.T.dot(q(None, Φ, w) - y)/n"
   ]
  },
  {
   "cell_type": "code",
   "execution_count": 7,
   "metadata": {
    "execution": {
     "iopub.execute_input": "2024-11-30T18:09:14.458370Z",
     "iopub.status.busy": "2024-11-30T18:09:14.458165Z",
     "iopub.status.idle": "2024-11-30T18:09:14.461840Z",
     "shell.execute_reply": "2024-11-30T18:09:14.461051Z"
    }
   },
   "outputs": [],
   "source": [
    "def gradient_descent(Φ, y, w, η):\n",
    "\tfor i in range(2000):\n",
    "\t\t#w = w - η*dL_1(Φ, y, w)\n",
    "\t\tw = w - η*dL_2(Φ, y, w)\n",
    "\treturn w"
   ]
  },
  {
   "cell_type": "code",
   "execution_count": 8,
   "metadata": {
    "execution": {
     "iopub.execute_input": "2024-11-30T18:09:14.465237Z",
     "iopub.status.busy": "2024-11-30T18:09:14.465004Z",
     "iopub.status.idle": "2024-11-30T18:09:14.514632Z",
     "shell.execute_reply": "2024-11-30T18:09:14.513947Z"
    }
   },
   "outputs": [
    {
     "name": "stdout",
     "output_type": "stream",
     "text": [
      "Starting Prediction (bad)\n",
      "[0.88079708]\n",
      "[0.88079708]\n",
      "[0.99752738]\n",
      "[0.99908895]\n"
     ]
    }
   ],
   "source": [
    "print('Starting Prediction (bad)')\n",
    "for x in Φ: print(q(x, None, w))\n",
    "w = gradient_descent(Φ, y, w, 0.1)"
   ]
  },
  {
   "cell_type": "code",
   "execution_count": 9,
   "metadata": {
    "execution": {
     "iopub.execute_input": "2024-11-30T18:09:14.593791Z",
     "iopub.status.busy": "2024-11-30T18:09:14.593492Z",
     "iopub.status.idle": "2024-11-30T18:09:14.600345Z",
     "shell.execute_reply": "2024-11-30T18:09:14.599366Z"
    }
   },
   "outputs": [
    {
     "name": "stdout",
     "output_type": "stream",
     "text": [
      "\n",
      "Prediction After GD (good)\n",
      "[0.01665772]\n",
      "[0.02622666]\n",
      "[0.98955987]\n",
      "[0.9982758]\n"
     ]
    }
   ],
   "source": [
    "print('\\nPrediction After GD (good)')\n",
    "for x in Φ: print(q(x, None, w))"
   ]
  },
  {
   "cell_type": "code",
   "execution_count": 10,
   "metadata": {
    "execution": {
     "iopub.execute_input": "2024-11-30T18:09:14.603887Z",
     "iopub.status.busy": "2024-11-30T18:09:14.603584Z",
     "iopub.status.idle": "2024-11-30T18:09:14.610494Z",
     "shell.execute_reply": "2024-11-30T18:09:14.609857Z"
    }
   },
   "outputs": [
    {
     "name": "stdout",
     "output_type": "stream",
     "text": [
      "\n",
      "Final Prediction is displayed with rounding\n",
      "[0.]\n",
      "[0.]\n",
      "[1.]\n",
      "[1.]\n"
     ]
    }
   ],
   "source": [
    "print('\\nFinal Prediction is displayed with rounding')\n",
    "for x in Φ: print(round(q(x, None, w)))"
   ]
  }
 ],
 "metadata": {
  "kernelspec": {
   "display_name": "Python 3",
   "language": "python",
   "name": "python3"
  },
  "language_info": {
   "codemirror_mode": {
    "name": "ipython",
    "version": 3
   },
   "file_extension": ".py",
   "mimetype": "text/x-python",
   "name": "python",
   "nbconvert_exporter": "python",
   "pygments_lexer": "ipython3",
   "version": "3.8.10"
  }
 },
 "nbformat": 4,
 "nbformat_minor": 2
}
