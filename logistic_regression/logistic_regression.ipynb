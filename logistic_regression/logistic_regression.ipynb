{
 "cells": [
  {
   "cell_type": "code",
   "execution_count": 1,
   "metadata": {
    "execution": {
     "iopub.execute_input": "2024-10-23T21:58:27.815621Z",
     "iopub.status.busy": "2024-10-23T21:58:27.815151Z",
     "iopub.status.idle": "2024-10-23T21:58:27.821260Z",
     "shell.execute_reply": "2024-10-23T21:58:27.820145Z"
    }
   },
   "outputs": [],
   "source": [
    "#!/usr/bin/env python"
   ]
  },
  {
   "cell_type": "code",
   "execution_count": 2,
   "metadata": {
    "execution": {
     "iopub.execute_input": "2024-10-23T21:58:27.825006Z",
     "iopub.status.busy": "2024-10-23T21:58:27.824756Z",
     "iopub.status.idle": "2024-10-23T21:58:27.959648Z",
     "shell.execute_reply": "2024-10-23T21:58:27.958741Z"
    }
   },
   "outputs": [],
   "source": [
    "import numpy as np"
   ]
  },
  {
   "cell_type": "markdown",
   "metadata": {},
   "source": [
    "random starting w "
   ]
  },
  {
   "cell_type": "code",
   "execution_count": 3,
   "metadata": {
    "execution": {
     "iopub.execute_input": "2024-10-23T21:58:27.963536Z",
     "iopub.status.busy": "2024-10-23T21:58:27.963341Z",
     "iopub.status.idle": "2024-10-23T21:58:27.966694Z",
     "shell.execute_reply": "2024-10-23T21:58:27.966003Z"
    }
   },
   "outputs": [],
   "source": [
    "w = np.array([[1],[1],[1]])\n",
    "Φ = np.array([\t[0,1,1],\n",
    "\t\t\t\t[1,0,1],\n",
    "\t\t\t\t[3,2,1],\n",
    "\t\t\t\t[3,3,1]])"
   ]
  },
  {
   "cell_type": "code",
   "execution_count": 4,
   "metadata": {
    "execution": {
     "iopub.execute_input": "2024-10-23T21:58:27.969934Z",
     "iopub.status.busy": "2024-10-23T21:58:27.969752Z",
     "iopub.status.idle": "2024-10-23T21:58:27.972725Z",
     "shell.execute_reply": "2024-10-23T21:58:27.972063Z"
    }
   },
   "outputs": [],
   "source": [
    "y = np.array(\t[[0],\n",
    "\t\t\t\t [0],\n",
    "\t\t\t\t [1],\n",
    "\t\t\t\t [1]])"
   ]
  },
  {
   "cell_type": "markdown",
   "metadata": {},
   "source": [
    "$$ q(x=1|w) = \\frac{1}{1 + e^{-\\phi(x)^{\\top} w}}  $$"
   ]
  },
  {
   "cell_type": "code",
   "execution_count": 5,
   "metadata": {
    "execution": {
     "iopub.execute_input": "2024-10-23T21:58:27.975653Z",
     "iopub.status.busy": "2024-10-23T21:58:27.975472Z",
     "iopub.status.idle": "2024-10-23T21:58:27.978610Z",
     "shell.execute_reply": "2024-10-23T21:58:27.977876Z"
    }
   },
   "outputs": [],
   "source": [
    "def q(x, w):\n",
    "\treturn 1/(1 + np.exp(-x.T.dot(w)))"
   ]
  },
  {
   "cell_type": "markdown",
   "metadata": {},
   "source": [
    "$$ \\frac{dL}{dw} = \\frac{1}{n} \\sum_i (q(x_i=1|w) - p(x_i = 1)) \\phi(x_i)$$"
   ]
  },
  {
   "cell_type": "code",
   "execution_count": 6,
   "metadata": {
    "execution": {
     "iopub.execute_input": "2024-10-23T21:58:27.981706Z",
     "iopub.status.busy": "2024-10-23T21:58:27.981481Z",
     "iopub.status.idle": "2024-10-23T21:58:27.985824Z",
     "shell.execute_reply": "2024-10-23T21:58:27.984950Z"
    }
   },
   "outputs": [],
   "source": [
    "def dL(Φ, y, w):\n",
    "\tL = 0\n",
    "\tfor i, j in enumerate(Φ):\n",
    "\t\tx = j.reshape(3,1)\n",
    "\t\tL += (q(x, w) - y[i])*x\n",
    "\tdL_dθ = L/len(Φ)\t\n",
    "\treturn dL_dθ"
   ]
  },
  {
   "cell_type": "code",
   "execution_count": 7,
   "metadata": {
    "execution": {
     "iopub.execute_input": "2024-10-23T21:58:27.989022Z",
     "iopub.status.busy": "2024-10-23T21:58:27.988800Z",
     "iopub.status.idle": "2024-10-23T21:58:27.992635Z",
     "shell.execute_reply": "2024-10-23T21:58:27.991848Z"
    }
   },
   "outputs": [],
   "source": [
    "def gradient_descent(Φ, y, w, η):\n",
    "\tfor i in range(2000):\n",
    "\t\tw = w - η*dL(Φ, y, w)\n",
    "\treturn w"
   ]
  },
  {
   "cell_type": "code",
   "execution_count": 8,
   "metadata": {
    "execution": {
     "iopub.execute_input": "2024-10-23T21:58:27.996045Z",
     "iopub.status.busy": "2024-10-23T21:58:27.995820Z",
     "iopub.status.idle": "2024-10-23T21:58:28.132005Z",
     "shell.execute_reply": "2024-10-23T21:58:28.131497Z"
    }
   },
   "outputs": [
    {
     "name": "stdout",
     "output_type": "stream",
     "text": [
      "Starting Prediction (bad)\n",
      "[0.88079708]\n",
      "[0.88079708]\n",
      "[0.99752738]\n",
      "[0.99908895]\n"
     ]
    }
   ],
   "source": [
    "print('Starting Prediction (bad)')\n",
    "for x in Φ: print(q(x, w))\n",
    "w = gradient_descent(Φ, y, w, 0.1)"
   ]
  },
  {
   "cell_type": "code",
   "execution_count": 9,
   "metadata": {
    "execution": {
     "iopub.execute_input": "2024-10-23T21:58:28.171901Z",
     "iopub.status.busy": "2024-10-23T21:58:28.171640Z",
     "iopub.status.idle": "2024-10-23T21:58:28.177629Z",
     "shell.execute_reply": "2024-10-23T21:58:28.176892Z"
    }
   },
   "outputs": [
    {
     "name": "stdout",
     "output_type": "stream",
     "text": [
      "\n",
      "Prediction After GD (good)\n",
      "[0.01665772]\n",
      "[0.02622666]\n",
      "[0.98955987]\n",
      "[0.9982758]\n"
     ]
    }
   ],
   "source": [
    "print('\\nPrediction After GD (good)')\n",
    "for x in Φ: print(q(x, w))"
   ]
  }
 ],
 "metadata": {
  "kernelspec": {
   "display_name": "Python 3",
   "language": "python",
   "name": "python3"
  },
  "language_info": {
   "codemirror_mode": {
    "name": "ipython",
    "version": 3
   },
   "file_extension": ".py",
   "mimetype": "text/x-python",
   "name": "python",
   "nbconvert_exporter": "python",
   "pygments_lexer": "ipython3",
   "version": "3.8.10"
  }
 },
 "nbformat": 4,
 "nbformat_minor": 2
}
