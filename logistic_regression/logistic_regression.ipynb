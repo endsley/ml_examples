{
 "cells": [
  {
   "cell_type": "code",
   "execution_count": 1,
   "metadata": {
    "execution": {
     "iopub.execute_input": "2024-10-25T13:37:37.068285Z",
     "iopub.status.busy": "2024-10-25T13:37:37.067650Z",
     "iopub.status.idle": "2024-10-25T13:37:37.071669Z",
     "shell.execute_reply": "2024-10-25T13:37:37.071443Z"
    }
   },
   "outputs": [],
   "source": [
    "#!/usr/bin/env python"
   ]
  },
  {
   "cell_type": "code",
   "execution_count": 2,
   "metadata": {
    "execution": {
     "iopub.execute_input": "2024-10-25T13:37:37.076666Z",
     "iopub.status.busy": "2024-10-25T13:37:37.076071Z",
     "iopub.status.idle": "2024-10-25T13:37:37.130598Z",
     "shell.execute_reply": "2024-10-25T13:37:37.130177Z"
    }
   },
   "outputs": [],
   "source": [
    "import numpy as np\n",
    "from numpy import round"
   ]
  },
  {
   "cell_type": "markdown",
   "metadata": {},
   "source": [
    "random starting w "
   ]
  },
  {
   "cell_type": "code",
   "execution_count": 3,
   "metadata": {
    "execution": {
     "iopub.execute_input": "2024-10-25T13:37:37.132870Z",
     "iopub.status.busy": "2024-10-25T13:37:37.132573Z",
     "iopub.status.idle": "2024-10-25T13:37:37.135215Z",
     "shell.execute_reply": "2024-10-25T13:37:37.134874Z"
    }
   },
   "outputs": [],
   "source": [
    "w = np.array([[1],[1],[1]])\n",
    "Φ = np.array([\t[0,1,1],\n",
    "\t\t\t\t[1,0,1],\n",
    "\t\t\t\t[3,2,1],\n",
    "\t\t\t\t[3,3,1]])"
   ]
  },
  {
   "cell_type": "code",
   "execution_count": 4,
   "metadata": {
    "execution": {
     "iopub.execute_input": "2024-10-25T13:37:37.137603Z",
     "iopub.status.busy": "2024-10-25T13:37:37.136865Z",
     "iopub.status.idle": "2024-10-25T13:37:37.139974Z",
     "shell.execute_reply": "2024-10-25T13:37:37.139620Z"
    }
   },
   "outputs": [],
   "source": [
    "y = np.array(\t[[0],\n",
    "\t\t\t\t [0],\n",
    "\t\t\t\t [1],\n",
    "\t\t\t\t [1]])"
   ]
  },
  {
   "cell_type": "markdown",
   "metadata": {},
   "source": [
    "$$ q(x=1|w) = \\frac{1}{1 + e^{-\\phi(x)^{\\top} w}}  $$"
   ]
  },
  {
   "cell_type": "code",
   "execution_count": 5,
   "metadata": {
    "execution": {
     "iopub.execute_input": "2024-10-25T13:37:37.142034Z",
     "iopub.status.busy": "2024-10-25T13:37:37.141758Z",
     "iopub.status.idle": "2024-10-25T13:37:37.144064Z",
     "shell.execute_reply": "2024-10-25T13:37:37.143726Z"
    }
   },
   "outputs": [],
   "source": [
    "def q(x, w):\n",
    "\treturn 1/(1 + np.exp(-x.T.dot(w)))"
   ]
  },
  {
   "cell_type": "markdown",
   "metadata": {},
   "source": [
    "$$ \\frac{dL}{dw} = \\frac{1}{n} \\sum_i (q(x_i=1|w) - p(x_i = 1)) \\phi(x_i)$$"
   ]
  },
  {
   "cell_type": "code",
   "execution_count": 6,
   "metadata": {
    "execution": {
     "iopub.execute_input": "2024-10-25T13:37:37.146105Z",
     "iopub.status.busy": "2024-10-25T13:37:37.145830Z",
     "iopub.status.idle": "2024-10-25T13:37:37.148592Z",
     "shell.execute_reply": "2024-10-25T13:37:37.148247Z"
    }
   },
   "outputs": [],
   "source": [
    "def dL(Φ, y, w):\n",
    "\tL = 0\n",
    "\tfor i, j in enumerate(Φ):\n",
    "\t\tx = j.reshape(3,1)\n",
    "\t\tL += (q(x, w) - y[i])*x\n",
    "\tdL_dθ = L/len(Φ)\t\n",
    "\treturn dL_dθ"
   ]
  },
  {
   "cell_type": "code",
   "execution_count": 7,
   "metadata": {
    "execution": {
     "iopub.execute_input": "2024-10-25T13:37:37.150497Z",
     "iopub.status.busy": "2024-10-25T13:37:37.150224Z",
     "iopub.status.idle": "2024-10-25T13:37:37.152711Z",
     "shell.execute_reply": "2024-10-25T13:37:37.152363Z"
    }
   },
   "outputs": [],
   "source": [
    "def gradient_descent(Φ, y, w, η):\n",
    "\tfor i in range(2000):\n",
    "\t\tw = w - η*dL(Φ, y, w)\n",
    "\treturn w"
   ]
  },
  {
   "cell_type": "code",
   "execution_count": 8,
   "metadata": {
    "execution": {
     "iopub.execute_input": "2024-10-25T13:37:37.154622Z",
     "iopub.status.busy": "2024-10-25T13:37:37.154344Z",
     "iopub.status.idle": "2024-10-25T13:37:37.212329Z",
     "shell.execute_reply": "2024-10-25T13:37:37.211893Z"
    }
   },
   "outputs": [
    {
     "name": "stdout",
     "output_type": "stream",
     "text": [
      "Starting Prediction (bad)\n",
      "[0.88079708]\n",
      "[0.88079708]\n",
      "[0.99752738]\n",
      "[0.99908895]\n"
     ]
    }
   ],
   "source": [
    "print('Starting Prediction (bad)')\n",
    "for x in Φ: print(q(x, w))\n",
    "w = gradient_descent(Φ, y, w, 0.1)"
   ]
  },
  {
   "cell_type": "code",
   "execution_count": 9,
   "metadata": {
    "execution": {
     "iopub.execute_input": "2024-10-25T13:37:37.228971Z",
     "iopub.status.busy": "2024-10-25T13:37:37.228815Z",
     "iopub.status.idle": "2024-10-25T13:37:37.231327Z",
     "shell.execute_reply": "2024-10-25T13:37:37.231031Z"
    }
   },
   "outputs": [
    {
     "name": "stdout",
     "output_type": "stream",
     "text": [
      "\n",
      "Prediction After GD (good)\n",
      "[0.01665772]\n",
      "[0.02622666]\n",
      "[0.98955987]\n",
      "[0.9982758]\n"
     ]
    }
   ],
   "source": [
    "print('\\nPrediction After GD (good)')\n",
    "for x in Φ: print(q(x, w))"
   ]
  },
  {
   "cell_type": "code",
   "execution_count": 10,
   "metadata": {
    "execution": {
     "iopub.execute_input": "2024-10-25T13:37:37.232716Z",
     "iopub.status.busy": "2024-10-25T13:37:37.232590Z",
     "iopub.status.idle": "2024-10-25T13:37:37.235139Z",
     "shell.execute_reply": "2024-10-25T13:37:37.234879Z"
    }
   },
   "outputs": [
    {
     "name": "stdout",
     "output_type": "stream",
     "text": [
      "\n",
      "Final Prediction is displayed with rounding\n",
      "[0.]\n",
      "[0.]\n",
      "[1.]\n",
      "[1.]\n"
     ]
    }
   ],
   "source": [
    "print('\\nFinal Prediction is displayed with rounding')\n",
    "for x in Φ: print(round(q(x, w)))"
   ]
  }
 ],
 "metadata": {
  "kernelspec": {
   "display_name": "Python 3",
   "language": "python",
   "name": "python3"
  },
  "language_info": {
   "codemirror_mode": {
    "name": "ipython",
    "version": 3
   },
   "file_extension": ".py",
   "mimetype": "text/x-python",
   "name": "python",
   "nbconvert_exporter": "python",
   "pygments_lexer": "ipython3",
   "version": "3.10.12"
  }
 },
 "nbformat": 4,
 "nbformat_minor": 2
}
