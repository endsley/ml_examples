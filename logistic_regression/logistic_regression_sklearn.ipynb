{
 "cells": [
  {
   "cell_type": "code",
   "execution_count": 1,
   "metadata": {
    "execution": {
     "iopub.execute_input": "2023-07-19T15:30:07.363753Z",
     "iopub.status.busy": "2023-07-19T15:30:07.363225Z",
     "iopub.status.idle": "2023-07-19T15:30:07.929432Z",
     "shell.execute_reply": "2023-07-19T15:30:07.928468Z"
    }
   },
   "outputs": [
    {
     "name": "stdout",
     "output_type": "stream",
     "text": [
      "[[ 8.10680190e-01  6.28644615e-01 -1.86720392e-06]]\n",
      "[0 0 1 1]\n"
     ]
    }
   ],
   "source": [
    "#!/usr/bin/env python\n",
    "import numpy as np\n",
    "from sklearn.linear_model import LogisticRegression\n",
    "\n",
    "X = np.array([\t[0,1,1],\n",
    "\t\t\t\t[1,0,1],\n",
    "\t\t\t\t[3,2,1],\n",
    "\t\t\t\t[3,3,1]])\n",
    "\n",
    "y = np.array(\t[0,\n",
    "\t\t\t\t 0,\n",
    "\t\t\t\t 1,\n",
    "\t\t\t\t 1])\n",
    "clf = LogisticRegression(random_state=0).fit(X, y)\n",
    "print(clf.coef_)\n",
    "print(clf.predict(X))"
   ]
  }
 ],
 "metadata": {
  "kernelspec": {
   "display_name": "Python 3",
   "language": "python",
   "name": "python3"
  },
  "language_info": {
   "codemirror_mode": {
    "name": "ipython",
    "version": 3
   },
   "file_extension": ".py",
   "mimetype": "text/x-python",
   "name": "python",
   "nbconvert_exporter": "python",
   "pygments_lexer": "ipython3",
   "version": "3.8.10"
  }
 },
 "nbformat": 4,
 "nbformat_minor": 2
}
