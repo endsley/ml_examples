{
 "cells": [
  {
   "cell_type": "code",
   "execution_count": 1,
   "metadata": {
    "execution": {
     "iopub.execute_input": "2024-10-05T14:54:45.936777Z",
     "iopub.status.busy": "2024-10-05T14:54:45.936308Z",
     "iopub.status.idle": "2024-10-05T14:54:45.941840Z",
     "shell.execute_reply": "2024-10-05T14:54:45.941066Z"
    }
   },
   "outputs": [],
   "source": [
    "#!/usr/bin/env python"
   ]
  },
  {
   "cell_type": "code",
   "execution_count": 2,
   "metadata": {
    "execution": {
     "iopub.execute_input": "2024-10-05T14:54:45.945667Z",
     "iopub.status.busy": "2024-10-05T14:54:45.945410Z",
     "iopub.status.idle": "2024-10-05T14:54:46.457659Z",
     "shell.execute_reply": "2024-10-05T14:54:46.456819Z"
    }
   },
   "outputs": [],
   "source": [
    "import numpy as np\n",
    "from sklearn import preprocessing\n",
    "from sklearn.linear_model import Lasso\n",
    "from sklearn.linear_model import Ridge\n",
    "from sklearn.linear_model import ElasticNet"
   ]
  },
  {
   "cell_type": "code",
   "execution_count": 3,
   "metadata": {
    "execution": {
     "iopub.execute_input": "2024-10-05T14:54:46.462584Z",
     "iopub.status.busy": "2024-10-05T14:54:46.462387Z",
     "iopub.status.idle": "2024-10-05T14:54:46.466533Z",
     "shell.execute_reply": "2024-10-05T14:54:46.465708Z"
    }
   },
   "outputs": [],
   "source": [
    "X = np.array([\t[1,2,4],\n",
    "\t\t\t\t[2,1,0],\n",
    "\t\t\t\t[1,0,3],\n",
    "\t\t\t\t[3,4,3],\n",
    "\t\t\t\t[2,0,2],\n",
    "\t\t\t\t[6,1,7],\n",
    "\t\t\t\t[2,3,6],\n",
    "\t\t\t\t[0,3,4],\n",
    "\t\t\t\t[1,0,2],\n",
    "\t\t\t\t[1,1,1]])"
   ]
  },
  {
   "cell_type": "code",
   "execution_count": 4,
   "metadata": {
    "execution": {
     "iopub.execute_input": "2024-10-05T14:54:46.470332Z",
     "iopub.status.busy": "2024-10-05T14:54:46.470111Z",
     "iopub.status.idle": "2024-10-05T14:54:46.474181Z",
     "shell.execute_reply": "2024-10-05T14:54:46.473518Z"
    }
   },
   "outputs": [],
   "source": [
    "X = preprocessing.scale(X)"
   ]
  },
  {
   "cell_type": "code",
   "execution_count": 5,
   "metadata": {
    "execution": {
     "iopub.execute_input": "2024-10-05T14:54:46.477325Z",
     "iopub.status.busy": "2024-10-05T14:54:46.477107Z",
     "iopub.status.idle": "2024-10-05T14:54:46.480933Z",
     "shell.execute_reply": "2024-10-05T14:54:46.480265Z"
    }
   },
   "outputs": [],
   "source": [
    "w = np.array([[3],[2],[0]])\n",
    "y = X.dot(w) + 0.2*np.random.randn(10,1)"
   ]
  },
  {
   "cell_type": "code",
   "execution_count": 6,
   "metadata": {
    "execution": {
     "iopub.execute_input": "2024-10-05T14:54:46.484284Z",
     "iopub.status.busy": "2024-10-05T14:54:46.484062Z",
     "iopub.status.idle": "2024-10-05T14:54:46.491294Z",
     "shell.execute_reply": "2024-10-05T14:54:46.490485Z"
    }
   },
   "outputs": [
    {
     "name": "stdout",
     "output_type": "stream",
     "text": [
      "[2.0115088  1.04370954 0.        ]\n",
      "0.8514009621059027\n"
     ]
    }
   ],
   "source": [
    "lasso = Lasso()\n",
    "lasso.fit(X,y)\n",
    "ŷ = lasso.predict(X)\n",
    "w = lasso.coef_\n",
    "s = lasso.score(X,y)\n",
    "print(w)\n",
    "print(s)"
   ]
  },
  {
   "cell_type": "code",
   "execution_count": 7,
   "metadata": {
    "execution": {
     "iopub.execute_input": "2024-10-05T14:54:46.548847Z",
     "iopub.status.busy": "2024-10-05T14:54:46.548557Z",
     "iopub.status.idle": "2024-10-05T14:54:46.556110Z",
     "shell.execute_reply": "2024-10-05T14:54:46.555288Z"
    }
   },
   "outputs": [
    {
     "name": "stdout",
     "output_type": "stream",
     "text": [
      "[[2.57907066 1.74287548 0.31438103]]\n",
      "0.9881962558156895\n"
     ]
    }
   ],
   "source": [
    "ridge = Ridge().fit(X, y)\n",
    "w = ridge.coef_\n",
    "s = ridge.score(X,y)\n",
    "print(w)\n",
    "print(s)"
   ]
  },
  {
   "cell_type": "code",
   "execution_count": 8,
   "metadata": {
    "execution": {
     "iopub.execute_input": "2024-10-05T14:54:46.559690Z",
     "iopub.status.busy": "2024-10-05T14:54:46.559398Z",
     "iopub.status.idle": "2024-10-05T14:54:46.566751Z",
     "shell.execute_reply": "2024-10-05T14:54:46.565779Z"
    }
   },
   "outputs": [
    {
     "name": "stdout",
     "output_type": "stream",
     "text": [
      "[[2.57907066 1.74287548 0.31438103]]\n",
      "0.9881962558156895\n"
     ]
    }
   ],
   "source": [
    "regr = ElasticNet(random_state=0).fit(X, y)\n",
    "w = ridge.coef_\n",
    "s = ridge.score(X,y)\n",
    "print(w)\n",
    "print(s)"
   ]
  }
 ],
 "metadata": {
  "kernelspec": {
   "display_name": "Python 3",
   "language": "python",
   "name": "python3"
  },
  "language_info": {
   "codemirror_mode": {
    "name": "ipython",
    "version": 3
   },
   "file_extension": ".py",
   "mimetype": "text/x-python",
   "name": "python",
   "nbconvert_exporter": "python",
   "pygments_lexer": "ipython3",
   "version": "3.8.10"
  }
 },
 "nbformat": 4,
 "nbformat_minor": 2
}
