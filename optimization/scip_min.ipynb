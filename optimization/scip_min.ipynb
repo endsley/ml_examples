{
 "cells": [
  {
   "cell_type": "code",
   "execution_count": 1,
   "metadata": {
    "execution": {
     "iopub.execute_input": "2025-03-11T17:03:30.105958Z",
     "iopub.status.busy": "2025-03-11T17:03:30.105310Z",
     "iopub.status.idle": "2025-03-11T17:03:30.114138Z",
     "shell.execute_reply": "2025-03-11T17:03:30.112510Z"
    }
   },
   "outputs": [],
   "source": [
    "#!/usr/bin/env python"
   ]
  },
  {
   "cell_type": "code",
   "execution_count": 2,
   "metadata": {
    "execution": {
     "iopub.execute_input": "2025-03-11T17:03:30.117556Z",
     "iopub.status.busy": "2025-03-11T17:03:30.117305Z",
     "iopub.status.idle": "2025-03-11T17:03:30.269878Z",
     "shell.execute_reply": "2025-03-11T17:03:30.269574Z"
    }
   },
   "outputs": [],
   "source": [
    "import numpy as np\n",
    "from scipy.optimize import minimize"
   ]
  },
  {
   "cell_type": "markdown",
   "metadata": {},
   "source": [
    "Another example of Equality constraint"
   ]
  },
  {
   "cell_type": "code",
   "execution_count": 3,
   "metadata": {
    "execution": {
     "iopub.execute_input": "2025-03-11T17:03:30.271560Z",
     "iopub.status.busy": "2025-03-11T17:03:30.271402Z",
     "iopub.status.idle": "2025-03-11T17:03:30.273395Z",
     "shell.execute_reply": "2025-03-11T17:03:30.273164Z"
    }
   },
   "outputs": [],
   "source": [
    "def ƒ(x): # The objective \n",
    "\txₐ = x[0]\n",
    "\txᵦ = x[1]\n",
    "\treturn xₐ + xᵦ"
   ]
  },
  {
   "cell_type": "code",
   "execution_count": 4,
   "metadata": {
    "execution": {
     "iopub.execute_input": "2025-03-11T17:03:30.274828Z",
     "iopub.status.busy": "2025-03-11T17:03:30.274649Z",
     "iopub.status.idle": "2025-03-11T17:03:30.276385Z",
     "shell.execute_reply": "2025-03-11T17:03:30.276157Z"
    }
   },
   "outputs": [],
   "source": [
    "def ɦ(x): # The equality constraint\n",
    "\txₐ = x[0]\n",
    "\txᵦ = x[1]\n",
    "\treturn xₐ**2 + xᵦ**2 - 1"
   ]
  },
  {
   "cell_type": "code",
   "execution_count": 5,
   "metadata": {
    "execution": {
     "iopub.execute_input": "2025-03-11T17:03:30.277671Z",
     "iopub.status.busy": "2025-03-11T17:03:30.277567Z",
     "iopub.status.idle": "2025-03-11T17:03:30.279332Z",
     "shell.execute_reply": "2025-03-11T17:03:30.279108Z"
    }
   },
   "outputs": [],
   "source": [
    "constraints = [{'type':'eq', 'fun':ɦ}]"
   ]
  },
  {
   "cell_type": "markdown",
   "metadata": {},
   "source": [
    "Notice that depending on your starting point<br>\n",
    "python might only give you the local optimum"
   ]
  },
  {
   "cell_type": "code",
   "execution_count": 6,
   "metadata": {
    "execution": {
     "iopub.execute_input": "2025-03-11T17:03:30.280761Z",
     "iopub.status.busy": "2025-03-11T17:03:30.280584Z",
     "iopub.status.idle": "2025-03-11T17:03:30.284326Z",
     "shell.execute_reply": "2025-03-11T17:03:30.284025Z"
    }
   },
   "outputs": [
    {
     "name": "stdout",
     "output_type": "stream",
     "text": [
      " message: Optimization terminated successfully\n",
      " success: True\n",
      "  status: 0\n",
      "     fun: -1.414213562704091\n",
      "       x: [-7.071e-01 -7.071e-01]\n",
      "     nit: 7\n",
      "     jac: [ 1.000e+00  1.000e+00]\n",
      "    nfev: 21\n",
      "    njev: 7\n"
     ]
    }
   ],
   "source": [
    "xₒ = [-4,-4]\n",
    "result = minimize(ƒ, xₒ, constraints=constraints)\n",
    "print(result)"
   ]
  }
 ],
 "metadata": {
  "kernelspec": {
   "display_name": "Python 3",
   "language": "python",
   "name": "python3"
  },
  "language_info": {
   "codemirror_mode": {
    "name": "ipython",
    "version": 3
   },
   "file_extension": ".py",
   "mimetype": "text/x-python",
   "name": "python",
   "nbconvert_exporter": "python",
   "pygments_lexer": "ipython3",
   "version": "3.10.12"
  }
 },
 "nbformat": 4,
 "nbformat_minor": 2
}
