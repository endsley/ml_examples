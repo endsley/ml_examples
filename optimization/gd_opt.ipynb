{
 "cells": [
  {
   "cell_type": "code",
   "execution_count": 1,
   "metadata": {
    "execution": {
     "iopub.execute_input": "2025-02-28T14:25:19.955677Z",
     "iopub.status.busy": "2025-02-28T14:25:19.955205Z",
     "iopub.status.idle": "2025-02-28T14:25:19.961324Z",
     "shell.execute_reply": "2025-02-28T14:25:19.960354Z"
    }
   },
   "outputs": [],
   "source": [
    "#!/usr/bin/env python"
   ]
  },
  {
   "cell_type": "code",
   "execution_count": 2,
   "metadata": {
    "execution": {
     "iopub.execute_input": "2025-02-28T14:25:19.965227Z",
     "iopub.status.busy": "2025-02-28T14:25:19.964979Z",
     "iopub.status.idle": "2025-02-28T14:25:20.104622Z",
     "shell.execute_reply": "2025-02-28T14:25:20.103945Z"
    }
   },
   "outputs": [],
   "source": [
    "import numpy as np\n",
    "from numpy.linalg import norm\n",
    "from numpy import max\n",
    "import sys\n",
    "np.set_printoptions(precision=2)\n",
    "np.set_printoptions(threshold=30)\n",
    "np.set_printoptions(linewidth=300)"
   ]
  },
  {
   "cell_type": "markdown",
   "metadata": {},
   "source": [
    "In this example, we are trying solve a constrained optimization problem using GD<br>\n",
    "We changed the original objective for the equality constraint<br>\n",
    "$$\\min_x \\; x^2 \\quad s.t: x^2 - x - 2 = 0, \\; x \\le 0 $$"
   ]
  },
  {
   "cell_type": "code",
   "execution_count": 3,
   "metadata": {
    "execution": {
     "iopub.execute_input": "2025-02-28T14:25:20.108402Z",
     "iopub.status.busy": "2025-02-28T14:25:20.108194Z",
     "iopub.status.idle": "2025-02-28T14:25:20.111919Z",
     "shell.execute_reply": "2025-02-28T14:25:20.111239Z"
    }
   },
   "outputs": [],
   "source": [
    "eq = ['h(x) ⵐ 0 : failed', 'h(x) = 0 : close enough']\n",
    "ineq = ['g(x) > 0 : failed', 'g(x) < 0 : close enough']\n",
    "𝕀 = lambda x: int((x > 0))"
   ]
  },
  {
   "cell_type": "code",
   "execution_count": 4,
   "metadata": {
    "execution": {
     "iopub.execute_input": "2025-02-28T14:25:20.115321Z",
     "iopub.status.busy": "2025-02-28T14:25:20.115116Z",
     "iopub.status.idle": "2025-02-28T14:25:20.118345Z",
     "shell.execute_reply": "2025-02-28T14:25:20.117619Z"
    }
   },
   "outputs": [],
   "source": [
    "η = 0.000000001\n",
    "def f(x):\n",
    "\treturn x**2"
   ]
  },
  {
   "cell_type": "code",
   "execution_count": 5,
   "metadata": {
    "execution": {
     "iopub.execute_input": "2025-02-28T14:25:20.121375Z",
     "iopub.status.busy": "2025-02-28T14:25:20.121172Z",
     "iopub.status.idle": "2025-02-28T14:25:20.124259Z",
     "shell.execute_reply": "2025-02-28T14:25:20.123518Z"
    }
   },
   "outputs": [],
   "source": [
    "def h(x):\t# equality constraint\n",
    "\treturn x**2 - x - 2"
   ]
  },
  {
   "cell_type": "code",
   "execution_count": 6,
   "metadata": {
    "execution": {
     "iopub.execute_input": "2025-02-28T14:25:20.127821Z",
     "iopub.status.busy": "2025-02-28T14:25:20.127534Z",
     "iopub.status.idle": "2025-02-28T14:25:20.131543Z",
     "shell.execute_reply": "2025-02-28T14:25:20.130736Z"
    }
   },
   "outputs": [],
   "source": [
    "def L(x, λ, γ):\n",
    "\treturn x**2 + λ*h(x)**2 + γ*max(0,x)"
   ]
  },
  {
   "cell_type": "code",
   "execution_count": 7,
   "metadata": {
    "execution": {
     "iopub.execute_input": "2025-02-28T14:25:20.134884Z",
     "iopub.status.busy": "2025-02-28T14:25:20.134655Z",
     "iopub.status.idle": "2025-02-28T14:25:20.138431Z",
     "shell.execute_reply": "2025-02-28T14:25:20.137744Z"
    }
   },
   "outputs": [],
   "source": [
    "def ᐁL(x, λ, γ):\n",
    "\treturn 2*x + 2*λ*h(x)*(2*x - 1) + γ*𝕀(x)"
   ]
  },
  {
   "cell_type": "markdown",
   "metadata": {},
   "source": [
    "Notice how while the equality constraint did okay, the Inequality didn't"
   ]
  },
  {
   "cell_type": "code",
   "execution_count": 8,
   "metadata": {
    "execution": {
     "iopub.execute_input": "2025-02-28T14:25:20.142012Z",
     "iopub.status.busy": "2025-02-28T14:25:20.141775Z",
     "iopub.status.idle": "2025-02-28T14:25:20.966209Z",
     "shell.execute_reply": "2025-02-28T14:25:20.965206Z"
    }
   },
   "outputs": [],
   "source": [
    "λ = 500 \n",
    "γ = 200\n",
    "x = 3\n",
    "for i in range(1000000): \n",
    "\tx = x - η*ᐁL(x, λ, γ) # GD"
   ]
  },
  {
   "cell_type": "code",
   "execution_count": 9,
   "metadata": {
    "execution": {
     "iopub.execute_input": "2025-02-28T14:25:20.971146Z",
     "iopub.status.busy": "2025-02-28T14:25:20.970955Z",
     "iopub.status.idle": "2025-02-28T14:25:20.976915Z",
     "shell.execute_reply": "2025-02-28T14:25:20.976199Z"
    }
   },
   "outputs": [
    {
     "name": "stdout",
     "output_type": "stream",
     "text": [
      "Given λ=500.00, γ=200.00, h(x) ⵐ 0 : failed , g(x) > 0 : failed\n",
      "f(x): 3.9081, \t h(x): -0.0688, \t x: 1.9769, \t ᐁL: 0.76329067\n",
      "\n"
     ]
    }
   ],
   "source": [
    "print('Given λ=%.2f, γ=%.2f, %s , %s'%(λ, γ, eq[int(norm(h(x)) < 0.03)], ineq[int(x < 0)]))\n",
    "print('f(x): %.4f, \\t h(x): %.4f, \\t x: %.4f, \\t ᐁL: %.8f\\n'%(f(x), h(x), x, ᐁL(x, λ, γ)))"
   ]
  }
 ],
 "metadata": {
  "kernelspec": {
   "display_name": "Python 3",
   "language": "python",
   "name": "python3"
  },
  "language_info": {
   "codemirror_mode": {
    "name": "ipython",
    "version": 3
   },
   "file_extension": ".py",
   "mimetype": "text/x-python",
   "name": "python",
   "nbconvert_exporter": "python",
   "pygments_lexer": "ipython3",
   "version": "3.8.10"
  }
 },
 "nbformat": 4,
 "nbformat_minor": 2
}
