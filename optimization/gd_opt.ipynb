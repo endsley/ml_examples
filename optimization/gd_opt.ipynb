{
 "cells": [
  {
   "cell_type": "code",
   "execution_count": 1,
   "metadata": {
    "execution": {
     "iopub.execute_input": "2024-02-19T00:33:01.736734Z",
     "iopub.status.busy": "2024-02-19T00:33:01.736123Z",
     "iopub.status.idle": "2024-02-19T00:33:01.741285Z",
     "shell.execute_reply": "2024-02-19T00:33:01.740347Z"
    }
   },
   "outputs": [],
   "source": [
    "#!/usr/bin/env python"
   ]
  },
  {
   "cell_type": "code",
   "execution_count": 2,
   "metadata": {
    "execution": {
     "iopub.execute_input": "2024-02-19T00:33:01.745017Z",
     "iopub.status.busy": "2024-02-19T00:33:01.744735Z",
     "iopub.status.idle": "2024-02-19T00:33:01.882770Z",
     "shell.execute_reply": "2024-02-19T00:33:01.881848Z"
    }
   },
   "outputs": [],
   "source": [
    "import numpy as np\n",
    "from numpy.linalg import norm\n",
    "import sys\n",
    "np.set_printoptions(precision=2)\n",
    "np.set_printoptions(threshold=30)\n",
    "np.set_printoptions(linewidth=300)"
   ]
  },
  {
   "cell_type": "markdown",
   "metadata": {},
   "source": [
    "In this example, we are trying solve a constrained optimization problem using GD<br>\n",
    "We changed the original objective for the equality constraint<br>\n",
    "$$\\min_x \\; x^2 \\quad s.t: x^2 - x - 2 = 0, \\; x \\le 0 $$<br>\n",
    "This example demonstrates that even if you adjust the Lagrangian to use GD<br>\n",
    "It could take you a while to finding γ and λ. <br>\n",
    "Depending on the problem, you could be looking at millions of possibilities. "
   ]
  },
  {
   "cell_type": "code",
   "execution_count": 3,
   "metadata": {
    "execution": {
     "iopub.execute_input": "2024-02-19T00:33:01.886650Z",
     "iopub.status.busy": "2024-02-19T00:33:01.886399Z",
     "iopub.status.idle": "2024-02-19T00:33:01.890405Z",
     "shell.execute_reply": "2024-02-19T00:33:01.889533Z"
    }
   },
   "outputs": [],
   "source": [
    "eq = ['h(x) ⵐ 0 : failed', 'h(x) = 0 : close enough']\n",
    "ineq = ['g(x) > 0 : failed', 'g(x) < 0 : close enough']"
   ]
  },
  {
   "cell_type": "code",
   "execution_count": 4,
   "metadata": {
    "execution": {
     "iopub.execute_input": "2024-02-19T00:33:01.893978Z",
     "iopub.status.busy": "2024-02-19T00:33:01.893705Z",
     "iopub.status.idle": "2024-02-19T00:33:01.897628Z",
     "shell.execute_reply": "2024-02-19T00:33:01.896847Z"
    }
   },
   "outputs": [],
   "source": [
    "η = 0.001\n",
    "def f(x):\n",
    "\treturn x**2"
   ]
  },
  {
   "cell_type": "code",
   "execution_count": 5,
   "metadata": {
    "execution": {
     "iopub.execute_input": "2024-02-19T00:33:01.901352Z",
     "iopub.status.busy": "2024-02-19T00:33:01.901106Z",
     "iopub.status.idle": "2024-02-19T00:33:01.903893Z",
     "shell.execute_reply": "2024-02-19T00:33:01.903312Z"
    }
   },
   "outputs": [],
   "source": [
    "def h(x):\t# equality constraint\n",
    "\treturn x**2 - x - 2"
   ]
  },
  {
   "cell_type": "code",
   "execution_count": 6,
   "metadata": {
    "execution": {
     "iopub.execute_input": "2024-02-19T00:33:01.907066Z",
     "iopub.status.busy": "2024-02-19T00:33:01.906891Z",
     "iopub.status.idle": "2024-02-19T00:33:01.909581Z",
     "shell.execute_reply": "2024-02-19T00:33:01.909107Z"
    }
   },
   "outputs": [],
   "source": [
    "def L(x, λ, γ):\n",
    "\treturn x**2 + λ*h(x)**2 + γ*x"
   ]
  },
  {
   "cell_type": "code",
   "execution_count": 7,
   "metadata": {
    "execution": {
     "iopub.execute_input": "2024-02-19T00:33:01.912457Z",
     "iopub.status.busy": "2024-02-19T00:33:01.912278Z",
     "iopub.status.idle": "2024-02-19T00:33:01.915313Z",
     "shell.execute_reply": "2024-02-19T00:33:01.914725Z"
    }
   },
   "outputs": [],
   "source": [
    "def ᐁL(x, λ, γ):\n",
    "\treturn 2*x + 2*λ*h(x)*(2*x - 1) + γ"
   ]
  },
  {
   "cell_type": "markdown",
   "metadata": {},
   "source": [
    "Here we will print out if the GD solution satisfies the constraints"
   ]
  },
  {
   "cell_type": "code",
   "execution_count": 8,
   "metadata": {
    "execution": {
     "iopub.execute_input": "2024-02-19T00:33:01.931143Z",
     "iopub.status.busy": "2024-02-19T00:33:01.930916Z",
     "iopub.status.idle": "2024-02-19T00:33:01.969609Z",
     "shell.execute_reply": "2024-02-19T00:33:01.969049Z"
    }
   },
   "outputs": [
    {
     "name": "stdout",
     "output_type": "stream",
     "text": [
      "Given λ=0.00, γ=0.00, h(x) ⵐ 0 : failed , g(x) > 0 : failed\n",
      "f(x): 0.0001, \t h(x): -2.0073, \t x: 0.0074, \t ᐁL: 0.01478343\n",
      "\n",
      "Given λ=0.00, γ=1.00, h(x) ⵐ 0 : failed , g(x) < 0 : close enough\n",
      "f(x): 0.2415, \t h(x): -1.2672, \t x: -0.4914, \t ᐁL: 0.01724733\n",
      "\n",
      "Given λ=0.00, γ=2.00, h(x) = 0 : close enough , g(x) < 0 : close enough\n",
      "f(x): 0.9804, \t h(x): -0.0295, \t x: -0.9901, \t ᐁL: 0.01971124\n",
      "\n",
      "Given λ=0.00, γ=3.00, h(x) ⵐ 0 : failed , g(x) < 0 : close enough\n",
      "f(x): 2.2169, \t h(x): 1.7058, \t x: -1.4889, \t ᐁL: 0.02217514\n",
      "\n",
      "Given λ=1.00, γ=0.00, h(x) ⵐ 0 : failed , g(x) > 0 : failed\n",
      "f(x): 3.0438, \t h(x): -0.7009, \t x: 1.7446, \t ᐁL: 0.00000000\n",
      "\n",
      "Given λ=1.00, γ=1.00, h(x) ⵐ 0 : failed , g(x) > 0 : failed\n",
      "f(x): 2.7100, \t h(x): -0.9362, \t x: 1.6462, \t ᐁL: 0.00000000\n",
      "\n",
      "Given λ=1.00, γ=2.00, h(x) ⵐ 0 : failed , g(x) > 0 : failed\n",
      "f(x): 2.2500, \t h(x): -1.2500, \t x: 1.5000, \t ᐁL: 0.00000044\n",
      "\n",
      "Given λ=1.00, γ=3.00, h(x) ⵐ 0 : failed , g(x) < 0 : close enough\n",
      "f(x): 1.0981, \t h(x): 0.1460, \t x: -1.0479, \t ᐁL: 0.00000000\n",
      "\n",
      "Given λ=2.00, γ=0.00, h(x) ⵐ 0 : failed , g(x) > 0 : failed\n",
      "f(x): 3.5414, \t h(x): -0.3405, \t x: 1.8819, \t ᐁL: 0.00000000\n",
      "\n",
      "Given λ=2.00, γ=1.00, h(x) ⵐ 0 : failed , g(x) > 0 : failed\n",
      "f(x): 3.4114, \t h(x): -0.4356, \t x: 1.8470, \t ᐁL: 0.00000000\n",
      "\n",
      "Given λ=2.00, γ=2.00, h(x) ⵐ 0 : failed , g(x) > 0 : failed\n",
      "f(x): 3.2725, \t h(x): -0.5365, \t x: 1.8090, \t ᐁL: 0.00000000\n",
      "\n",
      "Given λ=2.00, γ=3.00, h(x) ⵐ 0 : failed , g(x) > 0 : failed\n",
      "f(x): 3.1224, \t h(x): -0.6446, \t x: 1.7670, \t ᐁL: 0.00000000\n",
      "\n",
      "Given λ=3.00, γ=0.00, h(x) ⵐ 0 : failed , g(x) > 0 : failed\n",
      "f(x): 3.6977, \t h(x): -0.2252, \t x: 1.9229, \t ᐁL: 0.00000000\n",
      "\n",
      "Given λ=3.00, γ=1.00, h(x) ⵐ 0 : failed , g(x) > 0 : failed\n",
      "f(x): 3.6160, \t h(x): -0.2856, \t x: 1.9016, \t ᐁL: 0.00000000\n",
      "\n",
      "Given λ=3.00, γ=2.00, h(x) ⵐ 0 : failed , g(x) > 0 : failed\n",
      "f(x): 3.5312, \t h(x): -0.3479, \t x: 1.8792, \t ᐁL: 0.00000000\n",
      "\n",
      "Given λ=3.00, γ=3.00, h(x) ⵐ 0 : failed , g(x) > 0 : failed\n",
      "f(x): 3.4429, \t h(x): -0.4126, \t x: 1.8555, \t ᐁL: 0.00000000\n",
      "\n"
     ]
    }
   ],
   "source": [
    "for λ in range(4):\n",
    "\tfor γ in range(4):\n",
    "\t\tx = 3\n",
    "\t\tfor i in range(3000): \n",
    "\t\t\tx = x - η*ᐁL(x, λ, γ) # GD\n",
    "#\n",
    "\t\tprint('Given λ=%.2f, γ=%.2f, %s , %s'%(λ, γ, eq[int(norm(h(x)) < 0.03)], ineq[int(x < 0)]))\n",
    "\t\tprint('f(x): %.4f, \\t h(x): %.4f, \\t x: %.4f, \\t ᐁL: %.8f\\n'%(f(x), h(x), x, ᐁL(x, λ, γ)))"
   ]
  }
 ],
 "metadata": {
  "kernelspec": {
   "display_name": "Python 3",
   "language": "python",
   "name": "python3"
  },
  "language_info": {
   "codemirror_mode": {
    "name": "ipython",
    "version": 3
   },
   "file_extension": ".py",
   "mimetype": "text/x-python",
   "name": "python",
   "nbconvert_exporter": "python",
   "pygments_lexer": "ipython3",
   "version": "3.8.10"
  }
 },
 "nbformat": 4,
 "nbformat_minor": 2
}
