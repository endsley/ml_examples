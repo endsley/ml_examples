{
 "cells": [
  {
   "cell_type": "code",
   "execution_count": 1,
   "metadata": {
    "execution": {
     "iopub.execute_input": "2023-12-15T19:02:53.837223Z",
     "iopub.status.busy": "2023-12-15T19:02:53.835840Z",
     "iopub.status.idle": "2023-12-15T19:02:53.983527Z",
     "shell.execute_reply": "2023-12-15T19:02:53.983265Z"
    }
   },
   "outputs": [],
   "source": [
    "#!/usr/bin/env python\n",
    "#\n",
    "import numpy as np\n",
    "from scipy.optimize import minimize\n",
    "#"
   ]
  },
  {
   "cell_type": "markdown",
   "metadata": {},
   "source": [
    "Equality constraint"
   ]
  },
  {
   "cell_type": "code",
   "execution_count": 2,
   "metadata": {
    "execution": {
     "iopub.execute_input": "2023-12-15T19:02:53.989277Z",
     "iopub.status.busy": "2023-12-15T19:02:53.989046Z",
     "iopub.status.idle": "2023-12-15T19:02:53.990238Z",
     "shell.execute_reply": "2023-12-15T19:02:53.990403Z"
    }
   },
   "outputs": [
    {
     "name": "stdout",
     "output_type": "stream",
     "text": [
      "     fun: 1.0000000013969412\n",
      "     jac: array([-1.99999999])\n",
      " message: 'Optimization terminated successfully'\n",
      "    nfev: 10\n",
      "     nit: 5\n",
      "    njev: 5\n",
      "  status: 0\n",
      " success: True\n",
      "       x: array([-1.])\n",
      "     fun: 4.000000000053728\n",
      "     jac: array([4.])\n",
      " message: 'Optimization terminated successfully'\n",
      "    nfev: 23\n",
      "     nit: 9\n",
      "    njev: 9\n",
      "  status: 0\n",
      " success: True\n",
      "       x: array([2.])\n"
     ]
    }
   ],
   "source": [
    "def obj(x):\n",
    "\treturn x**2\n",
    "#\n",
    "def eq_constraint(x):\n",
    "\treturn x**2 - x - 2\n",
    "#\n",
    "constraints = [{'type':'eq', 'fun':eq_constraint}]\n",
    "#\n",
    "#This problem has 2 possible solutions \n",
    "#\tdepending on where x0 starts, you'll end up with a different solution.\n",
    "result = minimize(obj, -2, constraints=constraints)\n",
    "print(result)\n",
    "#\n",
    "result = minimize(obj, 1, constraints=constraints)\n",
    "print(result)\n",
    "#"
   ]
  },
  {
   "cell_type": "markdown",
   "metadata": {},
   "source": [
    "<br>\n",
    "Multivariate Equality constraint"
   ]
  },
  {
   "cell_type": "code",
   "execution_count": 3,
   "metadata": {
    "execution": {
     "iopub.execute_input": "2023-12-15T19:02:53.992893Z",
     "iopub.status.busy": "2023-12-15T19:02:53.992644Z",
     "iopub.status.idle": "2023-12-15T19:02:53.995236Z",
     "shell.execute_reply": "2023-12-15T19:02:53.994925Z"
    }
   },
   "outputs": [
    {
     "name": "stdout",
     "output_type": "stream",
     "text": [
      "     fun: 0.6666666666666667\n",
      "     jac: array([1.33333335, 1.33333335])\n",
      " message: 'Optimization terminated successfully'\n",
      "    nfev: 12\n",
      "     nit: 4\n",
      "    njev: 4\n",
      "  status: 0\n",
      " success: True\n",
      "       x: array([0.33333333, 0.66666667])\n"
     ]
    }
   ],
   "source": [
    "def obj(x):\t# The input x vector gets flattened\n",
    "\tx = np.reshape(x,(2,1))\n",
    "\tc = np.array([[2],[1]])\n",
    "\ty = (c*x).T.dot(x)\n",
    "\treturn y\n",
    "#\n",
    "def eq_constraint(x):\n",
    "\t# The input x vector gets flattened\n",
    "\tx = np.reshape(x,(2,1))\n",
    "\tO = np.ones((2,1))\n",
    "\ty = 1 - O.T.dot(x).item()\n",
    "\treturn y\n",
    "#\n",
    "constraints = [{'type':'eq', 'fun':eq_constraint}]\n",
    "result = minimize(obj, [3,2], constraints=constraints)\n",
    "print(result)"
   ]
  }
 ],
 "metadata": {
  "kernelspec": {
   "display_name": "Python 3 (ipykernel)",
   "language": "python",
   "name": "python3"
  },
  "language_info": {
   "codemirror_mode": {
    "name": "ipython",
    "version": 3
   },
   "file_extension": ".py",
   "mimetype": "text/x-python",
   "name": "python",
   "nbconvert_exporter": "python",
   "pygments_lexer": "ipython3",
   "version": "3.10.12"
  }
 },
 "nbformat": 4,
 "nbformat_minor": 2
}
