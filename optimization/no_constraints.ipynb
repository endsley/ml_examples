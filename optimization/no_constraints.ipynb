{
 "cells": [
  {
   "cell_type": "code",
   "execution_count": 1,
   "metadata": {
    "execution": {
     "iopub.execute_input": "2024-12-18T14:15:29.157196Z",
     "iopub.status.busy": "2024-12-18T14:15:29.156758Z",
     "iopub.status.idle": "2024-12-18T14:15:29.162657Z",
     "shell.execute_reply": "2024-12-18T14:15:29.161474Z"
    }
   },
   "outputs": [],
   "source": [
    "#!/usr/bin/env python"
   ]
  },
  {
   "cell_type": "code",
   "execution_count": 2,
   "metadata": {
    "execution": {
     "iopub.execute_input": "2024-12-18T14:15:29.166221Z",
     "iopub.status.busy": "2024-12-18T14:15:29.165977Z",
     "iopub.status.idle": "2024-12-18T14:15:29.443723Z",
     "shell.execute_reply": "2024-12-18T14:15:29.443094Z"
    }
   },
   "outputs": [],
   "source": [
    "import numpy as np\n",
    "from scipy.optimize import minimize"
   ]
  },
  {
   "cell_type": "markdown",
   "metadata": {},
   "source": [
    "Given<br>\n",
    "$$A = \\begin{bmatrix} 2 & 3 \\\\ 3 & 5 \\end{bmatrix}, y = \\begin{bmatrix} 2 \\\\ 1 \\end{bmatrix} $$<br>\n",
    "Minimize<br>\n",
    "$$\\min_x \\; x^{\\top} A x - y^{\\top} x + ||x||_2^2$$"
   ]
  },
  {
   "cell_type": "code",
   "execution_count": 3,
   "metadata": {
    "execution": {
     "iopub.execute_input": "2024-12-18T14:15:29.447551Z",
     "iopub.status.busy": "2024-12-18T14:15:29.447395Z",
     "iopub.status.idle": "2024-12-18T14:15:29.450390Z",
     "shell.execute_reply": "2024-12-18T14:15:29.449781Z"
    }
   },
   "outputs": [],
   "source": [
    "A =  np.array([[2, 3],[3, 5]])\n",
    "y = np.array([[2],[1]])"
   ]
  },
  {
   "cell_type": "markdown",
   "metadata": {},
   "source": [
    "define the function to minimize"
   ]
  },
  {
   "cell_type": "code",
   "execution_count": 4,
   "metadata": {
    "execution": {
     "iopub.execute_input": "2024-12-18T14:15:29.453705Z",
     "iopub.status.busy": "2024-12-18T14:15:29.453533Z",
     "iopub.status.idle": "2024-12-18T14:15:29.456727Z",
     "shell.execute_reply": "2024-12-18T14:15:29.456017Z"
    }
   },
   "outputs": [],
   "source": [
    "def f(x): return x.T.dot(A).dot(x) - y.T.dot(x) + x.T.dot(x)"
   ]
  },
  {
   "cell_type": "code",
   "execution_count": 5,
   "metadata": {
    "execution": {
     "iopub.execute_input": "2024-12-18T14:15:29.459349Z",
     "iopub.status.busy": "2024-12-18T14:15:29.459180Z",
     "iopub.status.idle": "2024-12-18T14:15:29.467245Z",
     "shell.execute_reply": "2024-12-18T14:15:29.466670Z"
    }
   },
   "outputs": [
    {
     "name": "stdout",
     "output_type": "stream",
     "text": [
      "  message: Optimization terminated successfully.\n",
      "  success: True\n",
      "   status: 0\n",
      "      fun: -0.4166666666666663\n",
      "        x: [ 5.000e-01 -1.667e-01]\n",
      "      nit: 5\n",
      "      jac: [ 0.000e+00  3.725e-09]\n",
      " hess_inv: [[ 3.333e-01 -1.667e-01]\n",
      "            [-1.667e-01  1.667e-01]]\n",
      "     nfev: 21\n",
      "     njev: 7\n"
     ]
    }
   ],
   "source": [
    "x0 = np.array([3,2])\t# x0 is the starting point\n",
    "result = minimize(f, x0)\n",
    "print(result)"
   ]
  }
 ],
 "metadata": {
  "kernelspec": {
   "display_name": "Python 3",
   "language": "python",
   "name": "python3"
  },
  "language_info": {
   "codemirror_mode": {
    "name": "ipython",
    "version": 3
   },
   "file_extension": ".py",
   "mimetype": "text/x-python",
   "name": "python",
   "nbconvert_exporter": "python",
   "pygments_lexer": "ipython3",
   "version": "3.8.10"
  }
 },
 "nbformat": 4,
 "nbformat_minor": 2
}
