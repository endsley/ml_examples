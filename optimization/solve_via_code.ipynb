{
 "cells": [
  {
   "cell_type": "code",
   "execution_count": 1,
   "metadata": {
    "execution": {
     "iopub.execute_input": "2023-12-17T23:10:35.897655Z",
     "iopub.status.busy": "2023-12-17T23:10:35.897189Z",
     "iopub.status.idle": "2023-12-17T23:10:36.041004Z",
     "shell.execute_reply": "2023-12-17T23:10:36.040273Z"
    }
   },
   "outputs": [
    {
     "name": "stdout",
     "output_type": "stream",
     "text": [
      "1.1706357802104905\n",
      "0.6666907308368321\n",
      "0.6666783385320564\n",
      "0.666673747721694\n",
      "0.6666676350694726\n",
      "0.6666671577150677\n"
     ]
    }
   ],
   "source": [
    "#!/usr/bin/env python\n",
    "import numpy as np\n",
    "\n",
    "v = 10**10\n",
    "for i in range(3000):\n",
    "\tx1 = np.random.rand()\n",
    "\tx2 = 1 - x1\n",
    "\n",
    "\tu = 2*x1**2 + x2**2\n",
    "\tif u < v:\n",
    "\t\tv = u\n",
    "\t\tprint(v)"
   ]
  }
 ],
 "metadata": {
  "kernelspec": {
   "display_name": "Python 3",
   "language": "python",
   "name": "python3"
  },
  "language_info": {
   "codemirror_mode": {
    "name": "ipython",
    "version": 3
   },
   "file_extension": ".py",
   "mimetype": "text/x-python",
   "name": "python",
   "nbconvert_exporter": "python",
   "pygments_lexer": "ipython3",
   "version": "3.8.10"
  }
 },
 "nbformat": 4,
 "nbformat_minor": 2
}
