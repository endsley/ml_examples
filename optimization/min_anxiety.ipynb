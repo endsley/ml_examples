{
 "cells": [
  {
   "cell_type": "code",
   "execution_count": 1,
   "metadata": {
    "execution": {
     "iopub.execute_input": "2025-02-28T20:02:05.147436Z",
     "iopub.status.busy": "2025-02-28T20:02:05.146961Z",
     "iopub.status.idle": "2025-02-28T20:02:05.153151Z",
     "shell.execute_reply": "2025-02-28T20:02:05.151838Z"
    }
   },
   "outputs": [],
   "source": [
    "#!/usr/bin/env python"
   ]
  },
  {
   "cell_type": "code",
   "execution_count": 2,
   "metadata": {
    "execution": {
     "iopub.execute_input": "2025-02-28T20:02:05.157059Z",
     "iopub.status.busy": "2025-02-28T20:02:05.156805Z",
     "iopub.status.idle": "2025-02-28T20:02:05.455594Z",
     "shell.execute_reply": "2025-02-28T20:02:05.454950Z"
    }
   },
   "outputs": [],
   "source": [
    "import numpy as np\n",
    "from scipy.optimize import minimize"
   ]
  },
  {
   "cell_type": "code",
   "execution_count": 3,
   "metadata": {
    "execution": {
     "iopub.execute_input": "2025-02-28T20:02:05.458575Z",
     "iopub.status.busy": "2025-02-28T20:02:05.458407Z",
     "iopub.status.idle": "2025-02-28T20:02:05.461554Z",
     "shell.execute_reply": "2025-02-28T20:02:05.460929Z"
    }
   },
   "outputs": [],
   "source": [
    "def ƒ(x): # The objective \n",
    "\txₐ = x[0]\n",
    "\txᵦ = x[1]\n",
    "\treturn 0.5*xₐ**2 + xᵦ**2"
   ]
  },
  {
   "cell_type": "code",
   "execution_count": 4,
   "metadata": {
    "execution": {
     "iopub.execute_input": "2025-02-28T20:02:05.464666Z",
     "iopub.status.busy": "2025-02-28T20:02:05.464504Z",
     "iopub.status.idle": "2025-02-28T20:02:05.467576Z",
     "shell.execute_reply": "2025-02-28T20:02:05.466881Z"
    }
   },
   "outputs": [],
   "source": [
    "def ℊₗ(x): # The equality constraint\n",
    "\txₐ = x[0]\n",
    "\txᵦ = x[1]\n",
    "\treturn xₐ - 3*xᵦ"
   ]
  },
  {
   "cell_type": "code",
   "execution_count": 5,
   "metadata": {
    "execution": {
     "iopub.execute_input": "2025-02-28T20:02:05.470745Z",
     "iopub.status.busy": "2025-02-28T20:02:05.470548Z",
     "iopub.status.idle": "2025-02-28T20:02:05.474304Z",
     "shell.execute_reply": "2025-02-28T20:02:05.473588Z"
    }
   },
   "outputs": [],
   "source": [
    "def ℊշ(x): # The inequality constraint\n",
    "\txᵦ = x[1]\n",
    "\treturn xᵦ - 1\n",
    "#\n",
    "constraints = [{'type':'ineq', 'fun':ℊₗ}, {'type':'ineq', 'fun':ℊշ}]"
   ]
  },
  {
   "cell_type": "code",
   "execution_count": 6,
   "metadata": {
    "execution": {
     "iopub.execute_input": "2025-02-28T20:02:05.477201Z",
     "iopub.status.busy": "2025-02-28T20:02:05.477004Z",
     "iopub.status.idle": "2025-02-28T20:02:05.483888Z",
     "shell.execute_reply": "2025-02-28T20:02:05.483313Z"
    }
   },
   "outputs": [
    {
     "name": "stdout",
     "output_type": "stream",
     "text": [
      "Starting at (4,4), the solution gets stuck at [4,1]\n",
      "[3. 1.]\n"
     ]
    }
   ],
   "source": [
    "xₒ = [4,4]\n",
    "result = minimize(ƒ, xₒ , constraints=constraints)\n",
    "print('Starting at (4,4), the solution gets stuck at [4,1]')\n",
    "print(result['x'])"
   ]
  }
 ],
 "metadata": {
  "kernelspec": {
   "display_name": "Python 3",
   "language": "python",
   "name": "python3"
  },
  "language_info": {
   "codemirror_mode": {
    "name": "ipython",
    "version": 3
   },
   "file_extension": ".py",
   "mimetype": "text/x-python",
   "name": "python",
   "nbconvert_exporter": "python",
   "pygments_lexer": "ipython3",
   "version": "3.8.10"
  }
 },
 "nbformat": 4,
 "nbformat_minor": 2
}
