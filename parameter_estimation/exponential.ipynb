{
 "cells": [
  {
   "cell_type": "code",
   "execution_count": 1,
   "metadata": {
    "execution": {
     "iopub.execute_input": "2024-06-03T12:56:14.757774Z",
     "iopub.status.busy": "2024-06-03T12:56:14.757353Z",
     "iopub.status.idle": "2024-06-03T12:56:14.762810Z",
     "shell.execute_reply": "2024-06-03T12:56:14.761648Z"
    }
   },
   "outputs": [],
   "source": [
    "#!/usr/bin/env python"
   ]
  },
  {
   "cell_type": "code",
   "execution_count": 2,
   "metadata": {
    "execution": {
     "iopub.execute_input": "2024-06-03T12:56:14.766256Z",
     "iopub.status.busy": "2024-06-03T12:56:14.766031Z",
     "iopub.status.idle": "2024-06-03T12:56:15.460492Z",
     "shell.execute_reply": "2024-06-03T12:56:15.459896Z"
    }
   },
   "outputs": [],
   "source": [
    "import numpy as np\n",
    "import matplotlib.pyplot as plt\n",
    "from scipy.stats import beta, expon, gamma\n",
    "from numpy.random import randn\n",
    "from numpy import mean, linspace, sum\n",
    "from scipy.special import gamma as Γ\n",
    "from scipy.stats import norm\n",
    "from scipy.integrate import quad \n",
    "from numpy import inf as ᨖ\n",
    "from numpy import exp as e"
   ]
  },
  {
   "cell_type": "markdown",
   "metadata": {},
   "source": [
    "# Parameter Estimation For Exponential Distribution<br>\n",
    "In this example, given data $\\mathcal{D}$, we are going to estimate the parameters of an Exponential Distribution using<br>\n",
    "- Bayesian Parameter Estimation<br>\n",
    "- MAP<br>\n",
    "- Note that the equation for an exponential distribution is<br>\n",
    "$$ p(x) = \\lambda e^{-\\lambda x} $$<br>\n",
    "$$ E[X] = \\frac{1}{\\lambda}$$<br>\n",
    "- For Exponential distribution, the conjugate prior is the Gamma distribution where<br>\n",
    "$$ p(\\lambda) = \\frac{1}{\\Gamma(k) \\theta^k} \\lambda^{k-1} e^{-\\lambda/\\theta}.$$"
   ]
  },
  {
   "cell_type": "markdown",
   "metadata": {},
   "source": [
    "### The likelihood, Prior, and the Posterior<br>\n",
    "Given n samples, the likelihood function is<br>\n",
    "$$ p(X = \\mathcal{D}|\\lambda) = \\prod_i \\; \\lambda e^{- \\lambda x_i} = \\lambda^n e^{-\\lambda \\sum_i \\; x_i}$$.<br>\n",
    "Given the joint likelihood function and the conjugate prior, we know that $p(\\lambda|X=\\mathcal{D}) \\propto  p(X=\\mathcal{D}|\\lambda)p(\\lambda)$, therefore<br>\n",
    "$$p(\\lambda|X=\\mathcal{D}) \\propto \\left( \\lambda^n e^{-\\lambda \\sum_i \\; x_i} \\right) \\left( \\frac{1}{\\Gamma(k) \\theta^k} \\lambda^{k-1} e^{-\\lambda/\\theta} \\right).$$<br>\n",
    "If we combine the terms together, we get<br>\n",
    "$$p(\\lambda|X=\\mathcal{D}) \\propto \\frac{1}{\\Gamma(k) \\theta^k} \\lambda^{k+n-1} e^{-\\lambda (\\sum_i x_i + \\frac{1}{\\theta})}$$<br>\n",
    "Since $p(\\lambda|X=\\mathcal{D})$ is in terms of $\\lambda$, the term $\\frac{1}{\\Gamma(k) \\theta^k}$ at the front is just a constant, therefore<br>\n",
    "$$p(\\lambda|X=\\mathcal{D}) = \\eta \\lambda^{k+n-1} e^{-\\lambda (\\sum_i x_i + \\frac{1}{\\theta})}$$<br>\n",
    "- Pay special attention to the fact that we went from $\\propto$ to = sign. <br>\n",
    "- This is because we may not know the exact proportion of $\\eta$, but we the posterior is equal to a constant multiple<br>\n",
    "- Once we simplified the equation, we notice that the structure of the residual equation is identical to a gamma distribution if<br>\n",
    "$$\\hat{k} = k + n, \\quad \\quad \\theta' = \\frac{1}{\\sum_i x_i - 1/\\theta}$$<br>\n",
    "Giving us the posterior distribution<br>\n",
    "$$ p(\\lambda|X=\\mathcal{D}) = \\frac{1}{\\Gamma(\\hat{k}) \\; \\theta'^\\hat{k}} \\; \\lambda^{\\hat{k}-1} e^{-\\lambda/\\theta'}.$$"
   ]
  },
  {
   "cell_type": "markdown",
   "metadata": {},
   "source": [
    "#### Assume data is exponential, we will synthetically generate the data here"
   ]
  },
  {
   "cell_type": "code",
   "execution_count": 3,
   "metadata": {
    "execution": {
     "iopub.execute_input": "2024-06-03T12:56:15.464457Z",
     "iopub.status.busy": "2024-06-03T12:56:15.464304Z",
     "iopub.status.idle": "2024-06-03T12:56:15.467557Z",
     "shell.execute_reply": "2024-06-03T12:56:15.467042Z"
    }
   },
   "outputs": [],
   "source": [
    "n = 1000\n",
    "μ = 3\n",
    "X = expon.rvs(scale=μ, size=n)"
   ]
  },
  {
   "cell_type": "markdown",
   "metadata": {},
   "source": [
    "#### Define the prior gamma distribution as"
   ]
  },
  {
   "cell_type": "code",
   "execution_count": 4,
   "metadata": {
    "execution": {
     "iopub.execute_input": "2024-06-03T12:56:15.470966Z",
     "iopub.status.busy": "2024-06-03T12:56:15.470818Z",
     "iopub.status.idle": "2024-06-03T12:56:15.473916Z",
     "shell.execute_reply": "2024-06-03T12:56:15.473193Z"
    }
   },
   "outputs": [],
   "source": [
    "k = 2\n",
    "θ = 2\n",
    "ǩ = k + n\n",
    "θˊ = 1/(sum(X) + 1/θ)"
   ]
  },
  {
   "cell_type": "markdown",
   "metadata": {},
   "source": [
    "#### Mode is the MAP solution<br>\n",
    "mode = $(k-1) \\theta$<br>\n",
    "mean = $k \\theta$"
   ]
  },
  {
   "cell_type": "code",
   "execution_count": 5,
   "metadata": {
    "execution": {
     "iopub.execute_input": "2024-06-03T12:56:15.503596Z",
     "iopub.status.busy": "2024-06-03T12:56:15.503348Z",
     "iopub.status.idle": "2024-06-03T12:56:15.507723Z",
     "shell.execute_reply": "2024-06-03T12:56:15.506756Z"
    }
   },
   "outputs": [],
   "source": [
    "MAP_solution = (ǩ - 1)*θˊ\n",
    "BPE_solution = ǩ*θˊ"
   ]
  },
  {
   "cell_type": "code",
   "execution_count": 6,
   "metadata": {
    "execution": {
     "iopub.execute_input": "2024-06-03T12:56:15.511832Z",
     "iopub.status.busy": "2024-06-03T12:56:15.511523Z",
     "iopub.status.idle": "2024-06-03T12:56:15.517096Z",
     "shell.execute_reply": "2024-06-03T12:56:15.516505Z"
    }
   },
   "outputs": [
    {
     "name": "stdout",
     "output_type": "stream",
     "text": [
      "Theoretical Truth = 0.3333\n",
      "Best λ according to MAP = 0.3296\n",
      "Best λ according to MLE = 0.3293\n",
      "Best λ according to Bayesian Parameter Estimation = 0.3300\n"
     ]
    }
   ],
   "source": [
    "print('Theoretical Truth = %.4f'%(1/μ))\n",
    "print('Best λ according to MAP = %.4f'%MAP_solution)\n",
    "print('Best λ according to MLE = %.4f'%(1/mean(X)))\n",
    "print('Best λ according to Bayesian Parameter Estimation = %.4f'%(BPE_solution))"
   ]
  },
  {
   "cell_type": "markdown",
   "metadata": {},
   "source": [
    "\t### Plotting out the Prior and posterior<br>\n",
    "\tIn this example, we are going to assume a Gamma Prior with k = 2"
   ]
  },
  {
   "cell_type": "code",
   "execution_count": 7,
   "metadata": {
    "execution": {
     "iopub.execute_input": "2024-06-03T12:56:15.554205Z",
     "iopub.status.busy": "2024-06-03T12:56:15.553942Z",
     "iopub.status.idle": "2024-06-03T12:56:15.559243Z",
     "shell.execute_reply": "2024-06-03T12:56:15.558482Z"
    }
   },
   "outputs": [],
   "source": [
    "x = linspace(0.2,0.5, 200);\n",
    "y = gamma.pdf(x, ǩ, loc=0, scale=θˊ);"
   ]
  },
  {
   "cell_type": "code",
   "execution_count": 8,
   "metadata": {
    "execution": {
     "iopub.execute_input": "2024-06-03T12:56:15.562332Z",
     "iopub.status.busy": "2024-06-03T12:56:15.562072Z",
     "iopub.status.idle": "2024-06-03T12:56:15.669935Z",
     "shell.execute_reply": "2024-06-03T12:56:15.669182Z"
    }
   },
   "outputs": [
    {
     "data": {
      "text/plain": [
       "Text(0.5, 1.0, 'Histogram of X')"
      ]
     },
     "execution_count": 8,
     "metadata": {},
     "output_type": "execute_result"
    }
   ],
   "source": [
    "plt.figure(figsize=(13,4))\n",
    "plt.subplot(131);\n",
    "plt.hist(X, density=True, bins=30);\n",
    "plt.title('Histogram of X')"
   ]
  },
  {
   "cell_type": "code",
   "execution_count": 9,
   "metadata": {
    "execution": {
     "iopub.execute_input": "2024-06-03T12:56:15.674277Z",
     "iopub.status.busy": "2024-06-03T12:56:15.674090Z",
     "iopub.status.idle": "2024-06-03T12:56:15.771982Z",
     "shell.execute_reply": "2024-06-03T12:56:15.771264Z"
    }
   },
   "outputs": [
    {
     "data": {
      "text/plain": [
       "Text(0.5, 1.0, 'Posterior Distribution of λ')"
      ]
     },
     "execution_count": 9,
     "metadata": {},
     "output_type": "execute_result"
    }
   ],
   "source": [
    "plt.subplot(132)\n",
    "plt.plot(x,y,color='red')\n",
    "plt.title('Posterior Distribution of λ')"
   ]
  },
  {
   "cell_type": "code",
   "execution_count": 10,
   "metadata": {
    "execution": {
     "iopub.execute_input": "2024-06-03T12:56:15.776536Z",
     "iopub.status.busy": "2024-06-03T12:56:15.776376Z",
     "iopub.status.idle": "2024-06-03T12:56:15.779823Z",
     "shell.execute_reply": "2024-06-03T12:56:15.779240Z"
    }
   },
   "outputs": [],
   "source": [
    "x = linspace(0,20, 200);\n",
    "prior = gamma.pdf(x, k, loc=0, scale=θ);"
   ]
  },
  {
   "cell_type": "code",
   "execution_count": 11,
   "metadata": {
    "execution": {
     "iopub.execute_input": "2024-06-03T12:56:15.784854Z",
     "iopub.status.busy": "2024-06-03T12:56:15.784649Z",
     "iopub.status.idle": "2024-06-03T12:56:16.103661Z",
     "shell.execute_reply": "2024-06-03T12:56:16.103082Z"
    }
   },
   "outputs": [
    {
     "data": {
      "image/png": "[encoded data removed]",
      "text/plain": [
       "<Figure size 1300x400 with 3 Axes>"
      ]
     },
     "metadata": {},
     "output_type": "display_data"
    }
   ],
   "source": [
    "plt.subplot(133)\n",
    "plt.plot(x,prior,color='blue')\n",
    "plt.title('Prior Distribution of λ')\n",
    "plt.show()"
   ]
  },
  {
   "cell_type": "markdown",
   "metadata": {},
   "source": [
    "### Notice<br>\n",
    "- The prior distribution says that the possible $\\lambda$ values can possibly range between 0 to 20<br>\n",
    "- However, given the data, notice that the posterior distribution heavily indicates that $\\lambda$ must be very close to 0.333."
   ]
  },
  {
   "cell_type": "markdown",
   "metadata": {},
   "source": [
    "## Finding the Prdictive Posterior $p(x|\\mathcal{D})$ <br>\n",
    "Our goal is to next find the $p(x|\\mathcal{D})$ which has the equation<br>\n",
    "$$p(x|\\mathcal{D}) = \\int p(x|\\lambda) p(\\lambda|\\mathcal{D}) \\; d\\lambda$$<br>\n",
    "Remember that in the previous step, we already found<br>\n",
    "$$ p(\\lambda|X=\\mathcal{D}) = \\frac{1}{\\Gamma(\\hat{k}) \\; \\theta'^\\hat{k}} \\; \\lambda^{\\hat{k}-1} e^{-\\lambda/\\theta'}.$$<br>\n",
    "Therefore, the Predictive Posterior becomes<br>\n",
    "$$p(x|\\mathcal{D}) = \\int \\; \\left(\\lambda e^{-\\lambda x} \\right) \\left( \\frac{1}{\\Gamma(\\hat{k}) \\; \\theta'^\\hat{k}} \\; \\lambda^{\\hat{k}-1} e^{-\\lambda/\\theta'} \\right) \\; d\\lambda$$<br>\n",
    "Let's now multiply them together, and rearrange<br>\n",
    "$$p(x|\\mathcal{D}) = \\frac{1}{\\Gamma(\\hat{k})  \\; \\theta'^\\hat{k}} \\int \\;   \\; \\lambda^{\\hat{k}} e^{-\\lambda (x + 1/\\theta')} \\; d\\lambda$$<br>\n",
    "Here, notice that the remaining terms in the integral looks almost like another Gamma distribution. Let's try to make it look exactly like a gamma distribution by rearranging it<br>\n",
    "$$p(x|\\mathcal{D}) = \\frac{1}{\\Gamma(\\hat{k})  \\; \\theta'^{\\hat{k}}} \\int \\;   \\; \\lambda^{(\\hat{k}+1) - 1} e^{-\\lambda (x + 1/\\theta')} \\; d\\lambda$$<br>\n",
    "Now if we do a variable change, we can set it such that<br>\n",
    "$$k'' = \\hat{k}+1, \\quad \\theta'' = \\frac{1}{(x + 1/\\theta')}$$<br>\n",
    "then<br>\n",
    "$$p(x|\\mathcal{D}) = \\frac{1}{\\Gamma(\\hat{k})  \\; \\theta'^{\\hat{k}}} \\int \\;   \\; \\lambda^{k'' - 1} e^{-\\lambda/\\theta''} \\; d\\lambda.$$<br>\n",
    "It is very easy to now see that the terms inside the integral looks like a Gamma distribution, this implies that we could make it look exactly like Gamma by multiply it with 1 <br>\n",
    "$$p(x|\\mathcal{D}) = \\frac{\\Gamma(k'')  \\; \\theta''^{k''}}{\\Gamma(\\hat{k})  \\; \\theta'^{\\hat{k}}} \t\t\\int \\;   \\frac{1}{\\Gamma(k'')  \\; \\theta''^{k''}}  \\; \\lambda^{k'' - 1} e^{-\\lambda/\\theta''} \\; d\\lambda.$$<br>\n",
    "The reason why we put what's inside the integral to be exactly a Gamma distribution is because the integral of any distribution is always = 1, allowing us to remove the term.  <br>\n",
    "$$p(x|\\mathcal{D}) = \\frac{\\Gamma(k'')  \\; \\theta''^{k''}}{\\Gamma(\\hat{k})  \\; \\theta'^{\\hat{k}}} .$$"
   ]
  },
  {
   "cell_type": "markdown",
   "metadata": {},
   "source": [
    "Remember that $\\Gamma(n) = (n-1)!$, therefore<br>\n",
    "$$\\frac{\\Gamma(k'')}{\\Gamma(\\hat{k})} = \\frac{(1003 - 1)!}{(1002 - 1)!} = 1002 = \\hat{k}.$$<br>\n",
    "Also remember that<br>\n",
    "$$\\theta' = \\frac{1}{\\sum_i x_i + 1/\\theta} = \\frac{\\theta}{\\theta \\sum_i x_i + 1}.$$<br>\n",
    "and<br>\n",
    "$$\\theta'' = \\frac{1}{x + 1/\\theta'} = \\frac{1}{\\theta x/\\theta + (\\theta \\sum_i x_i + 1)/\\theta} = \\frac{\\theta}{\\theta x + \\theta \\sum_i x_i + 1}$$<br>\n",
    "therefore, <br>\n",
    "$$\\frac{\\theta''^{k''}}{\\theta'^{\\hat{k}}} = \\frac{\\theta^{1003}}{(\\theta x + \\theta \\sum_i x_i + 1)^{1003}} \\frac{(\\theta \\sum_i x_i + 1)^{1002}}{\\theta^{1002}} = \\theta \\left( \\frac{\\theta \\sum_i x_i + 1}{\\theta x +  \\theta \\sum_i x_i + 1} \\right)^{1002} \\frac{1}{\\theta x + \\theta \\sum_i x_i + 1}$$<br>\n",
    "If we let $\\alpha = \\theta \\sum_i x_i + 1$ then<br>\n",
    "$$p(x|\\mathcal{D}) = \\theta \\hat{k} \\left( \\frac{\\alpha}{\\theta x + \\alpha} \\right)^{1002} \\frac{1}{\\theta x + \\alpha}.$$"
   ]
  },
  {
   "cell_type": "code",
   "execution_count": 12,
   "metadata": {
    "execution": {
     "iopub.execute_input": "2024-06-03T12:56:16.108136Z",
     "iopub.status.busy": "2024-06-03T12:56:16.107976Z",
     "iopub.status.idle": "2024-06-03T12:56:16.111521Z",
     "shell.execute_reply": "2024-06-03T12:56:16.110781Z"
    }
   },
   "outputs": [],
   "source": [
    "def posterior(x):\n",
    "\tα = θ*sum(X) + 1\n",
    "\tout = θ*ǩ*(α/(θ*x + α))**1002/(θ*x + α)\n",
    "\treturn out"
   ]
  },
  {
   "cell_type": "markdown",
   "metadata": {},
   "source": [
    "### Making sure the posterior is still a probability distribution<br>\n",
    "- when taking an integral from 0 to ᨖ , it should add up to 1 "
   ]
  },
  {
   "cell_type": "code",
   "execution_count": 13,
   "metadata": {
    "execution": {
     "iopub.execute_input": "2024-06-03T12:56:16.115493Z",
     "iopub.status.busy": "2024-06-03T12:56:16.115337Z",
     "iopub.status.idle": "2024-06-03T12:56:16.121051Z",
     "shell.execute_reply": "2024-06-03T12:56:16.120369Z"
    }
   },
   "outputs": [
    {
     "name": "stdout",
     "output_type": "stream",
     "text": [
      "The area of the probability = 1.0000, confirm that it is a proper probability distribution\n"
     ]
    }
   ],
   "source": [
    "I, err = quad(posterior, 0, ᨖ ) \n",
    "print('The area of the probability = %.4f, confirm that it is a proper probability distribution'%I) "
   ]
  },
  {
   "cell_type": "markdown",
   "metadata": {},
   "source": [
    "### Generate the predictive posterior distribution histogram via ancestral sampling<br>\n",
    "- Since we have the joint distribution, we can obtain the marginal by generating samples of $(x, \\lambda)$ from the joint distribution and discard the $\\lambda$ values.<br>\n",
    "- To generate the samples, we can use ancestral sampling. <br>\n",
    "- That is, we first sample from the gamma distribution, depending on the $\\lambda$ generated, we can generate $x$ using the exponential distribution."
   ]
  },
  {
   "cell_type": "code",
   "execution_count": 14,
   "metadata": {
    "execution": {
     "iopub.execute_input": "2024-06-03T12:56:16.124635Z",
     "iopub.status.busy": "2024-06-03T12:56:16.124428Z",
     "iopub.status.idle": "2024-06-03T12:56:16.169356Z",
     "shell.execute_reply": "2024-06-03T12:56:16.168773Z"
    }
   },
   "outputs": [],
   "source": [
    "posterior_samples = []\n",
    "λs = gamma.rvs(ǩ, loc=0, scale=θˊ, size=n);\n",
    "for λ in λs: posterior_samples.append(expon.rvs(loc=0, scale= (1/λ)))"
   ]
  },
  {
   "cell_type": "markdown",
   "metadata": {},
   "source": [
    "### Point estimation using Monte Carlo Estimation<br>\n",
    "- We can use ancestral sampling to get the histogram of the posterior. <br>\n",
    "- However, we can also get the point estimation of posterior at a specific point $p(x = \\hat{x}|\\mathcal{D})$ using monte carlo integration<br>\n",
    "$$p(x=3|\\mathcal{D}) = \\int p(x=3|\\lambda) p(\\lambda|\\mathcal{D}) \\; d\\lambda \\approx \\frac{1}{n} \\sum_i \\; p(x=3|\\lambda)$$<br>\n",
    "- Here is an example of $p(x = \\hat{x}|\\mathcal{D})$"
   ]
  },
  {
   "cell_type": "code",
   "execution_count": 15,
   "metadata": {
    "execution": {
     "iopub.execute_input": "2024-06-03T12:56:16.173082Z",
     "iopub.status.busy": "2024-06-03T12:56:16.172934Z",
     "iopub.status.idle": "2024-06-03T12:56:16.176648Z",
     "shell.execute_reply": "2024-06-03T12:56:16.176077Z"
    }
   },
   "outputs": [
    {
     "name": "stdout",
     "output_type": "stream",
     "text": [
      "Estimation of p(x=3) = 0.1226, Actual p(x=3) = 0.1226\n"
     ]
    }
   ],
   "source": [
    "p3 = mean(λs*e(-λs*3))\n",
    "p3v = posterior(3)\n",
    "print('Estimation of p(x=3) = %.4f, Actual p(x=3) = %.4f'%(p3, p3v))"
   ]
  },
  {
   "cell_type": "markdown",
   "metadata": {},
   "source": [
    "### Let's plot out the predictive posterior <br>\n",
    "- We will now plot out the posterior function as well as the histogram generated via sampling"
   ]
  },
  {
   "cell_type": "code",
   "execution_count": 16,
   "metadata": {
    "execution": {
     "iopub.execute_input": "2024-06-03T12:56:16.180918Z",
     "iopub.status.busy": "2024-06-03T12:56:16.180720Z",
     "iopub.status.idle": "2024-06-03T12:56:16.184115Z",
     "shell.execute_reply": "2024-06-03T12:56:16.183367Z"
    }
   },
   "outputs": [],
   "source": [
    "x = linspace(0, 20, 100)\n",
    "y = posterior(x)"
   ]
  },
  {
   "cell_type": "code",
   "execution_count": 17,
   "metadata": {
    "execution": {
     "iopub.execute_input": "2024-06-03T12:56:16.187338Z",
     "iopub.status.busy": "2024-06-03T12:56:16.187144Z",
     "iopub.status.idle": "2024-06-03T12:56:16.360628Z",
     "shell.execute_reply": "2024-06-03T12:56:16.359894Z"
    }
   },
   "outputs": [
    {
     "data": {
      "image/png": "[encoded data removed]",
      "text/plain": [
       "<Figure size 640x480 with 1 Axes>"
      ]
     },
     "metadata": {},
     "output_type": "display_data"
    }
   ],
   "source": [
    "plt.plot(x,y,color='red')\n",
    "plt.hist(posterior_samples, density=True, bins=30);\n",
    "plt.title('Predictive Posterior Distribution of x')\n",
    "plt.show()"
   ]
  }
 ],
 "metadata": {
  "kernelspec": {
   "display_name": "Python 3",
   "language": "python",
   "name": "python3"
  },
  "language_info": {
   "codemirror_mode": {
    "name": "ipython",
    "version": 3
   },
   "file_extension": ".py",
   "mimetype": "text/x-python",
   "name": "python",
   "nbconvert_exporter": "python",
   "pygments_lexer": "ipython3",
   "version": "3.8.10"
  }
 },
 "nbformat": 4,
 "nbformat_minor": 2
}
