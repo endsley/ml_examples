{
 "cells": [
  {
   "cell_type": "code",
   "execution_count": 1,
   "metadata": {
    "execution": {
     "iopub.execute_input": "2024-05-30T20:21:37.405766Z",
     "iopub.status.busy": "2024-05-30T20:21:37.405313Z",
     "iopub.status.idle": "2024-05-30T20:21:37.410998Z",
     "shell.execute_reply": "2024-05-30T20:21:37.410086Z"
    }
   },
   "outputs": [],
   "source": [
    "#!/usr/bin/env python"
   ]
  },
  {
   "cell_type": "code",
   "execution_count": 2,
   "metadata": {
    "execution": {
     "iopub.execute_input": "2024-05-30T20:21:37.415646Z",
     "iopub.status.busy": "2024-05-30T20:21:37.415358Z",
     "iopub.status.idle": "2024-05-30T20:21:41.077406Z",
     "shell.execute_reply": "2024-05-30T20:21:41.076412Z"
    }
   },
   "outputs": [],
   "source": [
    "import numpy as np\n",
    "import matplotlib.pyplot as plt\n",
    "from scipy.stats import beta\n",
    "from numpy import mean\n",
    "from scipy.stats import norm"
   ]
  },
  {
   "cell_type": "markdown",
   "metadata": {},
   "source": [
    "# Parameter Estimation<br>\n",
    "In this example, we are going to estimate the parameters of an Exponential Distribution using<br>\n",
    "- Bayesian Parameter Estimation<br>\n",
    "- MAP<br>\n",
    "- Note that the equation for an exponential distribution is<br>\n",
    "$$ p(x) = \\lambda e^{-\\lambda x} $$<br>\n",
    "$$ E[X] = \\frac{1}{\\lambda}$$<br>\n",
    "- For Exponential distribution, the conjugate prior is the Gamma distribution where<br>\n",
    "$$ p(\\lambda) = \\frac{1}{\\Gamma(k) \\theta^k} \\lambda^{k-1} e^{-\\lambda/\\theta}."
   ]
  }
 ],
 "metadata": {
  "kernelspec": {
   "display_name": "Python 3",
   "language": "python",
   "name": "python3"
  },
  "language_info": {
   "codemirror_mode": {
    "name": "ipython",
    "version": 3
   },
   "file_extension": ".py",
   "mimetype": "text/x-python",
   "name": "python",
   "nbconvert_exporter": "python",
   "pygments_lexer": "ipython3",
   "version": "3.8.10"
  }
 },
 "nbformat": 4,
 "nbformat_minor": 2
}
