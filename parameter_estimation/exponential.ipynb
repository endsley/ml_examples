{
 "cells": [
  {
   "cell_type": "code",
   "execution_count": 1,
   "metadata": {
    "execution": {
     "iopub.execute_input": "2024-05-31T15:09:11.447740Z",
     "iopub.status.busy": "2024-05-31T15:09:11.447261Z",
     "iopub.status.idle": "2024-05-31T15:09:11.453019Z",
     "shell.execute_reply": "2024-05-31T15:09:11.452088Z"
    }
   },
   "outputs": [],
   "source": [
    "#!/usr/bin/env python"
   ]
  },
  {
   "cell_type": "code",
   "execution_count": 2,
   "metadata": {
    "execution": {
     "iopub.execute_input": "2024-05-31T15:09:11.456748Z",
     "iopub.status.busy": "2024-05-31T15:09:11.456480Z",
     "iopub.status.idle": "2024-05-31T15:09:12.167850Z",
     "shell.execute_reply": "2024-05-31T15:09:12.167040Z"
    }
   },
   "outputs": [],
   "source": [
    "import numpy as np\n",
    "import matplotlib.pyplot as plt\n",
    "from scipy.stats import beta, expon, gamma\n",
    "from numpy.random import randn\n",
    "from numpy import mean, linspace, sum\n",
    "from scipy.stats import norm"
   ]
  },
  {
   "cell_type": "markdown",
   "metadata": {},
   "source": [
    "# Parameter Estimation For Exponential Distribution<br>\n",
    "In this example, given data $\\mathcal{D}$, we are going to estimate the parameters of an Exponential Distribution using<br>\n",
    "- Bayesian Parameter Estimation<br>\n",
    "- MAP<br>\n",
    "- Note that the equation for an exponential distribution is<br>\n",
    "$$ p(x) = \\lambda e^{-\\lambda x} $$<br>\n",
    "$$ E[X] = \\frac{1}{\\lambda}$$<br>\n",
    "- For Exponential distribution, the conjugate prior is the Gamma distribution where<br>\n",
    "$$ p(\\lambda) = \\frac{1}{\\Gamma(k) \\theta^k} \\lambda^{k-1} e^{-\\lambda/\\theta}.$$"
   ]
  },
  {
   "cell_type": "markdown",
   "metadata": {},
   "source": [
    "### The likelihood, Prior, and the Posterior<br>\n",
    "Given n samples, the likelihood function is<br>\n",
    "$$ p(X = \\mathcal{D}|\\lambda) = \\prod_i \\; \\lambda e^{- \\lambda x_i} = \\lambda^n e^{-\\lambda \\sum_i \\; x_i}$$.<br>\n",
    "Given the joint likelihood function and the conjugate prior, we know that $p(\\lambda|X=\\mathcal{D}) \\propto  p(X=\\mathcal{D}|\\lambda)p(\\lambda)$, therefore<br>\n",
    "$$p(\\lambda|X=\\mathcal{D}) \\propto \\left( \\lambda^n e^{-\\lambda \\sum_i \\; x_i} \\right) \\left( \\frac{1}{\\Gamma(k) \\theta^k} \\lambda^{k-1} e^{-\\lambda/\\theta} \\right).$$<br>\n",
    "If we combine the terms together, we get<br>\n",
    "$$p(\\lambda|X=\\mathcal{D}) \\propto \\frac{1}{\\Gamma(k) \\theta^k} \\lambda^{k+n-1} e^{-\\lambda (\\sum_i x_i - \\frac{1}{\\theta})}$$<br>\n",
    "Since $p(\\lambda|X=\\mathcal{D})$ is in terms of $\\lambda$, the term $\\frac{1}{\\Gamma(k) \\theta^k}$ at the front is just a constant, therefore<br>\n",
    "$$p(\\lambda|X=\\mathcal{D}) = \\eta \\lambda^{k+n-1} e^{-\\lambda (\\sum_i x_i - \\frac{1}{\\theta})}$$<br>\n",
    "- Pay special attention to the fact that we went from $\\propto$ to = sign. <br>\n",
    "- This is because we may not know the exact proportion of $\\eta$, but we the posterior is equal to a constant multiple<br>\n",
    "- Once we simplified the equation, we notice that the structure of the residual equation is identical to a gamma distribution if<br>\n",
    "$$\\hat{k} = k + n, \\quad \\quad \\hat{\\theta} = \\frac{1}{\\sum_i x_i - 1/\\theta}$$<br>\n",
    "Giving us the posterior distribution<br>\n",
    "$$ p(\\lambda|X=\\theta) = \\frac{1}{\\Gamma(\\hat{k}) \\; \\hat{\\theta}^\\hat{k}} \\; \\lambda^{\\hat{k}-1} e^{-\\lambda/\\hat{\\theta}}.$$"
   ]
  },
  {
   "cell_type": "markdown",
   "metadata": {},
   "source": [
    "#### Assume data is exponential, we will synthetically generate the data here"
   ]
  },
  {
   "cell_type": "code",
   "execution_count": 3,
   "metadata": {
    "execution": {
     "iopub.execute_input": "2024-05-31T15:09:12.173819Z",
     "iopub.status.busy": "2024-05-31T15:09:12.173633Z",
     "iopub.status.idle": "2024-05-31T15:09:12.178365Z",
     "shell.execute_reply": "2024-05-31T15:09:12.177336Z"
    }
   },
   "outputs": [],
   "source": [
    "n = 1000\n",
    "μ = 3\n",
    "X = expon.rvs(scale=μ, size=n)"
   ]
  },
  {
   "cell_type": "markdown",
   "metadata": {},
   "source": [
    "#### Define the prior gamma distribution as"
   ]
  },
  {
   "cell_type": "code",
   "execution_count": 4,
   "metadata": {
    "execution": {
     "iopub.execute_input": "2024-05-31T15:09:12.183679Z",
     "iopub.status.busy": "2024-05-31T15:09:12.183455Z",
     "iopub.status.idle": "2024-05-31T15:09:12.187923Z",
     "shell.execute_reply": "2024-05-31T15:09:12.186940Z"
    }
   },
   "outputs": [],
   "source": [
    "k = 2\n",
    "θ = 2\n",
    "ǩ = k + n\n",
    "θˊ = 1/(sum(X) - 1/θ)"
   ]
  },
  {
   "cell_type": "markdown",
   "metadata": {},
   "source": [
    "#### Mode is the MAP solution<br>\n",
    "mode = $(k-1) \\theta$<br>\n",
    "mean = $k \\theta$"
   ]
  },
  {
   "cell_type": "code",
   "execution_count": 5,
   "metadata": {
    "execution": {
     "iopub.execute_input": "2024-05-31T15:09:12.234374Z",
     "iopub.status.busy": "2024-05-31T15:09:12.233976Z",
     "iopub.status.idle": "2024-05-31T15:09:12.239060Z",
     "shell.execute_reply": "2024-05-31T15:09:12.237951Z"
    }
   },
   "outputs": [],
   "source": [
    "MAP_solution = (ǩ - 1)*θˊ\n",
    "BPE_solution = ǩ*θˊ"
   ]
  },
  {
   "cell_type": "code",
   "execution_count": 6,
   "metadata": {
    "execution": {
     "iopub.execute_input": "2024-05-31T15:09:12.244375Z",
     "iopub.status.busy": "2024-05-31T15:09:12.244003Z",
     "iopub.status.idle": "2024-05-31T15:09:12.250426Z",
     "shell.execute_reply": "2024-05-31T15:09:12.249689Z"
    }
   },
   "outputs": [
    {
     "name": "stdout",
     "output_type": "stream",
     "text": [
      "Theoretical Truth = 0.3333\n",
      "Best λ according to MAP = 0.3197\n",
      "Best λ according to MLE = 0.3193\n",
      "Best λ according to Bayesian Parameter Estimation = 0.3200\n"
     ]
    }
   ],
   "source": [
    "print('Theoretical Truth = %.4f'%(1/μ))\n",
    "print('Best λ according to MAP = %.4f'%MAP_solution)\n",
    "print('Best λ according to MLE = %.4f'%(1/mean(X)))\n",
    "print('Best λ according to Bayesian Parameter Estimation = %.4f'%(BPE_solution))"
   ]
  },
  {
   "cell_type": "markdown",
   "metadata": {},
   "source": [
    "\t### Plotting out the Prior and posterior<br>\n",
    "\tIn this example, we are going to assume a Gamma Prior with k = 2"
   ]
  },
  {
   "cell_type": "code",
   "execution_count": 7,
   "metadata": {
    "execution": {
     "iopub.execute_input": "2024-05-31T15:09:12.293722Z",
     "iopub.status.busy": "2024-05-31T15:09:12.293408Z",
     "iopub.status.idle": "2024-05-31T15:09:12.299299Z",
     "shell.execute_reply": "2024-05-31T15:09:12.298521Z"
    }
   },
   "outputs": [],
   "source": [
    "x = linspace(0.2,0.5, 200);\n",
    "y = gamma.pdf(x, ǩ, loc=0, scale=θˊ);"
   ]
  },
  {
   "cell_type": "code",
   "execution_count": 8,
   "metadata": {
    "execution": {
     "iopub.execute_input": "2024-05-31T15:09:12.302707Z",
     "iopub.status.busy": "2024-05-31T15:09:12.302421Z",
     "iopub.status.idle": "2024-05-31T15:09:12.435439Z",
     "shell.execute_reply": "2024-05-31T15:09:12.434750Z"
    }
   },
   "outputs": [
    {
     "data": {
      "text/plain": [
       "Text(0.5, 1.0, 'Histogram of X')"
      ]
     },
     "execution_count": 8,
     "metadata": {},
     "output_type": "execute_result"
    }
   ],
   "source": [
    "plt.figure(figsize=(10,4))\n",
    "plt.subplot(121);\n",
    "plt.hist(X, density=True, bins=30);\n",
    "plt.title('Histogram of X')"
   ]
  },
  {
   "cell_type": "code",
   "execution_count": 9,
   "metadata": {
    "execution": {
     "iopub.execute_input": "2024-05-31T15:09:12.440251Z",
     "iopub.status.busy": "2024-05-31T15:09:12.440045Z",
     "iopub.status.idle": "2024-05-31T15:09:12.699664Z",
     "shell.execute_reply": "2024-05-31T15:09:12.699047Z"
    }
   },
   "outputs": [
    {
     "data": {
      "image/png": "[encoded data removed]",
      "text/plain": [
       "<Figure size 1000x400 with 2 Axes>"
      ]
     },
     "metadata": {},
     "output_type": "display_data"
    }
   ],
   "source": [
    "plt.subplot(122)\n",
    "plt.plot(x,y,color='red')\n",
    "plt.title('Posterior Distribution of λ')\n",
    "plt.show()"
   ]
  }
 ],
 "metadata": {
  "kernelspec": {
   "display_name": "Python 3",
   "language": "python",
   "name": "python3"
  },
  "language_info": {
   "codemirror_mode": {
    "name": "ipython",
    "version": 3
   },
   "file_extension": ".py",
   "mimetype": "text/x-python",
   "name": "python",
   "nbconvert_exporter": "python",
   "pygments_lexer": "ipython3",
   "version": "3.8.10"
  }
 },
 "nbformat": 4,
 "nbformat_minor": 2
}
