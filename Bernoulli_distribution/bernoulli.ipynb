{
 "cells": [
  {
   "cell_type": "code",
   "execution_count": 1,
   "metadata": {
    "execution": {
     "iopub.execute_input": "2024-10-05T18:00:47.303244Z",
     "iopub.status.busy": "2024-10-05T18:00:47.302780Z",
     "iopub.status.idle": "2024-10-05T18:00:47.308440Z",
     "shell.execute_reply": "2024-10-05T18:00:47.307630Z"
    }
   },
   "outputs": [],
   "source": [
    "#!/usr/bin/env python"
   ]
  },
  {
   "cell_type": "code",
   "execution_count": 2,
   "metadata": {
    "execution": {
     "iopub.execute_input": "2024-10-05T18:00:47.312438Z",
     "iopub.status.busy": "2024-10-05T18:00:47.312190Z",
     "iopub.status.idle": "2024-10-05T18:00:48.014321Z",
     "shell.execute_reply": "2024-10-05T18:00:48.013538Z"
    }
   },
   "outputs": [],
   "source": [
    "import numpy as np\n",
    "import pandas as pd\n",
    "from sklearn.preprocessing import LabelEncoder"
   ]
  },
  {
   "cell_type": "markdown",
   "metadata": {},
   "source": [
    "You know p(x) once you know θ<br>\n",
    "$$p(x) = \\theta^x (1 - \\theta)^{1 - x} $$"
   ]
  },
  {
   "cell_type": "code",
   "execution_count": 3,
   "metadata": {
    "execution": {
     "iopub.execute_input": "2024-10-05T18:00:48.019327Z",
     "iopub.status.busy": "2024-10-05T18:00:48.019170Z",
     "iopub.status.idle": "2024-10-05T18:00:48.027654Z",
     "shell.execute_reply": "2024-10-05T18:00:48.026808Z"
    }
   },
   "outputs": [
    {
     "name": "stdout",
     "output_type": "stream",
     "text": [
      "θ = 0.417\n"
     ]
    }
   ],
   "source": [
    "X = pd.read_csv(\"Prob_of_breakup_within_1_month.csv\", header=None)\n",
    "X = LabelEncoder().fit_transform(X[0])\n",
    "θ = np.sum(X)/len(X)\n",
    "print('θ = %.3f'%θ)"
   ]
  }
 ],
 "metadata": {
  "kernelspec": {
   "display_name": "Python 3",
   "language": "python",
   "name": "python3"
  },
  "language_info": {
   "codemirror_mode": {
    "name": "ipython",
    "version": 3
   },
   "file_extension": ".py",
   "mimetype": "text/x-python",
   "name": "python",
   "nbconvert_exporter": "python",
   "pygments_lexer": "ipython3",
   "version": "3.8.10"
  }
 },
 "nbformat": 4,
 "nbformat_minor": 2
}
