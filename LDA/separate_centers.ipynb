{
 "cells": [
  {
   "cell_type": "code",
   "execution_count": 1,
   "metadata": {
    "execution": {
     "iopub.execute_input": "2024-11-13T21:39:52.031936Z",
     "iopub.status.busy": "2024-11-13T21:39:52.031468Z",
     "iopub.status.idle": "2024-11-13T21:39:52.037618Z",
     "shell.execute_reply": "2024-11-13T21:39:52.036317Z"
    }
   },
   "outputs": [],
   "source": [
    "#!/usr/bin/env python"
   ]
  },
  {
   "cell_type": "code",
   "execution_count": 2,
   "metadata": {
    "execution": {
     "iopub.execute_input": "2024-11-13T21:39:52.041953Z",
     "iopub.status.busy": "2024-11-13T21:39:52.041564Z",
     "iopub.status.idle": "2024-11-13T21:39:52.526399Z",
     "shell.execute_reply": "2024-11-13T21:39:52.525558Z"
    }
   },
   "outputs": [],
   "source": [
    "import numpy as np\n",
    "from numpy import mean, reshape, array\n",
    "from numpy import vstack, hstack\n",
    "from matplotlib import pyplot as plt"
   ]
  },
  {
   "cell_type": "code",
   "execution_count": 3,
   "metadata": {
    "execution": {
     "iopub.execute_input": "2024-11-13T21:39:52.531250Z",
     "iopub.status.busy": "2024-11-13T21:39:52.531062Z",
     "iopub.status.idle": "2024-11-13T21:39:52.534260Z",
     "shell.execute_reply": "2024-11-13T21:39:52.533634Z"
    }
   },
   "outputs": [],
   "source": [
    "X0 = array([\t[-2,1],\n",
    "\t\t\t\t[0,3],\n",
    "\t\t\t\t[1,4],\n",
    "\t\t\t\t[1,5],\n",
    "\t\t\t\t[2,5]])"
   ]
  },
  {
   "cell_type": "code",
   "execution_count": 4,
   "metadata": {
    "execution": {
     "iopub.execute_input": "2024-11-13T21:39:52.539014Z",
     "iopub.status.busy": "2024-11-13T21:39:52.538831Z",
     "iopub.status.idle": "2024-11-13T21:39:52.541931Z",
     "shell.execute_reply": "2024-11-13T21:39:52.541294Z"
    }
   },
   "outputs": [],
   "source": [
    "X1 = array([\t[0,0],\n",
    "\t\t\t\t[1,1],\n",
    "\t\t\t\t[2,1],\n",
    "\t\t\t\t[3,2],\n",
    "\t\t\t\t[4,3]])"
   ]
  },
  {
   "cell_type": "code",
   "execution_count": 5,
   "metadata": {
    "execution": {
     "iopub.execute_input": "2024-11-13T21:39:52.545260Z",
     "iopub.status.busy": "2024-11-13T21:39:52.545038Z",
     "iopub.status.idle": "2024-11-13T21:39:52.548184Z",
     "shell.execute_reply": "2024-11-13T21:39:52.547519Z"
    }
   },
   "outputs": [],
   "source": [
    "X = vstack((X0, X1))"
   ]
  },
  {
   "cell_type": "markdown",
   "metadata": {},
   "source": [
    "\tSolving LDA"
   ]
  },
  {
   "cell_type": "code",
   "execution_count": 6,
   "metadata": {
    "execution": {
     "iopub.execute_input": "2024-11-13T21:39:52.551350Z",
     "iopub.status.busy": "2024-11-13T21:39:52.551131Z",
     "iopub.status.idle": "2024-11-13T21:39:52.555462Z",
     "shell.execute_reply": "2024-11-13T21:39:52.554653Z"
    }
   },
   "outputs": [],
   "source": [
    "v = reshape(mean(X0, axis=0) - mean(X1, axis=0), (2,1))\n",
    "S1 = v.dot(v.T)\n",
    "[D,V] = np.linalg.eigh(S1)"
   ]
  },
  {
   "cell_type": "markdown",
   "metadata": {},
   "source": [
    "mport pdb; pdb.set_trace()"
   ]
  },
  {
   "cell_type": "code",
   "execution_count": 7,
   "metadata": {
    "execution": {
     "iopub.execute_input": "2024-11-13T21:39:52.558799Z",
     "iopub.status.busy": "2024-11-13T21:39:52.558579Z",
     "iopub.status.idle": "2024-11-13T21:39:52.562418Z",
     "shell.execute_reply": "2024-11-13T21:39:52.561750Z"
    }
   },
   "outputs": [],
   "source": [
    "ṽւ = reshape(V[:,1], (2,1))\n",
    "linePoints = vstack((5*ṽւ.T, -5*ṽւ.T))"
   ]
  },
  {
   "cell_type": "markdown",
   "metadata": {},
   "source": [
    "Project the data onto the LDA line"
   ]
  },
  {
   "cell_type": "code",
   "execution_count": 8,
   "metadata": {
    "execution": {
     "iopub.execute_input": "2024-11-13T21:39:52.565859Z",
     "iopub.status.busy": "2024-11-13T21:39:52.565636Z",
     "iopub.status.idle": "2024-11-13T21:39:52.569534Z",
     "shell.execute_reply": "2024-11-13T21:39:52.568835Z"
    }
   },
   "outputs": [],
   "source": [
    "X0ᴾ = (X0 ).dot(ṽւ).dot(ṽւ.T)\t\t# data after LDA projection\n",
    "X1ᴾ = (X1 ).dot(ṽւ).dot(ṽւ.T)\t\t# data after LDA projection"
   ]
  },
  {
   "cell_type": "code",
   "execution_count": 9,
   "metadata": {
    "execution": {
     "iopub.execute_input": "2024-11-13T21:39:52.588018Z",
     "iopub.status.busy": "2024-11-13T21:39:52.587775Z",
     "iopub.status.idle": "2024-11-13T21:39:52.914870Z",
     "shell.execute_reply": "2024-11-13T21:39:52.914209Z"
    }
   },
   "outputs": [
    {
     "data": {
      "image/png": "[encoded data removed]",
      "text/plain": [
       "<Figure size 500x500 with 1 Axes>"
      ]
     },
     "metadata": {},
     "output_type": "display_data"
    }
   ],
   "source": [
    "plt.figure(figsize = (5, 5))\n",
    "plt.plot(linePoints[:,0], linePoints[:,1], color='blue')\n",
    "plt.scatter(X0[:,0], X0[:,1], color='red', s=16)\n",
    "plt.scatter(X0ᴾ[:,0], X0ᴾ[:,1], color='red', s=16)\n",
    "plt.scatter(X1[:,0], X1[:,1], color='green', s=16)\n",
    "plt.scatter(X1ᴾ[:,0], X1ᴾ[:,1], color='green', s=16)\n",
    "plt.xlim([-3,6])\n",
    "plt.ylim([-3,6])\n",
    "plt.title('Original Points vs Projected Points')\n",
    "plt.tight_layout()\n",
    "plt.show()"
   ]
  }
 ],
 "metadata": {
  "kernelspec": {
   "display_name": "Python 3",
   "language": "python",
   "name": "python3"
  },
  "language_info": {
   "codemirror_mode": {
    "name": "ipython",
    "version": 3
   },
   "file_extension": ".py",
   "mimetype": "text/x-python",
   "name": "python",
   "nbconvert_exporter": "python",
   "pygments_lexer": "ipython3",
   "version": "3.8.10"
  }
 },
 "nbformat": 4,
 "nbformat_minor": 2
}
