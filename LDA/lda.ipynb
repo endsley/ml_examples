{
 "cells": [
  {
   "cell_type": "code",
   "execution_count": 1,
   "metadata": {
    "execution": {
     "iopub.execute_input": "2024-11-20T14:04:44.080400Z",
     "iopub.status.busy": "2024-11-20T14:04:44.079964Z",
     "iopub.status.idle": "2024-11-20T14:04:44.085593Z",
     "shell.execute_reply": "2024-11-20T14:04:44.084633Z"
    }
   },
   "outputs": [],
   "source": [
    "#!/usr/bin/env python"
   ]
  },
  {
   "cell_type": "code",
   "execution_count": 2,
   "metadata": {
    "execution": {
     "iopub.execute_input": "2024-11-20T14:04:44.089471Z",
     "iopub.status.busy": "2024-11-20T14:04:44.089213Z",
     "iopub.status.idle": "2024-11-20T14:04:44.524192Z",
     "shell.execute_reply": "2024-11-20T14:04:44.523441Z"
    }
   },
   "outputs": [],
   "source": [
    "import numpy as np\n",
    "from numpy.linalg import eigh, inv\n",
    "from numpy import vstack\n",
    "from matplotlib import pyplot as plt"
   ]
  },
  {
   "cell_type": "code",
   "execution_count": 3,
   "metadata": {
    "execution": {
     "iopub.execute_input": "2024-11-20T14:04:44.527433Z",
     "iopub.status.busy": "2024-11-20T14:04:44.527278Z",
     "iopub.status.idle": "2024-11-20T14:04:44.530480Z",
     "shell.execute_reply": "2024-11-20T14:04:44.529880Z"
    }
   },
   "outputs": [],
   "source": [
    "Xₒ = np.array([\t[-2,1],\n",
    "\t\t\t\t[0,3],\n",
    "\t\t\t\t[1,4],\n",
    "\t\t\t\t[1,5],\n",
    "\t\t\t\t[2,5]])"
   ]
  },
  {
   "cell_type": "code",
   "execution_count": 4,
   "metadata": {
    "execution": {
     "iopub.execute_input": "2024-11-20T14:04:44.533642Z",
     "iopub.status.busy": "2024-11-20T14:04:44.533475Z",
     "iopub.status.idle": "2024-11-20T14:04:44.536734Z",
     "shell.execute_reply": "2024-11-20T14:04:44.535993Z"
    }
   },
   "outputs": [],
   "source": [
    "Xₗ = np.array([\t[0,0],\n",
    "\t\t\t\t[1,1],\n",
    "\t\t\t\t[2,1],\n",
    "\t\t\t\t[3,2],\n",
    "\t\t\t\t[4,3]])"
   ]
  },
  {
   "cell_type": "code",
   "execution_count": 5,
   "metadata": {
    "execution": {
     "iopub.execute_input": "2024-11-20T14:04:44.539507Z",
     "iopub.status.busy": "2024-11-20T14:04:44.539341Z",
     "iopub.status.idle": "2024-11-20T14:04:44.542252Z",
     "shell.execute_reply": "2024-11-20T14:04:44.541649Z"
    }
   },
   "outputs": [],
   "source": [
    "X = np.vstack((Xₒ, Xₗ))"
   ]
  },
  {
   "cell_type": "markdown",
   "metadata": {},
   "source": [
    "\tSolving LDA"
   ]
  },
  {
   "cell_type": "code",
   "execution_count": 6,
   "metadata": {
    "execution": {
     "iopub.execute_input": "2024-11-20T14:04:44.545440Z",
     "iopub.status.busy": "2024-11-20T14:04:44.545235Z",
     "iopub.status.idle": "2024-11-20T14:04:44.548640Z",
     "shell.execute_reply": "2024-11-20T14:04:44.547861Z"
    }
   },
   "outputs": [],
   "source": [
    "C = np.eye(5) - (1/5)*np.ones((5,5))"
   ]
  },
  {
   "cell_type": "code",
   "execution_count": 7,
   "metadata": {
    "execution": {
     "iopub.execute_input": "2024-11-20T14:04:44.551745Z",
     "iopub.status.busy": "2024-11-20T14:04:44.551540Z",
     "iopub.status.idle": "2024-11-20T14:04:44.558068Z",
     "shell.execute_reply": "2024-11-20T14:04:44.557248Z"
    }
   },
   "outputs": [],
   "source": [
    "cₒ = np.reshape(np.mean(Xₒ, axis=0),(2,1))\n",
    "cₗ = np.reshape(np.mean(Xₗ, axis=0),(2,1))\n",
    "u = cₒ - cₗ\n",
    "Sₗ = u.dot(u.T)\n",
    "Sշ = Xₒ.T.dot(C).dot(Xₒ) + Xₗ.T.dot(C).dot(Xₗ) \n",
    "Q = inv(Sշ).dot(Sₗ)\n",
    "[D,V] = eigh(Q)\n",
    "ṽ = np.reshape(V[:,1], (2,1))"
   ]
  },
  {
   "cell_type": "markdown",
   "metadata": {},
   "source": [
    "Project the data onto the LDA line"
   ]
  },
  {
   "cell_type": "code",
   "execution_count": 8,
   "metadata": {
    "execution": {
     "iopub.execute_input": "2024-11-20T14:04:44.561399Z",
     "iopub.status.busy": "2024-11-20T14:04:44.561182Z",
     "iopub.status.idle": "2024-11-20T14:04:44.564903Z",
     "shell.execute_reply": "2024-11-20T14:04:44.564230Z"
    }
   },
   "outputs": [],
   "source": [
    "Xₒᴾ = Xₒ.dot(ṽ).dot(ṽ.T)\t\t# data after LDA projection\n",
    "Xₗᴾ = Xₗ.dot(ṽ).dot(ṽ.T)\t\t# data after LDA projection"
   ]
  },
  {
   "cell_type": "code",
   "execution_count": 9,
   "metadata": {
    "execution": {
     "iopub.execute_input": "2024-11-20T14:04:44.568329Z",
     "iopub.status.busy": "2024-11-20T14:04:44.568103Z",
     "iopub.status.idle": "2024-11-20T14:04:44.572924Z",
     "shell.execute_reply": "2024-11-20T14:04:44.571897Z"
    }
   },
   "outputs": [],
   "source": [
    "linePoints = vstack((5*ṽ.T, -5*ṽ.T))"
   ]
  },
  {
   "cell_type": "code",
   "execution_count": 10,
   "metadata": {
    "execution": {
     "iopub.execute_input": "2024-11-20T14:04:44.599610Z",
     "iopub.status.busy": "2024-11-20T14:04:44.599333Z",
     "iopub.status.idle": "2024-11-20T14:04:44.966072Z",
     "shell.execute_reply": "2024-11-20T14:04:44.965435Z"
    }
   },
   "outputs": [
    {
     "data": {
      "image/png": "[encoded data removed]",
      "text/plain": [
       "<Figure size 500x500 with 1 Axes>"
      ]
     },
     "metadata": {},
     "output_type": "display_data"
    }
   ],
   "source": [
    "plt.figure(figsize = (5, 5))\n",
    "plt.plot(linePoints[:,0], linePoints[:,1], color='blue')\n",
    "plt.scatter(Xₒ[:,0], Xₒ[:,1], color='red', s=16)\n",
    "plt.scatter(Xₒᴾ[:,0], Xₒᴾ[:,1], color='red', s=16)\n",
    "plt.scatter(Xₗ[:,0], Xₗ[:,1], color='green', s=16)\n",
    "plt.scatter(Xₗᴾ[:,0], Xₗᴾ[:,1], color='green', s=16)\n",
    "plt.xlim([-3,6])\n",
    "plt.ylim([-3,6])\n",
    "plt.title('Original Points vs Projected Points')\n",
    "plt.tight_layout()\n",
    "plt.show()"
   ]
  }
 ],
 "metadata": {
  "kernelspec": {
   "display_name": "Python 3",
   "language": "python",
   "name": "python3"
  },
  "language_info": {
   "codemirror_mode": {
    "name": "ipython",
    "version": 3
   },
   "file_extension": ".py",
   "mimetype": "text/x-python",
   "name": "python",
   "nbconvert_exporter": "python",
   "pygments_lexer": "ipython3",
   "version": "3.8.10"
  }
 },
 "nbformat": 4,
 "nbformat_minor": 2
}
