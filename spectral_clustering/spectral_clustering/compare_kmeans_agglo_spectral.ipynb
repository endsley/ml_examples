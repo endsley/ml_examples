{
 "cells": [
  {
   "cell_type": "code",
   "execution_count": 1,
   "metadata": {
    "execution": {
     "iopub.execute_input": "2024-11-20T19:21:42.776447Z",
     "iopub.status.busy": "2024-11-20T19:21:42.775936Z",
     "iopub.status.idle": "2024-11-20T19:21:42.782214Z",
     "shell.execute_reply": "2024-11-20T19:21:42.781489Z"
    }
   },
   "outputs": [],
   "source": [
    "#!/usr/bin/env python"
   ]
  },
  {
   "cell_type": "code",
   "execution_count": 2,
   "metadata": {
    "execution": {
     "iopub.execute_input": "2024-11-20T19:21:42.785732Z",
     "iopub.status.busy": "2024-11-20T19:21:42.785520Z",
     "iopub.status.idle": "2024-11-20T19:21:43.583763Z",
     "shell.execute_reply": "2024-11-20T19:21:43.582995Z"
    }
   },
   "outputs": [],
   "source": [
    "import numpy as np\n",
    "from numpy import genfromtxt\n",
    "import matplotlib.pyplot as plt\n",
    "from numpy.linalg import eigh\n",
    "from sklearn.metrics.pairwise import rbf_kernel\n",
    "from sklearn.cluster import KMeans\n",
    "from sklearn.preprocessing import normalize\t\t\t# version : 0.17\n",
    "from sklearn.cluster import AgglomerativeClustering"
   ]
  },
  {
   "cell_type": "code",
   "execution_count": 3,
   "metadata": {
    "execution": {
     "iopub.execute_input": "2024-11-20T19:21:43.588623Z",
     "iopub.status.busy": "2024-11-20T19:21:43.588336Z",
     "iopub.status.idle": "2024-11-20T19:21:43.597471Z",
     "shell.execute_reply": "2024-11-20T19:21:43.596792Z"
    }
   },
   "outputs": [],
   "source": [
    "X = genfromtxt('../../dataset/moon.csv', delimiter=',')\n",
    "Ӽ = genfromtxt('../../dataset/two_gaussian.csv', delimiter=',')\n",
    "ɲ = Ӽ.shape[0]\n",
    "n = X.shape[0]"
   ]
  },
  {
   "cell_type": "markdown",
   "metadata": {},
   "source": [
    "Kmeans"
   ]
  },
  {
   "cell_type": "code",
   "execution_count": 4,
   "metadata": {
    "execution": {
     "iopub.execute_input": "2024-11-20T19:21:43.600786Z",
     "iopub.status.busy": "2024-11-20T19:21:43.600613Z",
     "iopub.status.idle": "2024-11-20T19:21:43.687842Z",
     "shell.execute_reply": "2024-11-20T19:21:43.686964Z"
    }
   },
   "outputs": [],
   "source": [
    "kmeans = KMeans(n_clusters=2).fit(Ӽ)\n",
    "Ӽᵏₒ = Ӽ[kmeans.labels_ == 0]\n",
    "Ӽᵏₗ = Ӽ[kmeans.labels_ == 1]"
   ]
  },
  {
   "cell_type": "code",
   "execution_count": 5,
   "metadata": {
    "execution": {
     "iopub.execute_input": "2024-11-20T19:21:43.691311Z",
     "iopub.status.busy": "2024-11-20T19:21:43.691089Z",
     "iopub.status.idle": "2024-11-20T19:21:43.749752Z",
     "shell.execute_reply": "2024-11-20T19:21:43.748918Z"
    }
   },
   "outputs": [],
   "source": [
    "kmeans = KMeans(n_clusters=2).fit(X)\n",
    "Xᵏₒ = X[kmeans.labels_ == 0]\n",
    "Xᵏₗ = X[kmeans.labels_ == 1]"
   ]
  },
  {
   "cell_type": "markdown",
   "metadata": {},
   "source": [
    "Agglomerative"
   ]
  },
  {
   "cell_type": "code",
   "execution_count": 6,
   "metadata": {
    "execution": {
     "iopub.execute_input": "2024-11-20T19:21:43.752525Z",
     "iopub.status.busy": "2024-11-20T19:21:43.752325Z",
     "iopub.status.idle": "2024-11-20T19:21:43.765030Z",
     "shell.execute_reply": "2024-11-20T19:21:43.764137Z"
    }
   },
   "outputs": [],
   "source": [
    "agglo = AgglomerativeClustering().fit(Ӽ)\n",
    "Ӽᴬₒ = Ӽ[agglo.labels_ == 0]\n",
    "Ӽᴬₗ = Ӽ[agglo.labels_ == 1]"
   ]
  },
  {
   "cell_type": "code",
   "execution_count": 7,
   "metadata": {
    "execution": {
     "iopub.execute_input": "2024-11-20T19:21:43.767796Z",
     "iopub.status.busy": "2024-11-20T19:21:43.767604Z",
     "iopub.status.idle": "2024-11-20T19:21:43.794650Z",
     "shell.execute_reply": "2024-11-20T19:21:43.793463Z"
    }
   },
   "outputs": [],
   "source": [
    "agglo = AgglomerativeClustering().fit(X)\n",
    "Xᴬₒ = X[agglo.labels_ == 0]\n",
    "Xᴬₗ = X[agglo.labels_ == 1]"
   ]
  },
  {
   "cell_type": "markdown",
   "metadata": {},
   "source": [
    "Spectral Clustering"
   ]
  },
  {
   "cell_type": "code",
   "execution_count": 8,
   "metadata": {
    "execution": {
     "iopub.execute_input": "2024-11-20T19:21:43.811869Z",
     "iopub.status.busy": "2024-11-20T19:21:43.811549Z",
     "iopub.status.idle": "2024-11-20T19:21:43.861061Z",
     "shell.execute_reply": "2024-11-20T19:21:43.859324Z"
    }
   },
   "outputs": [],
   "source": [
    "γ = 1\n",
    "K = rbf_kernel(Ӽ, gamma=γ)\n",
    "[D,V] = eigh(K)\n",
    "U = V[:, ɲ-2:ɲ]\n",
    "Ū = normalize(U, norm='l2', axis=1)"
   ]
  },
  {
   "cell_type": "code",
   "execution_count": 9,
   "metadata": {
    "execution": {
     "iopub.execute_input": "2024-11-20T19:21:43.867779Z",
     "iopub.status.busy": "2024-11-20T19:21:43.867398Z",
     "iopub.status.idle": "2024-11-20T19:21:43.998004Z",
     "shell.execute_reply": "2024-11-20T19:21:43.997172Z"
    }
   },
   "outputs": [],
   "source": [
    "kmeans = KMeans(n_clusters=2).fit(Ū)\n",
    "Ӽₒ = Ӽ[kmeans.labels_ == 0]\n",
    "Ӽₗ = Ӽ[kmeans.labels_ == 1]"
   ]
  },
  {
   "cell_type": "markdown",
   "metadata": {},
   "source": [
    "-----------------"
   ]
  },
  {
   "cell_type": "code",
   "execution_count": 10,
   "metadata": {
    "execution": {
     "iopub.execute_input": "2024-11-20T19:21:44.001119Z",
     "iopub.status.busy": "2024-11-20T19:21:44.000923Z",
     "iopub.status.idle": "2024-11-20T19:21:44.252426Z",
     "shell.execute_reply": "2024-11-20T19:21:44.251191Z"
    }
   },
   "outputs": [],
   "source": [
    "γ = 14\n",
    "K = rbf_kernel(X, gamma=γ)\n",
    "[D,V] = eigh(K)\n",
    "U = V[:, n-2:n]\n",
    "Ū = normalize(U, norm='l2', axis=1)"
   ]
  },
  {
   "cell_type": "code",
   "execution_count": 11,
   "metadata": {
    "execution": {
     "iopub.execute_input": "2024-11-20T19:21:44.258751Z",
     "iopub.status.busy": "2024-11-20T19:21:44.258406Z",
     "iopub.status.idle": "2024-11-20T19:21:44.386712Z",
     "shell.execute_reply": "2024-11-20T19:21:44.385885Z"
    }
   },
   "outputs": [],
   "source": [
    "kmeans = KMeans(n_clusters=2).fit(Ū)\n",
    "Xₒ = X[kmeans.labels_ == 0]\n",
    "Xₗ = X[kmeans.labels_ == 1]"
   ]
  },
  {
   "cell_type": "code",
   "execution_count": 12,
   "metadata": {
    "execution": {
     "iopub.execute_input": "2024-11-20T19:21:44.389968Z",
     "iopub.status.busy": "2024-11-20T19:21:44.389751Z",
     "iopub.status.idle": "2024-11-20T19:21:44.471694Z",
     "shell.execute_reply": "2024-11-20T19:21:44.470915Z"
    }
   },
   "outputs": [
    {
     "data": {
      "text/plain": [
       "Text(0.5, 1.0, 'Kmeans')"
      ]
     },
     "execution_count": 12,
     "metadata": {},
     "output_type": "execute_result"
    }
   ],
   "source": [
    "plt.figure(figsize = (10, 6))\n",
    "plt.subplot(231)\n",
    "plt.scatter(Ӽᵏₒ[:,0], Ӽᵏₒ[:,1], color='red')\n",
    "plt.scatter(Ӽᵏₗ[:,0], Ӽᵏₗ[:,1], color='blue')\n",
    "plt.title('Kmeans')"
   ]
  },
  {
   "cell_type": "code",
   "execution_count": 13,
   "metadata": {
    "execution": {
     "iopub.execute_input": "2024-11-20T19:21:44.477578Z",
     "iopub.status.busy": "2024-11-20T19:21:44.477398Z",
     "iopub.status.idle": "2024-11-20T19:21:44.569430Z",
     "shell.execute_reply": "2024-11-20T19:21:44.568841Z"
    }
   },
   "outputs": [
    {
     "data": {
      "text/plain": [
       "Text(0.5, 1.0, 'Agglomerative')"
      ]
     },
     "execution_count": 13,
     "metadata": {},
     "output_type": "execute_result"
    }
   ],
   "source": [
    "plt.subplot(232)\n",
    "plt.scatter(Ӽᴬₒ[:,0], Ӽᴬₒ[:,1], color='red')\n",
    "plt.scatter(Ӽᴬₗ[:,0], Ӽᴬₗ[:,1], color='blue')\n",
    "plt.title('Agglomerative')"
   ]
  },
  {
   "cell_type": "code",
   "execution_count": 14,
   "metadata": {
    "execution": {
     "iopub.execute_input": "2024-11-20T19:21:44.572927Z",
     "iopub.status.busy": "2024-11-20T19:21:44.572749Z",
     "iopub.status.idle": "2024-11-20T19:21:44.686205Z",
     "shell.execute_reply": "2024-11-20T19:21:44.685230Z"
    }
   },
   "outputs": [
    {
     "data": {
      "text/plain": [
       "Text(0.5, 1.0, 'Spectral Clustering')"
      ]
     },
     "execution_count": 14,
     "metadata": {},
     "output_type": "execute_result"
    }
   ],
   "source": [
    "plt.subplot(233)\n",
    "plt.scatter(Ӽₒ[:,0], Ӽₒ[:,1], color='red')\n",
    "plt.scatter(Ӽₗ[:,0], Ӽₗ[:,1], color='blue')\n",
    "plt.title('Spectral Clustering')"
   ]
  },
  {
   "cell_type": "code",
   "execution_count": 15,
   "metadata": {
    "execution": {
     "iopub.execute_input": "2024-11-20T19:21:44.690263Z",
     "iopub.status.busy": "2024-11-20T19:21:44.690085Z",
     "iopub.status.idle": "2024-11-20T19:21:44.830062Z",
     "shell.execute_reply": "2024-11-20T19:21:44.829168Z"
    }
   },
   "outputs": [
    {
     "data": {
      "text/plain": [
       "Text(0.5, 1.0, 'Kmeans')"
      ]
     },
     "execution_count": 15,
     "metadata": {},
     "output_type": "execute_result"
    }
   ],
   "source": [
    "plt.subplot(234)\n",
    "plt.scatter(Xᵏₒ[:,0], Xᵏₒ[:,1], color='red')\n",
    "plt.scatter(Xᵏₗ[:,0], Xᵏₗ[:,1], color='blue')\n",
    "plt.title('Kmeans')"
   ]
  },
  {
   "cell_type": "code",
   "execution_count": 16,
   "metadata": {
    "execution": {
     "iopub.execute_input": "2024-11-20T19:21:44.834634Z",
     "iopub.status.busy": "2024-11-20T19:21:44.834465Z",
     "iopub.status.idle": "2024-11-20T19:21:45.001305Z",
     "shell.execute_reply": "2024-11-20T19:21:45.000419Z"
    }
   },
   "outputs": [
    {
     "data": {
      "text/plain": [
       "Text(0.5, 1.0, 'Agglomerative')"
      ]
     },
     "execution_count": 16,
     "metadata": {},
     "output_type": "execute_result"
    }
   ],
   "source": [
    "plt.subplot(235)\n",
    "plt.scatter(Xᴬₒ[:,0], Xᴬₒ[:,1], color='red')\n",
    "plt.scatter(Xᴬₗ[:,0], Xᴬₗ[:,1], color='blue')\n",
    "plt.title('Agglomerative')"
   ]
  },
  {
   "cell_type": "code",
   "execution_count": 17,
   "metadata": {
    "execution": {
     "iopub.execute_input": "2024-11-20T19:21:45.005899Z",
     "iopub.status.busy": "2024-11-20T19:21:45.005708Z",
     "iopub.status.idle": "2024-11-20T19:21:45.703288Z",
     "shell.execute_reply": "2024-11-20T19:21:45.702563Z"
    }
   },
   "outputs": [
    {
     "data": {
      "image/png": "[encoded data removed]",
      "text/plain": [
       "<Figure size 1000x600 with 6 Axes>"
      ]
     },
     "metadata": {},
     "output_type": "display_data"
    }
   ],
   "source": [
    "plt.subplot(236)\n",
    "plt.scatter(Xₒ[:,0], Xₒ[:,1], color='red')\n",
    "plt.scatter(Xₗ[:,0], Xₗ[:,1], color='blue')\n",
    "plt.title('Spectral Clustering')\n",
    "plt.tight_layout()\n",
    "plt.show()"
   ]
  }
 ],
 "metadata": {
  "kernelspec": {
   "display_name": "Python 3",
   "language": "python",
   "name": "python3"
  },
  "language_info": {
   "codemirror_mode": {
    "name": "ipython",
    "version": 3
   },
   "file_extension": ".py",
   "mimetype": "text/x-python",
   "name": "python",
   "nbconvert_exporter": "python",
   "pygments_lexer": "ipython3",
   "version": "3.8.10"
  }
 },
 "nbformat": 4,
 "nbformat_minor": 2
}
