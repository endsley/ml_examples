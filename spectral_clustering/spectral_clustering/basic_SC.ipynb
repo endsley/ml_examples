{
 "cells": [
  {
   "cell_type": "code",
   "execution_count": 1,
   "metadata": {
    "execution": {
     "iopub.execute_input": "2024-12-13T13:54:46.619124Z",
     "iopub.status.busy": "2024-12-13T13:54:46.618673Z",
     "iopub.status.idle": "2024-12-13T13:54:46.624782Z",
     "shell.execute_reply": "2024-12-13T13:54:46.623582Z"
    }
   },
   "outputs": [],
   "source": [
    "#!/usr/bin/env python"
   ]
  },
  {
   "cell_type": "code",
   "execution_count": 2,
   "metadata": {
    "execution": {
     "iopub.execute_input": "2024-12-13T13:54:46.630310Z",
     "iopub.status.busy": "2024-12-13T13:54:46.630041Z",
     "iopub.status.idle": "2024-12-13T13:54:52.934098Z",
     "shell.execute_reply": "2024-12-13T13:54:52.932634Z"
    }
   },
   "outputs": [],
   "source": [
    "import numpy as np\n",
    "from numpy import genfromtxt, array\n",
    "import matplotlib.pyplot as plt\n",
    "from numpy.linalg import eigh\n",
    "from sklearn.metrics.pairwise import rbf_kernel\n",
    "from sklearn.cluster import KMeans\n",
    "from sklearn.preprocessing import normalize\t\t\t# version : 0.17\n",
    "from sklearn.cluster import AgglomerativeClustering"
   ]
  },
  {
   "cell_type": "code",
   "execution_count": 3,
   "metadata": {
    "execution": {
     "iopub.execute_input": "2024-12-13T13:54:52.939931Z",
     "iopub.status.busy": "2024-12-13T13:54:52.939653Z",
     "iopub.status.idle": "2024-12-13T13:54:52.987803Z",
     "shell.execute_reply": "2024-12-13T13:54:52.986366Z"
    }
   },
   "outputs": [],
   "source": [
    "γ = 0.1\n",
    "X = array([[0.5,0.2],[0,0],[3,1],[4,1]])\n",
    "n = X.shape[0]\n",
    "K = rbf_kernel(X, gamma=γ)"
   ]
  },
  {
   "cell_type": "code",
   "execution_count": 4,
   "metadata": {
    "execution": {
     "iopub.execute_input": "2024-12-13T13:54:52.993673Z",
     "iopub.status.busy": "2024-12-13T13:54:52.993267Z",
     "iopub.status.idle": "2024-12-13T13:54:53.051244Z",
     "shell.execute_reply": "2024-12-13T13:54:53.049830Z"
    }
   },
   "outputs": [],
   "source": [
    "[D,V] = eigh(K)"
   ]
  },
  {
   "cell_type": "code",
   "execution_count": 5,
   "metadata": {
    "execution": {
     "iopub.execute_input": "2024-12-13T13:54:53.056314Z",
     "iopub.status.busy": "2024-12-13T13:54:53.055910Z",
     "iopub.status.idle": "2024-12-13T13:54:53.061451Z",
     "shell.execute_reply": "2024-12-13T13:54:53.060486Z"
    }
   },
   "outputs": [],
   "source": [
    "U = V[:, n-2:n]\t# pick out the largest eigenvectors\n",
    "Ū = normalize(U, norm='l2', axis=1) # normalize each row to length 1."
   ]
  },
  {
   "cell_type": "markdown",
   "metadata": {},
   "source": [
    "Run kmeans on the transformed data<br>\n",
    "Here I used the sklearn version, but you should write your own"
   ]
  },
  {
   "cell_type": "code",
   "execution_count": 6,
   "metadata": {
    "execution": {
     "iopub.execute_input": "2024-12-13T13:54:53.066133Z",
     "iopub.status.busy": "2024-12-13T13:54:53.065855Z",
     "iopub.status.idle": "2024-12-13T13:54:53.338388Z",
     "shell.execute_reply": "2024-12-13T13:54:53.337571Z"
    }
   },
   "outputs": [
    {
     "name": "stderr",
     "output_type": "stream",
     "text": [
      "/home/chieh/.local/lib/python3.8/site-packages/sklearn/cluster/_kmeans.py:1416: FutureWarning: The default value of `n_init` will change from 10 to 'auto' in 1.4. Set the value of `n_init` explicitly to suppress the warning\n",
      "  super()._check_params_vs_input(X, default_n_init=10)\n"
     ]
    }
   ],
   "source": [
    "kmeans = KMeans(n_clusters=2).fit(Ū)\n",
    "Xₒ = X[kmeans.labels_ == 0] \n",
    "Xₗ = X[kmeans.labels_ == 1]"
   ]
  },
  {
   "cell_type": "code",
   "execution_count": 7,
   "metadata": {
    "execution": {
     "iopub.execute_input": "2024-12-13T13:54:53.360751Z",
     "iopub.status.busy": "2024-12-13T13:54:53.360435Z",
     "iopub.status.idle": "2024-12-13T13:54:53.842868Z",
     "shell.execute_reply": "2024-12-13T13:54:53.842056Z"
    }
   },
   "outputs": [
    {
     "data": {
      "image/png": "[encoded data removed]",
      "text/plain": [
       "<Figure size 640x480 with 1 Axes>"
      ]
     },
     "metadata": {},
     "output_type": "display_data"
    }
   ],
   "source": [
    "plt.scatter(Xₒ[:,0], Xₒ[:,1], color='red')\n",
    "plt.scatter(Xₗ[:,0], Xₗ[:,1], color='blue')\n",
    "plt.title('Spectral Clustering')\n",
    "plt.tight_layout()\n",
    "plt.show()"
   ]
  }
 ],
 "metadata": {
  "kernelspec": {
   "display_name": "Python 3",
   "language": "python",
   "name": "python3"
  },
  "language_info": {
   "codemirror_mode": {
    "name": "ipython",
    "version": 3
   },
   "file_extension": ".py",
   "mimetype": "text/x-python",
   "name": "python",
   "nbconvert_exporter": "python",
   "pygments_lexer": "ipython3",
   "version": "3.8.10"
  }
 },
 "nbformat": 4,
 "nbformat_minor": 2
}
