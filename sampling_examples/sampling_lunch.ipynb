{
 "cells": [
  {
   "cell_type": "code",
   "execution_count": 1,
   "metadata": {
    "execution": {
     "iopub.execute_input": "2024-02-03T22:35:11.382239Z",
     "iopub.status.busy": "2024-02-03T22:35:11.381865Z",
     "iopub.status.idle": "2024-02-03T22:35:11.386941Z",
     "shell.execute_reply": "2024-02-03T22:35:11.385983Z"
    }
   },
   "outputs": [],
   "source": [
    "#!/usr/bin/env python"
   ]
  },
  {
   "cell_type": "code",
   "execution_count": 2,
   "metadata": {
    "execution": {
     "iopub.execute_input": "2024-02-03T22:35:11.390232Z",
     "iopub.status.busy": "2024-02-03T22:35:11.389993Z",
     "iopub.status.idle": "2024-02-03T22:35:11.670695Z",
     "shell.execute_reply": "2024-02-03T22:35:11.670144Z"
    }
   },
   "outputs": [],
   "source": [
    "import numpy as np\n",
    "from numpy import mean\n",
    "from numpy import exp\n",
    "from numpy import genfromtxt\n",
    "from numpy import inf as ᨖ\n",
    "from scipy.integrate import quad "
   ]
  },
  {
   "cell_type": "code",
   "execution_count": 3,
   "metadata": {
    "execution": {
     "iopub.execute_input": "2024-02-03T22:35:11.673562Z",
     "iopub.status.busy": "2024-02-03T22:35:11.673389Z",
     "iopub.status.idle": "2024-02-03T22:35:11.677919Z",
     "shell.execute_reply": "2024-02-03T22:35:11.677366Z"
    }
   },
   "outputs": [],
   "source": [
    "X = genfromtxt('lunch_wait_time.csv', delimiter=',')\n",
    "x̄ = mean(X)\n",
    "θ = 1/x̄"
   ]
  },
  {
   "cell_type": "markdown",
   "metadata": {},
   "source": [
    "## Part 1"
   ]
  },
  {
   "cell_type": "code",
   "execution_count": 4,
   "metadata": {
    "execution": {
     "iopub.execute_input": "2024-02-03T22:35:11.681000Z",
     "iopub.status.busy": "2024-02-03T22:35:11.680843Z",
     "iopub.status.idle": "2024-02-03T22:35:11.683825Z",
     "shell.execute_reply": "2024-02-03T22:35:11.683208Z"
    }
   },
   "outputs": [],
   "source": [
    "def p(x):\n",
    "\treturn θ*exp(-θ*x)\n",
    " \n",
    "def f(x): return x*p(x)\n",
    "  "
   ]
  },
  {
   "cell_type": "code",
   "execution_count": 5,
   "metadata": {
    "execution": {
     "iopub.execute_input": "2024-02-03T22:35:11.686886Z",
     "iopub.status.busy": "2024-02-03T22:35:11.686702Z",
     "iopub.status.idle": "2024-02-03T22:35:11.690903Z",
     "shell.execute_reply": "2024-02-03T22:35:11.690212Z"
    }
   },
   "outputs": [
    {
     "name": "stdout",
     "output_type": "stream",
     "text": [
      "Integration Vs Avg: 1.041, 1.040\n"
     ]
    }
   ],
   "source": [
    "μ, err = quad(f, 0, ᨖ ) \n",
    "print('Integration Vs Avg: %.3f, %.3f'%(μ,x̄))"
   ]
  },
  {
   "cell_type": "markdown",
   "metadata": {},
   "source": [
    "## Part 2"
   ]
  },
  {
   "cell_type": "code",
   "execution_count": 6,
   "metadata": {
    "execution": {
     "iopub.execute_input": "2024-02-03T22:35:11.726949Z",
     "iopub.status.busy": "2024-02-03T22:35:11.726682Z",
     "iopub.status.idle": "2024-02-03T22:35:11.733142Z",
     "shell.execute_reply": "2024-02-03T22:35:11.732248Z"
    }
   },
   "outputs": [
    {
     "name": "stdout",
     "output_type": "stream",
     "text": [
      "Integration Vs Avg: 3.081, 3.081\n"
     ]
    }
   ],
   "source": [
    "def ƒ(x): return (2*x + 1)*p(x)\n",
    "x̄ = mean(2*X + 1)\n",
    "  \n",
    "μ, err = quad(ƒ, 0, ᨖ ) \n",
    "print('Integration Vs Avg: %.3f, %.3f'%(μ,x̄))"
   ]
  }
 ],
 "metadata": {
  "kernelspec": {
   "display_name": "Python 3",
   "language": "python",
   "name": "python3"
  },
  "language_info": {
   "codemirror_mode": {
    "name": "ipython",
    "version": 3
   },
   "file_extension": ".py",
   "mimetype": "text/x-python",
   "name": "python",
   "nbconvert_exporter": "python",
   "pygments_lexer": "ipython3",
   "version": "3.8.10"
  }
 },
 "nbformat": 4,
 "nbformat_minor": 2
}
