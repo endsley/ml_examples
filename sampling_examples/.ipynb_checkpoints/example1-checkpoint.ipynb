{
 "cells": [
  {
   "cell_type": "code",
   "execution_count": 1,
   "metadata": {
    "execution": {
     "iopub.execute_input": "2024-10-08T15:51:00.701269Z",
     "iopub.status.busy": "2024-10-08T15:51:00.700659Z",
     "iopub.status.idle": "2024-10-08T15:51:00.754661Z",
     "shell.execute_reply": "2024-10-08T15:51:00.754257Z"
    }
   },
   "outputs": [],
   "source": [
    "#!/usr/bin/env python\n",
    "import numpy as np"
   ]
  },
  {
   "cell_type": "code",
   "execution_count": 2,
   "metadata": {
    "execution": {
     "iopub.execute_input": "2024-10-08T15:51:00.757841Z",
     "iopub.status.busy": "2024-10-08T15:51:00.757066Z",
     "iopub.status.idle": "2024-10-08T15:51:00.760400Z",
     "shell.execute_reply": "2024-10-08T15:51:00.760060Z"
    }
   },
   "outputs": [],
   "source": [
    "X = np.random.exponential(scale=3, size=5000)"
   ]
  },
  {
   "cell_type": "markdown",
   "metadata": {},
   "source": [
    "The corresponding equation given $\\theta = 1/3$<br>\n",
    "$$ p(x) = \\theta e^{-\\theta x} $$"
   ]
  },
  {
   "cell_type": "code",
   "execution_count": 3,
   "metadata": {
    "execution": {
     "iopub.execute_input": "2024-10-08T15:51:00.763116Z",
     "iopub.status.busy": "2024-10-08T15:51:00.762386Z",
     "iopub.status.idle": "2024-10-08T15:51:00.780568Z",
     "shell.execute_reply": "2024-10-08T15:51:00.780177Z"
    }
   },
   "outputs": [
    {
     "name": "stdout",
     "output_type": "stream",
     "text": [
      "μ = 2.975\n"
     ]
    }
   ],
   "source": [
    "print('μ = %.3f'%np.mean(X))"
   ]
  }
 ],
 "metadata": {
  "kernelspec": {
   "display_name": "Python 3",
   "language": "python",
   "name": "python3"
  },
  "language_info": {
   "codemirror_mode": {
    "name": "ipython",
    "version": 3
   },
   "file_extension": ".py",
   "mimetype": "text/x-python",
   "name": "python",
   "nbconvert_exporter": "python",
   "pygments_lexer": "ipython3",
   "version": "3.10.12"
  }
 },
 "nbformat": 4,
 "nbformat_minor": 2
}
