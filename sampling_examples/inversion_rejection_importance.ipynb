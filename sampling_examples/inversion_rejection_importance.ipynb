{
 "cells": [
  {
   "cell_type": "code",
   "execution_count": 1,
   "metadata": {
    "execution": {
     "iopub.execute_input": "2024-10-19T13:38:20.555952Z",
     "iopub.status.busy": "2024-10-19T13:38:20.555509Z",
     "iopub.status.idle": "2024-10-19T13:38:20.560965Z",
     "shell.execute_reply": "2024-10-19T13:38:20.559859Z"
    }
   },
   "outputs": [],
   "source": [
    "#!/usr/bin/env python"
   ]
  },
  {
   "cell_type": "code",
   "execution_count": 2,
   "metadata": {
    "execution": {
     "iopub.execute_input": "2024-10-19T13:38:20.564328Z",
     "iopub.status.busy": "2024-10-19T13:38:20.564121Z",
     "iopub.status.idle": "2024-10-19T13:38:21.294631Z",
     "shell.execute_reply": "2024-10-19T13:38:21.293674Z"
    }
   },
   "outputs": [],
   "source": [
    "import numpy as np\n",
    "from scipy.stats import norm\n",
    "from scipy.integrate import quad \n",
    "from numpy import sum, mean, linspace\n",
    "from numpy import exp as e\n",
    "from numpy.random import exponential\n",
    "from numpy.random import rand\n",
    "import matplotlib.pyplot as plt \n",
    " "
   ]
  },
  {
   "cell_type": "markdown",
   "metadata": {},
   "source": [
    "##\tDirectly solving the integral<br>\n",
    "$$\\int_0^1 \\; (x+1) x^2 \\; dx$$"
   ]
  },
  {
   "cell_type": "code",
   "execution_count": 3,
   "metadata": {
    "execution": {
     "iopub.execute_input": "2024-10-19T13:38:21.299957Z",
     "iopub.status.busy": "2024-10-19T13:38:21.299706Z",
     "iopub.status.idle": "2024-10-19T13:38:21.304044Z",
     "shell.execute_reply": "2024-10-19T13:38:21.303443Z"
    }
   },
   "outputs": [
    {
     "name": "stdout",
     "output_type": "stream",
     "text": [
      "Integral using Numpy: 0.583\n"
     ]
    }
   ],
   "source": [
    "def f(x): return (x+1)*x**2\n",
    "I, err = quad(f, 0, 1) \n",
    "print('Integral using Numpy: %.3f'%I)"
   ]
  },
  {
   "cell_type": "markdown",
   "metadata": {},
   "source": [
    "##\tUsing inversion sampling<br>\n",
    "Start by using the definition of CDF function to find the inverse CDF function $F^{-1}$<br>\n",
    "$$F(α) = \\int_0^{\\alpha} x^2 \\; dx = \\frac{1}{3} \\alpha^3 \\quad \\implies \\quad x = (3v)^{1/3}.$$<br>\n",
    "This implies that if you generate uniform samples from 0 to 1, we can plug into v to generate sample for p(x)<br>\n",
    "This integral becomes<br>\n",
    "$$\\int_0^1 \\; (x+1) p(x \\; \\text{and}\\; 0 \\le x \\le 1) \\; dx = \\int_0^1 \\; (x+1) p(x | 0 \\le x \\le 1)  \\underbrace{p(0 \\le x \\le 1)}_{\\rho} \\; dx \\approx \\frac{\\rho}{n} \\sum_i \\; (x+1)$$"
   ]
  },
  {
   "cell_type": "code",
   "execution_count": 4,
   "metadata": {
    "execution": {
     "iopub.execute_input": "2024-10-19T13:38:21.342216Z",
     "iopub.status.busy": "2024-10-19T13:38:21.341853Z",
     "iopub.status.idle": "2024-10-19T13:38:21.351965Z",
     "shell.execute_reply": "2024-10-19T13:38:21.350957Z"
    }
   },
   "outputs": [
    {
     "name": "stdout",
     "output_type": "stream",
     "text": [
      "Integral using Inversion Sampling : 0.591\n"
     ]
    }
   ],
   "source": [
    "n = 20000\n",
    "X = rand(n)\n",
    "X2 = np.power(3*X, 1/3)\n",
    "ρ = sum(X2 < 1)/len(X)\n",
    "X2 = X2[X2 < 1]\n",
    "print('Integral using Inversion Sampling : %.3f'% (mean(X2 + 1)*ρ))"
   ]
  },
  {
   "cell_type": "code",
   "execution_count": null,
   "metadata": {},
   "outputs": [],
   "source": [
    " "
   ]
  },
  {
   "cell_type": "markdown",
   "metadata": {},
   "source": [
    "##\tUsing Rejection sampling<br>\n",
    "We are using an exponential distribution to approximate $p(x) = x^2$ <br>\n",
    "First we need to figure out the k value by plotting it out.<br>\n",
    "notice that if k=10, then we have kq(x) > p(x) to alway have a rejection region between 0 and 1.<br>\n",
    "We can pick any $\\theta$ for exponential distribution, to make it easier let's just pick $\\theta=1$"
   ]
  },
  {
   "cell_type": "code",
   "execution_count": 5,
   "metadata": {
    "execution": {
     "iopub.execute_input": "2024-10-19T13:38:21.355086Z",
     "iopub.status.busy": "2024-10-19T13:38:21.354922Z",
     "iopub.status.idle": "2024-10-19T13:38:21.358588Z",
     "shell.execute_reply": "2024-10-19T13:38:21.357933Z"
    }
   },
   "outputs": [],
   "source": [
    "def p(x): \n",
    "\ttry:\n",
    "\t\tx[x<0] = 0\n",
    "\t\tx[x>1.44225] = 0\n",
    "\texcept:\n",
    "\t\tif x < 0: return 0\n",
    "\t\tif x > 1.44225: return 0\n",
    "\treturn x**2"
   ]
  },
  {
   "cell_type": "code",
   "execution_count": 6,
   "metadata": {
    "execution": {
     "iopub.execute_input": "2024-10-19T13:38:21.362224Z",
     "iopub.status.busy": "2024-10-19T13:38:21.362070Z",
     "iopub.status.idle": "2024-10-19T13:38:21.365589Z",
     "shell.execute_reply": "2024-10-19T13:38:21.364549Z"
    }
   },
   "outputs": [],
   "source": [
    "k = 10\n",
    "x = linspace(0,1.44225, 20)\n",
    "y1 = p(x)\n",
    "y2 = k*e(-x)"
   ]
  },
  {
   "cell_type": "code",
   "execution_count": 7,
   "metadata": {
    "execution": {
     "iopub.execute_input": "2024-10-19T13:38:21.369047Z",
     "iopub.status.busy": "2024-10-19T13:38:21.368838Z",
     "iopub.status.idle": "2024-10-19T13:38:21.619244Z",
     "shell.execute_reply": "2024-10-19T13:38:21.618555Z"
    }
   },
   "outputs": [
    {
     "data": {
      "image/png": "[encoded data removed]",
      "text/plain": [
       "<Figure size 640x480 with 1 Axes>"
      ]
     },
     "metadata": {},
     "output_type": "display_data"
    }
   ],
   "source": [
    "plt.title('Plot shows that $kq(x) > p(x)$')\n",
    "plt.plot(x,y1, color='blue')\n",
    "plt.plot(x,y2, color='red')\n",
    "plt.show()"
   ]
  },
  {
   "cell_type": "markdown",
   "metadata": {},
   "source": [
    "Now we can generate exponential distribution"
   ]
  },
  {
   "cell_type": "code",
   "execution_count": 8,
   "metadata": {
    "execution": {
     "iopub.execute_input": "2024-10-19T13:38:21.623887Z",
     "iopub.status.busy": "2024-10-19T13:38:21.623728Z",
     "iopub.status.idle": "2024-10-19T13:38:21.626717Z",
     "shell.execute_reply": "2024-10-19T13:38:21.626007Z"
    }
   },
   "outputs": [],
   "source": [
    "X2 = []"
   ]
  },
  {
   "cell_type": "code",
   "execution_count": 9,
   "metadata": {
    "execution": {
     "iopub.execute_input": "2024-10-19T13:38:21.646422Z",
     "iopub.status.busy": "2024-10-19T13:38:21.646205Z",
     "iopub.status.idle": "2024-10-19T13:38:23.152670Z",
     "shell.execute_reply": "2024-10-19T13:38:23.151913Z"
    }
   },
   "outputs": [],
   "source": [
    "while len(X2) < n:\n",
    "\tu = exponential(scale=1, size=1).item()\n",
    "\tkq = k*e(-u)\n",
    "\tpu = p(u)\n",
    "\tv = kq*rand()\n",
    "\tif v < pu: X2.append(u)\t# accept "
   ]
  },
  {
   "cell_type": "code",
   "execution_count": 10,
   "metadata": {
    "execution": {
     "iopub.execute_input": "2024-10-19T13:38:23.157296Z",
     "iopub.status.busy": "2024-10-19T13:38:23.157116Z",
     "iopub.status.idle": "2024-10-19T13:38:23.370398Z",
     "shell.execute_reply": "2024-10-19T13:38:23.369668Z"
    }
   },
   "outputs": [
    {
     "data": {
      "image/png": "[encoded data removed]",
      "text/plain": [
       "<Figure size 640x480 with 1 Axes>"
      ]
     },
     "metadata": {},
     "output_type": "display_data"
    }
   ],
   "source": [
    "X2 = np.array(X2)\n",
    "plt.hist(X2,bins = 40, alpha=0.7,color='blue',density=True)\n",
    "plt.title('Histogram of $x^2$ distribution')\n",
    "plt.show()"
   ]
  },
  {
   "cell_type": "code",
   "execution_count": 11,
   "metadata": {
    "execution": {
     "iopub.execute_input": "2024-10-19T13:38:23.375023Z",
     "iopub.status.busy": "2024-10-19T13:38:23.374855Z",
     "iopub.status.idle": "2024-10-19T13:38:23.379261Z",
     "shell.execute_reply": "2024-10-19T13:38:23.378680Z"
    }
   },
   "outputs": [
    {
     "name": "stdout",
     "output_type": "stream",
     "text": [
      "Integral using Rejection Sampling : 0.583\n"
     ]
    }
   ],
   "source": [
    "ρ = sum(X2 < 1)/len(X2)\t# same logic applies here for ρ\n",
    "X2 = X2[X2 < 1]\n",
    "print('Integral using Rejection Sampling : %.3f'% (mean(X2 + 1)*ρ))"
   ]
  },
  {
   "cell_type": "markdown",
   "metadata": {},
   "source": [
    "##\tUsing Importance sampling<br>\n",
    "$$ \\int_0^1 \\; (x+1) p(x) \\; dx = \\int_0^1 \\; (x+1) \\frac{p(x)}{q(x)} q(x) \\; dx $$<br>\n",
    "In this case, we have a simple $q(x) = 1$ so<br>\n",
    "$$\t\\int_0^1 \\; (x+1) \\frac{x^2}{1} q(x) \\; dx \\approx \\frac{1}{n} \\sum_i \\; (x+1) x^2$$"
   ]
  },
  {
   "cell_type": "code",
   "execution_count": 12,
   "metadata": {
    "execution": {
     "iopub.execute_input": "2024-10-19T13:38:23.384837Z",
     "iopub.status.busy": "2024-10-19T13:38:23.384652Z",
     "iopub.status.idle": "2024-10-19T13:38:23.388499Z",
     "shell.execute_reply": "2024-10-19T13:38:23.387763Z"
    }
   },
   "outputs": [
    {
     "name": "stdout",
     "output_type": "stream",
     "text": [
      "Integral using importance sampling: 0.582\n"
     ]
    }
   ],
   "source": [
    "X = rand(n)\n",
    "print('Integral using importance sampling: %.3f'% (mean((X+1)*X**2)))"
   ]
  }
 ],
 "metadata": {
  "kernelspec": {
   "display_name": "Python 3",
   "language": "python",
   "name": "python3"
  },
  "language_info": {
   "codemirror_mode": {
    "name": "ipython",
    "version": 3
   },
   "file_extension": ".py",
   "mimetype": "text/x-python",
   "name": "python",
   "nbconvert_exporter": "python",
   "pygments_lexer": "ipython3",
   "version": "3.8.10"
  }
 },
 "nbformat": 4,
 "nbformat_minor": 2
}
