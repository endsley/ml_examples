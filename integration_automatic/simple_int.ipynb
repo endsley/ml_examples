{
 "cells": [
  {
   "cell_type": "code",
   "execution_count": 1,
   "metadata": {
    "execution": {
     "iopub.execute_input": "2024-01-03T17:28:21.926010Z",
     "iopub.status.busy": "2024-01-03T17:28:21.925568Z",
     "iopub.status.idle": "2024-01-03T17:28:21.931031Z",
     "shell.execute_reply": "2024-01-03T17:28:21.929766Z"
    }
   },
   "outputs": [],
   "source": [
    "#!/usr/bin/env python\n",
    "from scipy.integrate import quad "
   ]
  },
  {
   "cell_type": "code",
   "execution_count": 2,
   "metadata": {
    "execution": {
     "iopub.execute_input": "2024-01-03T17:28:21.934803Z",
     "iopub.status.busy": "2024-01-03T17:28:21.934415Z",
     "iopub.status.idle": "2024-01-03T17:28:22.232052Z",
     "shell.execute_reply": "2024-01-03T17:28:22.231445Z"
    }
   },
   "outputs": [
    {
     "name": "stdout",
     "output_type": "stream",
     "text": [
      "Area = 4.00\n"
     ]
    }
   ],
   "source": [
    "def f(x): \n",
    "  return 2*x\n",
    "  \n",
    "A, err = quad(f, 0, 2) \n",
    "print('Area = %.2f'%A) "
   ]
  }
 ],
 "metadata": {
  "kernelspec": {
   "display_name": "Python 3",
   "language": "python",
   "name": "python3"
  },
  "language_info": {
   "codemirror_mode": {
    "name": "ipython",
    "version": 3
   },
   "file_extension": ".py",
   "mimetype": "text/x-python",
   "name": "python",
   "nbconvert_exporter": "python",
   "pygments_lexer": "ipython3",
   "version": "3.8.10"
  }
 },
 "nbformat": 4,
 "nbformat_minor": 2
}
