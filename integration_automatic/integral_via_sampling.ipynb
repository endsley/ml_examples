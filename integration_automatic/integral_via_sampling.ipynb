{
 "cells": [
  {
   "cell_type": "code",
   "execution_count": 1,
   "metadata": {
    "execution": {
     "iopub.execute_input": "2024-10-17T13:44:02.219808Z",
     "iopub.status.busy": "2024-10-17T13:44:02.219059Z",
     "iopub.status.idle": "2024-10-17T13:44:02.222302Z",
     "shell.execute_reply": "2024-10-17T13:44:02.222020Z"
    }
   },
   "outputs": [],
   "source": [
    "#!/usr/bin/env python"
   ]
  },
  {
   "cell_type": "code",
   "execution_count": 2,
   "metadata": {
    "execution": {
     "iopub.execute_input": "2024-10-17T13:44:02.227487Z",
     "iopub.status.busy": "2024-10-17T13:44:02.226951Z",
     "iopub.status.idle": "2024-10-17T13:44:02.392432Z",
     "shell.execute_reply": "2024-10-17T13:44:02.392065Z"
    }
   },
   "outputs": [],
   "source": [
    "import numpy as np\n",
    "from numpy import mean\n",
    "from scipy.integrate import quad \n",
    "  \n",
    "# This example shows that"
   ]
  },
  {
   "cell_type": "markdown",
   "metadata": {},
   "source": [
    "$$ \\int_0^1 \\; (x+1) p(x) \\; dx \\approx \\frac{1}{n} \\sum_i \\; (x+1) p(x) \\quad \\text{where} \\quad p(x) = x^2 $$"
   ]
  },
  {
   "cell_type": "code",
   "execution_count": 3,
   "metadata": {
    "execution": {
     "iopub.execute_input": "2024-10-17T13:44:02.394178Z",
     "iopub.status.busy": "2024-10-17T13:44:02.394021Z",
     "iopub.status.idle": "2024-10-17T13:44:02.396356Z",
     "shell.execute_reply": "2024-10-17T13:44:02.396019Z"
    }
   },
   "outputs": [
    {
     "name": "stdout",
     "output_type": "stream",
     "text": [
      "Area = 0.58\n"
     ]
    }
   ],
   "source": [
    "def f(x): \n",
    "  return (x+1)*x*x\n",
    "  \n",
    "A, err = quad(f, 0, 1) \n",
    "print('Area = %.2f'%A) "
   ]
  },
  {
   "cell_type": "markdown",
   "metadata": {},
   "source": [
    "via sampling"
   ]
  },
  {
   "cell_type": "code",
   "execution_count": 4,
   "metadata": {
    "execution": {
     "iopub.execute_input": "2024-10-17T13:44:02.413291Z",
     "iopub.status.busy": "2024-10-17T13:44:02.413123Z",
     "iopub.status.idle": "2024-10-17T13:44:02.415647Z",
     "shell.execute_reply": "2024-10-17T13:44:02.415408Z"
    }
   },
   "outputs": [
    {
     "name": "stdout",
     "output_type": "stream",
     "text": [
      "Area via sampling= 0.59\n"
     ]
    }
   ],
   "source": [
    "X = np.random.rand(10000)\n",
    "print('Area via sampling= %.2f'%mean(f(X))) "
   ]
  }
 ],
 "metadata": {
  "kernelspec": {
   "display_name": "Python 3 (ipykernel)",
   "language": "python",
   "name": "python3"
  },
  "language_info": {
   "codemirror_mode": {
    "name": "ipython",
    "version": 3
   },
   "file_extension": ".py",
   "mimetype": "text/x-python",
   "name": "python",
   "nbconvert_exporter": "python",
   "pygments_lexer": "ipython3",
   "version": "3.10.12"
  }
 },
 "nbformat": 4,
 "nbformat_minor": 4
}
