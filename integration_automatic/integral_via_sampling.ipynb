{
 "cells": [
  {
   "cell_type": "code",
   "execution_count": 1,
   "metadata": {
    "execution": {
     "iopub.execute_input": "2024-10-17T13:41:38.645331Z",
     "iopub.status.busy": "2024-10-17T13:41:38.644716Z",
     "iopub.status.idle": "2024-10-17T13:41:38.648248Z",
     "shell.execute_reply": "2024-10-17T13:41:38.647930Z"
    }
   },
   "outputs": [],
   "source": [
    "#!/usr/bin/env python"
   ]
  },
  {
   "cell_type": "code",
   "execution_count": 2,
   "metadata": {
    "execution": {
     "iopub.execute_input": "2024-10-17T13:41:38.654976Z",
     "iopub.status.busy": "2024-10-17T13:41:38.654419Z",
     "iopub.status.idle": "2024-10-17T13:41:38.818575Z",
     "shell.execute_reply": "2024-10-17T13:41:38.818245Z"
    }
   },
   "outputs": [],
   "source": [
    "import numpy as np\n",
    "from numpy import mean\n",
    "from scipy.integrate import quad \n",
    "  \n",
    "# This example shows that\n",
    "#\t$$ \\int_0^1 \\; (x+1) p(x) \\; dx \\approx \\frac{1}{n} \\sum_i \\; (x+1) p(x) \\quad \\text{where} \\quad p(x) = x^2 $$"
   ]
  },
  {
   "cell_type": "code",
   "execution_count": 3,
   "metadata": {
    "execution": {
     "iopub.execute_input": "2024-10-17T13:41:38.820219Z",
     "iopub.status.busy": "2024-10-17T13:41:38.820023Z",
     "iopub.status.idle": "2024-10-17T13:41:38.822376Z",
     "shell.execute_reply": "2024-10-17T13:41:38.822140Z"
    }
   },
   "outputs": [
    {
     "name": "stdout",
     "output_type": "stream",
     "text": [
      "Area = 0.58\n"
     ]
    }
   ],
   "source": [
    "def f(x): \n",
    "  return (x+1)*x*x\n",
    "  \n",
    "A, err = quad(f, 0, 1) \n",
    "print('Area = %.2f'%A) "
   ]
  },
  {
   "cell_type": "markdown",
   "metadata": {},
   "source": [
    "via sampling"
   ]
  },
  {
   "cell_type": "code",
   "execution_count": 4,
   "metadata": {
    "execution": {
     "iopub.execute_input": "2024-10-17T13:41:38.839918Z",
     "iopub.status.busy": "2024-10-17T13:41:38.839752Z",
     "iopub.status.idle": "2024-10-17T13:41:38.842310Z",
     "shell.execute_reply": "2024-10-17T13:41:38.842016Z"
    }
   },
   "outputs": [
    {
     "name": "stdout",
     "output_type": "stream",
     "text": [
      "Area via sampling= 0.59\n"
     ]
    }
   ],
   "source": [
    "X = np.random.rand(10000)\n",
    "print('Area via sampling= %.2f'%mean(f(X))) "
   ]
  }
 ],
 "metadata": {
  "kernelspec": {
   "display_name": "Python 3",
   "language": "python",
   "name": "python3"
  },
  "language_info": {
   "codemirror_mode": {
    "name": "ipython",
    "version": 3
   },
   "file_extension": ".py",
   "mimetype": "text/x-python",
   "name": "python",
   "nbconvert_exporter": "python",
   "pygments_lexer": "ipython3",
   "version": "3.10.12"
  }
 },
 "nbformat": 4,
 "nbformat_minor": 2
}
