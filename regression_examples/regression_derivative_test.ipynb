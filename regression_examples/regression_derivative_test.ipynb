{
 "cells": [
  {
   "cell_type": "code",
   "execution_count": 1,
   "metadata": {
    "execution": {
     "iopub.execute_input": "2024-02-02T14:27:49.963141Z",
     "iopub.status.busy": "2024-02-02T14:27:49.962503Z",
     "iopub.status.idle": "2024-02-02T14:27:49.965880Z",
     "shell.execute_reply": "2024-02-02T14:27:49.965654Z"
    }
   },
   "outputs": [],
   "source": [
    "#!/usr/bin/env python"
   ]
  },
  {
   "cell_type": "code",
   "execution_count": 2,
   "metadata": {
    "execution": {
     "iopub.execute_input": "2024-02-02T14:27:49.967188Z",
     "iopub.status.busy": "2024-02-02T14:27:49.967095Z",
     "iopub.status.idle": "2024-02-02T14:27:50.013406Z",
     "shell.execute_reply": "2024-02-02T14:27:50.012983Z"
    }
   },
   "outputs": [],
   "source": [
    "import autograd.numpy as np\n",
    "from autograd import grad\n",
    "#import random"
   ]
  },
  {
   "cell_type": "markdown",
   "metadata": {},
   "source": [
    "Initial setup"
   ]
  },
  {
   "cell_type": "code",
   "execution_count": 3,
   "metadata": {
    "execution": {
     "iopub.execute_input": "2024-02-02T14:27:50.015805Z",
     "iopub.status.busy": "2024-02-02T14:27:50.015506Z",
     "iopub.status.idle": "2024-02-02T14:27:50.018982Z",
     "shell.execute_reply": "2024-02-02T14:27:50.018631Z"
    }
   },
   "outputs": [],
   "source": [
    "x = np.array([[2],[1]])\n",
    "w = np.array([[1],[1]])\n",
    "y = 1"
   ]
  },
  {
   "cell_type": "markdown",
   "metadata": {},
   "source": [
    "since n can be any value, I just set it to 1<br>\n",
    "do a more advance once if you are ambitious"
   ]
  },
  {
   "cell_type": "code",
   "execution_count": 4,
   "metadata": {
    "execution": {
     "iopub.execute_input": "2024-02-02T14:27:50.021693Z",
     "iopub.status.busy": "2024-02-02T14:27:50.020889Z",
     "iopub.status.idle": "2024-02-02T14:27:50.024104Z",
     "shell.execute_reply": "2024-02-02T14:27:50.023770Z"
    }
   },
   "outputs": [],
   "source": [
    "def f(w): \n",
    "\treturn (0.5)*(np.dot(w.T,x) - y)**2"
   ]
  },
  {
   "cell_type": "code",
   "execution_count": 5,
   "metadata": {
    "execution": {
     "iopub.execute_input": "2024-02-02T14:27:50.026719Z",
     "iopub.status.busy": "2024-02-02T14:27:50.025950Z",
     "iopub.status.idle": "2024-02-02T14:27:50.029047Z",
     "shell.execute_reply": "2024-02-02T14:27:50.028709Z"
    }
   },
   "outputs": [],
   "source": [
    "def df(w): \n",
    "\treturn (w.T.dot(x) - y)*x"
   ]
  },
  {
   "cell_type": "code",
   "execution_count": 6,
   "metadata": {
    "execution": {
     "iopub.execute_input": "2024-02-02T14:27:50.031075Z",
     "iopub.status.busy": "2024-02-02T14:27:50.030865Z",
     "iopub.status.idle": "2024-02-02T14:27:50.051355Z",
     "shell.execute_reply": "2024-02-02T14:27:50.051107Z"
    }
   },
   "outputs": [
    {
     "name": "stdout",
     "output_type": "stream",
     "text": [
      "Autogen Gradient : \n",
      " [[4]\n",
      " [2]]\n",
      "Theoretical Gradient : \n",
      " [[4]\n",
      " [2]]\n"
     ]
    }
   ],
   "source": [
    "grad_foo = grad(f)       # Obtain its gradient function\n",
    "print('Autogen Gradient : \\n', grad_foo(w))\n",
    "print('Theoretical Gradient : \\n', df(w))"
   ]
  }
 ],
 "metadata": {
  "kernelspec": {
   "display_name": "Python 3 (ipykernel)",
   "language": "python",
   "name": "python3"
  },
  "language_info": {
   "codemirror_mode": {
    "name": "ipython",
    "version": 3
   },
   "file_extension": ".py",
   "mimetype": "text/x-python",
   "name": "python",
   "nbconvert_exporter": "python",
   "pygments_lexer": "ipython3",
   "version": "3.10.12"
  }
 },
 "nbformat": 4,
 "nbformat_minor": 4
}
