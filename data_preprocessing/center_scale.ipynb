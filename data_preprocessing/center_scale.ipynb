{
 "cells": [
  {
   "cell_type": "code",
   "execution_count": 1,
   "metadata": {
    "execution": {
     "iopub.execute_input": "2025-02-11T17:37:56.229762Z",
     "iopub.status.busy": "2025-02-11T17:37:56.229127Z",
     "iopub.status.idle": "2025-02-11T17:37:56.237711Z",
     "shell.execute_reply": "2025-02-11T17:37:56.235928Z"
    }
   },
   "outputs": [],
   "source": [
    "#!/usr/bin/env python"
   ]
  },
  {
   "cell_type": "code",
   "execution_count": 2,
   "metadata": {
    "execution": {
     "iopub.execute_input": "2025-02-11T17:37:56.245544Z",
     "iopub.status.busy": "2025-02-11T17:37:56.244731Z",
     "iopub.status.idle": "2025-02-11T17:37:56.496787Z",
     "shell.execute_reply": "2025-02-11T17:37:56.496361Z"
    }
   },
   "outputs": [],
   "source": [
    "from sklearn.preprocessing import StandardScaler\n",
    "from sklearn import preprocessing\n",
    "import numpy as np"
   ]
  },
  {
   "cell_type": "markdown",
   "metadata": {},
   "source": [
    "1st (preferred) approach to center and scale data."
   ]
  },
  {
   "cell_type": "code",
   "execution_count": 3,
   "metadata": {
    "execution": {
     "iopub.execute_input": "2025-02-11T17:37:56.498679Z",
     "iopub.status.busy": "2025-02-11T17:37:56.498509Z",
     "iopub.status.idle": "2025-02-11T17:37:56.500865Z",
     "shell.execute_reply": "2025-02-11T17:37:56.500484Z"
    }
   },
   "outputs": [],
   "source": [
    "X = np.array([[3, 0, 400], [2, 1, 200], [2, 2, 500], [1, 1, 100]])"
   ]
  },
  {
   "cell_type": "markdown",
   "metadata": {},
   "source": [
    "Initialize the StandardScaler"
   ]
  },
  {
   "cell_type": "code",
   "execution_count": 4,
   "metadata": {
    "execution": {
     "iopub.execute_input": "2025-02-11T17:37:56.502163Z",
     "iopub.status.busy": "2025-02-11T17:37:56.502066Z",
     "iopub.status.idle": "2025-02-11T17:37:56.503808Z",
     "shell.execute_reply": "2025-02-11T17:37:56.503567Z"
    }
   },
   "outputs": [],
   "source": [
    "scaler = StandardScaler()"
   ]
  },
  {
   "cell_type": "markdown",
   "metadata": {},
   "source": [
    "Fit the scaler to the data and transform the data"
   ]
  },
  {
   "cell_type": "code",
   "execution_count": 5,
   "metadata": {
    "execution": {
     "iopub.execute_input": "2025-02-11T17:37:56.505037Z",
     "iopub.status.busy": "2025-02-11T17:37:56.504888Z",
     "iopub.status.idle": "2025-02-11T17:37:56.506825Z",
     "shell.execute_reply": "2025-02-11T17:37:56.506599Z"
    }
   },
   "outputs": [],
   "source": [
    "scaled_data = scaler.fit_transform(X)"
   ]
  },
  {
   "cell_type": "code",
   "execution_count": 6,
   "metadata": {
    "execution": {
     "iopub.execute_input": "2025-02-11T17:37:56.507994Z",
     "iopub.status.busy": "2025-02-11T17:37:56.507895Z",
     "iopub.status.idle": "2025-02-11T17:37:56.509981Z",
     "shell.execute_reply": "2025-02-11T17:37:56.509733Z"
    }
   },
   "outputs": [
    {
     "name": "stdout",
     "output_type": "stream",
     "text": [
      "Original Data:\n",
      " [[  3   0 400]\n",
      " [  2   1 200]\n",
      " [  2   2 500]\n",
      " [  1   1 100]]\n",
      "Centered and Scaled Data:\n",
      " [[ 1.41421356 -1.41421356  0.63245553]\n",
      " [ 0.          0.         -0.63245553]\n",
      " [ 0.          1.41421356  1.26491106]\n",
      " [-1.41421356  0.         -1.26491106]]\n"
     ]
    }
   ],
   "source": [
    "print(\"Original Data:\\n\", X)\n",
    "print(\"Centered and Scaled Data:\\n\", scaled_data)"
   ]
  },
  {
   "cell_type": "markdown",
   "metadata": {},
   "source": [
    "2nd approach to center and scale data.<br>\n",
    "----------------------------<br>\n",
    "Original data"
   ]
  },
  {
   "cell_type": "code",
   "execution_count": 7,
   "metadata": {
    "execution": {
     "iopub.execute_input": "2025-02-11T17:37:56.527279Z",
     "iopub.status.busy": "2025-02-11T17:37:56.527085Z",
     "iopub.status.idle": "2025-02-11T17:37:56.529364Z",
     "shell.execute_reply": "2025-02-11T17:37:56.529117Z"
    }
   },
   "outputs": [
    {
     "name": "stdout",
     "output_type": "stream",
     "text": [
      "Original Data:\n",
      " [[  3   0 400]\n",
      " [  2   1 200]\n",
      " [  2   2 500]\n",
      " [  1   1 100]]\n"
     ]
    }
   ],
   "source": [
    "X = np.array([[3, 0, 400], [2, 1, 200], [2, 2, 500], [1, 1, 100]])\n",
    "print(\"Original Data:\\n\", X)"
   ]
  },
  {
   "cell_type": "markdown",
   "metadata": {},
   "source": [
    "Scale the data"
   ]
  },
  {
   "cell_type": "code",
   "execution_count": 8,
   "metadata": {
    "execution": {
     "iopub.execute_input": "2025-02-11T17:37:56.530754Z",
     "iopub.status.busy": "2025-02-11T17:37:56.530632Z",
     "iopub.status.idle": "2025-02-11T17:37:56.532915Z",
     "shell.execute_reply": "2025-02-11T17:37:56.532672Z"
    }
   },
   "outputs": [
    {
     "name": "stdout",
     "output_type": "stream",
     "text": [
      "\n",
      "Scaled Data:\n",
      " [[ 1.41421356 -1.41421356  0.63245553]\n",
      " [ 0.          0.         -0.63245553]\n",
      " [ 0.          1.41421356  1.26491106]\n",
      " [-1.41421356  0.         -1.26491106]]\n"
     ]
    }
   ],
   "source": [
    "X_scaled = preprocessing.scale(X)\n",
    "print(\"\\nScaled Data:\\n\", X_scaled)"
   ]
  },
  {
   "cell_type": "markdown",
   "metadata": {},
   "source": [
    "Verify the mean and standard deviation of the scaled data"
   ]
  },
  {
   "cell_type": "code",
   "execution_count": 9,
   "metadata": {
    "execution": {
     "iopub.execute_input": "2025-02-11T17:37:56.534230Z",
     "iopub.status.busy": "2025-02-11T17:37:56.534045Z",
     "iopub.status.idle": "2025-02-11T17:37:56.536103Z",
     "shell.execute_reply": "2025-02-11T17:37:56.535852Z"
    }
   },
   "outputs": [
    {
     "name": "stdout",
     "output_type": "stream",
     "text": [
      "\n",
      "Mean of Scaled Data (should be close to 0):\n",
      " [0. 0. 0.]\n",
      "\n",
      "Standard Deviation of Scaled Data (should be close to 1):\n",
      " [1. 1. 1.]\n"
     ]
    }
   ],
   "source": [
    "print(\"\\nMean of Scaled Data (should be close to 0):\\n\", np.mean(X_scaled, axis=0))\n",
    "print(\"\\nStandard Deviation of Scaled Data (should be close to 1):\\n\", np.std(X_scaled, axis=0))"
   ]
  }
 ],
 "metadata": {
  "kernelspec": {
   "display_name": "Python 3 (ipykernel)",
   "language": "python",
   "name": "python3"
  },
  "language_info": {
   "codemirror_mode": {
    "name": "ipython",
    "version": 3
   },
   "file_extension": ".py",
   "mimetype": "text/x-python",
   "name": "python",
   "nbconvert_exporter": "python",
   "pygments_lexer": "ipython3",
   "version": "3.10.12"
  }
 },
 "nbformat": 4,
 "nbformat_minor": 4
}
