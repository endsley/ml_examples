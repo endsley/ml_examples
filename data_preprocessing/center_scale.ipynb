{
 "cells": [
  {
   "cell_type": "code",
   "execution_count": 1,
   "metadata": {
    "execution": {
     "iopub.execute_input": "2025-02-11T17:43:54.714872Z",
     "iopub.status.busy": "2025-02-11T17:43:54.714242Z",
     "iopub.status.idle": "2025-02-11T17:43:54.723107Z",
     "shell.execute_reply": "2025-02-11T17:43:54.721195Z"
    }
   },
   "outputs": [],
   "source": [
    "#!/usr/bin/env python"
   ]
  },
  {
   "cell_type": "code",
   "execution_count": 2,
   "metadata": {
    "execution": {
     "iopub.execute_input": "2025-02-11T17:43:54.730582Z",
     "iopub.status.busy": "2025-02-11T17:43:54.729970Z",
     "iopub.status.idle": "2025-02-11T17:43:54.984726Z",
     "shell.execute_reply": "2025-02-11T17:43:54.984380Z"
    }
   },
   "outputs": [],
   "source": [
    "from sklearn.preprocessing import StandardScaler\n",
    "from sklearn import preprocessing\n",
    "import numpy as np"
   ]
  },
  {
   "cell_type": "markdown",
   "metadata": {},
   "source": [
    "1st (preferred) approach to center and scale data."
   ]
  },
  {
   "cell_type": "code",
   "execution_count": 3,
   "metadata": {
    "execution": {
     "iopub.execute_input": "2025-02-11T17:43:54.986618Z",
     "iopub.status.busy": "2025-02-11T17:43:54.986428Z",
     "iopub.status.idle": "2025-02-11T17:43:54.989011Z",
     "shell.execute_reply": "2025-02-11T17:43:54.988772Z"
    }
   },
   "outputs": [],
   "source": [
    "X = np.array([[3, 0, 400], [2, 1, 200], [2, 2, 500], [1, 1, 100]])\n",
    "scaler = StandardScaler() # Initialize the StandardScaler\n",
    "scaled_data = scaler.fit_transform(X)"
   ]
  },
  {
   "cell_type": "code",
   "execution_count": 4,
   "metadata": {
    "execution": {
     "iopub.execute_input": "2025-02-11T17:43:54.990478Z",
     "iopub.status.busy": "2025-02-11T17:43:54.990249Z",
     "iopub.status.idle": "2025-02-11T17:43:54.992349Z",
     "shell.execute_reply": "2025-02-11T17:43:54.992106Z"
    }
   },
   "outputs": [
    {
     "name": "stdout",
     "output_type": "stream",
     "text": [
      "Original Data:\n",
      " [[  3   0 400]\n",
      " [  2   1 200]\n",
      " [  2   2 500]\n",
      " [  1   1 100]]\n",
      "Centered and Scaled Data:\n",
      " [[ 1.41421356 -1.41421356  0.63245553]\n",
      " [ 0.          0.         -0.63245553]\n",
      " [ 0.          1.41421356  1.26491106]\n",
      " [-1.41421356  0.         -1.26491106]]\n"
     ]
    }
   ],
   "source": [
    "print(\"Original Data:\\n\", X)\n",
    "print(\"Centered and Scaled Data:\\n\", scaled_data)"
   ]
  },
  {
   "cell_type": "markdown",
   "metadata": {},
   "source": [
    "2nd approach to center and scale data.<br>\n",
    "----------------------------"
   ]
  },
  {
   "cell_type": "code",
   "execution_count": 5,
   "metadata": {
    "execution": {
     "iopub.execute_input": "2025-02-11T17:43:55.009105Z",
     "iopub.status.busy": "2025-02-11T17:43:55.008926Z",
     "iopub.status.idle": "2025-02-11T17:43:55.011717Z",
     "shell.execute_reply": "2025-02-11T17:43:55.011468Z"
    }
   },
   "outputs": [
    {
     "name": "stdout",
     "output_type": "stream",
     "text": [
      "\n",
      "Scaled Data:\n",
      " [[ 1.41421356 -1.41421356  0.63245553]\n",
      " [ 0.          0.         -0.63245553]\n",
      " [ 0.          1.41421356  1.26491106]\n",
      " [-1.41421356  0.         -1.26491106]]\n"
     ]
    }
   ],
   "source": [
    "X_scaled = preprocessing.scale(X) # alternative to scale data\n",
    "print(\"\\nScaled Data:\\n\", X_scaled)"
   ]
  },
  {
   "cell_type": "markdown",
   "metadata": {},
   "source": [
    "Verify the mean and standard deviation of the scaled data"
   ]
  },
  {
   "cell_type": "code",
   "execution_count": 6,
   "metadata": {
    "execution": {
     "iopub.execute_input": "2025-02-11T17:43:55.013159Z",
     "iopub.status.busy": "2025-02-11T17:43:55.012950Z",
     "iopub.status.idle": "2025-02-11T17:43:55.015112Z",
     "shell.execute_reply": "2025-02-11T17:43:55.014842Z"
    }
   },
   "outputs": [
    {
     "name": "stdout",
     "output_type": "stream",
     "text": [
      "\n",
      "Mean of Scaled Data (should be close to 0):\n",
      " [0. 0. 0.]\n",
      "\n",
      "Standard Deviation of Scaled Data (should be close to 1):\n",
      " [1. 1. 1.]\n"
     ]
    }
   ],
   "source": [
    "print(\"\\nMean of Scaled Data (should be close to 0):\\n\", np.mean(X_scaled, axis=0))\n",
    "print(\"\\nStandard Deviation of Scaled Data (should be close to 1):\\n\", np.std(X_scaled, axis=0))"
   ]
  }
 ],
 "metadata": {
  "kernelspec": {
   "display_name": "Python 3",
   "language": "python",
   "name": "python3"
  },
  "language_info": {
   "codemirror_mode": {
    "name": "ipython",
    "version": 3
   },
   "file_extension": ".py",
   "mimetype": "text/x-python",
   "name": "python",
   "nbconvert_exporter": "python",
   "pygments_lexer": "ipython3",
   "version": "3.10.12"
  }
 },
 "nbformat": 4,
 "nbformat_minor": 2
}
